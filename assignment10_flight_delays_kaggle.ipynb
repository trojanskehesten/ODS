{
  "nbformat": 4,
  "nbformat_minor": 0,
  "metadata": {
    "kernelspec": {
      "display_name": "Python 3",
      "language": "python",
      "name": "python3"
    },
    "language_info": {
      "codemirror_mode": {
        "name": "ipython",
        "version": 3
      },
      "file_extension": ".py",
      "mimetype": "text/x-python",
      "name": "python",
      "nbconvert_exporter": "python",
      "pygments_lexer": "ipython3",
      "version": "3.7.6"
    },
    "colab": {
      "name": "assignment10_flight_delays_kaggle.ipynb",
      "provenance": [],
      "collapsed_sections": [
        "U1SZGDQaXNVk",
        "_wa6ZNeXXcHK",
        "NPO-0es0XkqK",
        "a-mO8bXda2TD",
        "NbFaqxA8qtNT",
        "LAMi95Z_qu8A",
        "Dl2SPsLXFq0V",
        "GeiEyGghEjm8",
        "t6WyJvtzaM2b"
      ]
    },
    "accelerator": "GPU"
  },
  "cells": [
    {
      "cell_type": "markdown",
      "metadata": {
        "id": "SCG8zvE3pYTR"
      },
      "source": [
        "## <center> [mlcourse.ai](https://mlcourse.ai) – открытый курс OpenDataScience по машинному обучению \n",
        "    \n",
        "Автор материала: Юрий Кашницкий (@yorko в Slack ODS). Материал распространяется на условиях лицензии [Creative Commons CC BY-NC-SA 4.0](https://creativecommons.org/licenses/by-nc-sa/4.0/). Можно использовать в любых целях (редактировать, поправлять и брать за основу), кроме коммерческих, но с обязательным упоминанием автора материала."
      ]
    },
    {
      "cell_type": "markdown",
      "metadata": {
        "id": "7Wu9DQykpYTS"
      },
      "source": [
        "# <center>Домашнее задание № 10 (демо)\n",
        "## <center> Прогнозирование задержек вылетов\n",
        "\n",
        "Ваша задача – побить единственный бенчмарк в [соревновании](https://www.kaggle.com/c/flight-delays-2017) на Kaggle Inclass. Подробных инструкций не будет, будет только тезисно описано, как получен этот бенчмарк. Конечно, с помощью Xgboost. Надеюсь, на данном этапе курса вам достаточно бросить полтора взгляда на данные, чтоб понять, что это тот тип задачи, в которой затащит Xgboost. Но проверьте еще Catboost."
      ]
    },
    {
      "cell_type": "markdown",
      "metadata": {
        "id": "U1SZGDQaXNVk"
      },
      "source": [
        "## Обзор"
      ]
    },
    {
      "cell_type": "code",
      "metadata": {
        "id": "YP7v0PF0pYTT"
      },
      "source": [
        "import numpy as np\n",
        "import pandas as pd\n",
        "from sklearn.linear_model import LogisticRegression\n",
        "from sklearn.metrics import roc_auc_score\n",
        "from sklearn.model_selection import train_test_split\n",
        "from sklearn.preprocessing import StandardScaler\n",
        "from xgboost import XGBClassifier\n",
        "import matplotlib.pyplot as plt\n",
        "\n",
        "from sklearn.preprocessing import OneHotEncoder, LabelBinarizer\n",
        "from scipy import sparse\n",
        "\n",
        "from sklearn import model_selection\n",
        "from sklearn.linear_model import LogisticRegressionCV\n",
        "\n",
        "import xgboost as xgb\n",
        "from hyperopt import STATUS_OK, Trials, fmin, hp, tpe"
      ],
      "execution_count": null,
      "outputs": []
    },
    {
      "cell_type": "code",
      "metadata": {
        "id": "0K_5lDrKpYTU"
      },
      "source": [
        "train = pd.read_csv(\"flight_delays_train.csv\")\n",
        "test = pd.read_csv(\"flight_delays_test.csv\")"
      ],
      "execution_count": null,
      "outputs": []
    },
    {
      "cell_type": "code",
      "metadata": {
        "colab": {
          "base_uri": "https://localhost:8080/",
          "height": 204
        },
        "id": "A2U0ZVP1pYTU",
        "outputId": "c46ed63b-072d-48f6-b19b-75e8025c93cb"
      },
      "source": [
        "train.head()"
      ],
      "execution_count": null,
      "outputs": [
        {
          "output_type": "execute_result",
          "data": {
            "text/html": [
              "<div>\n",
              "<style scoped>\n",
              "    .dataframe tbody tr th:only-of-type {\n",
              "        vertical-align: middle;\n",
              "    }\n",
              "\n",
              "    .dataframe tbody tr th {\n",
              "        vertical-align: top;\n",
              "    }\n",
              "\n",
              "    .dataframe thead th {\n",
              "        text-align: right;\n",
              "    }\n",
              "</style>\n",
              "<table border=\"1\" class=\"dataframe\">\n",
              "  <thead>\n",
              "    <tr style=\"text-align: right;\">\n",
              "      <th></th>\n",
              "      <th>Month</th>\n",
              "      <th>DayofMonth</th>\n",
              "      <th>DayOfWeek</th>\n",
              "      <th>DepTime</th>\n",
              "      <th>UniqueCarrier</th>\n",
              "      <th>Origin</th>\n",
              "      <th>Dest</th>\n",
              "      <th>Distance</th>\n",
              "      <th>dep_delayed_15min</th>\n",
              "    </tr>\n",
              "  </thead>\n",
              "  <tbody>\n",
              "    <tr>\n",
              "      <th>0</th>\n",
              "      <td>c-8</td>\n",
              "      <td>c-21</td>\n",
              "      <td>c-7</td>\n",
              "      <td>1934</td>\n",
              "      <td>AA</td>\n",
              "      <td>ATL</td>\n",
              "      <td>DFW</td>\n",
              "      <td>732</td>\n",
              "      <td>N</td>\n",
              "    </tr>\n",
              "    <tr>\n",
              "      <th>1</th>\n",
              "      <td>c-4</td>\n",
              "      <td>c-20</td>\n",
              "      <td>c-3</td>\n",
              "      <td>1548</td>\n",
              "      <td>US</td>\n",
              "      <td>PIT</td>\n",
              "      <td>MCO</td>\n",
              "      <td>834</td>\n",
              "      <td>N</td>\n",
              "    </tr>\n",
              "    <tr>\n",
              "      <th>2</th>\n",
              "      <td>c-9</td>\n",
              "      <td>c-2</td>\n",
              "      <td>c-5</td>\n",
              "      <td>1422</td>\n",
              "      <td>XE</td>\n",
              "      <td>RDU</td>\n",
              "      <td>CLE</td>\n",
              "      <td>416</td>\n",
              "      <td>N</td>\n",
              "    </tr>\n",
              "    <tr>\n",
              "      <th>3</th>\n",
              "      <td>c-11</td>\n",
              "      <td>c-25</td>\n",
              "      <td>c-6</td>\n",
              "      <td>1015</td>\n",
              "      <td>OO</td>\n",
              "      <td>DEN</td>\n",
              "      <td>MEM</td>\n",
              "      <td>872</td>\n",
              "      <td>N</td>\n",
              "    </tr>\n",
              "    <tr>\n",
              "      <th>4</th>\n",
              "      <td>c-10</td>\n",
              "      <td>c-7</td>\n",
              "      <td>c-6</td>\n",
              "      <td>1828</td>\n",
              "      <td>WN</td>\n",
              "      <td>MDW</td>\n",
              "      <td>OMA</td>\n",
              "      <td>423</td>\n",
              "      <td>Y</td>\n",
              "    </tr>\n",
              "  </tbody>\n",
              "</table>\n",
              "</div>"
            ],
            "text/plain": [
              "  Month DayofMonth DayOfWeek  DepTime  ... Origin Dest Distance  dep_delayed_15min\n",
              "0   c-8       c-21       c-7     1934  ...    ATL  DFW      732                  N\n",
              "1   c-4       c-20       c-3     1548  ...    PIT  MCO      834                  N\n",
              "2   c-9        c-2       c-5     1422  ...    RDU  CLE      416                  N\n",
              "3  c-11       c-25       c-6     1015  ...    DEN  MEM      872                  N\n",
              "4  c-10        c-7       c-6     1828  ...    MDW  OMA      423                  Y\n",
              "\n",
              "[5 rows x 9 columns]"
            ]
          },
          "metadata": {
            "tags": []
          },
          "execution_count": 3
        }
      ]
    },
    {
      "cell_type": "code",
      "metadata": {
        "colab": {
          "base_uri": "https://localhost:8080/",
          "height": 204
        },
        "id": "Xnk0k92jpYTV",
        "outputId": "8afd14d8-21dc-4619-e4e6-6ee693b23ef4"
      },
      "source": [
        "test.head()"
      ],
      "execution_count": null,
      "outputs": [
        {
          "output_type": "execute_result",
          "data": {
            "text/html": [
              "<div>\n",
              "<style scoped>\n",
              "    .dataframe tbody tr th:only-of-type {\n",
              "        vertical-align: middle;\n",
              "    }\n",
              "\n",
              "    .dataframe tbody tr th {\n",
              "        vertical-align: top;\n",
              "    }\n",
              "\n",
              "    .dataframe thead th {\n",
              "        text-align: right;\n",
              "    }\n",
              "</style>\n",
              "<table border=\"1\" class=\"dataframe\">\n",
              "  <thead>\n",
              "    <tr style=\"text-align: right;\">\n",
              "      <th></th>\n",
              "      <th>Month</th>\n",
              "      <th>DayofMonth</th>\n",
              "      <th>DayOfWeek</th>\n",
              "      <th>DepTime</th>\n",
              "      <th>UniqueCarrier</th>\n",
              "      <th>Origin</th>\n",
              "      <th>Dest</th>\n",
              "      <th>Distance</th>\n",
              "    </tr>\n",
              "  </thead>\n",
              "  <tbody>\n",
              "    <tr>\n",
              "      <th>0</th>\n",
              "      <td>c-7</td>\n",
              "      <td>c-25</td>\n",
              "      <td>c-3</td>\n",
              "      <td>615</td>\n",
              "      <td>YV</td>\n",
              "      <td>MRY</td>\n",
              "      <td>PHX</td>\n",
              "      <td>598</td>\n",
              "    </tr>\n",
              "    <tr>\n",
              "      <th>1</th>\n",
              "      <td>c-4</td>\n",
              "      <td>c-17</td>\n",
              "      <td>c-2</td>\n",
              "      <td>739</td>\n",
              "      <td>WN</td>\n",
              "      <td>LAS</td>\n",
              "      <td>HOU</td>\n",
              "      <td>1235</td>\n",
              "    </tr>\n",
              "    <tr>\n",
              "      <th>2</th>\n",
              "      <td>c-12</td>\n",
              "      <td>c-2</td>\n",
              "      <td>c-7</td>\n",
              "      <td>651</td>\n",
              "      <td>MQ</td>\n",
              "      <td>GSP</td>\n",
              "      <td>ORD</td>\n",
              "      <td>577</td>\n",
              "    </tr>\n",
              "    <tr>\n",
              "      <th>3</th>\n",
              "      <td>c-3</td>\n",
              "      <td>c-25</td>\n",
              "      <td>c-7</td>\n",
              "      <td>1614</td>\n",
              "      <td>WN</td>\n",
              "      <td>BWI</td>\n",
              "      <td>MHT</td>\n",
              "      <td>377</td>\n",
              "    </tr>\n",
              "    <tr>\n",
              "      <th>4</th>\n",
              "      <td>c-6</td>\n",
              "      <td>c-6</td>\n",
              "      <td>c-3</td>\n",
              "      <td>1505</td>\n",
              "      <td>UA</td>\n",
              "      <td>ORD</td>\n",
              "      <td>STL</td>\n",
              "      <td>258</td>\n",
              "    </tr>\n",
              "  </tbody>\n",
              "</table>\n",
              "</div>"
            ],
            "text/plain": [
              "  Month DayofMonth DayOfWeek  DepTime UniqueCarrier Origin Dest  Distance\n",
              "0   c-7       c-25       c-3      615            YV    MRY  PHX       598\n",
              "1   c-4       c-17       c-2      739            WN    LAS  HOU      1235\n",
              "2  c-12        c-2       c-7      651            MQ    GSP  ORD       577\n",
              "3   c-3       c-25       c-7     1614            WN    BWI  MHT       377\n",
              "4   c-6        c-6       c-3     1505            UA    ORD  STL       258"
            ]
          },
          "metadata": {
            "tags": []
          },
          "execution_count": 4
        }
      ]
    },
    {
      "cell_type": "markdown",
      "metadata": {
        "id": "kqTkV-M4XRp8"
      },
      "source": [
        "Уникальные значения"
      ]
    },
    {
      "cell_type": "code",
      "metadata": {
        "colab": {
          "base_uri": "https://localhost:8080/"
        },
        "id": "4JK5guhHxJNQ",
        "outputId": "f620f194-f9bd-4db9-d426-e5ac68de5a71"
      },
      "source": [
        "#train.apply(lambda col: col.unique())\n",
        "for col in list(train):\n",
        "  print(col)\n",
        "  print(np.sort(train[col].unique()))"
      ],
      "execution_count": null,
      "outputs": [
        {
          "output_type": "stream",
          "text": [
            "Month\n",
            "['c-1' 'c-10' 'c-11' 'c-12' 'c-2' 'c-3' 'c-4' 'c-5' 'c-6' 'c-7' 'c-8'\n",
            " 'c-9']\n",
            "DayofMonth\n",
            "['c-1' 'c-10' 'c-11' 'c-12' 'c-13' 'c-14' 'c-15' 'c-16' 'c-17' 'c-18'\n",
            " 'c-19' 'c-2' 'c-20' 'c-21' 'c-22' 'c-23' 'c-24' 'c-25' 'c-26' 'c-27'\n",
            " 'c-28' 'c-29' 'c-3' 'c-30' 'c-31' 'c-4' 'c-5' 'c-6' 'c-7' 'c-8' 'c-9']\n",
            "DayOfWeek\n",
            "['c-1' 'c-2' 'c-3' 'c-4' 'c-5' 'c-6' 'c-7']\n",
            "DepTime\n",
            "[   1    2    3 ... 2522 2530 2534]\n",
            "UniqueCarrier\n",
            "['AA' 'AQ' 'AS' 'B6' 'CO' 'DH' 'DL' 'EV' 'F9' 'FL' 'HA' 'HP' 'MQ' 'NW'\n",
            " 'OH' 'OO' 'TZ' 'UA' 'US' 'WN' 'XE' 'YV']\n",
            "Origin\n",
            "['ABE' 'ABI' 'ABQ' 'ABY' 'ACK' 'ACT' 'ACV' 'ACY' 'ADK' 'ADQ' 'AEX' 'AGS'\n",
            " 'AKN' 'ALB' 'AMA' 'ANC' 'APF' 'ASE' 'ATL' 'ATW' 'AUS' 'AVL' 'AVP' 'AZO'\n",
            " 'BDL' 'BET' 'BFL' 'BGM' 'BGR' 'BHM' 'BIL' 'BIS' 'BLI' 'BMI' 'BNA' 'BOI'\n",
            " 'BOS' 'BPT' 'BQK' 'BQN' 'BRO' 'BRW' 'BTM' 'BTR' 'BTV' 'BUF' 'BUR' 'BWI'\n",
            " 'BZN' 'CAE' 'CAK' 'CDC' 'CDV' 'CEC' 'CHA' 'CHO' 'CHS' 'CIC' 'CID' 'CLD'\n",
            " 'CLE' 'CLL' 'CLT' 'CMH' 'CMI' 'COD' 'COS' 'CPR' 'CRP' 'CRW' 'CSG' 'CVG'\n",
            " 'CWA' 'DAB' 'DAL' 'DAY' 'DBQ' 'DCA' 'DEN' 'DFW' 'DHN' 'DLG' 'DLH' 'DRO'\n",
            " 'DSM' 'DTW' 'EGE' 'EKO' 'ELP' 'ERI' 'EUG' 'EVV' 'EWR' 'EYW' 'FAI' 'FAR'\n",
            " 'FAT' 'FAY' 'FCA' 'FLG' 'FLL' 'FLO' 'FNT' 'FSD' 'FSM' 'FWA' 'GEG' 'GFK'\n",
            " 'GGG' 'GJT' 'GNV' 'GPT' 'GRB' 'GRK' 'GRR' 'GSO' 'GSP' 'GST' 'GTF' 'GTR'\n",
            " 'GUC' 'HDN' 'HKY' 'HLN' 'HNL' 'HOU' 'HPN' 'HRL' 'HSV' 'HTS' 'HVN' 'IAD'\n",
            " 'IAH' 'ICT' 'IDA' 'ILG' 'ILM' 'IND' 'IPL' 'ISO' 'ISP' 'ITO' 'IYK' 'JAC'\n",
            " 'JAN' 'JAX' 'JFK' 'JNU' 'KOA' 'KTN' 'LAN' 'LAS' 'LAW' 'LAX' 'LBB' 'LCH'\n",
            " 'LEX' 'LFT' 'LGA' 'LGB' 'LIH' 'LIT' 'LNK' 'LRD' 'LSE' 'LWB' 'LWS' 'LYH'\n",
            " 'MAF' 'MBS' 'MCI' 'MCN' 'MCO' 'MDT' 'MDW' 'MEI' 'MEM' 'MFE' 'MFR' 'MGM'\n",
            " 'MHT' 'MIA' 'MKE' 'MLB' 'MLI' 'MLU' 'MOB' 'MOD' 'MOT' 'MQT' 'MRY' 'MSN'\n",
            " 'MSO' 'MSP' 'MSY' 'MTJ' 'MYR' 'OAJ' 'OAK' 'OGG' 'OKC' 'OMA' 'OME' 'ONT'\n",
            " 'ORD' 'ORF' 'OTZ' 'OXR' 'PBI' 'PDX' 'PFN' 'PHF' 'PHL' 'PHX' 'PIA' 'PIE'\n",
            " 'PIH' 'PIT' 'PNS' 'PSC' 'PSE' 'PSG' 'PSP' 'PVD' 'PWM' 'RAP' 'RDD' 'RDM'\n",
            " 'RDU' 'RFD' 'RIC' 'RNO' 'ROA' 'ROC' 'RST' 'RSW' 'SAN' 'SAT' 'SAV' 'SBA'\n",
            " 'SBN' 'SBP' 'SCC' 'SCE' 'SDF' 'SEA' 'SFO' 'SGF' 'SGU' 'SHV' 'SIT' 'SJC'\n",
            " 'SJT' 'SJU' 'SLC' 'SMF' 'SMX' 'SNA' 'SPI' 'SPS' 'SRQ' 'STL' 'STT' 'STX'\n",
            " 'SUN' 'SWF' 'SYR' 'TEX' 'TLH' 'TOL' 'TPA' 'TRI' 'TUL' 'TUP' 'TUS' 'TVC'\n",
            " 'TWF' 'TXK' 'TYR' 'TYS' 'VCT' 'VIS' 'VLD' 'VPS' 'WRG' 'WYS' 'XNA' 'YAK'\n",
            " 'YUM']\n",
            "Dest\n",
            "['ABE' 'ABI' 'ABQ' 'ABY' 'ACK' 'ACT' 'ACV' 'ACY' 'ADQ' 'AEX' 'AGS' 'AKN'\n",
            " 'ALB' 'AMA' 'ANC' 'APF' 'ASE' 'ATL' 'ATW' 'AUS' 'AVL' 'AVP' 'AZO' 'BDL'\n",
            " 'BET' 'BFL' 'BGM' 'BGR' 'BHM' 'BIL' 'BIS' 'BLI' 'BMI' 'BNA' 'BOI' 'BOS'\n",
            " 'BPT' 'BQK' 'BQN' 'BRO' 'BRW' 'BTM' 'BTR' 'BTV' 'BUF' 'BUR' 'BWI' 'BZN'\n",
            " 'CAE' 'CAK' 'CDC' 'CDV' 'CEC' 'CHA' 'CHO' 'CHS' 'CIC' 'CID' 'CLD' 'CLE'\n",
            " 'CLL' 'CLT' 'CMH' 'CMI' 'COD' 'COS' 'CPR' 'CRP' 'CRW' 'CSG' 'CVG' 'CWA'\n",
            " 'DAB' 'DAL' 'DAY' 'DBQ' 'DCA' 'DEN' 'DFW' 'DHN' 'DLG' 'DLH' 'DRO' 'DSM'\n",
            " 'DTW' 'EGE' 'EKO' 'ELP' 'ERI' 'EUG' 'EVV' 'EWR' 'EYW' 'FAI' 'FAR' 'FAT'\n",
            " 'FAY' 'FCA' 'FLG' 'FLL' 'FLO' 'FNT' 'FSD' 'FSM' 'FWA' 'GEG' 'GFK' 'GGG'\n",
            " 'GJT' 'GNV' 'GPT' 'GRB' 'GRK' 'GRR' 'GSO' 'GSP' 'GST' 'GTF' 'GTR' 'GUC'\n",
            " 'HDN' 'HKY' 'HLN' 'HNL' 'HOU' 'HPN' 'HRL' 'HSV' 'HTS' 'HVN' 'IAD' 'IAH'\n",
            " 'ICT' 'IDA' 'ILG' 'ILM' 'IND' 'IPL' 'ISO' 'ISP' 'ITO' 'IYK' 'JAC' 'JAN'\n",
            " 'JAX' 'JFK' 'JNU' 'KOA' 'KTN' 'LAN' 'LAS' 'LAW' 'LAX' 'LBB' 'LCH' 'LEX'\n",
            " 'LFT' 'LGA' 'LGB' 'LIH' 'LIT' 'LNK' 'LRD' 'LSE' 'LWB' 'LWS' 'LYH' 'MAF'\n",
            " 'MBS' 'MCI' 'MCN' 'MCO' 'MDT' 'MDW' 'MEI' 'MEM' 'MFE' 'MFR' 'MGM' 'MHT'\n",
            " 'MIA' 'MKE' 'MLB' 'MLI' 'MLU' 'MOB' 'MOD' 'MOT' 'MQT' 'MRY' 'MSN' 'MSO'\n",
            " 'MSP' 'MSY' 'MTJ' 'MYR' 'OAK' 'OGG' 'OKC' 'OMA' 'OME' 'ONT' 'ORD' 'ORF'\n",
            " 'OTZ' 'OXR' 'PBI' 'PDX' 'PFN' 'PHF' 'PHL' 'PHX' 'PIA' 'PIE' 'PIH' 'PIT'\n",
            " 'PNS' 'PSC' 'PSE' 'PSG' 'PSP' 'PVD' 'PWM' 'RAP' 'RDD' 'RDM' 'RDU' 'RFD'\n",
            " 'RIC' 'RNO' 'ROA' 'ROC' 'RST' 'RSW' 'SAN' 'SAT' 'SAV' 'SBA' 'SBN' 'SBP'\n",
            " 'SCC' 'SCE' 'SDF' 'SEA' 'SFO' 'SGF' 'SGU' 'SHV' 'SIT' 'SJC' 'SJT' 'SJU'\n",
            " 'SLC' 'SMF' 'SMX' 'SNA' 'SOP' 'SPI' 'SPS' 'SRQ' 'STL' 'STT' 'STX' 'SUN'\n",
            " 'SWF' 'SYR' 'TEX' 'TLH' 'TOL' 'TPA' 'TRI' 'TTN' 'TUL' 'TUP' 'TUS' 'TVC'\n",
            " 'TWF' 'TXK' 'TYR' 'TYS' 'VCT' 'VIS' 'VLD' 'VPS' 'WRG' 'WYS' 'XNA' 'YAK'\n",
            " 'YUM']\n",
            "Distance\n",
            "[  30   31   36 ... 4433 4502 4962]\n",
            "dep_delayed_15min\n",
            "['N' 'Y']\n"
          ],
          "name": "stdout"
        }
      ]
    },
    {
      "cell_type": "code",
      "metadata": {
        "colab": {
          "base_uri": "https://localhost:8080/",
          "height": 336
        },
        "id": "XLu89Vphx-JL",
        "outputId": "7664a261-9cde-492a-8024-b969ae684e5d"
      },
      "source": [
        "train[['DepTime', 'Distance']].hist(bins=40, figsize=(12,5));"
      ],
      "execution_count": null,
      "outputs": [
        {
          "output_type": "display_data",
          "data": {
            "image/png": "[encoded data removed]",
            "text/plain": [
              "<Figure size 864x360 with 2 Axes>"
            ]
          },
          "metadata": {
            "tags": [],
            "needs_background": "light"
          }
        }
      ]
    },
    {
      "cell_type": "code",
      "metadata": {
        "colab": {
          "base_uri": "https://localhost:8080/",
          "height": 49
        },
        "id": "CG97Omttxkic",
        "outputId": "b10b236e-f466-4c24-c410-98b80926db7f"
      },
      "source": [
        "train[train['Origin']==train['Dest']]"
      ],
      "execution_count": null,
      "outputs": [
        {
          "output_type": "execute_result",
          "data": {
            "text/html": [
              "<div>\n",
              "<style scoped>\n",
              "    .dataframe tbody tr th:only-of-type {\n",
              "        vertical-align: middle;\n",
              "    }\n",
              "\n",
              "    .dataframe tbody tr th {\n",
              "        vertical-align: top;\n",
              "    }\n",
              "\n",
              "    .dataframe thead th {\n",
              "        text-align: right;\n",
              "    }\n",
              "</style>\n",
              "<table border=\"1\" class=\"dataframe\">\n",
              "  <thead>\n",
              "    <tr style=\"text-align: right;\">\n",
              "      <th></th>\n",
              "      <th>Month</th>\n",
              "      <th>DayofMonth</th>\n",
              "      <th>DayOfWeek</th>\n",
              "      <th>DepTime</th>\n",
              "      <th>UniqueCarrier</th>\n",
              "      <th>Origin</th>\n",
              "      <th>Dest</th>\n",
              "      <th>Distance</th>\n",
              "      <th>dep_delayed_15min</th>\n",
              "    </tr>\n",
              "  </thead>\n",
              "  <tbody>\n",
              "  </tbody>\n",
              "</table>\n",
              "</div>"
            ],
            "text/plain": [
              "Empty DataFrame\n",
              "Columns: [Month, DayofMonth, DayOfWeek, DepTime, UniqueCarrier, Origin, Dest, Distance, dep_delayed_15min]\n",
              "Index: []"
            ]
          },
          "metadata": {
            "tags": []
          },
          "execution_count": 7
        }
      ]
    },
    {
      "cell_type": "code",
      "metadata": {
        "colab": {
          "base_uri": "https://localhost:8080/",
          "height": 297
        },
        "id": "fl4JiVOMztwE",
        "outputId": "3cccf689-79f6-4bdf-d910-441aa85ebbd6"
      },
      "source": [
        "train.describe()"
      ],
      "execution_count": null,
      "outputs": [
        {
          "output_type": "execute_result",
          "data": {
            "text/html": [
              "<div>\n",
              "<style scoped>\n",
              "    .dataframe tbody tr th:only-of-type {\n",
              "        vertical-align: middle;\n",
              "    }\n",
              "\n",
              "    .dataframe tbody tr th {\n",
              "        vertical-align: top;\n",
              "    }\n",
              "\n",
              "    .dataframe thead th {\n",
              "        text-align: right;\n",
              "    }\n",
              "</style>\n",
              "<table border=\"1\" class=\"dataframe\">\n",
              "  <thead>\n",
              "    <tr style=\"text-align: right;\">\n",
              "      <th></th>\n",
              "      <th>DepTime</th>\n",
              "      <th>Distance</th>\n",
              "    </tr>\n",
              "  </thead>\n",
              "  <tbody>\n",
              "    <tr>\n",
              "      <th>count</th>\n",
              "      <td>100000.000000</td>\n",
              "      <td>100000.00000</td>\n",
              "    </tr>\n",
              "    <tr>\n",
              "      <th>mean</th>\n",
              "      <td>1341.523880</td>\n",
              "      <td>729.39716</td>\n",
              "    </tr>\n",
              "    <tr>\n",
              "      <th>std</th>\n",
              "      <td>476.378445</td>\n",
              "      <td>574.61686</td>\n",
              "    </tr>\n",
              "    <tr>\n",
              "      <th>min</th>\n",
              "      <td>1.000000</td>\n",
              "      <td>30.00000</td>\n",
              "    </tr>\n",
              "    <tr>\n",
              "      <th>25%</th>\n",
              "      <td>931.000000</td>\n",
              "      <td>317.00000</td>\n",
              "    </tr>\n",
              "    <tr>\n",
              "      <th>50%</th>\n",
              "      <td>1330.000000</td>\n",
              "      <td>575.00000</td>\n",
              "    </tr>\n",
              "    <tr>\n",
              "      <th>75%</th>\n",
              "      <td>1733.000000</td>\n",
              "      <td>957.00000</td>\n",
              "    </tr>\n",
              "    <tr>\n",
              "      <th>max</th>\n",
              "      <td>2534.000000</td>\n",
              "      <td>4962.00000</td>\n",
              "    </tr>\n",
              "  </tbody>\n",
              "</table>\n",
              "</div>"
            ],
            "text/plain": [
              "             DepTime      Distance\n",
              "count  100000.000000  100000.00000\n",
              "mean     1341.523880     729.39716\n",
              "std       476.378445     574.61686\n",
              "min         1.000000      30.00000\n",
              "25%       931.000000     317.00000\n",
              "50%      1330.000000     575.00000\n",
              "75%      1733.000000     957.00000\n",
              "max      2534.000000    4962.00000"
            ]
          },
          "metadata": {
            "tags": []
          },
          "execution_count": 8
        }
      ]
    },
    {
      "cell_type": "code",
      "metadata": {
        "colab": {
          "base_uri": "https://localhost:8080/",
          "height": 173
        },
        "id": "S3ggIaKszll2",
        "outputId": "0a92442a-ed3c-4697-bca3-d68d2507ea1d"
      },
      "source": [
        "train.describe(include='O')"
      ],
      "execution_count": null,
      "outputs": [
        {
          "output_type": "execute_result",
          "data": {
            "text/html": [
              "<div>\n",
              "<style scoped>\n",
              "    .dataframe tbody tr th:only-of-type {\n",
              "        vertical-align: middle;\n",
              "    }\n",
              "\n",
              "    .dataframe tbody tr th {\n",
              "        vertical-align: top;\n",
              "    }\n",
              "\n",
              "    .dataframe thead th {\n",
              "        text-align: right;\n",
              "    }\n",
              "</style>\n",
              "<table border=\"1\" class=\"dataframe\">\n",
              "  <thead>\n",
              "    <tr style=\"text-align: right;\">\n",
              "      <th></th>\n",
              "      <th>Month</th>\n",
              "      <th>DayofMonth</th>\n",
              "      <th>DayOfWeek</th>\n",
              "      <th>UniqueCarrier</th>\n",
              "      <th>Origin</th>\n",
              "      <th>Dest</th>\n",
              "      <th>dep_delayed_15min</th>\n",
              "    </tr>\n",
              "  </thead>\n",
              "  <tbody>\n",
              "    <tr>\n",
              "      <th>count</th>\n",
              "      <td>100000</td>\n",
              "      <td>100000</td>\n",
              "      <td>100000</td>\n",
              "      <td>100000</td>\n",
              "      <td>100000</td>\n",
              "      <td>100000</td>\n",
              "      <td>100000</td>\n",
              "    </tr>\n",
              "    <tr>\n",
              "      <th>unique</th>\n",
              "      <td>12</td>\n",
              "      <td>31</td>\n",
              "      <td>7</td>\n",
              "      <td>22</td>\n",
              "      <td>289</td>\n",
              "      <td>289</td>\n",
              "      <td>2</td>\n",
              "    </tr>\n",
              "    <tr>\n",
              "      <th>top</th>\n",
              "      <td>c-8</td>\n",
              "      <td>c-1</td>\n",
              "      <td>c-4</td>\n",
              "      <td>WN</td>\n",
              "      <td>ATL</td>\n",
              "      <td>ATL</td>\n",
              "      <td>N</td>\n",
              "    </tr>\n",
              "    <tr>\n",
              "      <th>freq</th>\n",
              "      <td>8830</td>\n",
              "      <td>3399</td>\n",
              "      <td>14736</td>\n",
              "      <td>15082</td>\n",
              "      <td>5834</td>\n",
              "      <td>5795</td>\n",
              "      <td>80956</td>\n",
              "    </tr>\n",
              "  </tbody>\n",
              "</table>\n",
              "</div>"
            ],
            "text/plain": [
              "         Month DayofMonth DayOfWeek  ...  Origin    Dest dep_delayed_15min\n",
              "count   100000     100000    100000  ...  100000  100000            100000\n",
              "unique      12         31         7  ...     289     289                 2\n",
              "top        c-8        c-1       c-4  ...     ATL     ATL                 N\n",
              "freq      8830       3399     14736  ...    5834    5795             80956\n",
              "\n",
              "[4 rows x 7 columns]"
            ]
          },
          "metadata": {
            "tags": []
          },
          "execution_count": 9
        }
      ]
    },
    {
      "cell_type": "code",
      "metadata": {
        "colab": {
          "base_uri": "https://localhost:8080/"
        },
        "id": "UMLDmInW0Up0",
        "outputId": "0b9e9e6d-03ad-45a2-d041-26dd4013ff74"
      },
      "source": [
        "def check_duplicates(df, is_drop=True):\n",
        "  '''\n",
        "  Проверить наличие дубликатов в df. \n",
        "  Если is_drop=True (по умолчанию), дубликаты будут удалены из df.\n",
        "  '''\n",
        "  n_duplicates = len(df)-len(df.drop_duplicates()) #len(df['Col1'])-len(df['Col1'].drop_duplicates())\n",
        "  if n_duplicates:\n",
        "    print('Count of duplicates:', n_duplicates)\n",
        "    if is_drop:\n",
        "      print('Old DataFrame shape:', df.shape)\n",
        "      df.drop_duplicates(inplace=True)\n",
        "      print('New DataFrame shape:', df.shape)\n",
        "  else:\n",
        "    print('No duplicates')\n",
        "\n",
        "check_duplicates(train)"
      ],
      "execution_count": null,
      "outputs": [
        {
          "output_type": "stream",
          "text": [
            "No duplicates\n"
          ],
          "name": "stdout"
        }
      ]
    },
    {
      "cell_type": "markdown",
      "metadata": {
        "id": "_wa6ZNeXXcHK"
      },
      "source": [
        "## Baseline"
      ]
    },
    {
      "cell_type": "markdown",
      "metadata": {
        "id": "j1HImoBtpYTV"
      },
      "source": [
        "Итак, надо по времени вылета самолета, коду авиакомпании-перевозчика, месту вылета и прилета и расстоянию между аэропортами вылета и прилета предсказать задержку вылета более 15 минут. В качестве простейшего бенчмарка возьмем логистическую регрессию и два признака, которые проще всего взять: `DepTime` и `Distance`. У такой модели результат – 0.68202 на LB. "
      ]
    },
    {
      "cell_type": "code",
      "metadata": {
        "id": "rWWZ8HVdpYTW"
      },
      "source": [
        "X_train, y_train = (\n",
        "    train[[\"Distance\", \"DepTime\"]].values,\n",
        "    train[\"dep_delayed_15min\"].map({\"Y\": 1, \"N\": 0}).values,\n",
        ")\n",
        "X_test = test[[\"Distance\", \"DepTime\"]].values\n",
        "\n",
        "X_train_part, X_valid, y_train_part, y_valid = train_test_split(\n",
        "    X_train, y_train, test_size=0.3, random_state=17\n",
        ")"
      ],
      "execution_count": null,
      "outputs": []
    },
    {
      "cell_type": "code",
      "metadata": {
        "colab": {
          "base_uri": "https://localhost:8080/"
        },
        "id": "WJT-AyeEpYTW",
        "outputId": "53cf7b68-f53f-4f81-fc7f-9e88a2ee098a"
      },
      "source": [
        "logit = LogisticRegression(random_state=17)\n",
        "\n",
        "logit.fit(X_train_part, y_train_part)\n",
        "logit_valid_pred = logit.predict_proba(X_valid)[:, 1]\n",
        "\n",
        "roc_auc_score(y_valid, logit_valid_pred)"
      ],
      "execution_count": null,
      "outputs": [
        {
          "output_type": "execute_result",
          "data": {
            "text/plain": [
              "0.6795697123357751"
            ]
          },
          "metadata": {
            "tags": []
          },
          "execution_count": 12
        }
      ]
    },
    {
      "cell_type": "code",
      "metadata": {
        "id": "B3JSkDIlpYTX"
      },
      "source": [
        "logit.fit(X_train, y_train)\n",
        "logit_test_pred = logit.predict_proba(X_test)[:, 1]\n",
        "\n",
        "pd.Series(logit_test_pred, name=\"dep_delayed_15min\").to_csv(\n",
        "    \"logit_2feat.csv\", index_label=\"id\", header=True\n",
        ")"
      ],
      "execution_count": null,
      "outputs": []
    },
    {
      "cell_type": "markdown",
      "metadata": {
        "id": "LGQARZTOvTQG"
      },
      "source": [
        "**Результат Kaggle:**\n",
        "\n",
        "**auc_roc - 0.68202**\n",
        "\n",
        "**место - 191 / 211 (90.5%)**"
      ]
    },
    {
      "cell_type": "markdown",
      "metadata": {
        "id": "NPO-0es0XkqK"
      },
      "source": [
        "## Модель № 1"
      ]
    },
    {
      "cell_type": "markdown",
      "metadata": {
        "id": "a-mO8bXda2TD"
      },
      "source": [
        "### Предобработка"
      ]
    },
    {
      "cell_type": "markdown",
      "metadata": {
        "id": "onlukyWDpYTX"
      },
      "source": [
        "Как был получен бенчмарк в соревновании:\n",
        "- Признаки `Distance` и  `DepTime` брались без изменений\n",
        "- Создан признак \"маршрут\" из исходных `Origin` и `Dest`\n",
        "- К признакам `Month`, `DayofMonth`, `DayOfWeek`, `UniqueCarrier` и \"маршрут\" применено OHE-преобразование (`LabelBinarizer`)\n",
        "- Выделена отложенная выборка\n",
        "- Обучалась логистическая регрессия и градиентный бустинг (xgboost), гиперпараметры бустинга настраивались на кросс-валидации, сначала те, что отвечают за сложность модели, затем число деревьев фиксировалось равным 500 и настраивался шаг градиентного спуска\n",
        "- С помощью `cross_val_predict` делались прогнозы обеих моделей на кросс-валидации (именно предсказанные вероятности), настраивалась линейная смесь ответов логистической регрессии и градиентного бустинга вида $w_1 * p_{logit} + (1 - w_1) * p_{xgb}$, где $p_{logit}$ – предсказанные логистической регрессией вероятности класса 1, $p_{xgb}$ – аналогично. Вес $w_1$ подбирался вручную. \n",
        "- В качестве ответа для тестовой выборки бралась аналогичная комбинация ответов двух моделей, но уже обученных на всей обучающей выборке.\n",
        "\n",
        "Описанный план ни к чему не обязывает – это просто то, как решение получил автор задания. Возможно, мы не захотите следовать намеченному плану, а добавите, скажем, пару хороших признаков и обучите лес из тысячи деревьев.\n",
        "\n",
        "Удачи!"
      ]
    },
    {
      "cell_type": "markdown",
      "metadata": {
        "id": "CSaY8mGoqqKL"
      },
      "source": [
        "Обработка признаков"
      ]
    },
    {
      "cell_type": "code",
      "metadata": {
        "colab": {
          "base_uri": "https://localhost:8080/",
          "height": 204
        },
        "id": "9L4g65PqM2NV",
        "outputId": "9c03ad3f-1361-4fbe-fa17-a3a84caa9ee8"
      },
      "source": [
        "# Создаем Route, удаляем Origin и Dest\n",
        "train1 = train.copy()\n",
        "train1['Route'] = train1['Origin'] + '_' + train1['Dest']\n",
        "train1.drop(columns=['Origin', 'Dest'], inplace=True)\n",
        "train1.head()"
      ],
      "execution_count": null,
      "outputs": [
        {
          "output_type": "execute_result",
          "data": {
            "text/html": [
              "<div>\n",
              "<style scoped>\n",
              "    .dataframe tbody tr th:only-of-type {\n",
              "        vertical-align: middle;\n",
              "    }\n",
              "\n",
              "    .dataframe tbody tr th {\n",
              "        vertical-align: top;\n",
              "    }\n",
              "\n",
              "    .dataframe thead th {\n",
              "        text-align: right;\n",
              "    }\n",
              "</style>\n",
              "<table border=\"1\" class=\"dataframe\">\n",
              "  <thead>\n",
              "    <tr style=\"text-align: right;\">\n",
              "      <th></th>\n",
              "      <th>Month</th>\n",
              "      <th>DayofMonth</th>\n",
              "      <th>DayOfWeek</th>\n",
              "      <th>DepTime</th>\n",
              "      <th>UniqueCarrier</th>\n",
              "      <th>Distance</th>\n",
              "      <th>dep_delayed_15min</th>\n",
              "      <th>Route</th>\n",
              "    </tr>\n",
              "  </thead>\n",
              "  <tbody>\n",
              "    <tr>\n",
              "      <th>0</th>\n",
              "      <td>c-8</td>\n",
              "      <td>c-21</td>\n",
              "      <td>c-7</td>\n",
              "      <td>1934</td>\n",
              "      <td>AA</td>\n",
              "      <td>732</td>\n",
              "      <td>N</td>\n",
              "      <td>ATL_DFW</td>\n",
              "    </tr>\n",
              "    <tr>\n",
              "      <th>1</th>\n",
              "      <td>c-4</td>\n",
              "      <td>c-20</td>\n",
              "      <td>c-3</td>\n",
              "      <td>1548</td>\n",
              "      <td>US</td>\n",
              "      <td>834</td>\n",
              "      <td>N</td>\n",
              "      <td>PIT_MCO</td>\n",
              "    </tr>\n",
              "    <tr>\n",
              "      <th>2</th>\n",
              "      <td>c-9</td>\n",
              "      <td>c-2</td>\n",
              "      <td>c-5</td>\n",
              "      <td>1422</td>\n",
              "      <td>XE</td>\n",
              "      <td>416</td>\n",
              "      <td>N</td>\n",
              "      <td>RDU_CLE</td>\n",
              "    </tr>\n",
              "    <tr>\n",
              "      <th>3</th>\n",
              "      <td>c-11</td>\n",
              "      <td>c-25</td>\n",
              "      <td>c-6</td>\n",
              "      <td>1015</td>\n",
              "      <td>OO</td>\n",
              "      <td>872</td>\n",
              "      <td>N</td>\n",
              "      <td>DEN_MEM</td>\n",
              "    </tr>\n",
              "    <tr>\n",
              "      <th>4</th>\n",
              "      <td>c-10</td>\n",
              "      <td>c-7</td>\n",
              "      <td>c-6</td>\n",
              "      <td>1828</td>\n",
              "      <td>WN</td>\n",
              "      <td>423</td>\n",
              "      <td>Y</td>\n",
              "      <td>MDW_OMA</td>\n",
              "    </tr>\n",
              "  </tbody>\n",
              "</table>\n",
              "</div>"
            ],
            "text/plain": [
              "  Month DayofMonth DayOfWeek  ...  Distance dep_delayed_15min    Route\n",
              "0   c-8       c-21       c-7  ...       732                 N  ATL_DFW\n",
              "1   c-4       c-20       c-3  ...       834                 N  PIT_MCO\n",
              "2   c-9        c-2       c-5  ...       416                 N  RDU_CLE\n",
              "3  c-11       c-25       c-6  ...       872                 N  DEN_MEM\n",
              "4  c-10        c-7       c-6  ...       423                 Y  MDW_OMA\n",
              "\n",
              "[5 rows x 8 columns]"
            ]
          },
          "metadata": {
            "tags": []
          },
          "execution_count": 14
        }
      ]
    },
    {
      "cell_type": "code",
      "metadata": {
        "colab": {
          "base_uri": "https://localhost:8080/",
          "height": 204
        },
        "id": "J-fVT5pQrUxf",
        "outputId": "9148aa33-9a56-4597-e79c-b511e7095b11"
      },
      "source": [
        "test1 = test.copy()\n",
        "test1['Route'] = test1['Origin'] + '_' + test1['Dest']\n",
        "test1.drop(columns=['Origin', 'Dest'], inplace=True)\n",
        "test1.head()"
      ],
      "execution_count": null,
      "outputs": [
        {
          "output_type": "execute_result",
          "data": {
            "text/html": [
              "<div>\n",
              "<style scoped>\n",
              "    .dataframe tbody tr th:only-of-type {\n",
              "        vertical-align: middle;\n",
              "    }\n",
              "\n",
              "    .dataframe tbody tr th {\n",
              "        vertical-align: top;\n",
              "    }\n",
              "\n",
              "    .dataframe thead th {\n",
              "        text-align: right;\n",
              "    }\n",
              "</style>\n",
              "<table border=\"1\" class=\"dataframe\">\n",
              "  <thead>\n",
              "    <tr style=\"text-align: right;\">\n",
              "      <th></th>\n",
              "      <th>Month</th>\n",
              "      <th>DayofMonth</th>\n",
              "      <th>DayOfWeek</th>\n",
              "      <th>DepTime</th>\n",
              "      <th>UniqueCarrier</th>\n",
              "      <th>Distance</th>\n",
              "      <th>Route</th>\n",
              "    </tr>\n",
              "  </thead>\n",
              "  <tbody>\n",
              "    <tr>\n",
              "      <th>0</th>\n",
              "      <td>c-7</td>\n",
              "      <td>c-25</td>\n",
              "      <td>c-3</td>\n",
              "      <td>615</td>\n",
              "      <td>YV</td>\n",
              "      <td>598</td>\n",
              "      <td>MRY_PHX</td>\n",
              "    </tr>\n",
              "    <tr>\n",
              "      <th>1</th>\n",
              "      <td>c-4</td>\n",
              "      <td>c-17</td>\n",
              "      <td>c-2</td>\n",
              "      <td>739</td>\n",
              "      <td>WN</td>\n",
              "      <td>1235</td>\n",
              "      <td>LAS_HOU</td>\n",
              "    </tr>\n",
              "    <tr>\n",
              "      <th>2</th>\n",
              "      <td>c-12</td>\n",
              "      <td>c-2</td>\n",
              "      <td>c-7</td>\n",
              "      <td>651</td>\n",
              "      <td>MQ</td>\n",
              "      <td>577</td>\n",
              "      <td>GSP_ORD</td>\n",
              "    </tr>\n",
              "    <tr>\n",
              "      <th>3</th>\n",
              "      <td>c-3</td>\n",
              "      <td>c-25</td>\n",
              "      <td>c-7</td>\n",
              "      <td>1614</td>\n",
              "      <td>WN</td>\n",
              "      <td>377</td>\n",
              "      <td>BWI_MHT</td>\n",
              "    </tr>\n",
              "    <tr>\n",
              "      <th>4</th>\n",
              "      <td>c-6</td>\n",
              "      <td>c-6</td>\n",
              "      <td>c-3</td>\n",
              "      <td>1505</td>\n",
              "      <td>UA</td>\n",
              "      <td>258</td>\n",
              "      <td>ORD_STL</td>\n",
              "    </tr>\n",
              "  </tbody>\n",
              "</table>\n",
              "</div>"
            ],
            "text/plain": [
              "  Month DayofMonth DayOfWeek  DepTime UniqueCarrier  Distance    Route\n",
              "0   c-7       c-25       c-3      615            YV       598  MRY_PHX\n",
              "1   c-4       c-17       c-2      739            WN      1235  LAS_HOU\n",
              "2  c-12        c-2       c-7      651            MQ       577  GSP_ORD\n",
              "3   c-3       c-25       c-7     1614            WN       377  BWI_MHT\n",
              "4   c-6        c-6       c-3     1505            UA       258  ORD_STL"
            ]
          },
          "metadata": {
            "tags": []
          },
          "execution_count": 15
        }
      ]
    },
    {
      "cell_type": "code",
      "metadata": {
        "colab": {
          "base_uri": "https://localhost:8080/"
        },
        "id": "z3Q4zyOURqDL",
        "outputId": "b9b636be-31aa-47bf-880d-4a0a3b3818e5"
      },
      "source": [
        "# Разделяем на X, y\n",
        "X1 = train1.drop(columns='dep_delayed_15min')\n",
        "y1 = train1['dep_delayed_15min'].map({'N':0, 'Y':1})\n",
        "y1.unique()"
      ],
      "execution_count": null,
      "outputs": [
        {
          "output_type": "execute_result",
          "data": {
            "text/plain": [
              "array([0, 1])"
            ]
          },
          "metadata": {
            "tags": []
          },
          "execution_count": 16
        }
      ]
    },
    {
      "cell_type": "code",
      "metadata": {
        "colab": {
          "base_uri": "https://localhost:8080/"
        },
        "id": "1yU7wfRhRZRS",
        "outputId": "1740c31c-3bf7-4aff-f767-143dadbb3e55"
      },
      "source": [
        "# Выделяем кат. признаки\n",
        "cat_cols1 = X1.select_dtypes(include='O').columns.values\n",
        "cat_cols1"
      ],
      "execution_count": null,
      "outputs": [
        {
          "output_type": "execute_result",
          "data": {
            "text/plain": [
              "array(['Month', 'DayofMonth', 'DayOfWeek', 'UniqueCarrier', 'Route'],\n",
              "      dtype=object)"
            ]
          },
          "metadata": {
            "tags": []
          },
          "execution_count": 17
        }
      ]
    },
    {
      "cell_type": "code",
      "metadata": {
        "colab": {
          "base_uri": "https://localhost:8080/"
        },
        "id": "onHBEpOHNm3T",
        "outputId": "c4db3838-0391-43d2-b6dc-4fa53bd145aa"
      },
      "source": [
        "# Применяем OHE, объединяем с вещественными\n",
        "ohe = OneHotEncoder(handle_unknown = 'ignore')\n",
        "X1_cat = ohe.fit_transform(X1[cat_cols1])\n",
        "X1_real = X1[list(set(X1.columns) - set(cat_cols1))].values\n",
        "X1 = sparse.hstack((X1_cat, X1_real))\n",
        "X1.shape"
      ],
      "execution_count": null,
      "outputs": [
        {
          "output_type": "execute_result",
          "data": {
            "text/plain": [
              "(100000, 4503)"
            ]
          },
          "metadata": {
            "tags": []
          },
          "execution_count": 18
        }
      ]
    },
    {
      "cell_type": "code",
      "metadata": {
        "colab": {
          "base_uri": "https://localhost:8080/"
        },
        "id": "0Rlu4k3Ertwf",
        "outputId": "b47fce25-b291-4225-a7f9-ae6f291f40bf"
      },
      "source": [
        "test1_cat = ohe.transform(test1[cat_cols1])\n",
        "test1_real = test1[list(set(test1.columns) - set(cat_cols1))].values\n",
        "test1 = sparse.hstack((test1_cat, test1_real))\n",
        "test1.shape"
      ],
      "execution_count": null,
      "outputs": [
        {
          "output_type": "execute_result",
          "data": {
            "text/plain": [
              "(100000, 4503)"
            ]
          },
          "metadata": {
            "tags": []
          },
          "execution_count": 19
        }
      ]
    },
    {
      "cell_type": "code",
      "metadata": {
        "id": "ZSamS-cUiRwa"
      },
      "source": [
        "# Разделение на обучение и валидацию\n",
        "X1_train, X1_valid, y1_train, y1_valid = model_selection.train_test_split(X1, y1, test_size=0.2, random_state=0)"
      ],
      "execution_count": null,
      "outputs": []
    },
    {
      "cell_type": "markdown",
      "metadata": {
        "id": "NbFaqxA8qtNT"
      },
      "source": [
        "### Логистическая регрессия"
      ]
    },
    {
      "cell_type": "code",
      "metadata": {
        "colab": {
          "base_uri": "https://localhost:8080/"
        },
        "id": "xZ94bqe5iRzQ",
        "outputId": "40cbced7-5399-4074-e147-e18d4b90f104"
      },
      "source": [
        "%%time\n",
        "# Класс LogisticRegressionCV() создан специально для логистической регрессии \n",
        "# (для нее известны эффективные алгоритмы перебора параметров), для произвольной\n",
        "# модели мы бы использовали др. (GridSearchCV, RandomizedSearchCV, hyperopt).\n",
        "lr1 = LogisticRegressionCV(random_state=0, n_jobs=-1, scoring='roc_auc')\n",
        "lr1.fit(X1_train, y1_train)"
      ],
      "execution_count": null,
      "outputs": [
        {
          "output_type": "stream",
          "text": [
            "CPU times: user 183 ms, sys: 40 ms, total: 223 ms\n",
            "Wall time: 4.99 s\n"
          ],
          "name": "stdout"
        }
      ]
    },
    {
      "cell_type": "code",
      "metadata": {
        "colab": {
          "base_uri": "https://localhost:8080/"
        },
        "id": "ZpVkB6G1nd3j",
        "outputId": "6a6a3d2c-df3f-468d-8b99-1277bbef623e"
      },
      "source": [
        "lr1.Cs_"
      ],
      "execution_count": null,
      "outputs": [
        {
          "output_type": "execute_result",
          "data": {
            "text/plain": [
              "array([1.00000000e-04, 7.74263683e-04, 5.99484250e-03, 4.64158883e-02,\n",
              "       3.59381366e-01, 2.78255940e+00, 2.15443469e+01, 1.66810054e+02,\n",
              "       1.29154967e+03, 1.00000000e+04])"
            ]
          },
          "metadata": {
            "tags": []
          },
          "execution_count": 23
        }
      ]
    },
    {
      "cell_type": "code",
      "metadata": {
        "colab": {
          "base_uri": "https://localhost:8080/"
        },
        "id": "76N5bnfKzFCe",
        "outputId": "1047877b-306e-44b3-c20e-95c6f07a4283"
      },
      "source": [
        "roc_auc_score(y1_valid, lr1.predict_proba(X1_valid)[:, 1])"
      ],
      "execution_count": null,
      "outputs": [
        {
          "output_type": "execute_result",
          "data": {
            "text/plain": [
              "0.6990322220242813"
            ]
          },
          "metadata": {
            "tags": []
          },
          "execution_count": 24
        }
      ]
    },
    {
      "cell_type": "markdown",
      "metadata": {
        "id": "MslNNGg6sAVK"
      },
      "source": [
        "Добавим стандартизацию данных"
      ]
    },
    {
      "cell_type": "code",
      "metadata": {
        "id": "RCQxb3XFl3DQ"
      },
      "source": [
        "# Разделяем на X, y\n",
        "X1_lr = train1.drop(columns='dep_delayed_15min')\n",
        "y1_lr = train1['dep_delayed_15min'].map({'N':0, 'Y':1})\n",
        "\n",
        "# Применяем OHE, объединяем с вещественными\n",
        "scaler = StandardScaler()\n",
        "X1_real_lr = scaler.fit_transform(X1_real)\n",
        "\n",
        "X1_lr = sparse.hstack((X1_cat, X1_real_lr))\n",
        "\n",
        "# Разделение на обучение и валидацию\n",
        "X1_train_lr, X1_valid_lr, y1_train_lr, y1_valid_lr = model_selection.train_test_split(X1_lr, y1, test_size=0.2, random_state=0)"
      ],
      "execution_count": null,
      "outputs": []
    },
    {
      "cell_type": "code",
      "metadata": {
        "colab": {
          "base_uri": "https://localhost:8080/"
        },
        "id": "pLoIbKbdoLiu",
        "outputId": "7ec20601-87a1-44c7-bd0a-d44b000de86f"
      },
      "source": [
        "%%time\n",
        "lr1_lr = LogisticRegressionCV(random_state=0, n_jobs=-1, scoring='roc_auc')\n",
        "lr1_lr.fit(X1_train_lr, y1_train)"
      ],
      "execution_count": null,
      "outputs": [
        {
          "output_type": "stream",
          "text": [
            "CPU times: user 1.06 s, sys: 269 ms, total: 1.33 s\n",
            "Wall time: 23.2 s\n"
          ],
          "name": "stdout"
        },
        {
          "output_type": "stream",
          "text": [
            "/usr/local/lib/python3.7/dist-packages/sklearn/linear_model/_logistic.py:940: ConvergenceWarning: lbfgs failed to converge (status=1):\n",
            "STOP: TOTAL NO. of ITERATIONS REACHED LIMIT.\n",
            "\n",
            "Increase the number of iterations (max_iter) or scale the data as shown in:\n",
            "    https://scikit-learn.org/stable/modules/preprocessing.html\n",
            "Please also refer to the documentation for alternative solver options:\n",
            "    https://scikit-learn.org/stable/modules/linear_model.html#logistic-regression\n",
            "  extra_warning_msg=_LOGISTIC_SOLVER_CONVERGENCE_MSG)\n"
          ],
          "name": "stderr"
        }
      ]
    },
    {
      "cell_type": "code",
      "metadata": {
        "colab": {
          "base_uri": "https://localhost:8080/"
        },
        "id": "r8N5fAVGqcYe",
        "outputId": "5b3f7ddf-3fbe-406e-9ad6-97807296df7e"
      },
      "source": [
        "# Mean scores\n",
        "lr1.scores_[1].mean(axis=0)"
      ],
      "execution_count": null,
      "outputs": [
        {
          "output_type": "execute_result",
          "data": {
            "text/plain": [
              "array([0.68367517, 0.68891075, 0.69153148, 0.69194319, 0.69194295,\n",
              "       0.6919431 , 0.69194295, 0.6919433 , 0.69194319, 0.69194328])"
            ]
          },
          "metadata": {
            "tags": []
          },
          "execution_count": 213
        }
      ]
    },
    {
      "cell_type": "code",
      "metadata": {
        "colab": {
          "base_uri": "https://localhost:8080/"
        },
        "id": "M3kgJtW9rQc2",
        "outputId": "a4009c20-274f-4c00-dd11-9eeaf3a55cca"
      },
      "source": [
        "lr1.Cs_"
      ],
      "execution_count": null,
      "outputs": [
        {
          "output_type": "execute_result",
          "data": {
            "text/plain": [
              "array([1.00000000e-04, 7.74263683e-04, 5.99484250e-03, 4.64158883e-02,\n",
              "       3.59381366e-01, 2.78255940e+00, 2.15443469e+01, 1.66810054e+02,\n",
              "       1.29154967e+03, 1.00000000e+04])"
            ]
          },
          "metadata": {
            "tags": []
          },
          "execution_count": 219
        }
      ]
    },
    {
      "cell_type": "code",
      "metadata": {
        "colab": {
          "base_uri": "https://localhost:8080/"
        },
        "id": "vnqTubu_rzfB",
        "outputId": "66e7722a-734e-46d1-95b9-a0ba580a4e52"
      },
      "source": [
        "roc_auc_score(y1_valid, lr1_lr.predict_proba(X1_valid_lr)[:, 1])"
      ],
      "execution_count": null,
      "outputs": [
        {
          "output_type": "execute_result",
          "data": {
            "text/plain": [
              "0.7032674207143027"
            ]
          },
          "metadata": {
            "tags": []
          },
          "execution_count": 217
        }
      ]
    },
    {
      "cell_type": "markdown",
      "metadata": {
        "id": "LAMi95Z_qu8A"
      },
      "source": [
        "### XGBoost"
      ]
    },
    {
      "cell_type": "code",
      "metadata": {
        "id": "ELHXofkCpVBs"
      },
      "source": [
        "# Сначала обучим модель без подбора\n",
        "dtrain = xgb.DMatrix(X1_train, y1_train)\n",
        "dvalid = xgb.DMatrix(X1_valid, y1_valid)\n",
        "params = {\"objective\": \"binary:logistic\", \"max_depth\": 3, \"silent\": 1, \"eta\": 0.1, \"seed\": 0}\n",
        "# бинарная классификация, огранич. глубины дерева, убираем лишний вывод, шаг градиентного спуска\n",
        "num_rounds = 50 # 50 итераций бустинга\n",
        "xgb_model = xgb.train(params, dtrain, num_rounds)\n",
        "preds_prob = xgb_model.predict(dvalid)"
      ],
      "execution_count": null,
      "outputs": []
    },
    {
      "cell_type": "code",
      "metadata": {
        "colab": {
          "base_uri": "https://localhost:8080/"
        },
        "id": "ZxKN3ow_5VPu",
        "outputId": "ecf5d015-1e47-4098-9a49-9db9389d05f9"
      },
      "source": [
        "xgb_model.predict(dvalid).shape"
      ],
      "execution_count": null,
      "outputs": [
        {
          "output_type": "execute_result",
          "data": {
            "text/plain": [
              "(20000,)"
            ]
          },
          "metadata": {
            "tags": []
          },
          "execution_count": 26
        }
      ]
    },
    {
      "cell_type": "code",
      "metadata": {
        "colab": {
          "base_uri": "https://localhost:8080/"
        },
        "id": "2sbbExvaqwM5",
        "outputId": "8793b88e-6c1b-4da3-b94f-1d21733c841d"
      },
      "source": [
        "roc_auc_score(y1_valid, preds_prob)"
      ],
      "execution_count": null,
      "outputs": [
        {
          "output_type": "execute_result",
          "data": {
            "text/plain": [
              "0.7175863231557287"
            ]
          },
          "metadata": {
            "tags": []
          },
          "execution_count": 27
        }
      ]
    },
    {
      "cell_type": "code",
      "metadata": {
        "colab": {
          "base_uri": "https://localhost:8080/"
        },
        "id": "z0EgH6QVqwPS",
        "outputId": "77ded76c-227b-46e0-bd63-b7f998e2a66c"
      },
      "source": [
        "roc_auc_score(y1_valid, lr1.predict_proba(X1_valid)[:, 1])"
      ],
      "execution_count": null,
      "outputs": [
        {
          "output_type": "execute_result",
          "data": {
            "text/plain": [
              "0.6990322220242813"
            ]
          },
          "metadata": {
            "tags": []
          },
          "execution_count": 28
        }
      ]
    },
    {
      "cell_type": "markdown",
      "metadata": {
        "id": "rXHm9Ty5ivB5"
      },
      "source": [
        "**Подбор гиперпараметров XGBoost**\n",
        "\n",
        "Пример схемы подбора гиперпараметров. \n",
        "\n",
        "Разделим на две итерации.\n",
        "\n",
        "Гиперпараметры, которые отвечают за:\n",
        "1. Сложность \n",
        "* max_depth\n",
        "* colsample by tree\n",
        "* subsample\n",
        "* $\\gamma$ \n",
        "* $\\alpha$\n",
        "* $\\lambda$\n",
        "\n",
        "*(не обязательно все)*\n",
        "\n",
        "Фиксируется num_round $\\approx$ 20-30. Перебор по сетке параметров (GridSearch, \n",
        "RandomizedGridSearch, hyperopt...)\n",
        "\n",
        "2. Оптимизацию\n",
        "* num_round (n_estimators)\n",
        "* learning_rate\n",
        "lr фиксируем малым значением = 0.01 (0.003). Обучаем модель (не Grid, с критерием ранней остановки). По графику подбираем необходимое количество деревьев.\n"
      ]
    },
    {
      "cell_type": "markdown",
      "metadata": {
        "id": "qzfbftpDi30Y"
      },
      "source": [
        "1. Гиперпараметры, отвечающие за сложность модели"
      ]
    },
    {
      "cell_type": "code",
      "metadata": {
        "id": "4Wc4hTUF4MeI"
      },
      "source": [
        "def score(params):\n",
        "  print(\"Training with params:\" , params)\n",
        "  params[\"max_depth\"] = int(params[\"max_depth\"])\n",
        "  dtrain = xgb.DMatrix(X1_train, label=y1_train)\n",
        "  dvalid = xgb.DMatrix(X1_valid, label=y1_valid)\n",
        "  model = xgb.train(params, dtrain, params[\"num_round\"])\n",
        "  predictions = model.predict(dvalid)#.reshape((X1_valid.shape[0], 2))\n",
        "  score = -roc_auc_score(y1_valid, predictions) # Используется функция минимизации! Используем знак \"-+\"\n",
        "  print(\"\\tScore {0}\\n\".format(-score))\n",
        "  return {\"loss\": score, \"status\": STATUS_OK}"
      ],
      "execution_count": null,
      "outputs": []
    },
    {
      "cell_type": "code",
      "metadata": {
        "id": "qCjft1wU43Qu"
      },
      "source": [
        "def optimize(trials):\n",
        "  space = {\n",
        "      \"num_round\": 30, # фиксируем, берем немного\n",
        "      \"max_depth\": hp.choice('max_depth', np.arange(1, 12, dtype=int)), # hp.quniform(\"max_depth\", 1, 12, 1),\n",
        "      \"min_child_weight\": hp.choice('min_child_weight', np.arange(1, 10, dtype=int)), # hp.quniform(\"min_child_weight\", 1, 10, 1),\n",
        "      \"colsample_bytree\": hp.quniform(\"colsample_bytree\", 0.4, 1, 0.05),\n",
        "      \"subsample\": hp.quniform(\"subsample\", 0.5, 1, 0.05),\n",
        "      \"gamma\": hp.uniform(\"gamma\", low=0, high=1),\n",
        "      \"lambda\": hp.uniform(label='lambda', low=0, high=1),\n",
        "      \"eval_metric\": \"auc\",\n",
        "      \"objective\": \"binary:logistic\",\n",
        "      \"silent\": 1,\n",
        "      \"seed\": hp.choice('seed', np.arange(5, dtype=int)) # \"seed\": hp.quniform(\"seed\", 1, 5, 1),\n",
        "    }\n",
        "\n",
        "  best = fmin(score, space, algo=tpe.suggest, trials=trials, max_evals=20, show_progressbar=True)\n",
        "  return best"
      ],
      "execution_count": null,
      "outputs": []
    },
    {
      "cell_type": "code",
      "metadata": {
        "colab": {
          "base_uri": "https://localhost:8080/"
        },
        "id": "RDMSqYkYwZVP",
        "outputId": "4293f94e-61bc-45f9-eba3-7133ba304415"
      },
      "source": [
        "trials = Trials()\n",
        "best_params = optimize(trials)"
      ],
      "execution_count": null,
      "outputs": [
        {
          "output_type": "stream",
          "text": [
            "Training with params:\n",
            "{'colsample_bytree': 0.8, 'eval_metric': 'auc', 'gamma': 0.5143739494827824, 'lambda': 0.48036601836300785, 'max_depth': 11, 'min_child_weight': 8, 'num_round': 30, 'objective': 'binary:logistic', 'seed': 4, 'silent': 1, 'subsample': 0.5}\n",
            "\tScore 0.7309987365688617\n",
            "\n",
            "Training with params:\n",
            "{'colsample_bytree': 0.8500000000000001, 'eval_metric': 'auc', 'gamma': 0.3629491965403049, 'lambda': 0.0864683471044908, 'max_depth': 2, 'min_child_weight': 7, 'num_round': 30, 'objective': 'binary:logistic', 'seed': 1, 'silent': 1, 'subsample': 0.8}\n",
            "\tScore 0.7153613024214961\n",
            "\n",
            "Training with params:\n",
            "{'colsample_bytree': 0.7000000000000001, 'eval_metric': 'auc', 'gamma': 0.5143148911432855, 'lambda': 0.9468749362798785, 'max_depth': 5, 'min_child_weight': 2, 'num_round': 30, 'objective': 'binary:logistic', 'seed': 2, 'silent': 1, 'subsample': 0.75}\n",
            "\tScore 0.7286238121427064\n",
            "\n",
            "Training with params:\n",
            "{'colsample_bytree': 0.9, 'eval_metric': 'auc', 'gamma': 0.9935152089500294, 'lambda': 0.24733195955002485, 'max_depth': 11, 'min_child_weight': 4, 'num_round': 30, 'objective': 'binary:logistic', 'seed': 2, 'silent': 1, 'subsample': 0.6000000000000001}\n",
            "\tScore 0.7319791927808158\n",
            "\n",
            "Training with params:\n",
            "{'colsample_bytree': 0.9500000000000001, 'eval_metric': 'auc', 'gamma': 0.9386278885743538, 'lambda': 0.8182518055054365, 'max_depth': 11, 'min_child_weight': 8, 'num_round': 30, 'objective': 'binary:logistic', 'seed': 4, 'silent': 1, 'subsample': 0.55}\n",
            "\tScore 0.7324628686277823\n",
            "\n",
            "Training with params:\n",
            "{'colsample_bytree': 0.7000000000000001, 'eval_metric': 'auc', 'gamma': 0.27152304943962824, 'lambda': 0.636844611987601, 'max_depth': 6, 'min_child_weight': 4, 'num_round': 30, 'objective': 'binary:logistic', 'seed': 4, 'silent': 1, 'subsample': 0.7000000000000001}\n",
            "\tScore 0.7325033329805838\n",
            "\n",
            "Training with params:\n",
            "{'colsample_bytree': 0.55, 'eval_metric': 'auc', 'gamma': 0.06882144900920395, 'lambda': 0.8866302439245736, 'max_depth': 3, 'min_child_weight': 1, 'num_round': 30, 'objective': 'binary:logistic', 'seed': 3, 'silent': 1, 'subsample': 0.8500000000000001}\n",
            "\tScore 0.718998418040738\n",
            "\n",
            "Training with params:\n",
            "{'colsample_bytree': 0.55, 'eval_metric': 'auc', 'gamma': 0.5968542768022584, 'lambda': 0.3103222449832985, 'max_depth': 8, 'min_child_weight': 4, 'num_round': 30, 'objective': 'binary:logistic', 'seed': 4, 'silent': 1, 'subsample': 0.65}\n",
            "\tScore 0.7349643241855802\n",
            "\n",
            "Training with params:\n",
            "{'colsample_bytree': 1.0, 'eval_metric': 'auc', 'gamma': 0.9355187431887659, 'lambda': 0.5370791665397006, 'max_depth': 8, 'min_child_weight': 2, 'num_round': 30, 'objective': 'binary:logistic', 'seed': 2, 'silent': 1, 'subsample': 0.7000000000000001}\n",
            "\tScore 0.7326515996207811\n",
            "\n",
            "Training with params:\n",
            "{'colsample_bytree': 0.8500000000000001, 'eval_metric': 'auc', 'gamma': 0.11689571265329968, 'lambda': 0.8196137555569417, 'max_depth': 3, 'min_child_weight': 8, 'num_round': 30, 'objective': 'binary:logistic', 'seed': 2, 'silent': 1, 'subsample': 0.7000000000000001}\n",
            "\tScore 0.7206841274819831\n",
            "\n",
            "Training with params:\n",
            "{'colsample_bytree': 0.65, 'eval_metric': 'auc', 'gamma': 0.22680285188431892, 'lambda': 0.5665165626916857, 'max_depth': 6, 'min_child_weight': 6, 'num_round': 30, 'objective': 'binary:logistic', 'seed': 4, 'silent': 1, 'subsample': 0.75}\n",
            "\tScore 0.7310901116094863\n",
            "\n",
            "Training with params:\n",
            "{'colsample_bytree': 0.6000000000000001, 'eval_metric': 'auc', 'gamma': 0.09295483297519569, 'lambda': 0.0896641308947087, 'max_depth': 6, 'min_child_weight': 4, 'num_round': 30, 'objective': 'binary:logistic', 'seed': 0, 'silent': 1, 'subsample': 0.55}\n",
            "\tScore 0.7276349680667127\n",
            "\n",
            "Training with params:\n",
            "{'colsample_bytree': 0.9, 'eval_metric': 'auc', 'gamma': 0.5718172524946135, 'lambda': 0.02744465404107732, 'max_depth': 7, 'min_child_weight': 7, 'num_round': 30, 'objective': 'binary:logistic', 'seed': 2, 'silent': 1, 'subsample': 0.5}\n",
            "\tScore 0.7309252880550544\n",
            "\n",
            "Training with params:\n",
            "{'colsample_bytree': 0.9500000000000001, 'eval_metric': 'auc', 'gamma': 0.48379703062576107, 'lambda': 0.26883625852690696, 'max_depth': 10, 'min_child_weight': 3, 'num_round': 30, 'objective': 'binary:logistic', 'seed': 2, 'silent': 1, 'subsample': 0.55}\n",
            "\tScore 0.7296039684986513\n",
            "\n",
            "Training with params:\n",
            "{'colsample_bytree': 0.7000000000000001, 'eval_metric': 'auc', 'gamma': 0.5571300938448347, 'lambda': 0.030201989500082682, 'max_depth': 10, 'min_child_weight': 3, 'num_round': 30, 'objective': 'binary:logistic', 'seed': 3, 'silent': 1, 'subsample': 0.6000000000000001}\n",
            "\tScore 0.7287213463878429\n",
            "\n",
            "Training with params:\n",
            "{'colsample_bytree': 0.8, 'eval_metric': 'auc', 'gamma': 0.22765566438518792, 'lambda': 0.9696441686945745, 'max_depth': 1, 'min_child_weight': 4, 'num_round': 30, 'objective': 'binary:logistic', 'seed': 4, 'silent': 1, 'subsample': 0.6000000000000001}\n",
            "\tScore 0.7060834252256931\n",
            "\n",
            "Training with params:\n",
            "{'colsample_bytree': 0.8, 'eval_metric': 'auc', 'gamma': 0.9035418147649941, 'lambda': 0.22810802342853775, 'max_depth': 6, 'min_child_weight': 4, 'num_round': 30, 'objective': 'binary:logistic', 'seed': 0, 'silent': 1, 'subsample': 0.65}\n",
            "\tScore 0.7267054549594474\n",
            "\n",
            "Training with params:\n",
            "{'colsample_bytree': 1.0, 'eval_metric': 'auc', 'gamma': 0.4808256548970501, 'lambda': 0.2936517273709405, 'max_depth': 1, 'min_child_weight': 7, 'num_round': 30, 'objective': 'binary:logistic', 'seed': 2, 'silent': 1, 'subsample': 0.55}\n",
            "\tScore 0.707739886549722\n",
            "\n",
            "Training with params:\n",
            "{'colsample_bytree': 0.45, 'eval_metric': 'auc', 'gamma': 0.619408436083233, 'lambda': 0.8247453497924132, 'max_depth': 8, 'min_child_weight': 1, 'num_round': 30, 'objective': 'binary:logistic', 'seed': 4, 'silent': 1, 'subsample': 0.75}\n",
            "\tScore 0.7325414065895287\n",
            "\n",
            "Training with params:\n",
            "{'colsample_bytree': 0.8500000000000001, 'eval_metric': 'auc', 'gamma': 0.36407827247336577, 'lambda': 0.9882028804261743, 'max_depth': 5, 'min_child_weight': 2, 'num_round': 30, 'objective': 'binary:logistic', 'seed': 4, 'silent': 1, 'subsample': 1.0}\n",
            "\tScore 0.7284092530118389\n",
            "\n",
            "100%|██████████| 20/20 [00:35<00:00,  1.76s/it, best loss: -0.7349643241855802]\n"
          ],
          "name": "stdout"
        }
      ]
    },
    {
      "cell_type": "code",
      "metadata": {
        "colab": {
          "base_uri": "https://localhost:8080/"
        },
        "id": "p116OxT0cDIw",
        "outputId": "81cb80e6-9add-4f11-99bb-3e3a6a837c6f"
      },
      "source": [
        "best_params"
      ],
      "execution_count": null,
      "outputs": [
        {
          "output_type": "execute_result",
          "data": {
            "text/plain": [
              "{'colsample_bytree': 0.55,\n",
              " 'gamma': 0.5968542768022584,\n",
              " 'lambda': 0.3103222449832985,\n",
              " 'max_depth': 7,\n",
              " 'min_child_weight': 3,\n",
              " 'seed': 4,\n",
              " 'subsample': 0.65}"
            ]
          },
          "metadata": {
            "tags": []
          },
          "execution_count": 41
        }
      ]
    },
    {
      "cell_type": "code",
      "metadata": {
        "id": "5SNaP7MlwZX1"
      },
      "source": [
        "best_params['num_round'] = 30\n",
        "best_params['eval_metric'] = \"auc\"\n",
        "best_params['objective'] = 'binary:logistic'\n",
        "best_params['silent'] = 1\n",
        "best_params['learning_rate'] = 0.003\n",
        "\n",
        "dtrain = xgb.DMatrix(X1_train, y1_train)"
      ],
      "execution_count": null,
      "outputs": []
    },
    {
      "cell_type": "markdown",
      "metadata": {
        "id": "NhAPh3XGiHeo"
      },
      "source": [
        "2. Гиперпараметры, отвечающие за оптимизацию\n",
        "\n",
        "Подбор лучшего learning_rate, берем num_round=500"
      ]
    },
    {
      "cell_type": "code",
      "metadata": {
        "id": "sjCPfqoT-Zy1",
        "colab": {
          "base_uri": "https://localhost:8080/"
        },
        "outputId": "2cd69fe5-5813-479a-f453-6be73eb2e23c"
      },
      "source": [
        "def optimize(trials):\n",
        "  space = best_params.copy()\n",
        "  space['learning_rate'] = hp.uniform(\"learning_rate\", low=0.005, high=0.05)\n",
        "  space['num_round'] = 500\n",
        "  best = fmin(score, space, algo=tpe.suggest, trials=trials, max_evals=5, show_progressbar=True)\n",
        "  return best\n",
        "\n",
        "best_lr = optimize(Trials())"
      ],
      "execution_count": null,
      "outputs": [
        {
          "output_type": "stream",
          "text": [
            "Training with params:\n",
            "{'colsample_bytree': 0.55, 'eval_metric': 'auc', 'gamma': 0.5968542768022584, 'lambda': 0.3103222449832985, 'learning_rate': 0.04042985070025514, 'max_depth': 7, 'min_child_weight': 3, 'num_round': 500, 'objective': 'binary:logistic', 'seed': 4, 'silent': 1, 'subsample': 0.65}\n",
            "\tScore 0.7392327177462356\n",
            "\n",
            "Training with params:\n",
            "{'colsample_bytree': 0.55, 'eval_metric': 'auc', 'gamma': 0.5968542768022584, 'lambda': 0.3103222449832985, 'learning_rate': 0.04207524503748538, 'max_depth': 7, 'min_child_weight': 3, 'num_round': 500, 'objective': 'binary:logistic', 'seed': 4, 'silent': 1, 'subsample': 0.65}\n",
            "\tScore 0.7403290804620486\n",
            "\n",
            "Training with params:\n",
            "{'colsample_bytree': 0.55, 'eval_metric': 'auc', 'gamma': 0.5968542768022584, 'lambda': 0.3103222449832985, 'learning_rate': 0.044622570465446654, 'max_depth': 7, 'min_child_weight': 3, 'num_round': 500, 'objective': 'binary:logistic', 'seed': 4, 'silent': 1, 'subsample': 0.65}\n",
            "\tScore 0.7407264139868143\n",
            "\n",
            "Training with params:\n",
            "{'colsample_bytree': 0.55, 'eval_metric': 'auc', 'gamma': 0.5968542768022584, 'lambda': 0.3103222449832985, 'learning_rate': 0.04967545505496209, 'max_depth': 7, 'min_child_weight': 3, 'num_round': 500, 'objective': 'binary:logistic', 'seed': 4, 'silent': 1, 'subsample': 0.65}\n",
            "\tScore 0.7404896330944042\n",
            "\n",
            "Training with params:\n",
            "{'colsample_bytree': 0.55, 'eval_metric': 'auc', 'gamma': 0.5968542768022584, 'lambda': 0.3103222449832985, 'learning_rate': 0.030576092332804214, 'max_depth': 7, 'min_child_weight': 3, 'num_round': 500, 'objective': 'binary:logistic', 'seed': 4, 'silent': 1, 'subsample': 0.65}\n",
            "\tScore 0.739110627725215\n",
            "\n",
            "100%|██████████| 5/5 [01:37<00:00, 19.50s/it, best loss: -0.7407264139868143]\n"
          ],
          "name": "stdout"
        }
      ]
    },
    {
      "cell_type": "code",
      "metadata": {
        "colab": {
          "base_uri": "https://localhost:8080/"
        },
        "id": "TlPNQ0qMmFBi",
        "outputId": "74f76af3-9b3a-425e-8f35-371284fcbbb8"
      },
      "source": [
        "best_params['learning_rate'] = best_lr['learning_rate']\n",
        "best_params"
      ],
      "execution_count": null,
      "outputs": [
        {
          "output_type": "execute_result",
          "data": {
            "text/plain": [
              "{'colsample_bytree': 0.55,\n",
              " 'eval_metric': 'auc',\n",
              " 'gamma': 0.5968542768022584,\n",
              " 'lambda': 0.3103222449832985,\n",
              " 'learning_rate': 0.044622570465446654,\n",
              " 'max_depth': 7,\n",
              " 'min_child_weight': 3,\n",
              " 'num_round': 30,\n",
              " 'objective': 'binary:logistic',\n",
              " 'seed': 4,\n",
              " 'silent': 1,\n",
              " 'subsample': 0.65}"
            ]
          },
          "metadata": {
            "tags": []
          },
          "execution_count": 60
        }
      ]
    },
    {
      "cell_type": "markdown",
      "metadata": {
        "id": "gq-wJQzAjHpO"
      },
      "source": [
        "Фиксируем learning_rate, строим до 2000 деревьев, выбираем лучшее значение"
      ]
    },
    {
      "cell_type": "code",
      "metadata": {
        "colab": {
          "base_uri": "https://localhost:8080/"
        },
        "id": "pqPZwjA0nJ6Q",
        "outputId": "ff18ad26-5058-4c37-aeb6-7bd92fff84c4"
      },
      "source": [
        "%%time\n",
        "best_params.pop('num_round')\n",
        "xgbCvResult = xgb.cv(best_params, dtrain, num_boost_round=2000, nfold=3, early_stopping_rounds=50)"
      ],
      "execution_count": null,
      "outputs": [
        {
          "output_type": "stream",
          "text": [
            "CPU times: user 4min 40s, sys: 548 ms, total: 4min 40s\n",
            "Wall time: 2min 22s\n"
          ],
          "name": "stdout"
        }
      ]
    },
    {
      "cell_type": "code",
      "metadata": {
        "colab": {
          "base_uri": "https://localhost:8080/",
          "height": 265
        },
        "id": "vsgGOmh1jb2j",
        "outputId": "6cde4e0b-15ab-4220-b4c3-bd821ce458f4"
      },
      "source": [
        "plt.plot(range(xgbCvResult.shape[0]), xgbCvResult[\"test-auc-mean\"], label='validation')\n",
        "plt.plot(range(xgbCvResult.shape[0]), xgbCvResult[\"train-auc-mean\"], label='train')\n",
        "plt.legend(); plt.grid();"
      ],
      "execution_count": null,
      "outputs": [
        {
          "output_type": "display_data",
          "data": {
            "image/png": "[encoded data removed]",
            "text/plain": [
              "<Figure size 432x288 with 1 Axes>"
            ]
          },
          "metadata": {
            "tags": [],
            "needs_background": "light"
          }
        }
      ]
    },
    {
      "cell_type": "code",
      "metadata": {
        "colab": {
          "base_uri": "https://localhost:8080/",
          "height": 265
        },
        "id": "suUo1bEbf3_f",
        "outputId": "3c93b72a-ef7d-41bc-b524-a2b3ec17abff"
      },
      "source": [
        "start_from = 20\n",
        "plt.plot(range(start_from, xgbCvResult.shape[0]), xgbCvResult[\"test-auc-mean\"][start_from:], label='validation')\n",
        "plt.plot(range(start_from, xgbCvResult.shape[0]), xgbCvResult[\"train-auc-mean\"][start_from:], label='train')\n",
        "plt.legend();"
      ],
      "execution_count": null,
      "outputs": [
        {
          "output_type": "display_data",
          "data": {
            "image/png": "[encoded data removed]",
            "text/plain": [
              "<Figure size 432x288 with 1 Axes>"
            ]
          },
          "metadata": {
            "tags": [],
            "needs_background": "light"
          }
        }
      ]
    },
    {
      "cell_type": "code",
      "metadata": {
        "colab": {
          "base_uri": "https://localhost:8080/"
        },
        "id": "Q7-EiyJvnQVf",
        "outputId": "2186d239-a695-47e9-ac6c-cb34911493b2"
      },
      "source": [
        "print(f'Best estimators: {np.argmax(xgbCvResult[\"test-auc-mean\"])},') \n",
        "best_num_round = np.argmax(xgbCvResult[\"test-auc-mean\"])\n",
        "print(f'Best auc_roc: {xgbCvResult[\"test-auc-mean\"].max()}')"
      ],
      "execution_count": null,
      "outputs": [
        {
          "output_type": "stream",
          "text": [
            "Best estimators: 1236,\n",
            "Best auc_roc: 0.7325513333333333\n"
          ],
          "name": "stdout"
        }
      ]
    },
    {
      "cell_type": "markdown",
      "metadata": {
        "id": "CalweBaloxfh"
      },
      "source": [
        "Делаем прогноз "
      ]
    },
    {
      "cell_type": "code",
      "metadata": {
        "colab": {
          "base_uri": "https://localhost:8080/"
        },
        "id": "M11xfu1Eohzc",
        "outputId": "d31bbd36-efed-437a-c487-aeaba1ce51f5"
      },
      "source": [
        "%%time\n",
        "best_xgb1 = xgb.train(best_params, dtrain, num_boost_round=best_num_round)\n",
        "xgb1_predict_pr_valid = best_xgb1.predict(dvalid)"
      ],
      "execution_count": null,
      "outputs": [
        {
          "output_type": "stream",
          "text": [
            "CPU times: user 1min 31s, sys: 165 ms, total: 1min 31s\n",
            "Wall time: 46.4 s\n"
          ],
          "name": "stdout"
        }
      ]
    },
    {
      "cell_type": "code",
      "metadata": {
        "colab": {
          "base_uri": "https://localhost:8080/"
        },
        "id": "CG2yn3P-oh2g",
        "outputId": "1d066c4e-d3f7-4eed-8fe3-a41676031c89"
      },
      "source": [
        "roc_auc_score(y1_valid, xgb1_predict_pr_valid)"
      ],
      "execution_count": null,
      "outputs": [
        {
          "output_type": "execute_result",
          "data": {
            "text/plain": [
              "0.7426169656033875"
            ]
          },
          "metadata": {
            "tags": []
          },
          "execution_count": 66
        }
      ]
    },
    {
      "cell_type": "code",
      "metadata": {
        "id": "_uODYwSMoiKC"
      },
      "source": [
        "dtest = xgb.DMatrix(test1)\n",
        "xgboost1_predict_pr_test = best_xgb1.predict(dtest)\n",
        "\n",
        "pd.Series(xgboost1_predict_pr_test, name=\"dep_delayed_15min\").to_csv(\n",
        "    \"xgb1_stand_algo.csv\", index_label=\"id\", header=True)"
      ],
      "execution_count": null,
      "outputs": []
    },
    {
      "cell_type": "markdown",
      "metadata": {
        "id": "3pTwcyDfvrME"
      },
      "source": [
        "**Результат Kaggle:**\n",
        "\n",
        "**auc_roc - 0.72008**\n",
        "\n",
        "**место - 151 / 211 (71.6%)**"
      ]
    },
    {
      "cell_type": "markdown",
      "metadata": {
        "id": "1NSVGSRbv-G_"
      },
      "source": [
        "С помощью cross_val_predict делались прогнозы обеих моделей на кросс-валидации (именно предсказанные вероятности), настраивалась линейная смесь ответов логистической регрессии и градиентного бустинга вида  $w1∗plogit+(1−w1)∗pxgb$ , где  plogit  – предсказанные логистической регрессией вероятности класса 1,  pxgb  – аналогично. Вес  w1  подбирался вручную.\n",
        "\n",
        "В качестве ответа для тестовой выборки бралась аналогичная комбинация ответов двух моделей, но уже обученных на всей обучающей выборке."
      ]
    },
    {
      "cell_type": "code",
      "metadata": {
        "colab": {
          "base_uri": "https://localhost:8080/",
          "height": 265
        },
        "id": "CqfAxsAqsMAo",
        "outputId": "11997dcf-5449-445a-97dd-ee9ac64858fa"
      },
      "source": [
        "# w = 0, logreg не используется\n",
        "ww = np.linspace(0, 1, 100)\n",
        "scores = []\n",
        "for wi in ww:\n",
        "  prob = wi * lr1_lr.predict_proba(X1_valid_lr)[:, 1] + (1-wi) * xgb12_predict_pr_valid\n",
        "  roc_auc_score(y1_valid, prob)\n",
        "  scores.append(roc_auc_score(y1_valid, prob))\n",
        "plt.plot(ww, scores);"
      ],
      "execution_count": null,
      "outputs": [
        {
          "output_type": "display_data",
          "data": {
            "image/png": "[encoded data removed]",
            "text/plain": [
              "<Figure size 432x288 with 1 Axes>"
            ]
          },
          "metadata": {
            "tags": [],
            "needs_background": "light"
          }
        }
      ]
    },
    {
      "cell_type": "code",
      "metadata": {
        "colab": {
          "base_uri": "https://localhost:8080/",
          "height": 390
        },
        "id": "PRSdN6sgoiBg",
        "outputId": "bd30f52e-adcb-4d4b-e242-338920bc6771"
      },
      "source": [
        "plt.figure(figsize=(8, 6))\n",
        "# Интересно посмотреть отстояния. Использую логрег без стандартизации (это проще), качество все-равно ниже\n",
        "plt.scatter(range(len(xgboost12_predict_pr_test)), lr1.predict_proba(test1)[:, 1] - xgboost12_predict_pr_test, s=0.1)\n",
        "plt.hlines(0, 0, 100000, colors='r'); plt.grid(); plt.title('Отстояние ответов Лог. регрессии от XGBoost (s = LogReg - XGB)');"
      ],
      "execution_count": null,
      "outputs": [
        {
          "output_type": "display_data",
          "data": {
            "image/png": "[encoded data removed]",
            "text/plain": [
              "<Figure size 576x432 with 1 Axes>"
            ]
          },
          "metadata": {
            "tags": [],
            "needs_background": "light"
          }
        }
      ]
    },
    {
      "cell_type": "markdown",
      "metadata": {
        "id": "zeNMUUUXAvXv"
      },
      "source": [
        "Обучимся на всей выборке"
      ]
    },
    {
      "cell_type": "code",
      "metadata": {
        "id": "o5xYIFs2vslv"
      },
      "source": [
        "dtrain1_full = xgb.DMatrix(X1, y1)\n",
        "best_xgb12 = xgb.train(best_params, dtrain1_full, num_boost_round=best_num_round)\n",
        "\n",
        "xgboost12_predict_pr_test = best_xgb12.predict(dtest)\n",
        "pd.Series(xgboost12_predict_pr_test, name=\"dep_delayed_15min\").to_csv(\n",
        "    \"xgb12_stand_algo.csv\", index_label=\"id\", header=True)"
      ],
      "execution_count": null,
      "outputs": []
    },
    {
      "cell_type": "markdown",
      "metadata": {
        "id": "q5svsZmrEdao"
      },
      "source": [
        "**Результат Kaggle:**\n",
        "\n",
        "**auc_roc - 0.72325**\n",
        "\n",
        "**место - 122 / 211 (57.8%)**"
      ]
    },
    {
      "cell_type": "markdown",
      "metadata": {
        "id": "Dl2SPsLXFq0V"
      },
      "source": [
        "## Модель № 2\n",
        "**Проверим CatBoost**"
      ]
    },
    {
      "cell_type": "markdown",
      "metadata": {
        "id": "zgBc_ESvoH7t"
      },
      "source": [
        "2.1. Без настройки"
      ]
    },
    {
      "cell_type": "code",
      "metadata": {
        "colab": {
          "base_uri": "https://localhost:8080/"
        },
        "id": "bH08CXXvFvQP",
        "outputId": "bfa33da1-bd24-4c62-9efc-7c822b5c81d4"
      },
      "source": [
        "!pip install catboost\n",
        "from catboost import CatBoostClassifier"
      ],
      "execution_count": null,
      "outputs": [
        {
          "output_type": "stream",
          "text": [
            "Collecting catboost\n",
            "\u001b[?25l  Downloading https://files.pythonhosted.org/packages/47/80/8e9c57ec32dfed6ba2922bc5c96462cbf8596ce1a6f5de532ad1e43e53fe/catboost-0.25.1-cp37-none-manylinux1_x86_64.whl (67.3MB)\n",
            "\u001b[K     |████████████████████████████████| 67.3MB 45kB/s \n",
            "\u001b[?25hRequirement already satisfied: six in /usr/local/lib/python3.7/dist-packages (from catboost) (1.15.0)\n",
            "Requirement already satisfied: graphviz in /usr/local/lib/python3.7/dist-packages (from catboost) (0.10.1)\n",
            "Requirement already satisfied: matplotlib in /usr/local/lib/python3.7/dist-packages (from catboost) (3.2.2)\n",
            "Requirement already satisfied: pandas>=0.24.0 in /usr/local/lib/python3.7/dist-packages (from catboost) (1.1.5)\n",
            "Requirement already satisfied: plotly in /usr/local/lib/python3.7/dist-packages (from catboost) (4.4.1)\n",
            "Requirement already satisfied: numpy>=1.16.0 in /usr/local/lib/python3.7/dist-packages (from catboost) (1.19.5)\n",
            "Requirement already satisfied: scipy in /usr/local/lib/python3.7/dist-packages (from catboost) (1.4.1)\n",
            "Requirement already satisfied: kiwisolver>=1.0.1 in /usr/local/lib/python3.7/dist-packages (from matplotlib->catboost) (1.3.1)\n",
            "Requirement already satisfied: pyparsing!=2.0.4,!=2.1.2,!=2.1.6,>=2.0.1 in /usr/local/lib/python3.7/dist-packages (from matplotlib->catboost) (2.4.7)\n",
            "Requirement already satisfied: python-dateutil>=2.1 in /usr/local/lib/python3.7/dist-packages (from matplotlib->catboost) (2.8.1)\n",
            "Requirement already satisfied: cycler>=0.10 in /usr/local/lib/python3.7/dist-packages (from matplotlib->catboost) (0.10.0)\n",
            "Requirement already satisfied: pytz>=2017.2 in /usr/local/lib/python3.7/dist-packages (from pandas>=0.24.0->catboost) (2018.9)\n",
            "Requirement already satisfied: retrying>=1.3.3 in /usr/local/lib/python3.7/dist-packages (from plotly->catboost) (1.3.3)\n",
            "Installing collected packages: catboost\n",
            "Successfully installed catboost-0.25.1\n"
          ],
          "name": "stdout"
        }
      ]
    },
    {
      "cell_type": "code",
      "metadata": {
        "id": "Ls7Yu6kEG-Qu"
      },
      "source": [
        "# Разделяем на X, y\n",
        "X2 = train1.drop(columns='dep_delayed_15min')\n",
        "y2 = train1['dep_delayed_15min'].map({'N':0, 'Y':1})\n",
        "cat_cols2 = cat_cols1"
      ],
      "execution_count": null,
      "outputs": []
    },
    {
      "cell_type": "code",
      "metadata": {
        "id": "pAvKjgD5HHb4"
      },
      "source": [
        "X2_train, X2_valid, y2_train, y2_valid = train_test_split(X2, y2, test_size=0.2, random_state=0)"
      ],
      "execution_count": null,
      "outputs": []
    },
    {
      "cell_type": "code",
      "metadata": {
        "colab": {
          "base_uri": "https://localhost:8080/"
        },
        "id": "9uTogj4rGJ1K",
        "outputId": "88be9f05-1f5d-44e4-f2d6-73d1b50d3e90"
      },
      "source": [
        "%%time\n",
        "model2 = CatBoostClassifier(custom_loss='AUC', use_best_model=True, random_seed=0)#, task_type='GPU') с GPU заметно проседает точность (auc_roc с 0,73 до 0,71!)...\n",
        "\n",
        "model2.fit(\n",
        "  X2_train, y2_train,\n",
        "  cat_features=cat_cols2, \n",
        "  eval_set=(X2_valid, y2_valid), \n",
        "  logging_level='Silent')\n",
        "\n",
        "score2 = model2.best_score_['validation']\n",
        "# model2.get_all_params()"
      ],
      "execution_count": null,
      "outputs": [
        {
          "output_type": "stream",
          "text": [
            "CPU times: user 3min 9s, sys: 3.59 s, total: 3min 13s\n",
            "Wall time: 1min 40s\n"
          ],
          "name": "stdout"
        }
      ]
    },
    {
      "cell_type": "code",
      "metadata": {
        "colab": {
          "base_uri": "https://localhost:8080/"
        },
        "id": "rCSnHKVbnuuu",
        "outputId": "df1d6fc9-48a7-4218-a673-119c06e2ff72"
      },
      "source": [
        "score2"
      ],
      "execution_count": null,
      "outputs": [
        {
          "output_type": "execute_result",
          "data": {
            "text/plain": [
              "{'AUC': 0.735008955001831, 'Logloss': 0.42886142578125}"
            ]
          },
          "metadata": {
            "tags": []
          },
          "execution_count": 131
        }
      ]
    },
    {
      "cell_type": "code",
      "metadata": {
        "colab": {
          "base_uri": "https://localhost:8080/",
          "height": 204
        },
        "id": "WBcR1vnsIhWY",
        "outputId": "488a2eef-4a1c-41e7-d253-2f78c7c65fc5"
      },
      "source": [
        "test2 = test.copy()\n",
        "test2['Route'] = test2['Origin'] + '_' + test2['Dest']\n",
        "test2.drop(columns=['Origin', 'Dest'], inplace=True)\n",
        "test2.head()"
      ],
      "execution_count": null,
      "outputs": [
        {
          "output_type": "execute_result",
          "data": {
            "text/html": [
              "<div>\n",
              "<style scoped>\n",
              "    .dataframe tbody tr th:only-of-type {\n",
              "        vertical-align: middle;\n",
              "    }\n",
              "\n",
              "    .dataframe tbody tr th {\n",
              "        vertical-align: top;\n",
              "    }\n",
              "\n",
              "    .dataframe thead th {\n",
              "        text-align: right;\n",
              "    }\n",
              "</style>\n",
              "<table border=\"1\" class=\"dataframe\">\n",
              "  <thead>\n",
              "    <tr style=\"text-align: right;\">\n",
              "      <th></th>\n",
              "      <th>Month</th>\n",
              "      <th>DayofMonth</th>\n",
              "      <th>DayOfWeek</th>\n",
              "      <th>DepTime</th>\n",
              "      <th>UniqueCarrier</th>\n",
              "      <th>Distance</th>\n",
              "      <th>Route</th>\n",
              "    </tr>\n",
              "  </thead>\n",
              "  <tbody>\n",
              "    <tr>\n",
              "      <th>0</th>\n",
              "      <td>c-7</td>\n",
              "      <td>c-25</td>\n",
              "      <td>c-3</td>\n",
              "      <td>615</td>\n",
              "      <td>YV</td>\n",
              "      <td>598</td>\n",
              "      <td>MRY_PHX</td>\n",
              "    </tr>\n",
              "    <tr>\n",
              "      <th>1</th>\n",
              "      <td>c-4</td>\n",
              "      <td>c-17</td>\n",
              "      <td>c-2</td>\n",
              "      <td>739</td>\n",
              "      <td>WN</td>\n",
              "      <td>1235</td>\n",
              "      <td>LAS_HOU</td>\n",
              "    </tr>\n",
              "    <tr>\n",
              "      <th>2</th>\n",
              "      <td>c-12</td>\n",
              "      <td>c-2</td>\n",
              "      <td>c-7</td>\n",
              "      <td>651</td>\n",
              "      <td>MQ</td>\n",
              "      <td>577</td>\n",
              "      <td>GSP_ORD</td>\n",
              "    </tr>\n",
              "    <tr>\n",
              "      <th>3</th>\n",
              "      <td>c-3</td>\n",
              "      <td>c-25</td>\n",
              "      <td>c-7</td>\n",
              "      <td>1614</td>\n",
              "      <td>WN</td>\n",
              "      <td>377</td>\n",
              "      <td>BWI_MHT</td>\n",
              "    </tr>\n",
              "    <tr>\n",
              "      <th>4</th>\n",
              "      <td>c-6</td>\n",
              "      <td>c-6</td>\n",
              "      <td>c-3</td>\n",
              "      <td>1505</td>\n",
              "      <td>UA</td>\n",
              "      <td>258</td>\n",
              "      <td>ORD_STL</td>\n",
              "    </tr>\n",
              "  </tbody>\n",
              "</table>\n",
              "</div>"
            ],
            "text/plain": [
              "  Month DayofMonth DayOfWeek  DepTime UniqueCarrier  Distance    Route\n",
              "0   c-7       c-25       c-3      615            YV       598  MRY_PHX\n",
              "1   c-4       c-17       c-2      739            WN      1235  LAS_HOU\n",
              "2  c-12        c-2       c-7      651            MQ       577  GSP_ORD\n",
              "3   c-3       c-25       c-7     1614            WN       377  BWI_MHT\n",
              "4   c-6        c-6       c-3     1505            UA       258  ORD_STL"
            ]
          },
          "metadata": {
            "tags": []
          },
          "execution_count": 138
        }
      ]
    },
    {
      "cell_type": "code",
      "metadata": {
        "id": "BU7c-g04GJ5T"
      },
      "source": [
        "pd.Series(model2.predict_proba(test2)[:, 1], name=\"dep_delayed_15min\").to_csv(\n",
        "    \"xgb2_stand_algo.csv\", index_label=\"id\", header=True)"
      ],
      "execution_count": null,
      "outputs": []
    },
    {
      "cell_type": "markdown",
      "metadata": {
        "id": "sxFcC-ySZPNO"
      },
      "source": [
        "**Результат Kaggle:**\n",
        "\n",
        "**auc_roc - 0.72406**\n",
        "\n",
        "**место - 117 / 211 (55.4%)**"
      ]
    },
    {
      "cell_type": "code",
      "metadata": {
        "colab": {
          "base_uri": "https://localhost:8080/"
        },
        "id": "pRx34KhRGJ9B",
        "outputId": "176de4f5-e4b5-41f0-fc1c-c57a96a9fc64"
      },
      "source": [
        "model2.predict_proba(test2)[:, 1]"
      ],
      "execution_count": null,
      "outputs": [
        {
          "output_type": "execute_result",
          "data": {
            "text/plain": [
              "array([0.02436365, 0.02246297, 0.02690595, ..., 0.18472875, 0.06728008,\n",
              "       0.06970511])"
            ]
          },
          "metadata": {
            "tags": []
          },
          "execution_count": 142
        }
      ]
    },
    {
      "cell_type": "code",
      "metadata": {
        "colab": {
          "base_uri": "https://localhost:8080/"
        },
        "id": "vC1g7oLnJoZ6",
        "outputId": "63249dba-990d-475c-82e3-611e24918b93"
      },
      "source": [
        "xgboost12_predict_pr_test"
      ],
      "execution_count": null,
      "outputs": [
        {
          "output_type": "execute_result",
          "data": {
            "text/plain": [
              "array([0.02450857, 0.03167284, 0.05705441, ..., 0.17780907, 0.08258546,\n",
              "       0.07321338], dtype=float32)"
            ]
          },
          "metadata": {
            "tags": []
          },
          "execution_count": 95
        }
      ]
    },
    {
      "cell_type": "markdown",
      "metadata": {
        "id": "z8TCkoNYP5ye"
      },
      "source": [
        "Объединим XGBOOST и CatBoost"
      ]
    },
    {
      "cell_type": "code",
      "metadata": {
        "colab": {
          "base_uri": "https://localhost:8080/",
          "height": 265
        },
        "id": "fr3z_zKNP-Tj",
        "outputId": "2303e62e-10cf-43a2-9fcd-508f7c045681"
      },
      "source": [
        "ww = np.linspace(0, 1, 21)\n",
        "scores = []\n",
        "for wi in ww:\n",
        "  prob = wi * model2.predict_proba(X2_valid)[:, 1] + (1-wi) * xgb1_predict_pr_valid\n",
        "  scores.append(roc_auc_score(y1_valid, prob))\n",
        "plt.plot(ww, scores);"
      ],
      "execution_count": null,
      "outputs": [
        {
          "output_type": "display_data",
          "data": {
            "image/png": "[encoded data removed]",
            "text/plain": [
              "<Figure size 432x288 with 1 Axes>"
            ]
          },
          "metadata": {
            "tags": [],
            "needs_background": "light"
          }
        }
      ]
    },
    {
      "cell_type": "code",
      "metadata": {
        "colab": {
          "base_uri": "https://localhost:8080/"
        },
        "id": "xtDSHvELRHzS",
        "outputId": "9b391436-d810-4871-ace9-e92ae42f447b"
      },
      "source": [
        "w1 = ww[np.argmax(scores)] \n",
        "w1"
      ],
      "execution_count": null,
      "outputs": [
        {
          "output_type": "execute_result",
          "data": {
            "text/plain": [
              "0.85"
            ]
          },
          "metadata": {
            "tags": []
          },
          "execution_count": 153
        }
      ]
    },
    {
      "cell_type": "markdown",
      "metadata": {
        "id": "Qzd8BjSHNsCM"
      },
      "source": [
        "Обучение на всей выборке"
      ]
    },
    {
      "cell_type": "code",
      "metadata": {
        "colab": {
          "base_uri": "https://localhost:8080/"
        },
        "id": "HUr9P2l48vlo",
        "outputId": "b0a6b9d0-4a41-4e3c-a49b-e5ee0f7fe1f0"
      },
      "source": [
        "%%time\n",
        "model22 = CatBoostClassifier(custom_loss='AUC', random_seed=0) \n",
        "#model22 = CatBoostClassifier(custom_loss='AUC', **model3.get_all_params, random_seed=0) #, task_type='GPU'\n",
        "###!!!!!\n",
        "\n",
        "model22.fit(\n",
        "  X2, y2,\n",
        "  cat_features=cat_cols2, \n",
        "  logging_level='Silent')\n",
        "\n",
        "pd.Series(model22.predict_proba(test2)[:, 1], name=\"dep_delayed_15min\").to_csv(\n",
        "    \"xgb22_stand_algo.csv\", index_label=\"id\", header=True)"
      ],
      "execution_count": null,
      "outputs": [
        {
          "output_type": "stream",
          "text": [
            "CPU times: user 3min 43s, sys: 3.63 s, total: 3min 46s\n",
            "Wall time: 1min 57s\n"
          ],
          "name": "stdout"
        }
      ]
    },
    {
      "cell_type": "markdown",
      "metadata": {
        "id": "rX4ecK5bZhwC"
      },
      "source": [
        "**Результат Kaggle:**\n",
        "\n",
        "**auc_roc - 0.73285**\n",
        "\n",
        "**место - 34 / 211 (16.1%)**"
      ]
    },
    {
      "cell_type": "markdown",
      "metadata": {
        "id": "O5v7V2vfRl1w"
      },
      "source": [
        "На всей выборке объединенная модель"
      ]
    },
    {
      "cell_type": "code",
      "metadata": {
        "id": "gRVK8JX_Ro7x"
      },
      "source": [
        "prob23 = w1 * model22.predict_proba(test2)[:, 1] + (1-w1) * xgboost12_predict_pr_test\n",
        "\n",
        "pd.Series(prob23, name=\"dep_delayed_15min\").to_csv(\n",
        "    \"xgb23_stand_algo.csv\", index_label=\"id\", header=True)"
      ],
      "execution_count": null,
      "outputs": []
    },
    {
      "cell_type": "markdown",
      "metadata": {
        "id": "p7Mp9ND4_eCR"
      },
      "source": [
        "**Результат Kaggle:**\n",
        "\n",
        "**auc_roc - 0.73413**\n",
        "\n",
        "**место - 29 / 211 (13.7%)**"
      ]
    },
    {
      "cell_type": "markdown",
      "metadata": {
        "id": "wjYOEhnxLimI"
      },
      "source": [
        "**CatBoost подбор параметров**\n",
        "\n",
        "Ниже описаны гиперпараметры (англ. hyperparameters), на которые стоит обратить внимание при использовании библиотеки.\n",
        "\n",
        "* cat_features;\n",
        "* Overfitting detector;\n",
        "* Число итераций и learning rate;\n",
        "* L2_reg;\n",
        "* Random_srength;\n",
        "* Bagging_temp;\n",
        "* Глубина дерева (стоит попробовать 10 и 6)."
      ]
    },
    {
      "cell_type": "code",
      "metadata": {
        "colab": {
          "base_uri": "https://localhost:8080/"
        },
        "id": "cPyklIzbropj",
        "outputId": "777568d8-1f68-47e6-c9e2-1833252df54f"
      },
      "source": [
        "%%time\n",
        "from sklearn.model_selection import RandomizedSearchCV\n",
        "\n",
        "model24 = CatBoostClassifier(custom_loss='AUC', task_type='GPU', random_seed=0)\n",
        "parameters = {'learning_rate': [0.01, 0.02, 0.04, 0.1],\n",
        "        'iterations': [500, 750, 1000, 1250, 1500, 2000],\n",
        "        'depth': [4, 6, 8, 10, 12],\n",
        "        'l2_leaf_reg': [3, 5, 7, 9]}\n",
        "\n",
        "randm24 = RandomizedSearchCV(estimator=model24, param_distributions = parameters, \n",
        "                            cv = 3, n_iter = 10, n_jobs=-1)\n",
        "\n",
        "randm24.fit(X2_train, y2_train,\n",
        "  cat_features=cat_cols2, \n",
        "  eval_set=(X2_valid, y2_valid), \n",
        "  logging_level='Silent')"
      ],
      "execution_count": null,
      "outputs": [
        {
          "output_type": "stream",
          "text": [
            "CPU times: user 46min 41s, sys: 9min 23s, total: 56min 4s\n",
            "Wall time: 41min 33s\n"
          ],
          "name": "stdout"
        }
      ]
    },
    {
      "cell_type": "code",
      "metadata": {
        "colab": {
          "base_uri": "https://localhost:8080/"
        },
        "id": "Tpa2xdDXVRQG",
        "outputId": "cd0dd577-b15e-45b4-8c56-a071738821d1"
      },
      "source": [
        "randm24"
      ],
      "execution_count": null,
      "outputs": [
        {
          "output_type": "execute_result",
          "data": {
            "text/plain": [
              "RandomizedSearchCV(cv=3, error_score=nan,\n",
              "                   estimator=<catboost.core.CatBoostClassifier object at 0x7fc056660c10>,\n",
              "                   iid='deprecated', n_iter=10, n_jobs=None,\n",
              "                   param_distributions={'depth': [4, 6, 8, 10, 12],\n",
              "                                        'iterations': [500, 750, 1000, 1250,\n",
              "                                                       1500, 2000],\n",
              "                                        'l2_leaf_reg': [3, 5, 7, 9],\n",
              "                                        'learning_rate': [0.01, 0.02, 0.04,\n",
              "                                                          0.1]},\n",
              "                   pre_dispatch='2*n_jobs', random_state=None, refit=True,\n",
              "                   return_train_score=False, scoring=None, verbose=0)"
            ]
          },
          "metadata": {
            "tags": []
          },
          "execution_count": 108
        }
      ]
    },
    {
      "cell_type": "code",
      "metadata": {
        "colab": {
          "base_uri": "https://localhost:8080/"
        },
        "id": "d4fZwsXBiQC4",
        "outputId": "78654bcc-a3d9-451a-b353-6086aeaaffa4"
      },
      "source": [
        "randm24.best_params_"
      ],
      "execution_count": null,
      "outputs": [
        {
          "output_type": "stream",
          "text": [
            "{'depth': 10, 'iterations': 1500, 'l2_leaf_reg': 7, 'learning_rate': 0.04}\n"
          ],
          "name": "stdout"
        }
      ]
    },
    {
      "cell_type": "code",
      "metadata": {
        "colab": {
          "base_uri": "https://localhost:8080/"
        },
        "id": "sn-hG334iY6Q",
        "outputId": "aa6bef76-ea1e-4346-9453-94953176e29c"
      },
      "source": [
        "%%time\n",
        "model24 = CatBoostClassifier(custom_loss='AUC', random_seed=0, **randm24.best_params_, task_type='GPU')\n",
        "\n",
        "model24.fit(\n",
        "  X2, y2,\n",
        "  cat_features=cat_cols2, \n",
        "  logging_level='Silent')\n",
        "\n",
        "pd.Series(model24.predict_proba(test2)[:, 1], name=\"dep_delayed_15min\").to_csv(\n",
        "    \"xgb24_stand_algo.csv\", index_label=\"id\", header=True)"
      ],
      "execution_count": null,
      "outputs": [
        {
          "output_type": "stream",
          "text": [
            "CPU times: user 35.6 s, sys: 8.08 s, total: 43.7 s\n",
            "Wall time: 29.1 s\n"
          ],
          "name": "stdout"
        }
      ]
    },
    {
      "cell_type": "markdown",
      "metadata": {
        "id": "b0DkuwV83Kap"
      },
      "source": [
        "**Результат Kaggle** *(оказался чуть хуже)* **:**\n",
        "\n",
        "**auc_roc - 0.73311**"
      ]
    },
    {
      "cell_type": "markdown",
      "metadata": {
        "id": "GeiEyGghEjm8"
      },
      "source": [
        "## Модель № 3\n",
        "**Предложим другие признаки**"
      ]
    },
    {
      "cell_type": "code",
      "metadata": {
        "id": "B9qsLO5eAXKv"
      },
      "source": [
        "train3 = train.copy()\n",
        "\n",
        "train3['Route'] = train1['Route'] # новые признаки и возможная логика\n",
        "train3['DayofYear'] = train3['DayofMonth'] + '_' + train3['Month'] # может есть праздники и это влияет?\n",
        "train3['UnCar_Orig'] = train3['UniqueCarrier'] + '_' + train3['Origin'] # зависит от компании в определенном аэропорте\n",
        "# в этих двух признаках уверенности меньше:\n",
        "train32 = train3.copy()\n",
        "train32['Orig_Time'] = train32['Origin'] + '_' + train32['DepTime'].values.astype('str') # в разное время аэропорты загружены по-разному\n",
        "train32['Orig_Dist'] = train32['Origin'] + '_' + train32['Distance'].values.astype('str') # может вне очереди пропускают близкие/дальние маршруты \n",
        "# выкинем возможно избыточные признаки\n",
        "train33 = train3.copy()\n",
        "train33 = train33.drop(columns=['DayofMonth', 'Dest'])\n",
        "\n",
        "train34 = train32.copy()\n",
        "train34 = train34.drop(columns=['DayofMonth', 'Dest'])"
      ],
      "execution_count": null,
      "outputs": []
    },
    {
      "cell_type": "code",
      "metadata": {
        "id": "RUCKko6iHhmd"
      },
      "source": [
        "test3 = test.copy()\n",
        "\n",
        "test3['Route'] = test2['Route'] # новые признаки и возможная логика\n",
        "test3['DayofYear'] = test3['DayofMonth'] + '_' + test3['Month'] # может есть праздники и это влияет?\n",
        "test3['UnCar_Orig'] = test3['UniqueCarrier'] + '_' + test3['Origin'] # зависит от компании в определенном аэропорте\n",
        "# в этих двух признаках уверенности меньше:\n",
        "test32 = test3.copy()\n",
        "test32['Orig_Time'] = test32['Origin'] + '_' + test32['DepTime'].values.astype('str') # в разное время аэропорты загружены по-разному\n",
        "test32['Orig_Dist'] = test32['Origin'] + '_' + test32['Distance'].values.astype('str') # может вне очереди пропускают близкие/дальние маршруты \n",
        "# выкинем возможно избыточные признаки\n",
        "test33 = test3.copy()\n",
        "test33 = test33.drop(columns=['DayofMonth', 'Dest'])\n",
        "\n",
        "test34 = test32.copy()\n",
        "test34 = test34.drop(columns=['DayofMonth', 'Dest'])"
      ],
      "execution_count": null,
      "outputs": []
    },
    {
      "cell_type": "code",
      "metadata": {
        "id": "8B5oT-c8GQmL"
      },
      "source": [
        "X3 = train3.drop(columns='dep_delayed_15min')\n",
        "y3 = train3['dep_delayed_15min']\n",
        "\n",
        "X32 = train32.drop(columns='dep_delayed_15min')\n",
        "y32 = train32['dep_delayed_15min']\n",
        "\n",
        "X33 = train33.drop(columns='dep_delayed_15min')\n",
        "y33 = train33['dep_delayed_15min']\n",
        "\n",
        "X34 = train34.drop(columns='dep_delayed_15min')\n",
        "y34 = train34['dep_delayed_15min']\n",
        "\n",
        "X3_train, X3_valid, y3_train, y3_valid = train_test_split(X3, y3, test_size=0.2, random_state=0)\n",
        "X32_train, X32_valid, y32_train, y32_valid = train_test_split(X32, y32, test_size=0.2, random_state=0)\n",
        "X33_train, X33_valid, y33_train, y33_valid = train_test_split(X33, y33, test_size=0.2, random_state=0)\n",
        "X34_train, X34_valid, y34_train, y34_valid = train_test_split(X34, y34, test_size=0.2, random_state=0)"
      ],
      "execution_count": null,
      "outputs": []
    },
    {
      "cell_type": "code",
      "metadata": {
        "colab": {
          "base_uri": "https://localhost:8080/",
          "height": 142
        },
        "id": "8qT5AmK3INtG",
        "outputId": "f9e72be9-8d15-40af-eb02-b63c4d53391b"
      },
      "source": [
        "X3.head(3)"
      ],
      "execution_count": null,
      "outputs": [
        {
          "output_type": "execute_result",
          "data": {
            "text/html": [
              "<div>\n",
              "<style scoped>\n",
              "    .dataframe tbody tr th:only-of-type {\n",
              "        vertical-align: middle;\n",
              "    }\n",
              "\n",
              "    .dataframe tbody tr th {\n",
              "        vertical-align: top;\n",
              "    }\n",
              "\n",
              "    .dataframe thead th {\n",
              "        text-align: right;\n",
              "    }\n",
              "</style>\n",
              "<table border=\"1\" class=\"dataframe\">\n",
              "  <thead>\n",
              "    <tr style=\"text-align: right;\">\n",
              "      <th></th>\n",
              "      <th>Month</th>\n",
              "      <th>DayofMonth</th>\n",
              "      <th>DayOfWeek</th>\n",
              "      <th>DepTime</th>\n",
              "      <th>UniqueCarrier</th>\n",
              "      <th>Origin</th>\n",
              "      <th>Dest</th>\n",
              "      <th>Distance</th>\n",
              "      <th>Route</th>\n",
              "      <th>DayofYear</th>\n",
              "      <th>UnCar_Orig</th>\n",
              "    </tr>\n",
              "  </thead>\n",
              "  <tbody>\n",
              "    <tr>\n",
              "      <th>0</th>\n",
              "      <td>c-8</td>\n",
              "      <td>c-21</td>\n",
              "      <td>c-7</td>\n",
              "      <td>1934</td>\n",
              "      <td>AA</td>\n",
              "      <td>ATL</td>\n",
              "      <td>DFW</td>\n",
              "      <td>732</td>\n",
              "      <td>ATL_DFW</td>\n",
              "      <td>c-21_c-8</td>\n",
              "      <td>AA_ATL</td>\n",
              "    </tr>\n",
              "    <tr>\n",
              "      <th>1</th>\n",
              "      <td>c-4</td>\n",
              "      <td>c-20</td>\n",
              "      <td>c-3</td>\n",
              "      <td>1548</td>\n",
              "      <td>US</td>\n",
              "      <td>PIT</td>\n",
              "      <td>MCO</td>\n",
              "      <td>834</td>\n",
              "      <td>PIT_MCO</td>\n",
              "      <td>c-20_c-4</td>\n",
              "      <td>US_PIT</td>\n",
              "    </tr>\n",
              "    <tr>\n",
              "      <th>2</th>\n",
              "      <td>c-9</td>\n",
              "      <td>c-2</td>\n",
              "      <td>c-5</td>\n",
              "      <td>1422</td>\n",
              "      <td>XE</td>\n",
              "      <td>RDU</td>\n",
              "      <td>CLE</td>\n",
              "      <td>416</td>\n",
              "      <td>RDU_CLE</td>\n",
              "      <td>c-2_c-9</td>\n",
              "      <td>XE_RDU</td>\n",
              "    </tr>\n",
              "  </tbody>\n",
              "</table>\n",
              "</div>"
            ],
            "text/plain": [
              "  Month DayofMonth DayOfWeek  DepTime  ... Distance    Route DayofYear  UnCar_Orig\n",
              "0   c-8       c-21       c-7     1934  ...      732  ATL_DFW  c-21_c-8      AA_ATL\n",
              "1   c-4       c-20       c-3     1548  ...      834  PIT_MCO  c-20_c-4      US_PIT\n",
              "2   c-9        c-2       c-5     1422  ...      416  RDU_CLE   c-2_c-9      XE_RDU\n",
              "\n",
              "[3 rows x 11 columns]"
            ]
          },
          "metadata": {
            "tags": []
          },
          "execution_count": 185
        }
      ]
    },
    {
      "cell_type": "code",
      "metadata": {
        "colab": {
          "base_uri": "https://localhost:8080/"
        },
        "id": "CpwTFAcEHf1V",
        "outputId": "91d26a8a-a504-4cba-9910-d7815e16af6d"
      },
      "source": [
        "cat_cols3 = X3.select_dtypes(include='O').columns.values\n",
        "cat_cols3"
      ],
      "execution_count": null,
      "outputs": [
        {
          "output_type": "execute_result",
          "data": {
            "text/plain": [
              "array(['Month', 'DayofMonth', 'DayOfWeek', 'UniqueCarrier', 'Origin',\n",
              "       'Dest', 'Route', 'DayofYear', 'UnCar_Orig'], dtype=object)"
            ]
          },
          "metadata": {
            "tags": []
          },
          "execution_count": 183
        }
      ]
    },
    {
      "cell_type": "code",
      "metadata": {
        "id": "yxDsNIZrIWPk"
      },
      "source": [
        "cat_cols32 = X32.select_dtypes(include='O').columns.values\n",
        "cat_cols33 = X33.select_dtypes(include='O').columns.values\n",
        "cat_cols34 = X34.select_dtypes(include='O').columns.values"
      ],
      "execution_count": null,
      "outputs": []
    },
    {
      "cell_type": "code",
      "metadata": {
        "colab": {
          "base_uri": "https://localhost:8080/"
        },
        "id": "phHDHUSUIwbN",
        "outputId": "057653fa-586d-4a6d-c84d-4d25a00a300f"
      },
      "source": [
        "%%time\n",
        "def train_cat_boost_with_valid(X_tr, y_tr, X_val, y_val, cat_feat):\n",
        "  model = CatBoostClassifier(custom_loss='AUC', use_best_model=True, random_seed=0)\n",
        "\n",
        "  model.fit(\n",
        "    X_tr, y_tr,\n",
        "    cat_features=cat_feat, \n",
        "    eval_set=(X_val, y_val), \n",
        "    logging_level='Silent')\n",
        "\n",
        "  score = model.best_score_['validation']\n",
        "  return model, score\n",
        "\n",
        "model3, score3 = train_cat_boost_with_valid(X3_train, y3_train, X3_valid, y3_valid, cat_cols3)\n",
        "model32, score32 = train_cat_boost_with_valid(X32_train, y32_train, X32_valid, y32_valid, cat_cols32)\n",
        "model33, score33 = train_cat_boost_with_valid(X33_train, y33_train, X33_valid, y33_valid, cat_cols33)\n",
        "model34, score34 = train_cat_boost_with_valid(X34_train, y34_train, X34_valid, y34_valid, cat_cols34)"
      ],
      "execution_count": null,
      "outputs": [
        {
          "output_type": "stream",
          "text": [
            "CPU times: user 22min 55s, sys: 22.5 s, total: 23min 18s\n",
            "Wall time: 12min 2s\n"
          ],
          "name": "stdout"
        }
      ]
    },
    {
      "cell_type": "code",
      "metadata": {
        "colab": {
          "base_uri": "https://localhost:8080/"
        },
        "id": "EbYZMIIWJp5S",
        "outputId": "feb4f437-b4d2-4383-ef46-05ea83e38902"
      },
      "source": [
        "print('Score of Model3 :', score3)\n",
        "print('Score of Model32:', score32)\n",
        "print('Score of Model33:', score33)\n",
        "print('Score of Model34:', score34)"
      ],
      "execution_count": null,
      "outputs": [
        {
          "output_type": "stream",
          "text": [
            "Score of Model3: {'Logloss': 0.40423375237172915, 'AUC': 0.7711218694404569}\n",
            "Score of Model32: {'Logloss': 0.39864826142635484, 'AUC': 0.7826523865401996}\n",
            "Score of Model33: {'Logloss': 0.40611705326944614, 'AUC': 0.7667204856876376}\n",
            "Score of Model34: {'Logloss': 0.4021839174690759, 'AUC': 0.7767260647923353}\n"
          ],
          "name": "stdout"
        }
      ]
    },
    {
      "cell_type": "code",
      "metadata": {
        "colab": {
          "base_uri": "https://localhost:8080/"
        },
        "id": "TQFJm0FIIm9c",
        "outputId": "fceeb490-dfb8-4e07-9a77-dacd72cb0a72"
      },
      "source": [
        "%%time\n",
        "# Обучим модель 3.2 на всей выборке\n",
        "model322 = CatBoostClassifier(custom_loss='AUC', random_seed=0) \n",
        "\n",
        "model322.fit(\n",
        "  X32, y32,\n",
        "  cat_features=cat_cols32, \n",
        "  logging_level='Silent')\n",
        "\n",
        "pd.Series(model322.predict_proba(test32)[:, 1], name=\"dep_delayed_15min\").to_csv(\n",
        "    \"xgb322_stand_algo.csv\", index_label=\"id\", header=True)"
      ],
      "execution_count": null,
      "outputs": [
        {
          "output_type": "stream",
          "text": [
            "CPU times: user 8min, sys: 6.07 s, total: 8min 6s\n",
            "Wall time: 4min 10s\n"
          ],
          "name": "stdout"
        }
      ]
    },
    {
      "cell_type": "markdown",
      "metadata": {
        "id": "KM_KYXy-Ooir"
      },
      "source": [
        "**Результат Kaggle:**\n",
        "\n",
        "**auc_roc - 0.73295**\n",
        "\n",
        "*чуть лучше одиночной модели CatBoost (0.73285)*"
      ]
    },
    {
      "cell_type": "code",
      "metadata": {
        "colab": {
          "base_uri": "https://localhost:8080/"
        },
        "id": "wdi0QXBtJXgb",
        "outputId": "0754c9bc-2a16-420c-8596-977aa56c5930"
      },
      "source": [
        "%%time\n",
        "# Обучим модель 3 на всей выборке\n",
        "model312 = CatBoostClassifier(custom_loss='AUC', random_seed=0) \n",
        "\n",
        "model312.fit(\n",
        "  X3, y3,\n",
        "  cat_features=cat_cols3, \n",
        "  logging_level='Silent')\n",
        "\n",
        "pd.Series(model312.predict_proba(test3)[:, 1], name=\"dep_delayed_15min\").to_csv(\n",
        "    \"xgb312_stand_algo.csv\", index_label=\"id\", header=True)"
      ],
      "execution_count": null,
      "outputs": [
        {
          "output_type": "stream",
          "text": [
            "CPU times: user 5min 58s, sys: 5.83 s, total: 6min 4s\n",
            "Wall time: 3min 7s\n"
          ],
          "name": "stdout"
        }
      ]
    },
    {
      "cell_type": "markdown",
      "metadata": {
        "id": "18XFc5DLX569"
      },
      "source": [
        "**Результат Kaggle: model 312**\n",
        "\n",
        "**auc_roc - 0.73485**\n",
        "\n",
        "**место - 24 / 211 (11.4%)**"
      ]
    },
    {
      "cell_type": "code",
      "metadata": {
        "colab": {
          "base_uri": "https://localhost:8080/"
        },
        "id": "P8WE6w10Oi7z",
        "outputId": "44176963-7a9d-4877-a861-95409da0e4f0"
      },
      "source": [
        "%%time\n",
        "# Обучим модель 3.3 на всей выборке\n",
        "model332 = CatBoostClassifier(custom_loss='AUC', random_seed=0) \n",
        "\n",
        "model332.fit(\n",
        "  X33, y33,\n",
        "  cat_features=cat_cols33, \n",
        "  logging_level='Silent')\n",
        "\n",
        "pd.Series(model332.predict_proba(test33)[:, 1], name=\"dep_delayed_15min\").to_csv(\n",
        "    \"xgb332_stand_algo.csv\", index_label=\"id\", header=True)"
      ],
      "execution_count": null,
      "outputs": [
        {
          "output_type": "stream",
          "text": [
            "CPU times: user 4min 44s, sys: 4.56 s, total: 4min 49s\n",
            "Wall time: 2min 29s\n"
          ],
          "name": "stdout"
        }
      ]
    },
    {
      "cell_type": "code",
      "metadata": {
        "colab": {
          "base_uri": "https://localhost:8080/"
        },
        "id": "NEnn6FDfOjRD",
        "outputId": "ea40c419-9b1a-4091-9d88-1e72f33cf5f9"
      },
      "source": [
        "%%time\n",
        "# Обучим модель 3.4 на всей выборке\n",
        "model342 = CatBoostClassifier(custom_loss='AUC', random_seed=0) \n",
        "\n",
        "model342.fit(\n",
        "  X34, y34,\n",
        "  cat_features=cat_cols34, \n",
        "  logging_level='Silent')\n",
        "\n",
        "pd.Series(model342.predict_proba(test34)[:, 1], name=\"dep_delayed_15min\").to_csv(\n",
        "    \"xgb342_stand_algo.csv\", index_label=\"id\", header=True)"
      ],
      "execution_count": null,
      "outputs": [
        {
          "output_type": "stream",
          "text": [
            "CPU times: user 6min 23s, sys: 5.9 s, total: 6min 29s\n",
            "Wall time: 3min 20s\n"
          ],
          "name": "stdout"
        }
      ]
    },
    {
      "cell_type": "markdown",
      "metadata": {
        "id": "W3I8PpC6T8lu"
      },
      "source": [
        "**Результат Kaggle:**\n",
        "\n",
        "**model 312: auc_roc - 0.73485**\n",
        "\n",
        "**model 322: auc_roc - 0.73295**\n",
        "\n",
        "**model 332: auc_roc - 0.72995**\n",
        "\n",
        "**model 342: auc_roc - 0.73104**"
      ]
    },
    {
      "cell_type": "markdown",
      "metadata": {
        "id": "NEIG2TwVYkXF"
      },
      "source": [
        "Добавим к модели312 XGBoost"
      ]
    },
    {
      "cell_type": "code",
      "metadata": {
        "colab": {
          "base_uri": "https://localhost:8080/",
          "height": 282
        },
        "id": "oK_zDh3IRNyS",
        "outputId": "04d63edd-feba-44fe-a3e9-a741ea08b795"
      },
      "source": [
        "ww = np.linspace(0, 1, 21)\n",
        "scores = []\n",
        "for wi in ww:\n",
        "  prob = wi * model3.predict_proba(X3_valid)[:, 1] + (1-wi) * xgb1_predict_pr_valid\n",
        "  scores.append(roc_auc_score(y1_valid, prob))\n",
        "plt.plot(ww, scores)\n",
        "w1 = ww[np.argmax(scores)]\n",
        "print('w1 =', w1)"
      ],
      "execution_count": null,
      "outputs": [
        {
          "output_type": "stream",
          "text": [
            "w1 = 0.8500000000000001\n"
          ],
          "name": "stdout"
        },
        {
          "output_type": "display_data",
          "data": {
            "image/png": "[encoded data removed]",
            "text/plain": [
              "<Figure size 432x288 with 1 Axes>"
            ]
          },
          "metadata": {
            "tags": [],
            "needs_background": "light"
          }
        }
      ]
    },
    {
      "cell_type": "code",
      "metadata": {
        "id": "t2pT-PsnYsvL"
      },
      "source": [
        "prob35 = w1 * model312.predict_proba(test3)[:, 1] + (1-w1) * xgboost12_predict_pr_test\n",
        "\n",
        "pd.Series(prob35, name=\"dep_delayed_15min\").to_csv(\n",
        "    \"xgb35_stand_algo.csv\", index_label=\"id\", header=True)"
      ],
      "execution_count": null,
      "outputs": []
    },
    {
      "cell_type": "markdown",
      "metadata": {
        "id": "QaY-hKCCZCQd"
      },
      "source": [
        "**Результат Kaggle: model 312 + XGB**\n",
        "\n",
        "**auc_roc - 0.73672**\n",
        "\n",
        "**место - 19 / 211 (9.0%)**"
      ]
    },
    {
      "cell_type": "code",
      "metadata": {
        "colab": {
          "base_uri": "https://localhost:8080/",
          "height": 221
        },
        "id": "l495EynBZkwr",
        "outputId": "20651436-734f-4556-93a2-f645cb40dba2"
      },
      "source": [
        "print('Предобработанные данные для CatBoost')\n",
        "test3.head()"
      ],
      "execution_count": null,
      "outputs": [
        {
          "output_type": "stream",
          "text": [
            "Предобработанные данные для CatBoost\n"
          ],
          "name": "stdout"
        },
        {
          "output_type": "execute_result",
          "data": {
            "text/html": [
              "<div>\n",
              "<style scoped>\n",
              "    .dataframe tbody tr th:only-of-type {\n",
              "        vertical-align: middle;\n",
              "    }\n",
              "\n",
              "    .dataframe tbody tr th {\n",
              "        vertical-align: top;\n",
              "    }\n",
              "\n",
              "    .dataframe thead th {\n",
              "        text-align: right;\n",
              "    }\n",
              "</style>\n",
              "<table border=\"1\" class=\"dataframe\">\n",
              "  <thead>\n",
              "    <tr style=\"text-align: right;\">\n",
              "      <th></th>\n",
              "      <th>Month</th>\n",
              "      <th>DayofMonth</th>\n",
              "      <th>DayOfWeek</th>\n",
              "      <th>DepTime</th>\n",
              "      <th>UniqueCarrier</th>\n",
              "      <th>Origin</th>\n",
              "      <th>Dest</th>\n",
              "      <th>Distance</th>\n",
              "      <th>Route</th>\n",
              "      <th>DayofYear</th>\n",
              "      <th>UnCar_Orig</th>\n",
              "    </tr>\n",
              "  </thead>\n",
              "  <tbody>\n",
              "    <tr>\n",
              "      <th>0</th>\n",
              "      <td>c-7</td>\n",
              "      <td>c-25</td>\n",
              "      <td>c-3</td>\n",
              "      <td>615</td>\n",
              "      <td>YV</td>\n",
              "      <td>MRY</td>\n",
              "      <td>PHX</td>\n",
              "      <td>598</td>\n",
              "      <td>MRY_PHX</td>\n",
              "      <td>c-25_c-7</td>\n",
              "      <td>YV_MRY</td>\n",
              "    </tr>\n",
              "    <tr>\n",
              "      <th>1</th>\n",
              "      <td>c-4</td>\n",
              "      <td>c-17</td>\n",
              "      <td>c-2</td>\n",
              "      <td>739</td>\n",
              "      <td>WN</td>\n",
              "      <td>LAS</td>\n",
              "      <td>HOU</td>\n",
              "      <td>1235</td>\n",
              "      <td>LAS_HOU</td>\n",
              "      <td>c-17_c-4</td>\n",
              "      <td>WN_LAS</td>\n",
              "    </tr>\n",
              "    <tr>\n",
              "      <th>2</th>\n",
              "      <td>c-12</td>\n",
              "      <td>c-2</td>\n",
              "      <td>c-7</td>\n",
              "      <td>651</td>\n",
              "      <td>MQ</td>\n",
              "      <td>GSP</td>\n",
              "      <td>ORD</td>\n",
              "      <td>577</td>\n",
              "      <td>GSP_ORD</td>\n",
              "      <td>c-2_c-12</td>\n",
              "      <td>MQ_GSP</td>\n",
              "    </tr>\n",
              "    <tr>\n",
              "      <th>3</th>\n",
              "      <td>c-3</td>\n",
              "      <td>c-25</td>\n",
              "      <td>c-7</td>\n",
              "      <td>1614</td>\n",
              "      <td>WN</td>\n",
              "      <td>BWI</td>\n",
              "      <td>MHT</td>\n",
              "      <td>377</td>\n",
              "      <td>BWI_MHT</td>\n",
              "      <td>c-25_c-3</td>\n",
              "      <td>WN_BWI</td>\n",
              "    </tr>\n",
              "    <tr>\n",
              "      <th>4</th>\n",
              "      <td>c-6</td>\n",
              "      <td>c-6</td>\n",
              "      <td>c-3</td>\n",
              "      <td>1505</td>\n",
              "      <td>UA</td>\n",
              "      <td>ORD</td>\n",
              "      <td>STL</td>\n",
              "      <td>258</td>\n",
              "      <td>ORD_STL</td>\n",
              "      <td>c-6_c-6</td>\n",
              "      <td>UA_ORD</td>\n",
              "    </tr>\n",
              "  </tbody>\n",
              "</table>\n",
              "</div>"
            ],
            "text/plain": [
              "  Month DayofMonth DayOfWeek  DepTime  ... Distance    Route DayofYear  UnCar_Orig\n",
              "0   c-7       c-25       c-3      615  ...      598  MRY_PHX  c-25_c-7      YV_MRY\n",
              "1   c-4       c-17       c-2      739  ...     1235  LAS_HOU  c-17_c-4      WN_LAS\n",
              "2  c-12        c-2       c-7      651  ...      577  GSP_ORD  c-2_c-12      MQ_GSP\n",
              "3   c-3       c-25       c-7     1614  ...      377  BWI_MHT  c-25_c-3      WN_BWI\n",
              "4   c-6        c-6       c-3     1505  ...      258  ORD_STL   c-6_c-6      UA_ORD\n",
              "\n",
              "[5 rows x 11 columns]"
            ]
          },
          "metadata": {
            "tags": []
          },
          "execution_count": 205
        }
      ]
    },
    {
      "cell_type": "code",
      "metadata": {
        "colab": {
          "base_uri": "https://localhost:8080/",
          "height": 390
        },
        "id": "ltqV-5Iuac6w",
        "outputId": "1429ecf9-fbc0-451d-ad4e-7acbec310333"
      },
      "source": [
        "plt.figure(figsize=(8, 6))\n",
        "plt.scatter(range(len(xgboost12_predict_pr_test)), model312.predict_proba(test3)[:, 1] - xgboost12_predict_pr_test, s=0.1)\n",
        "plt.hlines(0, 0, 100000, colors='r'); plt.grid(); plt.title('Отстояние ответов CatBoost от XGBoost (s = CatB - XGB)');"
      ],
      "execution_count": null,
      "outputs": [
        {
          "output_type": "display_data",
          "data": {
            "image/png": "[encoded data removed]",
            "text/plain": [
              "<Figure size 576x432 with 1 Axes>"
            ]
          },
          "metadata": {
            "tags": [],
            "needs_background": "light"
          }
        }
      ]
    },
    {
      "cell_type": "markdown",
      "metadata": {
        "id": "t6WyJvtzaM2b"
      },
      "source": [
        "## **Итоговая модель**\n",
        "\n",
        "**Test auc_roc - 0.73672. Место - 19 / 211 (Top 9.0%)**"
      ]
    },
    {
      "cell_type": "markdown",
      "metadata": {
        "id": "8lAQRqIBuD5N"
      },
      "source": [
        "\n",
        "1. **X**\n",
        "\n",
        "X.Route = X.Origin_X.Dest<br>\n",
        "\n",
        "2. **X1**\n",
        "\n",
        "X1_cat = OneHotEncoder(X[cat])\n",
        "\n",
        "X1_real = X[real]\n",
        "\n",
        "X1 = Union(X1_cat, X1_real)\n",
        "\n",
        "3. **XGB**\n",
        "\n",
        "$pxgb(X) = XGBoost${\n",
        "  \n",
        " > 'colsample_bytree': 0.55,\n",
        " >\n",
        " > 'eval_metric': 'auc',\n",
        " >\n",
        " > 'gamma': 0.5968542768022584,\n",
        " >\n",
        " > 'lambda': 0.3103222449832985,\n",
        " >\n",
        " > 'learning_rate': 0.044622570465446654,\n",
        ">\n",
        " > 'max_depth': 7,\n",
        ">\n",
        " > 'min_child_weight': 3,\n",
        ">\n",
        " > 'num_round': 30,\n",
        ">\n",
        " > 'objective': 'binary:logistic',\n",
        ">\n",
        " > 'seed': 4,\n",
        ">\n",
        " > 'silent': 1,\n",
        ">\n",
        " > 'subsample': 0.65,\n",
        ">\n",
        " > 'num_round': 1236\n",
        ">\n",
        " }(X)\n",
        "\n",
        "4. **X2**\n",
        "\n",
        "X2 = X\n",
        "\n",
        "X2.Route = X.Route\n",
        "\n",
        "X2.DayofYear = X2.DayofMonth_X2.Month\n",
        "\n",
        "X2.UnCar_Orig = X2.UniqueCarrier'_'X2.Origin\n",
        "\n",
        "5. **CatBoost**\n",
        "\n",
        "$pcatb(X) = CatBoost(X2)$\n",
        "\n",
        "6. **a(x)**\n",
        "\n",
        "$w1 = 0.85$\n",
        "\n",
        "$a(x) = w1∗plogit+(1−w1)∗pcatb$ \n",
        "\n",
        "$a(x) = 0.85∗plogit+0.15∗pcatb$ "
      ]
    }
  ]
}