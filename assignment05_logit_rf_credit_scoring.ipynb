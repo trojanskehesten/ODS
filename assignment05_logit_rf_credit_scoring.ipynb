{
  "nbformat": 4,
  "nbformat_minor": 0,
  "metadata": {
    "anaconda-cloud": {},
    "kernelspec": {
      "display_name": "Python 3",
      "language": "python",
      "name": "python3"
    },
    "language_info": {
      "codemirror_mode": {
        "name": "ipython",
        "version": 3
      },
      "file_extension": ".py",
      "mimetype": "text/x-python",
      "name": "python",
      "nbconvert_exporter": "python",
      "pygments_lexer": "ipython3",
      "version": "3.7.6"
    },
    "colab": {
      "name": "assignment05_logit_rf_credit_scoring.ipynb",
      "provenance": [],
      "collapsed_sections": []
    }
  },
  "cells": [
    {
      "cell_type": "markdown",
      "metadata": {
        "id": "5Pq7mR8xUUMD"
      },
      "source": [
        "## <center> [mlcourse.ai](https://mlcourse.ai) – открытый курс OpenDataScience по машинному обучению \n",
        "    \n",
        "Автор материала: Виталий Радченко, Data scientist @ YouScan (@vradchenko в Slack ODS). Материал распространяется на условиях лицензии [Creative Commons CC BY-NC-SA 4.0](https://creativecommons.org/licenses/by-nc-sa/4.0/). Можно использовать в любых целях (редактировать, поправлять и брать за основу), кроме коммерческих, но с обязательным упоминанием автора материала"
      ]
    },
    {
      "cell_type": "markdown",
      "metadata": {
        "id": "Y3IdzyztUUMK"
      },
      "source": [
        "# <center> Домашнее задание № 5 (Демо).\n",
        "## <center> Логистическая регрессия и случайный лес в задаче кредитного скоринга"
      ]
    },
    {
      "cell_type": "markdown",
      "metadata": {
        "id": "_AE5q3fTUUMM"
      },
      "source": [
        "[Веб-форма](https://docs.google.com/forms/d/1HASy2b_FLBHBCzzpG-TbnbB6gqhB-qwznQxU2vaoSgc/) для ответов.\n",
        "\n",
        "#### Нашей главной задачей будет построение модели для задачи кредитного скоринга.\n",
        "\n",
        "Но для разминки решите первое задание :)\n",
        "\n",
        "**Задание 1.** В зале суда есть 5 присяжных, каждый из них по отдельности с вероятностью 70% может правильно определить, виновен подсудимый или нет. С какой вероятностью они все вместе вынесут правильный вердикт, если решение принимается большинством голосов?\n",
        "- 70.00%\n",
        "- 83.20%\n",
        "- **83.70%**\n",
        "- 87.50%"
      ]
    },
    {
      "cell_type": "markdown",
      "metadata": {
        "id": "1P-oqE9deNl_"
      },
      "source": [
        "$$ \\large \\mu = \\sum_{i=3}^{5}C_5^i0.7^i(1-0.7)^{5-i} $$"
      ]
    },
    {
      "cell_type": "markdown",
      "metadata": {
        "id": "zNZRt199eLKR"
      },
      "source": [
        "\n",
        "Теперь перейдем непосредственно к машинному обучению.\n",
        "\n",
        "#### Данные представлены следующим образом:\n",
        "\n",
        "##### Прогнозируемая  переменная\n",
        "* SeriousDlqin2yrs\t      – Человек не выплатил данный кредит в течение 90 дней; возможные значения  1/0 \n",
        "\n",
        "##### Независимые признаки\n",
        "* age\t                          –  Возраст заёмщика кредитных средств; тип - integer\n",
        "* NumberOfTime30-59DaysPastDueNotWorse\t – Количество раз, когда человек имел просрочку выплаты других кредитов более 30-59 дней, но не больше в течение последних двух лет; тип -\tinteger\n",
        "* DebtRatio  – \tЕжемесячный отчисления на задолжености(кредиты,алименты и т.д.)  / совокупный месячный доход \tpercentage; тип -\treal\n",
        "* MonthlyIncome\t – Месячный доход в долларах; тип -\treal\n",
        "* NumberOfTimes90DaysLate  – Количество раз, когда человек имел просрочку выплаты других кредитов более 90 дней; тип -\tinteger\n",
        "* NumberOfTime60-89DaysPastDueNotWorse – \tКоличество раз, когда человек имел просрочку выплаты других кредитов более 60-89 дней, но не больше в течение последних двух лет; тип -\tinteger\n",
        "* NumberOfDependents  – Число человек в семье кредитозаёмщика; тип -\tinteger"
      ]
    },
    {
      "cell_type": "code",
      "metadata": {
        "collapsed": true,
        "id": "lUyAIfxYUUMO"
      },
      "source": [
        "%matplotlib inline\n",
        "# отключим предупреждения Anaconda\n",
        "import warnings\n",
        "\n",
        "import matplotlib.pyplot as plt\n",
        "import seaborn as sns\n",
        "\n",
        "warnings.filterwarnings(\"ignore\")\n",
        "import numpy as np\n",
        "import pandas as pd"
      ],
      "execution_count": 1,
      "outputs": []
    },
    {
      "cell_type": "code",
      "metadata": {
        "collapsed": true,
        "id": "S0c6wIVuUUMQ"
      },
      "source": [
        "## Сделаем функцию, которая будет заменять NaN значения на медиану в каждом столбце таблицы\n",
        "def delete_nan(table):\n",
        "    for col in table.columns:\n",
        "        table[col] = table[col].fillna(table[col].median())\n",
        "    return table"
      ],
      "execution_count": 2,
      "outputs": []
    },
    {
      "cell_type": "code",
      "metadata": {
        "colab": {
          "base_uri": "https://localhost:8080/",
          "height": 241
        },
        "id": "0LjqE5K8UUMQ",
        "outputId": "15f0df93-ccf3-44ef-c642-ef94c1891385"
      },
      "source": [
        "## Считываем данные\n",
        "data = pd.read_csv(\"data/credit_scoring_sample.csv\", sep=\";\")\n",
        "data.head()"
      ],
      "execution_count": 3,
      "outputs": [
        {
          "output_type": "execute_result",
          "data": {
            "text/html": [
              "<div>\n",
              "<style scoped>\n",
              "    .dataframe tbody tr th:only-of-type {\n",
              "        vertical-align: middle;\n",
              "    }\n",
              "\n",
              "    .dataframe tbody tr th {\n",
              "        vertical-align: top;\n",
              "    }\n",
              "\n",
              "    .dataframe thead th {\n",
              "        text-align: right;\n",
              "    }\n",
              "</style>\n",
              "<table border=\"1\" class=\"dataframe\">\n",
              "  <thead>\n",
              "    <tr style=\"text-align: right;\">\n",
              "      <th></th>\n",
              "      <th>SeriousDlqin2yrs</th>\n",
              "      <th>age</th>\n",
              "      <th>NumberOfTime30-59DaysPastDueNotWorse</th>\n",
              "      <th>DebtRatio</th>\n",
              "      <th>NumberOfTimes90DaysLate</th>\n",
              "      <th>NumberOfTime60-89DaysPastDueNotWorse</th>\n",
              "      <th>MonthlyIncome</th>\n",
              "      <th>NumberOfDependents</th>\n",
              "    </tr>\n",
              "  </thead>\n",
              "  <tbody>\n",
              "    <tr>\n",
              "      <th>0</th>\n",
              "      <td>0</td>\n",
              "      <td>64</td>\n",
              "      <td>0</td>\n",
              "      <td>0.249908</td>\n",
              "      <td>0</td>\n",
              "      <td>0</td>\n",
              "      <td>8158.0</td>\n",
              "      <td>0.0</td>\n",
              "    </tr>\n",
              "    <tr>\n",
              "      <th>1</th>\n",
              "      <td>0</td>\n",
              "      <td>58</td>\n",
              "      <td>0</td>\n",
              "      <td>3870.000000</td>\n",
              "      <td>0</td>\n",
              "      <td>0</td>\n",
              "      <td>NaN</td>\n",
              "      <td>0.0</td>\n",
              "    </tr>\n",
              "    <tr>\n",
              "      <th>2</th>\n",
              "      <td>0</td>\n",
              "      <td>41</td>\n",
              "      <td>0</td>\n",
              "      <td>0.456127</td>\n",
              "      <td>0</td>\n",
              "      <td>0</td>\n",
              "      <td>6666.0</td>\n",
              "      <td>0.0</td>\n",
              "    </tr>\n",
              "    <tr>\n",
              "      <th>3</th>\n",
              "      <td>0</td>\n",
              "      <td>43</td>\n",
              "      <td>0</td>\n",
              "      <td>0.000190</td>\n",
              "      <td>0</td>\n",
              "      <td>0</td>\n",
              "      <td>10500.0</td>\n",
              "      <td>2.0</td>\n",
              "    </tr>\n",
              "    <tr>\n",
              "      <th>4</th>\n",
              "      <td>1</td>\n",
              "      <td>49</td>\n",
              "      <td>0</td>\n",
              "      <td>0.271820</td>\n",
              "      <td>0</td>\n",
              "      <td>0</td>\n",
              "      <td>400.0</td>\n",
              "      <td>0.0</td>\n",
              "    </tr>\n",
              "  </tbody>\n",
              "</table>\n",
              "</div>"
            ],
            "text/plain": [
              "   SeriousDlqin2yrs  age  ...  MonthlyIncome  NumberOfDependents\n",
              "0                 0   64  ...         8158.0                 0.0\n",
              "1                 0   58  ...            NaN                 0.0\n",
              "2                 0   41  ...         6666.0                 0.0\n",
              "3                 0   43  ...        10500.0                 2.0\n",
              "4                 1   49  ...          400.0                 0.0\n",
              "\n",
              "[5 rows x 8 columns]"
            ]
          },
          "metadata": {
            "tags": []
          },
          "execution_count": 3
        }
      ]
    },
    {
      "cell_type": "code",
      "metadata": {
        "colab": {
          "base_uri": "https://localhost:8080/"
        },
        "id": "6TQMZZ94UUMS",
        "outputId": "32a2a1e0-48ca-49be-8c1c-fe68b0110a2f"
      },
      "source": [
        "## Рассмотрим типы считанных данных\n",
        "data.dtypes"
      ],
      "execution_count": 4,
      "outputs": [
        {
          "output_type": "execute_result",
          "data": {
            "text/plain": [
              "SeriousDlqin2yrs                          int64\n",
              "age                                       int64\n",
              "NumberOfTime30-59DaysPastDueNotWorse      int64\n",
              "DebtRatio                               float64\n",
              "NumberOfTimes90DaysLate                   int64\n",
              "NumberOfTime60-89DaysPastDueNotWorse      int64\n",
              "MonthlyIncome                           float64\n",
              "NumberOfDependents                      float64\n",
              "dtype: object"
            ]
          },
          "metadata": {
            "tags": []
          },
          "execution_count": 4
        }
      ]
    },
    {
      "cell_type": "code",
      "metadata": {
        "colab": {
          "base_uri": "https://localhost:8080/",
          "height": 364
        },
        "id": "LpFfLkaIUUMT",
        "outputId": "38369634-a08a-4177-a403-a96fd161afa2"
      },
      "source": [
        "## Посмотрим на распределение классов в зависимой переменной\n",
        "\n",
        "ax = data[\"SeriousDlqin2yrs\"].hist(orientation=\"horizontal\", color=\"red\")\n",
        "ax.set_xlabel(\"number_of_observations\")\n",
        "ax.set_ylabel(\"unique_value\")\n",
        "ax.set_title(\"Target distribution\")\n",
        "\n",
        "print(\"Distribution of target\")\n",
        "data[\"SeriousDlqin2yrs\"].value_counts() / data.shape[0]"
      ],
      "execution_count": 5,
      "outputs": [
        {
          "output_type": "stream",
          "text": [
            "Distribution of target\n"
          ],
          "name": "stdout"
        },
        {
          "output_type": "execute_result",
          "data": {
            "text/plain": [
              "0    0.777511\n",
              "1    0.222489\n",
              "Name: SeriousDlqin2yrs, dtype: float64"
            ]
          },
          "metadata": {
            "tags": []
          },
          "execution_count": 5
        },
        {
          "output_type": "display_data",
          "data": {
            "image/png": "[encoded data removed]",
            "text/plain": [
              "<Figure size 432x288 with 1 Axes>"
            ]
          },
          "metadata": {
            "tags": [],
            "needs_background": "light"
          }
        }
      ]
    },
    {
      "cell_type": "code",
      "metadata": {
        "colab": {
          "base_uri": "https://localhost:8080/"
        },
        "id": "-Crn6u4bUUMU",
        "outputId": "fea7d8b0-7839-43e6-a32c-f09603faa691"
      },
      "source": [
        "## Выберем названия всех признаков из таблицы, кроме прогнозируемого\n",
        "\n",
        "independent_columns_names = data.columns.values\n",
        "independent_columns_names = [x for x in data if x != \"SeriousDlqin2yrs\"]\n",
        "independent_columns_names"
      ],
      "execution_count": 6,
      "outputs": [
        {
          "output_type": "execute_result",
          "data": {
            "text/plain": [
              "['age',\n",
              " 'NumberOfTime30-59DaysPastDueNotWorse',\n",
              " 'DebtRatio',\n",
              " 'NumberOfTimes90DaysLate',\n",
              " 'NumberOfTime60-89DaysPastDueNotWorse',\n",
              " 'MonthlyIncome',\n",
              " 'NumberOfDependents']"
            ]
          },
          "metadata": {
            "tags": []
          },
          "execution_count": 6
        }
      ]
    },
    {
      "cell_type": "code",
      "metadata": {
        "collapsed": true,
        "id": "iKtLLExeUUMV"
      },
      "source": [
        "## Применяем функцию, заменяющую все NaN значения на медианное значение соответствующего столбца\n",
        "table = delete_nan(data)"
      ],
      "execution_count": 7,
      "outputs": []
    },
    {
      "cell_type": "code",
      "metadata": {
        "collapsed": true,
        "id": "RmPyMFEjUUMW"
      },
      "source": [
        "## Разделяем таргет и признаки\n",
        "X = table[independent_columns_names]\n",
        "y = table[\"SeriousDlqin2yrs\"]"
      ],
      "execution_count": 8,
      "outputs": []
    },
    {
      "cell_type": "markdown",
      "metadata": {
        "id": "7lzftO1nUUMX"
      },
      "source": [
        "# Бутстрэп"
      ]
    },
    {
      "cell_type": "markdown",
      "metadata": {
        "id": "ebaEH4wTUUMa"
      },
      "source": [
        "**Задание 2.** Сделайте интервальную оценку среднего возраста (age) для клиентов, которые просрочили выплату кредита, с 90% \"уверенностью\". Используйте пример из статьи, поставьте `np.random.seed(0)`, как это сделано в статье."
      ]
    },
    {
      "cell_type": "code",
      "metadata": {
        "colab": {
          "base_uri": "https://localhost:8080/"
        },
        "id": "MInNeg0zg0NL",
        "outputId": "91b5253f-8ed9-471e-ba9e-5e562c3af2b0"
      },
      "source": [
        "### Ваш код должен быть здесь ###\n",
        "age_payment_expired = data[data['SeriousDlqin2yrs']==1]['age'].values\n",
        "age_payment_expired[:5]"
      ],
      "execution_count": 9,
      "outputs": [
        {
          "output_type": "execute_result",
          "data": {
            "text/plain": [
              "array([49, 31, 37, 53, 39])"
            ]
          },
          "metadata": {
            "tags": []
          },
          "execution_count": 9
        }
      ]
    },
    {
      "cell_type": "code",
      "metadata": {
        "collapsed": true,
        "colab": {
          "base_uri": "https://localhost:8080/"
        },
        "id": "B-Q_xHEBUUMa",
        "outputId": "431587b2-b979-406b-a481-a4cdb4c5410b"
      },
      "source": [
        "### Ваш код должен быть здесь ###\n",
        "def get_bootstrap_samples(data, n_samples):\n",
        "    # функция для генерации подвыборок с помощью бутстрэпа\n",
        "    indices = np.random.randint(0, len(data), (n_samples, len(data)))\n",
        "    samples = data[indices]\n",
        "    return samples\n",
        "\n",
        "def stat_intervals(stat, alpha=0.05):\n",
        "    # функция для интервальной оценки\n",
        "    boundaries = np.percentile(stat, [100 * alpha / 2., 100 * (1 - alpha / 2.)])\n",
        "    return boundaries\n",
        "\n",
        "#  выводим интервальную оценку среднего\n",
        "np.random.seed(0)\n",
        "age_payment_expired_mean_scores = [np.mean(sample) for sample in get_bootstrap_samples(age_payment_expired, 1000)]\n",
        "print(\"Service calls from loyal:  mean interval\",  stat_intervals(age_payment_expired_mean_scores, 0.1))"
      ],
      "execution_count": 10,
      "outputs": [
        {
          "output_type": "stream",
          "text": [
            "Service calls from loyal:  mean interval [45.71379414 46.12700479]\n"
          ],
          "name": "stdout"
        }
      ]
    },
    {
      "cell_type": "markdown",
      "metadata": {
        "id": "vs5LlgQXUUMa"
      },
      "source": [
        "## Подбор параметров для модели логистической регрессии "
      ]
    },
    {
      "cell_type": "markdown",
      "metadata": {
        "id": "DVjV7FmwUUMa"
      },
      "source": [
        "#### Одной из важных метрик качества модели является значение площади под ROC-кривой. Значение ROC-AUC лежит от 0  до 1.   Чем ближе начение метрики ROC-AUC к 1, тем качественнее происходит классификация моделью."
      ]
    },
    {
      "cell_type": "code",
      "metadata": {
        "collapsed": true,
        "id": "S3n53T7UUUMb"
      },
      "source": [
        "from sklearn.linear_model import LogisticRegression\n",
        "from sklearn.model_selection import GridSearchCV, StratifiedKFold\n",
        "\n",
        "## Используем модуль LogisticRegression для построения логистической регрессии.\n",
        "## Из-за несбалансированности классов  в таргете добавляем параметр балансировки.\n",
        "## Используем также параметр random_state=5 для воспроизводимости результатов\n",
        "lr = LogisticRegression(random_state=5, class_weight=\"balanced\", solver='liblinear')\n",
        "\n",
        "## Попробуем подобрать лучший коэффициент регуляризации (коэффициент C в логистической регрессии) для модели лог.регрессии.\n",
        "## Этот параметр необходим для того, чтобы подобрать оптимальную модель, которая не будет переобучена, с одной стороны,\n",
        "## и будет хорошо предсказывать значения таргета, с другой.\n",
        "## Остальные параметры оставляем по умолчанию.\n",
        "parameters = {\"C\": (0.0001, 0.001, 0.01, 0.1, 1, 10)}\n",
        "\n",
        "## Для того, чтобы подобрать коэффициент регуляризации, попробуем для каждого его возможного значения посмотреть\n",
        "## значения roc-auc на стрэтифайд кросс-валидации из 5 фолдов с помощью функции StratifiedKFold\n",
        "\n",
        "skf = StratifiedKFold(n_splits=5, shuffle=True, random_state=5)"
      ],
      "execution_count": 11,
      "outputs": []
    },
    {
      "cell_type": "markdown",
      "metadata": {
        "id": "RoIkGsTSUUMb"
      },
      "source": [
        "**Задание 3.**\n",
        "Сделайте GridSearch с метрикой \"roc-auc\" по параметру C. Какое оптимальное значение параметра С?"
      ]
    },
    {
      "cell_type": "code",
      "metadata": {
        "collapsed": true,
        "colab": {
          "base_uri": "https://localhost:8080/"
        },
        "id": "MuFoOITJUUMb",
        "outputId": "39ba5e9a-c35c-4ffa-9a38-e908ccb3ba96"
      },
      "source": [
        "### Ваш код должен быть здесь ###\n",
        "optimizer = GridSearchCV(lr, parameters, scoring='roc_auc', n_jobs=-1, cv=skf)\n",
        "optimizer.fit(X, y)"
      ],
      "execution_count": 12,
      "outputs": [
        {
          "output_type": "execute_result",
          "data": {
            "text/plain": [
              "GridSearchCV(cv=StratifiedKFold(n_splits=5, random_state=5, shuffle=True),\n",
              "             error_score=nan,\n",
              "             estimator=LogisticRegression(C=1.0, class_weight='balanced',\n",
              "                                          dual=False, fit_intercept=True,\n",
              "                                          intercept_scaling=1, l1_ratio=None,\n",
              "                                          max_iter=100, multi_class='auto',\n",
              "                                          n_jobs=None, penalty='l2',\n",
              "                                          random_state=5, solver='liblinear',\n",
              "                                          tol=0.0001, verbose=0,\n",
              "                                          warm_start=False),\n",
              "             iid='deprecated', n_jobs=-1,\n",
              "             param_grid={'C': (0.0001, 0.001, 0.01, 0.1, 1, 10)},\n",
              "             pre_dispatch='2*n_jobs', refit=True, return_train_score=False,\n",
              "             scoring='roc_auc', verbose=0)"
            ]
          },
          "metadata": {
            "tags": []
          },
          "execution_count": 12
        }
      ]
    },
    {
      "cell_type": "code",
      "metadata": {
        "colab": {
          "base_uri": "https://localhost:8080/"
        },
        "id": "TBmvUyPOfeqW",
        "outputId": "6c4c616c-cc4b-48a4-a8ac-ea38f30db025"
      },
      "source": [
        "optimizer.best_estimator_"
      ],
      "execution_count": 13,
      "outputs": [
        {
          "output_type": "execute_result",
          "data": {
            "text/plain": [
              "LogisticRegression(C=0.001, class_weight='balanced', dual=False,\n",
              "                   fit_intercept=True, intercept_scaling=1, l1_ratio=None,\n",
              "                   max_iter=100, multi_class='auto', n_jobs=None, penalty='l2',\n",
              "                   random_state=5, solver='liblinear', tol=0.0001, verbose=0,\n",
              "                   warm_start=False)"
            ]
          },
          "metadata": {
            "tags": []
          },
          "execution_count": 13
        }
      ]
    },
    {
      "cell_type": "code",
      "metadata": {
        "colab": {
          "base_uri": "https://localhost:8080/"
        },
        "id": "nJwY44RdCZKV",
        "outputId": "c430922a-68dc-452a-cf46-fd238bcacfeb"
      },
      "source": [
        "optimizer.best_params_"
      ],
      "execution_count": 14,
      "outputs": [
        {
          "output_type": "execute_result",
          "data": {
            "text/plain": [
              "{'C': 0.001}"
            ]
          },
          "metadata": {
            "tags": []
          },
          "execution_count": 14
        }
      ]
    },
    {
      "cell_type": "markdown",
      "metadata": {
        "id": "bNUicKrrUUMb"
      },
      "source": [
        "**Задание 4.** \n",
        "Можно ли считать лучшую модель устойчивой? (модель считаем устойчивой, если стандартное отклонение на валидации меньше 0.5%) Сохраните точность лучшей модели, она вам приходится для следующих заданий"
      ]
    },
    {
      "cell_type": "code",
      "metadata": {
        "collapsed": true,
        "scrolled": true,
        "colab": {
          "base_uri": "https://localhost:8080/"
        },
        "id": "bmx-udhiUUMc",
        "outputId": "aa2d5277-4f99-4ef5-f377-e78f48d22dae"
      },
      "source": [
        "### Ваш код должен быть здесь ###\n",
        "means = optimizer.cv_results_['mean_test_score']\n",
        "stds = optimizer.cv_results_['std_test_score']\n",
        "means, stds"
      ],
      "execution_count": 15,
      "outputs": [
        {
          "output_type": "execute_result",
          "data": {
            "text/plain": [
              "(array([0.79045271, 0.79597178, 0.79065428, 0.78858322, 0.7882983 ,\n",
              "        0.78863535]),\n",
              " array([0.00564823, 0.0043887 , 0.00335223, 0.00324305, 0.00313855,\n",
              "        0.00292692]))"
            ]
          },
          "metadata": {
            "tags": []
          },
          "execution_count": 15
        }
      ]
    },
    {
      "cell_type": "code",
      "metadata": {
        "colab": {
          "base_uri": "https://localhost:8080/"
        },
        "id": "TtQPBserF0Cl",
        "outputId": "6b60ecba-653b-41ac-c234-4a05afa78f44"
      },
      "source": [
        "best_score1 = optimizer.best_score_\n",
        "best_score1"
      ],
      "execution_count": 16,
      "outputs": [
        {
          "output_type": "execute_result",
          "data": {
            "text/plain": [
              "0.7959717796752718"
            ]
          },
          "metadata": {
            "tags": []
          },
          "execution_count": 16
        }
      ]
    },
    {
      "cell_type": "code",
      "metadata": {
        "colab": {
          "base_uri": "https://localhost:8080/"
        },
        "id": "mjVQUFbWjZT9",
        "outputId": "44ec182a-e20b-421a-f550-0fa8355b1dbe"
      },
      "source": [
        "stds[np.where(means==best_score1)[0]] / best_score1 * 100"
      ],
      "execution_count": 17,
      "outputs": [
        {
          "output_type": "execute_result",
          "data": {
            "text/plain": [
              "array([0.55136423])"
            ]
          },
          "metadata": {
            "tags": []
          },
          "execution_count": 17
        }
      ]
    },
    {
      "cell_type": "markdown",
      "metadata": {
        "id": "X_anAZoFUUMc"
      },
      "source": [
        "## Определение влияния признаков"
      ]
    },
    {
      "cell_type": "markdown",
      "metadata": {
        "id": "bja94uEXUUMc"
      },
      "source": [
        "**Задание 5.**\n",
        "Определите самый важный признак. Важность признака определяется абсолютным значением его коэффициента. Так же нужно нормализировать все признаки, что бы можно их было корректно сравнить."
      ]
    },
    {
      "cell_type": "code",
      "metadata": {
        "id": "zdWXmJdTIbcE"
      },
      "source": [
        "from sklearn.preprocessing import StandardScaler\n",
        "scaler = StandardScaler()\n",
        "scaled_X = scaler.fit_transform(X)"
      ],
      "execution_count": 18,
      "outputs": []
    },
    {
      "cell_type": "code",
      "metadata": {
        "colab": {
          "base_uri": "https://localhost:8080/"
        },
        "id": "hxhF-dWpKdQ_",
        "outputId": "37eff5f1-2be9-4818-8493-2f9aa543824b"
      },
      "source": [
        "len(independent_columns_names)"
      ],
      "execution_count": 19,
      "outputs": [
        {
          "output_type": "execute_result",
          "data": {
            "text/plain": [
              "7"
            ]
          },
          "metadata": {
            "tags": []
          },
          "execution_count": 19
        }
      ]
    },
    {
      "cell_type": "code",
      "metadata": {
        "colab": {
          "base_uri": "https://localhost:8080/",
          "height": 407
        },
        "id": "c7LI2b3xJgRO",
        "outputId": "aaac8712-8899-413c-dc9f-f7a1328fe4d9"
      },
      "source": [
        "def visualize_coefficients(classifier, feature_names, n_top_features=25):\n",
        "  # get coefficients with large absolute values\n",
        "  coef = classifier.coef_.ravel()\n",
        "  positive_coefficients = np.argsort(coef)[-n_top_features:]\n",
        "  negative_coefficients = np.argsort(coef)[:n_top_features]\n",
        "  interesting_coefficients = np.hstack([negative_coefficients, positive_coefficients])\n",
        "  # plot them\n",
        "  plt.figure(figsize=(15, 5))\n",
        "  x = np.arange(2 * n_top_features)\n",
        "  y = coef[interesting_coefficients]\n",
        "  colors = [\"red\" if c < 0 else \"blue\" for c in y]\n",
        "  plt.bar(x, y, color=colors)\n",
        "  feature_names = np.array(feature_names)\n",
        "  plt.xticks(\n",
        "    x,\n",
        "    feature_names[interesting_coefficients],\n",
        "    rotation=30,\n",
        "    ha=\"right\",\n",
        "  )\n",
        "  y = np.round(y, 3) \n",
        "  for i, v in enumerate(y[:int(len(y)/2)]):\n",
        "    plt.text(i-0.1, -0.04, str(v), color='black', fontweight='bold')\n",
        "  for j, v in enumerate(y[int(len(y)/2):]):\n",
        "    plt.text(i+j+0.9, 0.02, str(v), color='white', fontweight='bold')\n",
        "\n",
        "lr = LogisticRegression(C=0.001, random_state=5, class_weight='balanced')\n",
        "lr.fit(scaled_X, y)\n",
        "visualize_coefficients(lr, independent_columns_names, 3)"
      ],
      "execution_count": 20,
      "outputs": [
        {
          "output_type": "display_data",
          "data": {
            "image/png": "[encoded data removed]",
            "text/plain": [
              "<Figure size 1080x360 with 1 Axes>"
            ]
          },
          "metadata": {
            "tags": [],
            "needs_background": "light"
          }
        }
      ]
    },
    {
      "cell_type": "code",
      "metadata": {
        "colab": {
          "base_uri": "https://localhost:8080/"
        },
        "id": "_ElhCzKyKvY3",
        "outputId": "12fd50e3-4f79-4312-afc3-f15a90137d7d"
      },
      "source": [
        "idx = np.abs(lr.coef_.ravel()) == np.abs(lr.coef_.ravel()).max()\n",
        "np.array(independent_columns_names)[idx]"
      ],
      "execution_count": 21,
      "outputs": [
        {
          "output_type": "execute_result",
          "data": {
            "text/plain": [
              "array(['NumberOfTime30-59DaysPastDueNotWorse'], dtype='<U36')"
            ]
          },
          "metadata": {
            "tags": []
          },
          "execution_count": 21
        }
      ]
    },
    {
      "cell_type": "markdown",
      "metadata": {
        "id": "eCPpQ9m2UUMd"
      },
      "source": [
        "**Задание 6.** Посчитайте долю влияния DebtRatio на предсказание. (Воспользуйтесь функцией [softmax](https://en.wikipedia.org/wiki/Softmax_function))"
      ]
    },
    {
      "cell_type": "code",
      "metadata": {
        "colab": {
          "base_uri": "https://localhost:8080/"
        },
        "id": "HP-1SBtLR0Hr",
        "outputId": "005a53d6-2c4f-4cb8-b9d4-ce1082a7f83f"
      },
      "source": [
        "lr.coef_.ravel()"
      ],
      "execution_count": 22,
      "outputs": [
        {
          "output_type": "execute_result",
          "data": {
            "text/plain": [
              "array([-0.41670229,  0.72342698, -0.02409605,  0.51678764,  0.19355764,\n",
              "       -0.16314632,  0.1014432 ])"
            ]
          },
          "metadata": {
            "tags": []
          },
          "execution_count": 22
        }
      ]
    },
    {
      "cell_type": "code",
      "metadata": {
        "collapsed": true,
        "colab": {
          "base_uri": "https://localhost:8080/"
        },
        "id": "HSmnNVtRUUMd",
        "outputId": "06f53232-a025-4068-b7f2-8af952a9fd4a"
      },
      "source": [
        "### Ваш код должен быть здесь ###\n",
        "from scipy.special import softmax\n",
        "\n",
        "idx = np.array(independent_columns_names) == 'DebtRatio'\n",
        "softmax(lr.coef_.ravel()), softmax(lr.coef_.ravel())[idx]"
      ],
      "execution_count": 23,
      "outputs": [
        {
          "output_type": "execute_result",
          "data": {
            "text/plain": [
              "(array([0.0771617 , 0.24129794, 0.11426375, 0.19625073, 0.14204772,\n",
              "        0.09943052, 0.12954763]), array([0.11426375]))"
            ]
          },
          "metadata": {
            "tags": []
          },
          "execution_count": 23
        }
      ]
    },
    {
      "cell_type": "code",
      "metadata": {
        "colab": {
          "base_uri": "https://localhost:8080/"
        },
        "id": "F-TsFiawSIQh",
        "outputId": "8ccf3cac-ae75-426a-d891-ec3407694a45"
      },
      "source": [
        "idx = np.where(np.array(independent_columns_names) == 'DebtRatio')[0][0]\n",
        "coefs = lr.coef_.ravel()\n",
        "np.exp(coefs[idx]) / np.sum(np.exp(coefs))"
      ],
      "execution_count": 24,
      "outputs": [
        {
          "output_type": "execute_result",
          "data": {
            "text/plain": [
              "0.1142637528306527"
            ]
          },
          "metadata": {
            "tags": []
          },
          "execution_count": 24
        }
      ]
    },
    {
      "cell_type": "markdown",
      "metadata": {
        "id": "ldSZg8aZUUMd"
      },
      "source": [
        "**Задание 7.** \n",
        "Давайте посмотрим как можно интерпретировать влияние наших признаков. Для этого заново оценим логистическую регрессию в абсолютных величинах. После этого посчитайте во сколько раз увеличатся шансы, что клиент не выплатит кредит, если увеличить возраст на 20 лет при всех остальных равных значениях признаков. (теоретический расчет можно посмотреть [здесь](https://www.unm.edu/~schrader/biostat/bio2/Spr06/lec11.pdf))"
      ]
    },
    {
      "cell_type": "code",
      "metadata": {
        "collapsed": true,
        "colab": {
          "base_uri": "https://localhost:8080/",
          "height": 410
        },
        "id": "ZzTkzBqYUUMd",
        "outputId": "84213f99-0881-4be2-bf8c-d596d2f49c45"
      },
      "source": [
        "### Ваш код должен быть здесь ###\n",
        "logit = LogisticRegression(C=0.001, random_state=5, n_jobs=-1, class_weight= 'balanced').fit(X, y)\n",
        "visualize_coefficients(logit, independent_columns_names, 3)"
      ],
      "execution_count": 25,
      "outputs": [
        {
          "output_type": "display_data",
          "data": {
            "image/png": "[encoded data removed]",
            "text/plain": [
              "<Figure size 1080x360 with 1 Axes>"
            ]
          },
          "metadata": {
            "tags": [],
            "needs_background": "light"
          }
        }
      ]
    },
    {
      "cell_type": "code",
      "metadata": {
        "colab": {
          "base_uri": "https://localhost:8080/"
        },
        "id": "xiVvpYg1T-tK",
        "outputId": "321b128e-081d-4916-a9e9-7a5c68a7401e"
      },
      "source": [
        "np.exp(logit.coef_[0][0]*20)"
      ],
      "execution_count": 26,
      "outputs": [
        {
          "output_type": "execute_result",
          "data": {
            "text/plain": [
              "0.761010686458662"
            ]
          },
          "metadata": {
            "tags": []
          },
          "execution_count": 26
        }
      ]
    },
    {
      "cell_type": "markdown",
      "metadata": {
        "id": "CwAx3a1WncMZ"
      },
      "source": [
        "$\\exp^{\\beta\\delta}$ – во столько раз больше шансы, что клиент не выплатит кредит. Где $\\delta$ – на сколько делаем прирост. Например, если увеличить возраст на 20 лет, то шансы, что человек не выплатит кредит, увеличатся в 0.76."
      ]
    },
    {
      "cell_type": "markdown",
      "metadata": {
        "id": "9mwhxeNWUUMd"
      },
      "source": [
        "# Случайный лес"
      ]
    },
    {
      "cell_type": "code",
      "metadata": {
        "collapsed": true,
        "id": "_T2JgZQlUUMe"
      },
      "source": [
        "from sklearn.ensemble import RandomForestClassifier\n",
        "\n",
        "# Инициализируем случайный лес с 100 деревьями и сбалансированными классами\n",
        "rf = RandomForestClassifier(\n",
        "    n_estimators=100,\n",
        "    n_jobs=-1,\n",
        "    random_state=42,\n",
        "    oob_score=True,\n",
        "    class_weight=\"balanced\",\n",
        ")\n",
        "\n",
        "## Будем искать лучшие параметры среди следующего набора\n",
        "parameters = {\n",
        "    \"max_features\": [1, 2, 4],\n",
        "    \"min_samples_leaf\": [3, 5, 7, 9],\n",
        "    \"max_depth\": [5, 10, 15],\n",
        "}\n",
        "\n",
        "## Делаем опять же стрэтифайд k-fold валидацию. Инициализация которой должна у вас продолжать храниться в skf"
      ],
      "execution_count": 27,
      "outputs": []
    },
    {
      "cell_type": "markdown",
      "metadata": {
        "id": "7tAWWnMfUUMe"
      },
      "source": [
        "**Задание 8.** На сколько точность лучшей модели случайного леса выше точности логистической регрессии на валидации?"
      ]
    },
    {
      "cell_type": "code",
      "metadata": {
        "colab": {
          "base_uri": "https://localhost:8080/"
        },
        "id": "yV1ESeiTUf87",
        "outputId": "8786e903-a0f9-42ca-d012-ac580a5fd1f3"
      },
      "source": [
        "### Ваш код должен быть здесь ###\n",
        "optimizer = GridSearchCV(rf, parameters, scoring='roc_auc', n_jobs=-1, cv=skf)\n",
        "optimizer.fit(X, y)"
      ],
      "execution_count": 28,
      "outputs": [
        {
          "output_type": "execute_result",
          "data": {
            "text/plain": [
              "GridSearchCV(cv=StratifiedKFold(n_splits=5, random_state=5, shuffle=True),\n",
              "             error_score=nan,\n",
              "             estimator=RandomForestClassifier(bootstrap=True, ccp_alpha=0.0,\n",
              "                                              class_weight='balanced',\n",
              "                                              criterion='gini', max_depth=None,\n",
              "                                              max_features='auto',\n",
              "                                              max_leaf_nodes=None,\n",
              "                                              max_samples=None,\n",
              "                                              min_impurity_decrease=0.0,\n",
              "                                              min_impurity_split=None,\n",
              "                                              min_samples_leaf=1,\n",
              "                                              min_samples_split=2,\n",
              "                                              min_weight_fraction_leaf=0.0,\n",
              "                                              n_estimators=100, n_jobs=-1,\n",
              "                                              oob_score=True, random_state=42,\n",
              "                                              verbose=0, warm_start=False),\n",
              "             iid='deprecated', n_jobs=-1,\n",
              "             param_grid={'max_depth': [5, 10, 15], 'max_features': [1, 2, 4],\n",
              "                         'min_samples_leaf': [3, 5, 7, 9]},\n",
              "             pre_dispatch='2*n_jobs', refit=True, return_train_score=False,\n",
              "             scoring='roc_auc', verbose=0)"
            ]
          },
          "metadata": {
            "tags": []
          },
          "execution_count": 28
        }
      ]
    },
    {
      "cell_type": "code",
      "metadata": {
        "colab": {
          "base_uri": "https://localhost:8080/"
        },
        "id": "JJuvyHNlVlnn",
        "outputId": "49e3faa8-1ee0-4fcd-e18f-e0afc37d0965"
      },
      "source": [
        "best_score2 = optimizer.best_score_\n",
        "np.round([best_score1, best_score2], 3), best_score2 - best_score1"
      ],
      "execution_count": 29,
      "outputs": [
        {
          "output_type": "execute_result",
          "data": {
            "text/plain": [
              "(array([0.796, 0.836]), 0.0397457037972756)"
            ]
          },
          "metadata": {
            "tags": []
          },
          "execution_count": 29
        }
      ]
    },
    {
      "cell_type": "code",
      "metadata": {
        "colab": {
          "base_uri": "https://localhost:8080/"
        },
        "id": "IahAV6f9n4Ef",
        "outputId": "b727c765-b02d-4edb-a93c-15eec87d0792"
      },
      "source": [
        "best_score2 = optimizer.best_score_\n",
        "np.round([best_score1, best_score2], 3), best_score2 - best_score1"
      ],
      "execution_count": 30,
      "outputs": [
        {
          "output_type": "execute_result",
          "data": {
            "text/plain": [
              "(array([0.796, 0.836]), 0.0397457037972756)"
            ]
          },
          "metadata": {
            "tags": []
          },
          "execution_count": 30
        }
      ]
    },
    {
      "cell_type": "markdown",
      "metadata": {
        "id": "eW7xbu23UUMf"
      },
      "source": [
        "**Задание 9.** Определите какой признак имеет самое слабое влияние."
      ]
    },
    {
      "cell_type": "code",
      "metadata": {
        "collapsed": true,
        "colab": {
          "base_uri": "https://localhost:8080/"
        },
        "id": "GLO4PLc8UUMf",
        "outputId": "f74d7df8-ded9-4fa2-91bb-5f205f768f5b"
      },
      "source": [
        "### Ваш код должен быть здесь ###\n",
        "\n",
        "#logit = LogisticRegression(C=0.001, random_state=1, n_jobs=-1).fit(scaled_X, y)\n",
        "#visualize_coefficients(logit, independent_columns_names, 3)\n",
        "for col in X:\n",
        "  print(col, end=': ')\n",
        "  print(len(X[col].unique()))"
      ],
      "execution_count": 31,
      "outputs": [
        {
          "output_type": "stream",
          "text": [
            "age: 83\n",
            "NumberOfTime30-59DaysPastDueNotWorse: 16\n",
            "DebtRatio: 37254\n",
            "NumberOfTimes90DaysLate: 19\n",
            "NumberOfTime60-89DaysPastDueNotWorse: 12\n",
            "MonthlyIncome: 8263\n",
            "NumberOfDependents: 11\n"
          ],
          "name": "stdout"
        }
      ]
    },
    {
      "cell_type": "code",
      "metadata": {
        "colab": {
          "base_uri": "https://localhost:8080/",
          "height": 35
        },
        "id": "MNnb0CPrqEzY",
        "outputId": "2d061e3a-1bcb-476e-b7ad-6525cc3b08af"
      },
      "source": [
        "idx = np.argmin(optimizer.best_estimator_.feature_importances_)\n",
        "independent_columns_names[idx]"
      ],
      "execution_count": 32,
      "outputs": [
        {
          "output_type": "execute_result",
          "data": {
            "application/vnd.google.colaboratory.intrinsic+json": {
              "type": "string"
            },
            "text/plain": [
              "'NumberOfDependents'"
            ]
          },
          "metadata": {
            "tags": []
          },
          "execution_count": 32
        }
      ]
    },
    {
      "cell_type": "markdown",
      "metadata": {
        "id": "NSJ6935BUUMf"
      },
      "source": [
        "**Задание 10.** Какое наиболее существенное примущество логистической регрессии перед случайным лесом для нашей бизнес-задачи?\n",
        "\n",
        "- меньше тратится времени для тренировки модели;\n",
        "- меньше параметров для перебора;\n",
        "- **интепретируемость признаков;**\n",
        "- линейные свойства алгоритма."
      ]
    },
    {
      "cell_type": "markdown",
      "metadata": {
        "id": "YEe8wZrrUUMf"
      },
      "source": [
        "# Бэггинг"
      ]
    },
    {
      "cell_type": "code",
      "metadata": {
        "collapsed": true,
        "id": "JKe7sfn8UUMf"
      },
      "source": [
        "from sklearn.ensemble import BaggingClassifier\n",
        "from sklearn.model_selection import RandomizedSearchCV\n",
        "\n",
        "parameters = {\n",
        "    \"max_features\": [2, 3, 4],\n",
        "    \"max_samples\": [0.5, 0.7, 0.9],\n",
        "    \"base_estimator__C\": [0.0001, 0.001, 0.01, 1, 10, 100],\n",
        "}"
      ],
      "execution_count": 33,
      "outputs": []
    },
    {
      "cell_type": "markdown",
      "metadata": {
        "id": "XOTFN-9JUUMg"
      },
      "source": [
        "**Задание 11.** Следующая задача обучить бэггинг классификатор (`random_state`=42). В качестве базовых классификаторов возьмите 100 логистических регрессий и на этот раз используйте не `GridSearchCV`, а `RandomizedSearchCV`. Так как перебирать все 54 варианта комбинаций долго, то поставьте максимальное число итераций 20 для `RandomizedSearchCV`. Также не забудьте передать параметр валидации `cv` и `random_state=1`. Какая лучшая точность получилась?\n",
        "\n",
        "- **80.75 %**\n",
        "- 80.12 %\n",
        "- 79.62 %\n",
        "- 76.50 %"
      ]
    },
    {
      "cell_type": "code",
      "metadata": {
        "collapsed": true,
        "colab": {
          "base_uri": "https://localhost:8080/"
        },
        "id": "DCB2cdYqUUMg",
        "outputId": "3dc50645-c657-4591-9196-e0026c0d1a0f"
      },
      "source": [
        "### Ваш код должен быть здесь ###\n",
        "estimator = BaggingClassifier(LogisticRegression(class_weight='balanced'), 100, n_jobs=-1, random_state=42)\n",
        "optimizer = RandomizedSearchCV(estimator, parameters, n_iter=20, scoring='roc_auc', n_jobs=-1, cv=skf, random_state=1)\n",
        "optimizer.fit(X, y)"
      ],
      "execution_count": 34,
      "outputs": [
        {
          "output_type": "execute_result",
          "data": {
            "text/plain": [
              "RandomizedSearchCV(cv=StratifiedKFold(n_splits=5, random_state=5, shuffle=True),\n",
              "                   error_score=nan,\n",
              "                   estimator=BaggingClassifier(base_estimator=LogisticRegression(C=1.0,\n",
              "                                                                                 class_weight='balanced',\n",
              "                                                                                 dual=False,\n",
              "                                                                                 fit_intercept=True,\n",
              "                                                                                 intercept_scaling=1,\n",
              "                                                                                 l1_ratio=None,\n",
              "                                                                                 max_iter=100,\n",
              "                                                                                 multi_class='auto',\n",
              "                                                                                 n_jobs=None,\n",
              "                                                                                 penalty='l2',\n",
              "                                                                                 random_state=None,\n",
              "                                                                                 solver='lbfgs',\n",
              "                                                                                 tol=0.0001...\n",
              "                                               max_samples=1.0,\n",
              "                                               n_estimators=100, n_jobs=-1,\n",
              "                                               oob_score=False, random_state=42,\n",
              "                                               verbose=0, warm_start=False),\n",
              "                   iid='deprecated', n_iter=20, n_jobs=-1,\n",
              "                   param_distributions={'base_estimator__C': [0.0001, 0.001,\n",
              "                                                              0.01, 1, 10,\n",
              "                                                              100],\n",
              "                                        'max_features': [2, 3, 4],\n",
              "                                        'max_samples': [0.5, 0.7, 0.9]},\n",
              "                   pre_dispatch='2*n_jobs', random_state=1, refit=True,\n",
              "                   return_train_score=False, scoring='roc_auc', verbose=0)"
            ]
          },
          "metadata": {
            "tags": []
          },
          "execution_count": 34
        }
      ]
    },
    {
      "cell_type": "markdown",
      "metadata": {
        "id": "uy8GnHiJUUMg"
      },
      "source": [
        "**Задача 12.** Дайте интерпретацию лучших параметров для бэггинга. Почему именно такие значения оказались лучшими?\n",
        "\n",
        "- для бэггинга важно использовать как можно меньше признаков\n",
        "- бэггинг лучше работает на небольших выборках\n",
        "- **меньше корреляция между одиночными моделями**\n",
        "- чем больше признаков, тем меньше теряется информации"
      ]
    }
  ]
}