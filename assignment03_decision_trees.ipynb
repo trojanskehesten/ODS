{
  "nbformat": 4,
  "nbformat_minor": 0,
  "metadata": {
    "kernelspec": {
      "display_name": "Python 3",
      "language": "python",
      "name": "python3"
    },
    "language_info": {
      "codemirror_mode": {
        "name": "ipython",
        "version": 3
      },
      "file_extension": ".py",
      "mimetype": "text/x-python",
      "name": "python",
      "nbconvert_exporter": "python",
      "pygments_lexer": "ipython3",
      "version": "3.7.6"
    },
    "colab": {
      "name": "assignment03_decision_trees.ipynb",
      "provenance": [],
      "collapsed_sections": []
    }
  },
  "cells": [
    {
      "cell_type": "markdown",
      "metadata": {
        "id": "ISOPlvwhp8_o"
      },
      "source": [
        "\n",
        "\n",
        "\n",
        "\n",
        "## <center> [mlcourse.ai](https://mlcourse.ai) – открытый курс OpenDataScience по машинному обучению \n",
        "    \n",
        "Авторы материала: Юрий Кашницкий, программист-исследователь Mail.Ru Group, и Мария Сумарокова, старший эксперт по аналитике VimpelCom. Материал распространяется на условиях лицензии [Creative Commons CC BY-NC-SA 4.0](https://creativecommons.org/licenses/by-nc-sa/4.0/). Можно использовать в любых целях (редактировать, поправлять и брать за основу), кроме коммерческих, но с обязательным упоминанием автора материала"
      ]
    },
    {
      "cell_type": "markdown",
      "metadata": {
        "id": "nM4VZvr2p8_r"
      },
      "source": [
        "# <center>Домашнее задание № 3 (демо). <br>Деревья решений в игрушечной задаче и на данных Adult репозитория UCI\n",
        "\n",
        "**В задании Вам предлагается разобраться с тем, как работает дерево решений, на игрушечном примере, затем обучить и настроить деревья и (при желании) случайный лес в задаче классификации на данных Adult репозитория UCI. Ответьте на все вопросы в этой тетрадке и заполните ответы в [гугл-форме](https://docs.google.com/forms/d/1bC3jNPH7XZUty_DaIvt0fPrsiS8YFkcpeBKHPSG0hw0/edit).**"
      ]
    },
    {
      "cell_type": "markdown",
      "metadata": {
        "id": "PrbP3BxUp8_r"
      },
      "source": [
        "Подключаем необходимые библиотеки"
      ]
    },
    {
      "cell_type": "code",
      "metadata": {
        "id": "kJdPxu89p8_s"
      },
      "source": [
        "%matplotlib inline\n",
        "from matplotlib import pyplot as plt\n",
        "\n",
        "plt.rcParams['figure.figsize'] = (10, 8)\n",
        "import collections\n",
        "\n",
        "import numpy as np\n",
        "import pandas as pd\n",
        "import seaborn as sns\n",
        "from sklearn import preprocessing\n",
        "from sklearn.ensemble import RandomForestClassifier\n",
        "from sklearn.metrics import accuracy_score\n",
        "from sklearn.model_selection import GridSearchCV\n",
        "from sklearn.preprocessing import LabelEncoder\n",
        "from sklearn.tree import DecisionTreeClassifier, export_graphviz\n",
        "import cv2"
      ],
      "execution_count": null,
      "outputs": []
    },
    {
      "cell_type": "markdown",
      "metadata": {
        "id": "Rae47JIUp8_t"
      },
      "source": [
        "## Часть 1. Игрушечный набор данных \"девушка в баре\""
      ]
    },
    {
      "cell_type": "markdown",
      "metadata": {
        "collapsed": true,
        "id": "xunfcOWcp8_t"
      },
      "source": [
        "**Цель –  \"на пальцах\", с помощью игрушечной задачи классификации разобраться в том, как работают деревья решений. Само по себе дерево решений – довольно слабый алгоритм, но основанные на нем алгоритмы случайного леса и градиентного бустинга - пожалуй, лучшее, что есть на сегодняшний день (в задачах, где можно обойтись без нейронных сетей). Поэтому разобраться в том, как работает дерево решений, полезно.**"
      ]
    },
    {
      "cell_type": "markdown",
      "metadata": {
        "id": "aCgOehxCp8_u"
      },
      "source": [
        "**Рассмотрим игрушечную задачу бинарной классификации: поедет ли с Вами девушка из бара? Это будет зависеть от Вашей внешности и красноречия, крепости предлагаемых напитков и, как это ни меркантильно, от количества потраченных в баре денег.**\n",
        "![image.png](data:image/png;base64,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)"
      ]
    },
    {
      "cell_type": "markdown",
      "metadata": {
        "id": "znPxOJBlp8_u"
      },
      "source": [
        "### Создание набора данных"
      ]
    },
    {
      "cell_type": "code",
      "metadata": {
        "id": "psBr4vEvp8_u"
      },
      "source": [
        "# Создание датафрейма с dummy variables\n",
        "def create_df(dic, feature_list):\n",
        "    out = pd.DataFrame(dic)\n",
        "    out = pd.concat([out, pd.get_dummies(out[feature_list])], axis = 1)\n",
        "    out.drop(feature_list, axis = 1, inplace = True)\n",
        "    return out\n",
        "\n",
        "# Некоторые значения признаков есть в тесте, но нет в трейне и наоборот\n",
        "def intersect_features(train, test):\n",
        "    common_feat = list( set(train.keys()) & set(test.keys()))\n",
        "    return train[common_feat], test[common_feat]"
      ],
      "execution_count": null,
      "outputs": []
    },
    {
      "cell_type": "code",
      "metadata": {
        "id": "X95vbTUBp8_v"
      },
      "source": [
        "features = ['Внешность', 'Алкоголь_в_напитке',\n",
        "            'Уровень_красноречия', 'Потраченные_деньги']"
      ],
      "execution_count": null,
      "outputs": []
    },
    {
      "cell_type": "markdown",
      "metadata": {
        "id": "Y8Q_M_swp8_v"
      },
      "source": [
        "**Обучающая выборка**"
      ]
    },
    {
      "cell_type": "code",
      "metadata": {
        "colab": {
          "base_uri": "https://localhost:8080/",
          "height": 274
        },
        "id": "QeTR4dPdp8_w",
        "outputId": "1dd5d2d9-5721-450b-fb71-3ecaf32c5d6b"
      },
      "source": [
        "df_train = {}\n",
        "df_train['Внешность'] = ['приятная', 'приятная', 'приятная', 'отталкивающая',\n",
        "                         'отталкивающая', 'отталкивающая', 'приятная'] \n",
        "df_train['Алкоголь_в_напитке'] = ['да', 'да', 'нет', 'нет', 'да', 'да', 'да']\n",
        "df_train['Уровень_красноречия'] = ['высокий', 'низкий', 'средний', 'средний', 'низкий',\n",
        "                                   'высокий', 'средний']\n",
        "df_train['Потраченные_деньги'] = ['много', 'мало', 'много', 'мало', 'много',\n",
        "                                  'много', 'много']\n",
        "df_train['Поедет'] = LabelEncoder().fit_transform(['+', '-', '+', '-', '-', '+', '+'])\n",
        "\n",
        "df_train = create_df(df_train, features)\n",
        "df_train"
      ],
      "execution_count": null,
      "outputs": [
        {
          "output_type": "execute_result",
          "data": {
            "text/html": [
              "<div>\n",
              "<style scoped>\n",
              "    .dataframe tbody tr th:only-of-type {\n",
              "        vertical-align: middle;\n",
              "    }\n",
              "\n",
              "    .dataframe tbody tr th {\n",
              "        vertical-align: top;\n",
              "    }\n",
              "\n",
              "    .dataframe thead th {\n",
              "        text-align: right;\n",
              "    }\n",
              "</style>\n",
              "<table border=\"1\" class=\"dataframe\">\n",
              "  <thead>\n",
              "    <tr style=\"text-align: right;\">\n",
              "      <th></th>\n",
              "      <th>Поедет</th>\n",
              "      <th>Внешность_отталкивающая</th>\n",
              "      <th>Внешность_приятная</th>\n",
              "      <th>Алкоголь_в_напитке_да</th>\n",
              "      <th>Алкоголь_в_напитке_нет</th>\n",
              "      <th>Уровень_красноречия_высокий</th>\n",
              "      <th>Уровень_красноречия_низкий</th>\n",
              "      <th>Уровень_красноречия_средний</th>\n",
              "      <th>Потраченные_деньги_мало</th>\n",
              "      <th>Потраченные_деньги_много</th>\n",
              "    </tr>\n",
              "  </thead>\n",
              "  <tbody>\n",
              "    <tr>\n",
              "      <th>0</th>\n",
              "      <td>0</td>\n",
              "      <td>0</td>\n",
              "      <td>1</td>\n",
              "      <td>1</td>\n",
              "      <td>0</td>\n",
              "      <td>1</td>\n",
              "      <td>0</td>\n",
              "      <td>0</td>\n",
              "      <td>0</td>\n",
              "      <td>1</td>\n",
              "    </tr>\n",
              "    <tr>\n",
              "      <th>1</th>\n",
              "      <td>1</td>\n",
              "      <td>0</td>\n",
              "      <td>1</td>\n",
              "      <td>1</td>\n",
              "      <td>0</td>\n",
              "      <td>0</td>\n",
              "      <td>1</td>\n",
              "      <td>0</td>\n",
              "      <td>1</td>\n",
              "      <td>0</td>\n",
              "    </tr>\n",
              "    <tr>\n",
              "      <th>2</th>\n",
              "      <td>0</td>\n",
              "      <td>0</td>\n",
              "      <td>1</td>\n",
              "      <td>0</td>\n",
              "      <td>1</td>\n",
              "      <td>0</td>\n",
              "      <td>0</td>\n",
              "      <td>1</td>\n",
              "      <td>0</td>\n",
              "      <td>1</td>\n",
              "    </tr>\n",
              "    <tr>\n",
              "      <th>3</th>\n",
              "      <td>1</td>\n",
              "      <td>1</td>\n",
              "      <td>0</td>\n",
              "      <td>0</td>\n",
              "      <td>1</td>\n",
              "      <td>0</td>\n",
              "      <td>0</td>\n",
              "      <td>1</td>\n",
              "      <td>1</td>\n",
              "      <td>0</td>\n",
              "    </tr>\n",
              "    <tr>\n",
              "      <th>4</th>\n",
              "      <td>1</td>\n",
              "      <td>1</td>\n",
              "      <td>0</td>\n",
              "      <td>1</td>\n",
              "      <td>0</td>\n",
              "      <td>0</td>\n",
              "      <td>1</td>\n",
              "      <td>0</td>\n",
              "      <td>0</td>\n",
              "      <td>1</td>\n",
              "    </tr>\n",
              "    <tr>\n",
              "      <th>5</th>\n",
              "      <td>0</td>\n",
              "      <td>1</td>\n",
              "      <td>0</td>\n",
              "      <td>1</td>\n",
              "      <td>0</td>\n",
              "      <td>1</td>\n",
              "      <td>0</td>\n",
              "      <td>0</td>\n",
              "      <td>0</td>\n",
              "      <td>1</td>\n",
              "    </tr>\n",
              "    <tr>\n",
              "      <th>6</th>\n",
              "      <td>0</td>\n",
              "      <td>0</td>\n",
              "      <td>1</td>\n",
              "      <td>1</td>\n",
              "      <td>0</td>\n",
              "      <td>0</td>\n",
              "      <td>0</td>\n",
              "      <td>1</td>\n",
              "      <td>0</td>\n",
              "      <td>1</td>\n",
              "    </tr>\n",
              "  </tbody>\n",
              "</table>\n",
              "</div>"
            ],
            "text/plain": [
              "   Поедет  ...  Потраченные_деньги_много\n",
              "0       0  ...                         1\n",
              "1       1  ...                         0\n",
              "2       0  ...                         1\n",
              "3       1  ...                         0\n",
              "4       1  ...                         1\n",
              "5       0  ...                         1\n",
              "6       0  ...                         1\n",
              "\n",
              "[7 rows x 10 columns]"
            ]
          },
          "metadata": {
            "tags": []
          },
          "execution_count": 4
        }
      ]
    },
    {
      "cell_type": "markdown",
      "metadata": {
        "id": "UlajIuIyp8_w"
      },
      "source": [
        "**Тестовая выборка**"
      ]
    },
    {
      "cell_type": "code",
      "metadata": {
        "colab": {
          "base_uri": "https://localhost:8080/",
          "height": 156
        },
        "id": "7jtG0nV0p8_x",
        "outputId": "88e98c3f-9a55-468f-b580-5c74b7f2abcd"
      },
      "source": [
        "df_test = {}\n",
        "df_test['Внешность'] = ['приятная', 'приятная', 'отталкивающая'] \n",
        "df_test['Алкоголь_в_напитке'] = ['нет', 'да', 'да']\n",
        "df_test['Уровень_красноречия'] = ['средний', 'высокий', 'средний']\n",
        "df_test['Потраченные_деньги'] = ['много', 'мало', 'много']\n",
        "df_test = create_df(df_test, features)\n",
        "df_test"
      ],
      "execution_count": null,
      "outputs": [
        {
          "output_type": "execute_result",
          "data": {
            "text/html": [
              "<div>\n",
              "<style scoped>\n",
              "    .dataframe tbody tr th:only-of-type {\n",
              "        vertical-align: middle;\n",
              "    }\n",
              "\n",
              "    .dataframe tbody tr th {\n",
              "        vertical-align: top;\n",
              "    }\n",
              "\n",
              "    .dataframe thead th {\n",
              "        text-align: right;\n",
              "    }\n",
              "</style>\n",
              "<table border=\"1\" class=\"dataframe\">\n",
              "  <thead>\n",
              "    <tr style=\"text-align: right;\">\n",
              "      <th></th>\n",
              "      <th>Внешность_отталкивающая</th>\n",
              "      <th>Внешность_приятная</th>\n",
              "      <th>Алкоголь_в_напитке_да</th>\n",
              "      <th>Алкоголь_в_напитке_нет</th>\n",
              "      <th>Уровень_красноречия_высокий</th>\n",
              "      <th>Уровень_красноречия_средний</th>\n",
              "      <th>Потраченные_деньги_мало</th>\n",
              "      <th>Потраченные_деньги_много</th>\n",
              "    </tr>\n",
              "  </thead>\n",
              "  <tbody>\n",
              "    <tr>\n",
              "      <th>0</th>\n",
              "      <td>0</td>\n",
              "      <td>1</td>\n",
              "      <td>0</td>\n",
              "      <td>1</td>\n",
              "      <td>0</td>\n",
              "      <td>1</td>\n",
              "      <td>0</td>\n",
              "      <td>1</td>\n",
              "    </tr>\n",
              "    <tr>\n",
              "      <th>1</th>\n",
              "      <td>0</td>\n",
              "      <td>1</td>\n",
              "      <td>1</td>\n",
              "      <td>0</td>\n",
              "      <td>1</td>\n",
              "      <td>0</td>\n",
              "      <td>1</td>\n",
              "      <td>0</td>\n",
              "    </tr>\n",
              "    <tr>\n",
              "      <th>2</th>\n",
              "      <td>1</td>\n",
              "      <td>0</td>\n",
              "      <td>1</td>\n",
              "      <td>0</td>\n",
              "      <td>0</td>\n",
              "      <td>1</td>\n",
              "      <td>0</td>\n",
              "      <td>1</td>\n",
              "    </tr>\n",
              "  </tbody>\n",
              "</table>\n",
              "</div>"
            ],
            "text/plain": [
              "   Внешность_отталкивающая  ...  Потраченные_деньги_много\n",
              "0                        0  ...                         1\n",
              "1                        0  ...                         0\n",
              "2                        1  ...                         1\n",
              "\n",
              "[3 rows x 8 columns]"
            ]
          },
          "metadata": {
            "tags": []
          },
          "execution_count": 5
        }
      ]
    },
    {
      "cell_type": "code",
      "metadata": {
        "colab": {
          "base_uri": "https://localhost:8080/",
          "height": 274
        },
        "id": "Yj_rbCPvp8_x",
        "outputId": "4781854f-e270-42fc-8bdb-f44a39ebfc36"
      },
      "source": [
        "# Некоторые значения признаков есть в тесте, но нет в трейне и наоборот\n",
        "y = df_train['Поедет']\n",
        "df_train, df_test = intersect_features(train=df_train, test=df_test)\n",
        "df_train"
      ],
      "execution_count": null,
      "outputs": [
        {
          "output_type": "execute_result",
          "data": {
            "text/html": [
              "<div>\n",
              "<style scoped>\n",
              "    .dataframe tbody tr th:only-of-type {\n",
              "        vertical-align: middle;\n",
              "    }\n",
              "\n",
              "    .dataframe tbody tr th {\n",
              "        vertical-align: top;\n",
              "    }\n",
              "\n",
              "    .dataframe thead th {\n",
              "        text-align: right;\n",
              "    }\n",
              "</style>\n",
              "<table border=\"1\" class=\"dataframe\">\n",
              "  <thead>\n",
              "    <tr style=\"text-align: right;\">\n",
              "      <th></th>\n",
              "      <th>Потраченные_деньги_много</th>\n",
              "      <th>Потраченные_деньги_мало</th>\n",
              "      <th>Внешность_отталкивающая</th>\n",
              "      <th>Внешность_приятная</th>\n",
              "      <th>Уровень_красноречия_высокий</th>\n",
              "      <th>Алкоголь_в_напитке_да</th>\n",
              "      <th>Уровень_красноречия_средний</th>\n",
              "      <th>Алкоголь_в_напитке_нет</th>\n",
              "    </tr>\n",
              "  </thead>\n",
              "  <tbody>\n",
              "    <tr>\n",
              "      <th>0</th>\n",
              "      <td>1</td>\n",
              "      <td>0</td>\n",
              "      <td>0</td>\n",
              "      <td>1</td>\n",
              "      <td>1</td>\n",
              "      <td>1</td>\n",
              "      <td>0</td>\n",
              "      <td>0</td>\n",
              "    </tr>\n",
              "    <tr>\n",
              "      <th>1</th>\n",
              "      <td>0</td>\n",
              "      <td>1</td>\n",
              "      <td>0</td>\n",
              "      <td>1</td>\n",
              "      <td>0</td>\n",
              "      <td>1</td>\n",
              "      <td>0</td>\n",
              "      <td>0</td>\n",
              "    </tr>\n",
              "    <tr>\n",
              "      <th>2</th>\n",
              "      <td>1</td>\n",
              "      <td>0</td>\n",
              "      <td>0</td>\n",
              "      <td>1</td>\n",
              "      <td>0</td>\n",
              "      <td>0</td>\n",
              "      <td>1</td>\n",
              "      <td>1</td>\n",
              "    </tr>\n",
              "    <tr>\n",
              "      <th>3</th>\n",
              "      <td>0</td>\n",
              "      <td>1</td>\n",
              "      <td>1</td>\n",
              "      <td>0</td>\n",
              "      <td>0</td>\n",
              "      <td>0</td>\n",
              "      <td>1</td>\n",
              "      <td>1</td>\n",
              "    </tr>\n",
              "    <tr>\n",
              "      <th>4</th>\n",
              "      <td>1</td>\n",
              "      <td>0</td>\n",
              "      <td>1</td>\n",
              "      <td>0</td>\n",
              "      <td>0</td>\n",
              "      <td>1</td>\n",
              "      <td>0</td>\n",
              "      <td>0</td>\n",
              "    </tr>\n",
              "    <tr>\n",
              "      <th>5</th>\n",
              "      <td>1</td>\n",
              "      <td>0</td>\n",
              "      <td>1</td>\n",
              "      <td>0</td>\n",
              "      <td>1</td>\n",
              "      <td>1</td>\n",
              "      <td>0</td>\n",
              "      <td>0</td>\n",
              "    </tr>\n",
              "    <tr>\n",
              "      <th>6</th>\n",
              "      <td>1</td>\n",
              "      <td>0</td>\n",
              "      <td>0</td>\n",
              "      <td>1</td>\n",
              "      <td>0</td>\n",
              "      <td>1</td>\n",
              "      <td>1</td>\n",
              "      <td>0</td>\n",
              "    </tr>\n",
              "  </tbody>\n",
              "</table>\n",
              "</div>"
            ],
            "text/plain": [
              "   Потраченные_деньги_много  ...  Алкоголь_в_напитке_нет\n",
              "0                         1  ...                       0\n",
              "1                         0  ...                       0\n",
              "2                         1  ...                       1\n",
              "3                         0  ...                       1\n",
              "4                         1  ...                       0\n",
              "5                         1  ...                       0\n",
              "6                         1  ...                       0\n",
              "\n",
              "[7 rows x 8 columns]"
            ]
          },
          "metadata": {
            "tags": []
          },
          "execution_count": 6
        }
      ]
    },
    {
      "cell_type": "code",
      "metadata": {
        "colab": {
          "base_uri": "https://localhost:8080/",
          "height": 156
        },
        "id": "1LaFvyYIp8_y",
        "outputId": "cbda6203-3318-4e8a-ef17-c155f7d3a537"
      },
      "source": [
        "df_test"
      ],
      "execution_count": null,
      "outputs": [
        {
          "output_type": "execute_result",
          "data": {
            "text/html": [
              "<div>\n",
              "<style scoped>\n",
              "    .dataframe tbody tr th:only-of-type {\n",
              "        vertical-align: middle;\n",
              "    }\n",
              "\n",
              "    .dataframe tbody tr th {\n",
              "        vertical-align: top;\n",
              "    }\n",
              "\n",
              "    .dataframe thead th {\n",
              "        text-align: right;\n",
              "    }\n",
              "</style>\n",
              "<table border=\"1\" class=\"dataframe\">\n",
              "  <thead>\n",
              "    <tr style=\"text-align: right;\">\n",
              "      <th></th>\n",
              "      <th>Потраченные_деньги_много</th>\n",
              "      <th>Потраченные_деньги_мало</th>\n",
              "      <th>Внешность_отталкивающая</th>\n",
              "      <th>Внешность_приятная</th>\n",
              "      <th>Уровень_красноречия_высокий</th>\n",
              "      <th>Алкоголь_в_напитке_да</th>\n",
              "      <th>Уровень_красноречия_средний</th>\n",
              "      <th>Алкоголь_в_напитке_нет</th>\n",
              "    </tr>\n",
              "  </thead>\n",
              "  <tbody>\n",
              "    <tr>\n",
              "      <th>0</th>\n",
              "      <td>1</td>\n",
              "      <td>0</td>\n",
              "      <td>0</td>\n",
              "      <td>1</td>\n",
              "      <td>0</td>\n",
              "      <td>0</td>\n",
              "      <td>1</td>\n",
              "      <td>1</td>\n",
              "    </tr>\n",
              "    <tr>\n",
              "      <th>1</th>\n",
              "      <td>0</td>\n",
              "      <td>1</td>\n",
              "      <td>0</td>\n",
              "      <td>1</td>\n",
              "      <td>1</td>\n",
              "      <td>1</td>\n",
              "      <td>0</td>\n",
              "      <td>0</td>\n",
              "    </tr>\n",
              "    <tr>\n",
              "      <th>2</th>\n",
              "      <td>1</td>\n",
              "      <td>0</td>\n",
              "      <td>1</td>\n",
              "      <td>0</td>\n",
              "      <td>0</td>\n",
              "      <td>1</td>\n",
              "      <td>1</td>\n",
              "      <td>0</td>\n",
              "    </tr>\n",
              "  </tbody>\n",
              "</table>\n",
              "</div>"
            ],
            "text/plain": [
              "   Потраченные_деньги_много  ...  Алкоголь_в_напитке_нет\n",
              "0                         1  ...                       1\n",
              "1                         0  ...                       0\n",
              "2                         1  ...                       0\n",
              "\n",
              "[3 rows x 8 columns]"
            ]
          },
          "metadata": {
            "tags": []
          },
          "execution_count": 7
        }
      ]
    },
    {
      "cell_type": "markdown",
      "metadata": {
        "id": "iEBVg_BSp8_y"
      },
      "source": [
        "**Постройте от руки (или в графическом редакторе) дерево решений для этого набора данных. Дополнительно (для желающих) – можете сделать отрисовку дерева и написать код для построения всего дерева.**"
      ]
    },
    {
      "cell_type": "markdown",
      "metadata": {
        "id": "DnS5c3VKp8_y"
      },
      "source": [
        "<font color='red'>Вопрос 1.</font> Какова энтропия начальной системы ($S_0$)? Под состояниями системы понимаем значения признака \"Поедет\" – 0 или 1 (то есть всего 2 состояния)."
      ]
    },
    {
      "cell_type": "code",
      "metadata": {
        "collapsed": true,
        "colab": {
          "base_uri": "https://localhost:8080/",
          "height": 375
        },
        "id": "KOR6OR2ap8_z",
        "outputId": "2d8cd80b-2956-4628-a299-1aff80cea7f7"
      },
      "source": [
        "# Ваш код здесь\n",
        "df_train['Поедет'] = y\n",
        "df_train.sort_values(by='Поедет')"
      ],
      "execution_count": null,
      "outputs": [
        {
          "output_type": "stream",
          "text": [
            "/usr/local/lib/python3.7/dist-packages/ipykernel_launcher.py:2: SettingWithCopyWarning: \n",
            "A value is trying to be set on a copy of a slice from a DataFrame.\n",
            "Try using .loc[row_indexer,col_indexer] = value instead\n",
            "\n",
            "See the caveats in the documentation: https://pandas.pydata.org/pandas-docs/stable/user_guide/indexing.html#returning-a-view-versus-a-copy\n",
            "  \n"
          ],
          "name": "stderr"
        },
        {
          "output_type": "execute_result",
          "data": {
            "text/html": [
              "<div>\n",
              "<style scoped>\n",
              "    .dataframe tbody tr th:only-of-type {\n",
              "        vertical-align: middle;\n",
              "    }\n",
              "\n",
              "    .dataframe tbody tr th {\n",
              "        vertical-align: top;\n",
              "    }\n",
              "\n",
              "    .dataframe thead th {\n",
              "        text-align: right;\n",
              "    }\n",
              "</style>\n",
              "<table border=\"1\" class=\"dataframe\">\n",
              "  <thead>\n",
              "    <tr style=\"text-align: right;\">\n",
              "      <th></th>\n",
              "      <th>Потраченные_деньги_много</th>\n",
              "      <th>Потраченные_деньги_мало</th>\n",
              "      <th>Внешность_отталкивающая</th>\n",
              "      <th>Внешность_приятная</th>\n",
              "      <th>Уровень_красноречия_высокий</th>\n",
              "      <th>Алкоголь_в_напитке_да</th>\n",
              "      <th>Уровень_красноречия_средний</th>\n",
              "      <th>Алкоголь_в_напитке_нет</th>\n",
              "      <th>Поедет</th>\n",
              "    </tr>\n",
              "  </thead>\n",
              "  <tbody>\n",
              "    <tr>\n",
              "      <th>0</th>\n",
              "      <td>1</td>\n",
              "      <td>0</td>\n",
              "      <td>0</td>\n",
              "      <td>1</td>\n",
              "      <td>1</td>\n",
              "      <td>1</td>\n",
              "      <td>0</td>\n",
              "      <td>0</td>\n",
              "      <td>0</td>\n",
              "    </tr>\n",
              "    <tr>\n",
              "      <th>2</th>\n",
              "      <td>1</td>\n",
              "      <td>0</td>\n",
              "      <td>0</td>\n",
              "      <td>1</td>\n",
              "      <td>0</td>\n",
              "      <td>0</td>\n",
              "      <td>1</td>\n",
              "      <td>1</td>\n",
              "      <td>0</td>\n",
              "    </tr>\n",
              "    <tr>\n",
              "      <th>5</th>\n",
              "      <td>1</td>\n",
              "      <td>0</td>\n",
              "      <td>1</td>\n",
              "      <td>0</td>\n",
              "      <td>1</td>\n",
              "      <td>1</td>\n",
              "      <td>0</td>\n",
              "      <td>0</td>\n",
              "      <td>0</td>\n",
              "    </tr>\n",
              "    <tr>\n",
              "      <th>6</th>\n",
              "      <td>1</td>\n",
              "      <td>0</td>\n",
              "      <td>0</td>\n",
              "      <td>1</td>\n",
              "      <td>0</td>\n",
              "      <td>1</td>\n",
              "      <td>1</td>\n",
              "      <td>0</td>\n",
              "      <td>0</td>\n",
              "    </tr>\n",
              "    <tr>\n",
              "      <th>1</th>\n",
              "      <td>0</td>\n",
              "      <td>1</td>\n",
              "      <td>0</td>\n",
              "      <td>1</td>\n",
              "      <td>0</td>\n",
              "      <td>1</td>\n",
              "      <td>0</td>\n",
              "      <td>0</td>\n",
              "      <td>1</td>\n",
              "    </tr>\n",
              "    <tr>\n",
              "      <th>3</th>\n",
              "      <td>0</td>\n",
              "      <td>1</td>\n",
              "      <td>1</td>\n",
              "      <td>0</td>\n",
              "      <td>0</td>\n",
              "      <td>0</td>\n",
              "      <td>1</td>\n",
              "      <td>1</td>\n",
              "      <td>1</td>\n",
              "    </tr>\n",
              "    <tr>\n",
              "      <th>4</th>\n",
              "      <td>1</td>\n",
              "      <td>0</td>\n",
              "      <td>1</td>\n",
              "      <td>0</td>\n",
              "      <td>0</td>\n",
              "      <td>1</td>\n",
              "      <td>0</td>\n",
              "      <td>0</td>\n",
              "      <td>1</td>\n",
              "    </tr>\n",
              "  </tbody>\n",
              "</table>\n",
              "</div>"
            ],
            "text/plain": [
              "   Потраченные_деньги_много  ...  Поедет\n",
              "0                         1  ...       0\n",
              "2                         1  ...       0\n",
              "5                         1  ...       0\n",
              "6                         1  ...       0\n",
              "1                         0  ...       1\n",
              "3                         0  ...       1\n",
              "4                         1  ...       1\n",
              "\n",
              "[7 rows x 9 columns]"
            ]
          },
          "metadata": {
            "tags": []
          },
          "execution_count": 8
        }
      ]
    },
    {
      "cell_type": "code",
      "metadata": {
        "colab": {
          "base_uri": "https://localhost:8080/"
        },
        "id": "nLWuoPZsuCfF",
        "outputId": "42257067-b12b-4da2-87eb-dae06269da33"
      },
      "source": [
        "p0 = df_train['Поедет'].mean()\n",
        "p0 == 3/7"
      ],
      "execution_count": null,
      "outputs": [
        {
          "output_type": "execute_result",
          "data": {
            "text/plain": [
              "True"
            ]
          },
          "metadata": {
            "tags": []
          },
          "execution_count": 9
        }
      ]
    },
    {
      "cell_type": "code",
      "metadata": {
        "colab": {
          "base_uri": "https://localhost:8080/"
        },
        "id": "165Ueb1qul24",
        "outputId": "cb94ed69-627b-4859-acf7-0e330a3f8fda"
      },
      "source": [
        "def entropy(p):\n",
        "  if p<0 or p>1:\n",
        "    raise ValueError('Вероятность должна быть на отрезке [0, 1]')\n",
        "  if p in [0, 1]:\n",
        "    return 0\n",
        "  q = 1 - p\n",
        "  return -p*np.log2(p)-q*np.log2(q)\n",
        "\n",
        "def ig(s0, s1, s2, n1, n2, n):\n",
        "  return s0 - (n1*s1 + n2*s2) / n\n",
        "\n",
        "s0 = entropy(p0)\n",
        "s0"
      ],
      "execution_count": null,
      "outputs": [
        {
          "output_type": "execute_result",
          "data": {
            "text/plain": [
              "0.9852281360342515"
            ]
          },
          "metadata": {
            "tags": []
          },
          "execution_count": 10
        }
      ]
    },
    {
      "cell_type": "markdown",
      "metadata": {
        "id": "FAgGi6DHp8_z"
      },
      "source": [
        "<font color='red'>Вопрос 2. </font> Рассмотрим разбиение обучающей выборки по признаку \"Внешность\\_приятная\". Какова энтропия  $S_1$ левой группы, тех, у кого внешность приятная, и правой группы – $S_2$? Каков прирост информации  при данном разбиении (IG)? "
      ]
    },
    {
      "cell_type": "code",
      "metadata": {
        "colab": {
          "base_uri": "https://localhost:8080/"
        },
        "id": "Q96BqJnn0cDj",
        "outputId": "a45f0ad1-4281-4fbb-bc5a-265709f64e1f"
      },
      "source": [
        "p12 = df_train.groupby('Внешность_приятная').mean()['Поедет']\n",
        "p12"
      ],
      "execution_count": null,
      "outputs": [
        {
          "output_type": "execute_result",
          "data": {
            "text/plain": [
              "Внешность_приятная\n",
              "0    0.666667\n",
              "1    0.250000\n",
              "Name: Поедет, dtype: float64"
            ]
          },
          "metadata": {
            "tags": []
          },
          "execution_count": 11
        }
      ]
    },
    {
      "cell_type": "code",
      "metadata": {
        "colab": {
          "base_uri": "https://localhost:8080/"
        },
        "id": "Be_tlwX6xpMb",
        "outputId": "a7da2bd2-e927-4313-f207-e36f5565084a"
      },
      "source": [
        "s12 = df_train.groupby('Внешность_приятная').mean()['Поедет'].apply(entropy)\n",
        "s12"
      ],
      "execution_count": null,
      "outputs": [
        {
          "output_type": "execute_result",
          "data": {
            "text/plain": [
              "Внешность_приятная\n",
              "0    0.918296\n",
              "1    0.811278\n",
              "Name: Поедет, dtype: float64"
            ]
          },
          "metadata": {
            "tags": []
          },
          "execution_count": 12
        }
      ]
    },
    {
      "cell_type": "code",
      "metadata": {
        "colab": {
          "base_uri": "https://localhost:8080/"
        },
        "id": "mMBJ_gVo0F1x",
        "outputId": "ebeb7299-340f-40e5-8219-9c88ff5d0296"
      },
      "source": [
        "n12 = df_train.groupby('Внешность_приятная').count()['Поедет']\n",
        "n = len(df_train)\n",
        "print(n12)\n",
        "n"
      ],
      "execution_count": null,
      "outputs": [
        {
          "output_type": "stream",
          "text": [
            "Внешность_приятная\n",
            "0    3\n",
            "1    4\n",
            "Name: Поедет, dtype: int64\n"
          ],
          "name": "stdout"
        },
        {
          "output_type": "execute_result",
          "data": {
            "text/plain": [
              "7"
            ]
          },
          "metadata": {
            "tags": []
          },
          "execution_count": 13
        }
      ]
    },
    {
      "cell_type": "code",
      "metadata": {
        "colab": {
          "base_uri": "https://localhost:8080/"
        },
        "id": "qhn9EzwXzcFR",
        "outputId": "678a0aad-2919-4281-c654-7ba88830ef34"
      },
      "source": [
        "ig(s0, *s12, *n12, len(df_train))"
      ],
      "execution_count": null,
      "outputs": [
        {
          "output_type": "execute_result",
          "data": {
            "text/plain": [
              "0.12808527889139443"
            ]
          },
          "metadata": {
            "tags": []
          },
          "execution_count": 14
        }
      ]
    },
    {
      "cell_type": "markdown",
      "metadata": {
        "id": "mmt1Hby7p8_z"
      },
      "source": [
        "**Постройте с помощью `sklearn` дерево решений, обучив его на обучающей выборке. Глубину можно не ограничивать.**"
      ]
    },
    {
      "cell_type": "code",
      "metadata": {
        "collapsed": true,
        "colab": {
          "base_uri": "https://localhost:8080/"
        },
        "id": "yzA-u0vFp8_z",
        "outputId": "020bed81-e164-4e29-9f01-b6cdc651519b"
      },
      "source": [
        "# Ваш код здесь\n",
        "X = df_train.drop(columns='Поедет')\n",
        "y = df_train['Поедет']\n",
        "model = DecisionTreeClassifier(criterion='entropy')\n",
        "model.fit(X, y)"
      ],
      "execution_count": null,
      "outputs": [
        {
          "output_type": "execute_result",
          "data": {
            "text/plain": [
              "DecisionTreeClassifier(ccp_alpha=0.0, class_weight=None, criterion='entropy',\n",
              "                       max_depth=None, max_features=None, max_leaf_nodes=None,\n",
              "                       min_impurity_decrease=0.0, min_impurity_split=None,\n",
              "                       min_samples_leaf=1, min_samples_split=2,\n",
              "                       min_weight_fraction_leaf=0.0, presort='deprecated',\n",
              "                       random_state=None, splitter='best')"
            ]
          },
          "metadata": {
            "tags": []
          },
          "execution_count": 15
        }
      ]
    },
    {
      "cell_type": "markdown",
      "metadata": {
        "id": "Pe2lCHVwp8_0"
      },
      "source": [
        "**Дополнительно: отобразите дерево с помощью graphviz. Можно использовать `pydot` или, например, [онлайн-сервис](https://www.coolutils.com/ru/online/DOT-to-PNG) dot2png.**"
      ]
    },
    {
      "cell_type": "code",
      "metadata": {
        "colab": {
          "base_uri": "https://localhost:8080/",
          "height": 466
        },
        "id": "0Ylq5KdC4iJU",
        "outputId": "b9d52e32-18c8-41c9-a608-728de9e47748"
      },
      "source": [
        "# Ваш код здесь\n",
        "export_graphviz(model, 'nice_tree.dot', feature_names=df_train.drop(columns='Поедет').columns, filled=True)\n",
        "!dot -Tpng 'nice_tree.dot' -o 'nice_tree.png'\n",
        "\n",
        "img = cv2.imread('nice_tree.png') \n",
        "plt.figure(figsize=(10,8))\n",
        "plt.imshow(img)\n",
        "plt.axis('off');"
      ],
      "execution_count": null,
      "outputs": [
        {
          "output_type": "display_data",
          "data": {
            "image/png": "[encoded data removed]",
            "text/plain": [
              "<Figure size 720x576 with 1 Axes>"
            ]
          },
          "metadata": {
            "tags": [],
            "needs_background": "light"
          }
        }
      ]
    },
    {
      "cell_type": "markdown",
      "metadata": {
        "id": "T7606UiDp8_0"
      },
      "source": [
        "## Часть 2. Функции для расчета энтропии и прироста информации"
      ]
    },
    {
      "cell_type": "markdown",
      "metadata": {
        "id": "ARFeOxUep8_0"
      },
      "source": [
        "Примерчик для проверки: 9 синих шариков и 11 желтых. Пусть шарик находится в состоянии \"1\", если он синий и \"0\" – если он желтый."
      ]
    },
    {
      "cell_type": "code",
      "metadata": {
        "collapsed": true,
        "colab": {
          "base_uri": "https://localhost:8080/"
        },
        "id": "uHZYYDHIp8_1",
        "outputId": "804062da-da23-4521-f6e9-b5afc4bab6e9"
      },
      "source": [
        "balls = [1 for i in range(9)] + [0 for i in range(11)]\n",
        "balls"
      ],
      "execution_count": null,
      "outputs": [
        {
          "output_type": "execute_result",
          "data": {
            "text/plain": [
              "[1, 1, 1, 1, 1, 1, 1, 1, 1, 0, 0, 0, 0, 0, 0, 0, 0, 0, 0, 0]"
            ]
          },
          "metadata": {
            "tags": []
          },
          "execution_count": 17
        }
      ]
    },
    {
      "cell_type": "markdown",
      "metadata": {
        "id": "WVKorKGyp8_1"
      },
      "source": [
        "![image.png](data:image/png;base64,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)"
      ]
    },
    {
      "cell_type": "markdown",
      "metadata": {
        "id": "ATxX7fn3p8_1"
      },
      "source": [
        "Дальше пусть шарики разбиваются на 2 группы\n",
        "![image.png](data:image/png;base64,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)"
      ]
    },
    {
      "cell_type": "code",
      "metadata": {
        "collapsed": true,
        "id": "UeA_ABRGp8_1"
      },
      "source": [
        "# две группы\n",
        "balls_left  = [1 for i in range(8)] + [0 for i in range(5)] # 8 синих и 5 желтых\n",
        "balls_right = [1 for i in range(1)] + [0 for i in range(6)] # 1 синий и 6 желтых"
      ],
      "execution_count": null,
      "outputs": []
    },
    {
      "cell_type": "markdown",
      "metadata": {
        "id": "ynYAnaNXp8_2"
      },
      "source": [
        "**Реализуйте функцию для расчета энтропии Шеннона.**"
      ]
    },
    {
      "cell_type": "code",
      "metadata": {
        "collapsed": true,
        "id": "yKpQNHD0p8_2"
      },
      "source": [
        "def entropy(a_list):\n",
        "    # Ваш код здесь\n",
        "    # pass\n",
        "    n = np.unique(a_list, return_counts=True)[1]\n",
        "    p = n / np.sum(n)\n",
        "    return np.round(np.sum(-p*np.log2(p)), 3)"
      ],
      "execution_count": null,
      "outputs": []
    },
    {
      "cell_type": "markdown",
      "metadata": {
        "id": "cq7AP9Wlp8_2"
      },
      "source": [
        "Проверка"
      ]
    },
    {
      "cell_type": "code",
      "metadata": {
        "colab": {
          "base_uri": "https://localhost:8080/"
        },
        "id": "Eqq4K-_ym4y6",
        "outputId": "bb1427bc-2f4e-47ce-a70f-963a683a191e"
      },
      "source": [
        "print(entropy(balls)) # 9 синих и 11 желтых\n",
        "print(entropy(balls_left)) # 8 синих и 5 желтых\n",
        "print(entropy(balls_right)) # 1 синий и 6 желтых\n",
        "print(entropy([1,2,3,4,5,6])) # энтропия игральной кости с несмещенным центром тяжести"
      ],
      "execution_count": null,
      "outputs": [
        {
          "output_type": "stream",
          "text": [
            "0.993\n",
            "0.961\n",
            "0.592\n",
            "2.585\n"
          ],
          "name": "stdout"
        }
      ]
    },
    {
      "cell_type": "markdown",
      "metadata": {
        "id": "EaB0Vmj4p8_3"
      },
      "source": [
        "<font color='red'>Вопрос 3.</font> Чему равна энтропия состояния, заданного списком `balls_left`?"
      ]
    },
    {
      "cell_type": "markdown",
      "metadata": {
        "id": "OqPMiUY4p8_3"
      },
      "source": [
        "<font color='red'>Вопрос 4.</font> Чему равна энтропия игральной кости с несмещенным центром тяжести?"
      ]
    },
    {
      "cell_type": "code",
      "metadata": {
        "collapsed": true,
        "id": "48lheJ0jp8_3"
      },
      "source": [
        "# расчет прироста информации\n",
        "\n",
        "def information_gain(root, left, right):\n",
        "    ''' root - изначальный набор данных, left и right два разбиения изначального набора'''\n",
        "    \n",
        "    # Ваш код здесь\n",
        "    # pass\n",
        "    s0 = entropy(root)\n",
        "    s1 = entropy(left)\n",
        "    s2 = entropy(right)\n",
        "    n = len(root)\n",
        "    n1 = len(left)\n",
        "    n2 = len(right)\n",
        "  \n",
        "    return round(s0 - (n1*s1 + n2*s2) / n, 3)"
      ],
      "execution_count": null,
      "outputs": []
    },
    {
      "cell_type": "markdown",
      "metadata": {
        "id": "Ef1P2Vm1p8_4"
      },
      "source": [
        "<font color='red'>Вопрос 5.  </font> Каков прирост информации при разделении выборки на `balls_left` и `balls_right`?"
      ]
    },
    {
      "cell_type": "code",
      "metadata": {
        "collapsed": true,
        "id": "uNdkNqUVp8_4",
        "colab": {
          "base_uri": "https://localhost:8080/"
        },
        "outputId": "504ce3ad-fdde-415a-f1c1-6d42cf2b055d"
      },
      "source": [
        "# Ваш код здесь\n",
        "information_gain(balls, balls_left, balls_right)"
      ],
      "execution_count": null,
      "outputs": [
        {
          "output_type": "execute_result",
          "data": {
            "text/plain": [
              "0.161"
            ]
          },
          "metadata": {
            "tags": []
          },
          "execution_count": 22
        }
      ]
    },
    {
      "cell_type": "code",
      "metadata": {
        "colab": {
          "base_uri": "https://localhost:8080/",
          "height": 274
        },
        "id": "CkE_K2BbqTfH",
        "outputId": "43467c9f-9245-416c-e876-92a09e4aa41e"
      },
      "source": [
        "df_train"
      ],
      "execution_count": null,
      "outputs": [
        {
          "output_type": "execute_result",
          "data": {
            "text/html": [
              "<div>\n",
              "<style scoped>\n",
              "    .dataframe tbody tr th:only-of-type {\n",
              "        vertical-align: middle;\n",
              "    }\n",
              "\n",
              "    .dataframe tbody tr th {\n",
              "        vertical-align: top;\n",
              "    }\n",
              "\n",
              "    .dataframe thead th {\n",
              "        text-align: right;\n",
              "    }\n",
              "</style>\n",
              "<table border=\"1\" class=\"dataframe\">\n",
              "  <thead>\n",
              "    <tr style=\"text-align: right;\">\n",
              "      <th></th>\n",
              "      <th>Потраченные_деньги_много</th>\n",
              "      <th>Потраченные_деньги_мало</th>\n",
              "      <th>Внешность_отталкивающая</th>\n",
              "      <th>Внешность_приятная</th>\n",
              "      <th>Уровень_красноречия_высокий</th>\n",
              "      <th>Алкоголь_в_напитке_да</th>\n",
              "      <th>Уровень_красноречия_средний</th>\n",
              "      <th>Алкоголь_в_напитке_нет</th>\n",
              "      <th>Поедет</th>\n",
              "    </tr>\n",
              "  </thead>\n",
              "  <tbody>\n",
              "    <tr>\n",
              "      <th>0</th>\n",
              "      <td>1</td>\n",
              "      <td>0</td>\n",
              "      <td>0</td>\n",
              "      <td>1</td>\n",
              "      <td>1</td>\n",
              "      <td>1</td>\n",
              "      <td>0</td>\n",
              "      <td>0</td>\n",
              "      <td>0</td>\n",
              "    </tr>\n",
              "    <tr>\n",
              "      <th>1</th>\n",
              "      <td>0</td>\n",
              "      <td>1</td>\n",
              "      <td>0</td>\n",
              "      <td>1</td>\n",
              "      <td>0</td>\n",
              "      <td>1</td>\n",
              "      <td>0</td>\n",
              "      <td>0</td>\n",
              "      <td>1</td>\n",
              "    </tr>\n",
              "    <tr>\n",
              "      <th>2</th>\n",
              "      <td>1</td>\n",
              "      <td>0</td>\n",
              "      <td>0</td>\n",
              "      <td>1</td>\n",
              "      <td>0</td>\n",
              "      <td>0</td>\n",
              "      <td>1</td>\n",
              "      <td>1</td>\n",
              "      <td>0</td>\n",
              "    </tr>\n",
              "    <tr>\n",
              "      <th>3</th>\n",
              "      <td>0</td>\n",
              "      <td>1</td>\n",
              "      <td>1</td>\n",
              "      <td>0</td>\n",
              "      <td>0</td>\n",
              "      <td>0</td>\n",
              "      <td>1</td>\n",
              "      <td>1</td>\n",
              "      <td>1</td>\n",
              "    </tr>\n",
              "    <tr>\n",
              "      <th>4</th>\n",
              "      <td>1</td>\n",
              "      <td>0</td>\n",
              "      <td>1</td>\n",
              "      <td>0</td>\n",
              "      <td>0</td>\n",
              "      <td>1</td>\n",
              "      <td>0</td>\n",
              "      <td>0</td>\n",
              "      <td>1</td>\n",
              "    </tr>\n",
              "    <tr>\n",
              "      <th>5</th>\n",
              "      <td>1</td>\n",
              "      <td>0</td>\n",
              "      <td>1</td>\n",
              "      <td>0</td>\n",
              "      <td>1</td>\n",
              "      <td>1</td>\n",
              "      <td>0</td>\n",
              "      <td>0</td>\n",
              "      <td>0</td>\n",
              "    </tr>\n",
              "    <tr>\n",
              "      <th>6</th>\n",
              "      <td>1</td>\n",
              "      <td>0</td>\n",
              "      <td>0</td>\n",
              "      <td>1</td>\n",
              "      <td>0</td>\n",
              "      <td>1</td>\n",
              "      <td>1</td>\n",
              "      <td>0</td>\n",
              "      <td>0</td>\n",
              "    </tr>\n",
              "  </tbody>\n",
              "</table>\n",
              "</div>"
            ],
            "text/plain": [
              "   Потраченные_деньги_много  ...  Поедет\n",
              "0                         1  ...       0\n",
              "1                         0  ...       1\n",
              "2                         1  ...       0\n",
              "3                         0  ...       1\n",
              "4                         1  ...       1\n",
              "5                         1  ...       0\n",
              "6                         1  ...       0\n",
              "\n",
              "[7 rows x 9 columns]"
            ]
          },
          "metadata": {
            "tags": []
          },
          "execution_count": 23
        }
      ]
    },
    {
      "cell_type": "code",
      "metadata": {
        "collapsed": true,
        "id": "2cSERtuTp8_4"
      },
      "source": [
        "def best_feature_to_split(X, y):\n",
        "  ''' Выводит прирост информации при разбиении по каждому признаку'''\n",
        "  \n",
        "  # Ваш код здесь\n",
        "  # pass\n",
        "  columns = X.columns\n",
        "  X['y'] = y\n",
        "  root = y\n",
        "  igs = []\n",
        "  for column in columns:\n",
        "    left, right = X.groupby(column)['y'].apply(np.array)\n",
        "    igs.append(information_gain(root, left, right))\n",
        "  X.drop(columns='y', inplace=True)\n",
        "  return igs#, columns"
      ],
      "execution_count": null,
      "outputs": []
    },
    {
      "cell_type": "code",
      "metadata": {
        "colab": {
          "base_uri": "https://localhost:8080/"
        },
        "id": "Y4lEsLVSspWj",
        "outputId": "eaff6e9f-a07b-40ab-ea65-acd87dd640d0"
      },
      "source": [
        "igs = best_feature_to_split(X, y)\n",
        "igs"
      ],
      "execution_count": null,
      "outputs": [
        {
          "output_type": "execute_result",
          "data": {
            "text/plain": [
              "[0.469, 0.469, 0.128, 0.128, 0.291, 0.006, 0.02, 0.006]"
            ]
          },
          "metadata": {
            "tags": []
          },
          "execution_count": 25
        }
      ]
    },
    {
      "cell_type": "code",
      "metadata": {
        "colab": {
          "base_uri": "https://localhost:8080/"
        },
        "id": "YGTno6zku6z6",
        "outputId": "dc0b053c-75e2-46d9-e3a8-e15c82443720"
      },
      "source": [
        "# Разбиение производим по признаку:\n",
        "best_column_idx = np.where(igs==np.max(igs))[0][0]\n",
        "X.iloc[:, best_column_idx]"
      ],
      "execution_count": null,
      "outputs": [
        {
          "output_type": "execute_result",
          "data": {
            "text/plain": [
              "0    1\n",
              "1    0\n",
              "2    1\n",
              "3    0\n",
              "4    1\n",
              "5    1\n",
              "6    1\n",
              "Name: Потраченные_деньги_много, dtype: uint8"
            ]
          },
          "metadata": {
            "tags": []
          },
          "execution_count": 26
        }
      ]
    },
    {
      "cell_type": "code",
      "metadata": {
        "colab": {
          "base_uri": "https://localhost:8080/"
        },
        "id": "GBiyXJUZvx0Y",
        "outputId": "8c9583fb-f921-415a-a3ae-6d33ef5f7911"
      },
      "source": [
        "a = [0,3,5,2]\n",
        "a.index(max(a))"
      ],
      "execution_count": null,
      "outputs": [
        {
          "output_type": "execute_result",
          "data": {
            "text/plain": [
              "2"
            ]
          },
          "metadata": {
            "tags": []
          },
          "execution_count": 27
        }
      ]
    },
    {
      "cell_type": "markdown",
      "metadata": {
        "id": "_gvonT7Ep8_4"
      },
      "source": [
        "**Опционально:**\n",
        "\n",
        " - реализуйте алгоритм построения дерева за счет рекурсивного вызова функции `best_feature_to_split`\n",
        " - нарисуйте полученное дерево\n",
        "\n",
        "\n",
        " *Похожее задание выполнял ранее, логика и алгоритм ясны, пропускаю.*"
      ]
    },
    {
      "cell_type": "code",
      "metadata": {
        "id": "SmMTgdVywhzR"
      },
      "source": [
        "# Пример ответа\n",
        "def btree(X,y):\n",
        "    clf = best_feature_to_split(X, y)\n",
        "    param = clf.index(max(clf))\n",
        "    ly = y[X.ix[:,param] == 0]\n",
        "    ry = y[X.ix[:,param] == 1]\n",
        "    print ('Column_' + str(param) + ' N/Y?')\n",
        "    print ('Entropy: ',entropy (ly), entropy (ry))\n",
        "    print ('N count:',ly.count(),'/', 'Y count:',ry.count())\n",
        "    if entropy (ly) != 0:\n",
        "        left = X[X.ix[:,param] == 0]\n",
        "        btree(left, ly)\n",
        "    if entropy (ry) != 0:\n",
        "        right = X[X.ix[:,param] == 1]\n",
        "        btree(right, ry)"
      ],
      "execution_count": null,
      "outputs": []
    },
    {
      "cell_type": "markdown",
      "metadata": {
        "id": "jh52P4f0p8_5"
      },
      "source": [
        "## Часть 3. Набор данных \"Adult\""
      ]
    },
    {
      "cell_type": "markdown",
      "metadata": {
        "id": "EC7dwY7Sp8_5"
      },
      "source": [
        "**Описание набора:**"
      ]
    },
    {
      "cell_type": "markdown",
      "metadata": {
        "id": "lOnY1nx-p8_5"
      },
      "source": [
        "**[Набор](http://archive.ics.uci.edu/ml/machine-learning-databases/adult) данных UCI Adult** (качать не надо, все есть в репозитории): классификация людей с помощью демографических данных для прогнозирования, зарабатывает ли человек более \\$ 50 000 в год.\n",
        "\n",
        "Описание признаков: \n",
        "\n",
        "**Age** – возраст, количественный признак  \n",
        "**Workclass** – тип работодателя, количественный признак  \n",
        "**fnlwgt** – итоговый вес обьекта, количественный признак    \n",
        "**Education** – уровень образования, качественный признак  \n",
        "**Education_Num** – количество лет обучения, количественный признак  \n",
        "**Martial_Status** – семейное положение, категориальный признак  \n",
        "**Occupation** – профессия, категориальный признак  \n",
        "**Relationship** – тип семейных отношений, категориальный признак    \n",
        "**Race** – раса, категориальный признак  \n",
        "**Sex** – пол, качественный признак  \n",
        "**Capital_Gain** – прирост капитала, количественный признак  \n",
        "**Capital_Loss** – потери капитала, количественный признак  \n",
        "**Hours_per_week** – количество часов работы в неделю, количественный признак  \n",
        "**Country** – страна, категориальный признак  \n",
        "   \n",
        "Целевая переменная: **Target** – уровень заработка, категориальный (бинарный) признак  "
      ]
    },
    {
      "cell_type": "markdown",
      "metadata": {
        "id": "yeMdDCX1p8_6"
      },
      "source": [
        "**Считываем обучающую и тестовую выборки.**"
      ]
    },
    {
      "cell_type": "code",
      "metadata": {
        "id": "6ycL04Wxp8_7",
        "colab": {
          "base_uri": "https://localhost:8080/",
          "height": 279
        },
        "outputId": "90ed1b20-8df7-4d69-b52a-e0a404e0d5a0"
      },
      "source": [
        "data_train = pd.read_csv('data/adult_train.csv', sep=';') \n",
        "data_train.tail()"
      ],
      "execution_count": null,
      "outputs": [
        {
          "output_type": "execute_result",
          "data": {
            "text/html": [
              "<div>\n",
              "<style scoped>\n",
              "    .dataframe tbody tr th:only-of-type {\n",
              "        vertical-align: middle;\n",
              "    }\n",
              "\n",
              "    .dataframe tbody tr th {\n",
              "        vertical-align: top;\n",
              "    }\n",
              "\n",
              "    .dataframe thead th {\n",
              "        text-align: right;\n",
              "    }\n",
              "</style>\n",
              "<table border=\"1\" class=\"dataframe\">\n",
              "  <thead>\n",
              "    <tr style=\"text-align: right;\">\n",
              "      <th></th>\n",
              "      <th>Age</th>\n",
              "      <th>Workclass</th>\n",
              "      <th>fnlwgt</th>\n",
              "      <th>Education</th>\n",
              "      <th>Education_Num</th>\n",
              "      <th>Martial_Status</th>\n",
              "      <th>Occupation</th>\n",
              "      <th>Relationship</th>\n",
              "      <th>Race</th>\n",
              "      <th>Sex</th>\n",
              "      <th>Capital_Gain</th>\n",
              "      <th>Capital_Loss</th>\n",
              "      <th>Hours_per_week</th>\n",
              "      <th>Country</th>\n",
              "      <th>Target</th>\n",
              "    </tr>\n",
              "  </thead>\n",
              "  <tbody>\n",
              "    <tr>\n",
              "      <th>32556</th>\n",
              "      <td>27</td>\n",
              "      <td>Private</td>\n",
              "      <td>257302</td>\n",
              "      <td>Assoc-acdm</td>\n",
              "      <td>12</td>\n",
              "      <td>Married-civ-spouse</td>\n",
              "      <td>Tech-support</td>\n",
              "      <td>Wife</td>\n",
              "      <td>White</td>\n",
              "      <td>Female</td>\n",
              "      <td>0</td>\n",
              "      <td>0</td>\n",
              "      <td>38</td>\n",
              "      <td>United-States</td>\n",
              "      <td>&lt;=50K</td>\n",
              "    </tr>\n",
              "    <tr>\n",
              "      <th>32557</th>\n",
              "      <td>40</td>\n",
              "      <td>Private</td>\n",
              "      <td>154374</td>\n",
              "      <td>HS-grad</td>\n",
              "      <td>9</td>\n",
              "      <td>Married-civ-spouse</td>\n",
              "      <td>Machine-op-inspct</td>\n",
              "      <td>Husband</td>\n",
              "      <td>White</td>\n",
              "      <td>Male</td>\n",
              "      <td>0</td>\n",
              "      <td>0</td>\n",
              "      <td>40</td>\n",
              "      <td>United-States</td>\n",
              "      <td>&gt;50K</td>\n",
              "    </tr>\n",
              "    <tr>\n",
              "      <th>32558</th>\n",
              "      <td>58</td>\n",
              "      <td>Private</td>\n",
              "      <td>151910</td>\n",
              "      <td>HS-grad</td>\n",
              "      <td>9</td>\n",
              "      <td>Widowed</td>\n",
              "      <td>Adm-clerical</td>\n",
              "      <td>Unmarried</td>\n",
              "      <td>White</td>\n",
              "      <td>Female</td>\n",
              "      <td>0</td>\n",
              "      <td>0</td>\n",
              "      <td>40</td>\n",
              "      <td>United-States</td>\n",
              "      <td>&lt;=50K</td>\n",
              "    </tr>\n",
              "    <tr>\n",
              "      <th>32559</th>\n",
              "      <td>22</td>\n",
              "      <td>Private</td>\n",
              "      <td>201490</td>\n",
              "      <td>HS-grad</td>\n",
              "      <td>9</td>\n",
              "      <td>Never-married</td>\n",
              "      <td>Adm-clerical</td>\n",
              "      <td>Own-child</td>\n",
              "      <td>White</td>\n",
              "      <td>Male</td>\n",
              "      <td>0</td>\n",
              "      <td>0</td>\n",
              "      <td>20</td>\n",
              "      <td>United-States</td>\n",
              "      <td>&lt;=50K</td>\n",
              "    </tr>\n",
              "    <tr>\n",
              "      <th>32560</th>\n",
              "      <td>52</td>\n",
              "      <td>Self-emp-inc</td>\n",
              "      <td>287927</td>\n",
              "      <td>HS-grad</td>\n",
              "      <td>9</td>\n",
              "      <td>Married-civ-spouse</td>\n",
              "      <td>Exec-managerial</td>\n",
              "      <td>Wife</td>\n",
              "      <td>White</td>\n",
              "      <td>Female</td>\n",
              "      <td>15024</td>\n",
              "      <td>0</td>\n",
              "      <td>40</td>\n",
              "      <td>United-States</td>\n",
              "      <td>&gt;50K</td>\n",
              "    </tr>\n",
              "  </tbody>\n",
              "</table>\n",
              "</div>"
            ],
            "text/plain": [
              "       Age      Workclass  fnlwgt  ... Hours_per_week         Country  Target\n",
              "32556   27        Private  257302  ...             38   United-States   <=50K\n",
              "32557   40        Private  154374  ...             40   United-States    >50K\n",
              "32558   58        Private  151910  ...             40   United-States   <=50K\n",
              "32559   22        Private  201490  ...             20   United-States   <=50K\n",
              "32560   52   Self-emp-inc  287927  ...             40   United-States    >50K\n",
              "\n",
              "[5 rows x 15 columns]"
            ]
          },
          "metadata": {
            "tags": []
          },
          "execution_count": 29
        }
      ]
    },
    {
      "cell_type": "code",
      "metadata": {
        "collapsed": true,
        "id": "qHMi1iedp8_7",
        "colab": {
          "base_uri": "https://localhost:8080/",
          "height": 279
        },
        "outputId": "d9a58af4-7abf-4490-a65a-dbcb13875b4a"
      },
      "source": [
        "data_test = pd.read_csv('data/adult_test.csv', sep=';') \n",
        "data_test.tail()"
      ],
      "execution_count": null,
      "outputs": [
        {
          "output_type": "execute_result",
          "data": {
            "text/html": [
              "<div>\n",
              "<style scoped>\n",
              "    .dataframe tbody tr th:only-of-type {\n",
              "        vertical-align: middle;\n",
              "    }\n",
              "\n",
              "    .dataframe tbody tr th {\n",
              "        vertical-align: top;\n",
              "    }\n",
              "\n",
              "    .dataframe thead th {\n",
              "        text-align: right;\n",
              "    }\n",
              "</style>\n",
              "<table border=\"1\" class=\"dataframe\">\n",
              "  <thead>\n",
              "    <tr style=\"text-align: right;\">\n",
              "      <th></th>\n",
              "      <th>Age</th>\n",
              "      <th>Workclass</th>\n",
              "      <th>fnlwgt</th>\n",
              "      <th>Education</th>\n",
              "      <th>Education_Num</th>\n",
              "      <th>Martial_Status</th>\n",
              "      <th>Occupation</th>\n",
              "      <th>Relationship</th>\n",
              "      <th>Race</th>\n",
              "      <th>Sex</th>\n",
              "      <th>Capital_Gain</th>\n",
              "      <th>Capital_Loss</th>\n",
              "      <th>Hours_per_week</th>\n",
              "      <th>Country</th>\n",
              "      <th>Target</th>\n",
              "    </tr>\n",
              "  </thead>\n",
              "  <tbody>\n",
              "    <tr>\n",
              "      <th>16277</th>\n",
              "      <td>39</td>\n",
              "      <td>Private</td>\n",
              "      <td>215419.0</td>\n",
              "      <td>Bachelors</td>\n",
              "      <td>13.0</td>\n",
              "      <td>Divorced</td>\n",
              "      <td>Prof-specialty</td>\n",
              "      <td>Not-in-family</td>\n",
              "      <td>White</td>\n",
              "      <td>Female</td>\n",
              "      <td>0.0</td>\n",
              "      <td>0.0</td>\n",
              "      <td>36.0</td>\n",
              "      <td>United-States</td>\n",
              "      <td>&lt;=50K.</td>\n",
              "    </tr>\n",
              "    <tr>\n",
              "      <th>16278</th>\n",
              "      <td>64</td>\n",
              "      <td>NaN</td>\n",
              "      <td>321403.0</td>\n",
              "      <td>HS-grad</td>\n",
              "      <td>9.0</td>\n",
              "      <td>Widowed</td>\n",
              "      <td>NaN</td>\n",
              "      <td>Other-relative</td>\n",
              "      <td>Black</td>\n",
              "      <td>Male</td>\n",
              "      <td>0.0</td>\n",
              "      <td>0.0</td>\n",
              "      <td>40.0</td>\n",
              "      <td>United-States</td>\n",
              "      <td>&lt;=50K.</td>\n",
              "    </tr>\n",
              "    <tr>\n",
              "      <th>16279</th>\n",
              "      <td>38</td>\n",
              "      <td>Private</td>\n",
              "      <td>374983.0</td>\n",
              "      <td>Bachelors</td>\n",
              "      <td>13.0</td>\n",
              "      <td>Married-civ-spouse</td>\n",
              "      <td>Prof-specialty</td>\n",
              "      <td>Husband</td>\n",
              "      <td>White</td>\n",
              "      <td>Male</td>\n",
              "      <td>0.0</td>\n",
              "      <td>0.0</td>\n",
              "      <td>50.0</td>\n",
              "      <td>United-States</td>\n",
              "      <td>&lt;=50K.</td>\n",
              "    </tr>\n",
              "    <tr>\n",
              "      <th>16280</th>\n",
              "      <td>44</td>\n",
              "      <td>Private</td>\n",
              "      <td>83891.0</td>\n",
              "      <td>Bachelors</td>\n",
              "      <td>13.0</td>\n",
              "      <td>Divorced</td>\n",
              "      <td>Adm-clerical</td>\n",
              "      <td>Own-child</td>\n",
              "      <td>Asian-Pac-Islander</td>\n",
              "      <td>Male</td>\n",
              "      <td>5455.0</td>\n",
              "      <td>0.0</td>\n",
              "      <td>40.0</td>\n",
              "      <td>United-States</td>\n",
              "      <td>&lt;=50K.</td>\n",
              "    </tr>\n",
              "    <tr>\n",
              "      <th>16281</th>\n",
              "      <td>35</td>\n",
              "      <td>Self-emp-inc</td>\n",
              "      <td>182148.0</td>\n",
              "      <td>Bachelors</td>\n",
              "      <td>13.0</td>\n",
              "      <td>Married-civ-spouse</td>\n",
              "      <td>Exec-managerial</td>\n",
              "      <td>Husband</td>\n",
              "      <td>White</td>\n",
              "      <td>Male</td>\n",
              "      <td>0.0</td>\n",
              "      <td>0.0</td>\n",
              "      <td>60.0</td>\n",
              "      <td>United-States</td>\n",
              "      <td>&gt;50K.</td>\n",
              "    </tr>\n",
              "  </tbody>\n",
              "</table>\n",
              "</div>"
            ],
            "text/plain": [
              "      Age      Workclass    fnlwgt  ... Hours_per_week         Country   Target\n",
              "16277  39        Private  215419.0  ...           36.0   United-States   <=50K.\n",
              "16278  64            NaN  321403.0  ...           40.0   United-States   <=50K.\n",
              "16279  38        Private  374983.0  ...           50.0   United-States   <=50K.\n",
              "16280  44        Private   83891.0  ...           40.0   United-States   <=50K.\n",
              "16281  35   Self-emp-inc  182148.0  ...           60.0   United-States    >50K.\n",
              "\n",
              "[5 rows x 15 columns]"
            ]
          },
          "metadata": {
            "tags": []
          },
          "execution_count": 30
        }
      ]
    },
    {
      "cell_type": "code",
      "metadata": {
        "collapsed": true,
        "id": "yO3b3JlWp8_8"
      },
      "source": [
        "# необходимо убрать строки с неправильными метками в тестовой выборке\n",
        "data_test = data_test[(data_test['Target'] == ' >50K.') \n",
        "                    | (data_test['Target'] == ' <=50K.')]\n",
        "\n",
        "# перекодируем target в числовое поле\n",
        "data_train.at[data_train['Target'] == ' <=50K', 'Target'] = 0\n",
        "data_train.at[data_train['Target'] == ' >50K', 'Target'] = 1\n",
        "\n",
        "data_test.at[data_test['Target'] == ' <=50K.', 'Target'] = 0\n",
        "data_test.at[data_test['Target'] == ' >50K.', 'Target'] = 1"
      ],
      "execution_count": null,
      "outputs": []
    },
    {
      "cell_type": "markdown",
      "metadata": {
        "id": "mSUCglIhp8_8"
      },
      "source": [
        "**Первичный анализ данных.**"
      ]
    },
    {
      "cell_type": "code",
      "metadata": {
        "id": "xrWBfTz2p8_8",
        "colab": {
          "base_uri": "https://localhost:8080/",
          "height": 491
        },
        "outputId": "a339a00a-005c-4de6-f520-b236fc44d1ea"
      },
      "source": [
        "data_test.describe(include='all').T"
      ],
      "execution_count": null,
      "outputs": [
        {
          "output_type": "execute_result",
          "data": {
            "text/html": [
              "<div>\n",
              "<style scoped>\n",
              "    .dataframe tbody tr th:only-of-type {\n",
              "        vertical-align: middle;\n",
              "    }\n",
              "\n",
              "    .dataframe tbody tr th {\n",
              "        vertical-align: top;\n",
              "    }\n",
              "\n",
              "    .dataframe thead th {\n",
              "        text-align: right;\n",
              "    }\n",
              "</style>\n",
              "<table border=\"1\" class=\"dataframe\">\n",
              "  <thead>\n",
              "    <tr style=\"text-align: right;\">\n",
              "      <th></th>\n",
              "      <th>count</th>\n",
              "      <th>unique</th>\n",
              "      <th>top</th>\n",
              "      <th>freq</th>\n",
              "      <th>mean</th>\n",
              "      <th>std</th>\n",
              "      <th>min</th>\n",
              "      <th>25%</th>\n",
              "      <th>50%</th>\n",
              "      <th>75%</th>\n",
              "      <th>max</th>\n",
              "    </tr>\n",
              "  </thead>\n",
              "  <tbody>\n",
              "    <tr>\n",
              "      <th>Age</th>\n",
              "      <td>16281</td>\n",
              "      <td>73</td>\n",
              "      <td>35</td>\n",
              "      <td>461</td>\n",
              "      <td>NaN</td>\n",
              "      <td>NaN</td>\n",
              "      <td>NaN</td>\n",
              "      <td>NaN</td>\n",
              "      <td>NaN</td>\n",
              "      <td>NaN</td>\n",
              "      <td>NaN</td>\n",
              "    </tr>\n",
              "    <tr>\n",
              "      <th>Workclass</th>\n",
              "      <td>15318</td>\n",
              "      <td>8</td>\n",
              "      <td>Private</td>\n",
              "      <td>11210</td>\n",
              "      <td>NaN</td>\n",
              "      <td>NaN</td>\n",
              "      <td>NaN</td>\n",
              "      <td>NaN</td>\n",
              "      <td>NaN</td>\n",
              "      <td>NaN</td>\n",
              "      <td>NaN</td>\n",
              "    </tr>\n",
              "    <tr>\n",
              "      <th>fnlwgt</th>\n",
              "      <td>16281</td>\n",
              "      <td>NaN</td>\n",
              "      <td>NaN</td>\n",
              "      <td>NaN</td>\n",
              "      <td>189436</td>\n",
              "      <td>105715</td>\n",
              "      <td>13492</td>\n",
              "      <td>116736</td>\n",
              "      <td>177831</td>\n",
              "      <td>238384</td>\n",
              "      <td>1.4904e+06</td>\n",
              "    </tr>\n",
              "    <tr>\n",
              "      <th>Education</th>\n",
              "      <td>16281</td>\n",
              "      <td>16</td>\n",
              "      <td>HS-grad</td>\n",
              "      <td>5283</td>\n",
              "      <td>NaN</td>\n",
              "      <td>NaN</td>\n",
              "      <td>NaN</td>\n",
              "      <td>NaN</td>\n",
              "      <td>NaN</td>\n",
              "      <td>NaN</td>\n",
              "      <td>NaN</td>\n",
              "    </tr>\n",
              "    <tr>\n",
              "      <th>Education_Num</th>\n",
              "      <td>16281</td>\n",
              "      <td>NaN</td>\n",
              "      <td>NaN</td>\n",
              "      <td>NaN</td>\n",
              "      <td>10.0729</td>\n",
              "      <td>2.56755</td>\n",
              "      <td>1</td>\n",
              "      <td>9</td>\n",
              "      <td>10</td>\n",
              "      <td>12</td>\n",
              "      <td>16</td>\n",
              "    </tr>\n",
              "    <tr>\n",
              "      <th>Martial_Status</th>\n",
              "      <td>16281</td>\n",
              "      <td>7</td>\n",
              "      <td>Married-civ-spouse</td>\n",
              "      <td>7403</td>\n",
              "      <td>NaN</td>\n",
              "      <td>NaN</td>\n",
              "      <td>NaN</td>\n",
              "      <td>NaN</td>\n",
              "      <td>NaN</td>\n",
              "      <td>NaN</td>\n",
              "      <td>NaN</td>\n",
              "    </tr>\n",
              "    <tr>\n",
              "      <th>Occupation</th>\n",
              "      <td>15315</td>\n",
              "      <td>14</td>\n",
              "      <td>Prof-specialty</td>\n",
              "      <td>2032</td>\n",
              "      <td>NaN</td>\n",
              "      <td>NaN</td>\n",
              "      <td>NaN</td>\n",
              "      <td>NaN</td>\n",
              "      <td>NaN</td>\n",
              "      <td>NaN</td>\n",
              "      <td>NaN</td>\n",
              "    </tr>\n",
              "    <tr>\n",
              "      <th>Relationship</th>\n",
              "      <td>16281</td>\n",
              "      <td>6</td>\n",
              "      <td>Husband</td>\n",
              "      <td>6523</td>\n",
              "      <td>NaN</td>\n",
              "      <td>NaN</td>\n",
              "      <td>NaN</td>\n",
              "      <td>NaN</td>\n",
              "      <td>NaN</td>\n",
              "      <td>NaN</td>\n",
              "      <td>NaN</td>\n",
              "    </tr>\n",
              "    <tr>\n",
              "      <th>Race</th>\n",
              "      <td>16281</td>\n",
              "      <td>5</td>\n",
              "      <td>White</td>\n",
              "      <td>13946</td>\n",
              "      <td>NaN</td>\n",
              "      <td>NaN</td>\n",
              "      <td>NaN</td>\n",
              "      <td>NaN</td>\n",
              "      <td>NaN</td>\n",
              "      <td>NaN</td>\n",
              "      <td>NaN</td>\n",
              "    </tr>\n",
              "    <tr>\n",
              "      <th>Sex</th>\n",
              "      <td>16281</td>\n",
              "      <td>2</td>\n",
              "      <td>Male</td>\n",
              "      <td>10860</td>\n",
              "      <td>NaN</td>\n",
              "      <td>NaN</td>\n",
              "      <td>NaN</td>\n",
              "      <td>NaN</td>\n",
              "      <td>NaN</td>\n",
              "      <td>NaN</td>\n",
              "      <td>NaN</td>\n",
              "    </tr>\n",
              "    <tr>\n",
              "      <th>Capital_Gain</th>\n",
              "      <td>16281</td>\n",
              "      <td>NaN</td>\n",
              "      <td>NaN</td>\n",
              "      <td>NaN</td>\n",
              "      <td>1081.91</td>\n",
              "      <td>7583.94</td>\n",
              "      <td>0</td>\n",
              "      <td>0</td>\n",
              "      <td>0</td>\n",
              "      <td>0</td>\n",
              "      <td>99999</td>\n",
              "    </tr>\n",
              "    <tr>\n",
              "      <th>Capital_Loss</th>\n",
              "      <td>16281</td>\n",
              "      <td>NaN</td>\n",
              "      <td>NaN</td>\n",
              "      <td>NaN</td>\n",
              "      <td>87.8993</td>\n",
              "      <td>403.105</td>\n",
              "      <td>0</td>\n",
              "      <td>0</td>\n",
              "      <td>0</td>\n",
              "      <td>0</td>\n",
              "      <td>3770</td>\n",
              "    </tr>\n",
              "    <tr>\n",
              "      <th>Hours_per_week</th>\n",
              "      <td>16281</td>\n",
              "      <td>NaN</td>\n",
              "      <td>NaN</td>\n",
              "      <td>NaN</td>\n",
              "      <td>40.3922</td>\n",
              "      <td>12.4793</td>\n",
              "      <td>1</td>\n",
              "      <td>40</td>\n",
              "      <td>40</td>\n",
              "      <td>45</td>\n",
              "      <td>99</td>\n",
              "    </tr>\n",
              "    <tr>\n",
              "      <th>Country</th>\n",
              "      <td>16007</td>\n",
              "      <td>40</td>\n",
              "      <td>United-States</td>\n",
              "      <td>14662</td>\n",
              "      <td>NaN</td>\n",
              "      <td>NaN</td>\n",
              "      <td>NaN</td>\n",
              "      <td>NaN</td>\n",
              "      <td>NaN</td>\n",
              "      <td>NaN</td>\n",
              "      <td>NaN</td>\n",
              "    </tr>\n",
              "    <tr>\n",
              "      <th>Target</th>\n",
              "      <td>16281</td>\n",
              "      <td>2</td>\n",
              "      <td>0</td>\n",
              "      <td>12435</td>\n",
              "      <td>NaN</td>\n",
              "      <td>NaN</td>\n",
              "      <td>NaN</td>\n",
              "      <td>NaN</td>\n",
              "      <td>NaN</td>\n",
              "      <td>NaN</td>\n",
              "      <td>NaN</td>\n",
              "    </tr>\n",
              "  </tbody>\n",
              "</table>\n",
              "</div>"
            ],
            "text/plain": [
              "                count unique                  top  ...     50%     75%         max\n",
              "Age             16281     73                   35  ...     NaN     NaN         NaN\n",
              "Workclass       15318      8              Private  ...     NaN     NaN         NaN\n",
              "fnlwgt          16281    NaN                  NaN  ...  177831  238384  1.4904e+06\n",
              "Education       16281     16              HS-grad  ...     NaN     NaN         NaN\n",
              "Education_Num   16281    NaN                  NaN  ...      10      12          16\n",
              "Martial_Status  16281      7   Married-civ-spouse  ...     NaN     NaN         NaN\n",
              "Occupation      15315     14       Prof-specialty  ...     NaN     NaN         NaN\n",
              "Relationship    16281      6              Husband  ...     NaN     NaN         NaN\n",
              "Race            16281      5                White  ...     NaN     NaN         NaN\n",
              "Sex             16281      2                 Male  ...     NaN     NaN         NaN\n",
              "Capital_Gain    16281    NaN                  NaN  ...       0       0       99999\n",
              "Capital_Loss    16281    NaN                  NaN  ...       0       0        3770\n",
              "Hours_per_week  16281    NaN                  NaN  ...      40      45          99\n",
              "Country         16007     40        United-States  ...     NaN     NaN         NaN\n",
              "Target          16281      2                    0  ...     NaN     NaN         NaN\n",
              "\n",
              "[15 rows x 11 columns]"
            ]
          },
          "metadata": {
            "tags": []
          },
          "execution_count": 32
        }
      ]
    },
    {
      "cell_type": "code",
      "metadata": {
        "id": "n7qTK7WSp8_9",
        "colab": {
          "base_uri": "https://localhost:8080/"
        },
        "outputId": "bd5c0925-a58e-44fe-e3e3-b24b955cd12c"
      },
      "source": [
        "data_train['Target'].value_counts()"
      ],
      "execution_count": null,
      "outputs": [
        {
          "output_type": "execute_result",
          "data": {
            "text/plain": [
              "0    24720\n",
              "1     7841\n",
              "Name: Target, dtype: int64"
            ]
          },
          "metadata": {
            "tags": []
          },
          "execution_count": 33
        }
      ]
    },
    {
      "cell_type": "code",
      "metadata": {
        "id": "XvNSNWqup8_9",
        "colab": {
          "base_uri": "https://localhost:8080/"
        },
        "outputId": "4b10494c-2ce8-45ce-94a7-3612b8badc09"
      },
      "source": [
        "fig = plt.figure(figsize=(25, 15))\n",
        "cols = 5\n",
        "rows = np.ceil(float(data_train.shape[1]) / cols)\n",
        "for i, column in enumerate(data_train.columns):\n",
        "    ax = fig.add_subplot(rows, cols, i + 1)\n",
        "    ax.set_title(column)\n",
        "    if data_train.dtypes[column] == np.object:\n",
        "        data_train[column].value_counts().plot(kind=\"bar\", axes=ax)\n",
        "    else:\n",
        "        data_train[column].hist(axes=ax)\n",
        "        plt.xticks(rotation=\"vertical\")\n",
        "plt.subplots_adjust(hspace=0.7, wspace=0.2)"
      ],
      "execution_count": null,
      "outputs": [
        {
          "output_type": "display_data",
          "data": {
            "image/png": "[encoded data removed]",
            "text/plain": [
              "<Figure size 1800x1080 with 15 Axes>"
            ]
          },
          "metadata": {
            "tags": [],
            "needs_background": "light"
          }
        }
      ]
    },
    {
      "cell_type": "markdown",
      "metadata": {
        "id": "1I3B65T1p8_-"
      },
      "source": [
        "**Проверяем типы данных**"
      ]
    },
    {
      "cell_type": "code",
      "metadata": {
        "id": "low6jWB_p8_-",
        "colab": {
          "base_uri": "https://localhost:8080/"
        },
        "outputId": "cd6bc25b-fdfc-49b4-ee7f-700bc7033f27"
      },
      "source": [
        "data_train.dtypes"
      ],
      "execution_count": null,
      "outputs": [
        {
          "output_type": "execute_result",
          "data": {
            "text/plain": [
              "Age                int64\n",
              "Workclass         object\n",
              "fnlwgt             int64\n",
              "Education         object\n",
              "Education_Num      int64\n",
              "Martial_Status    object\n",
              "Occupation        object\n",
              "Relationship      object\n",
              "Race              object\n",
              "Sex               object\n",
              "Capital_Gain       int64\n",
              "Capital_Loss       int64\n",
              "Hours_per_week     int64\n",
              "Country           object\n",
              "Target            object\n",
              "dtype: object"
            ]
          },
          "metadata": {
            "tags": []
          },
          "execution_count": 35
        }
      ]
    },
    {
      "cell_type": "code",
      "metadata": {
        "id": "bIgrDIuap8_-",
        "colab": {
          "base_uri": "https://localhost:8080/"
        },
        "outputId": "754f5591-7ccd-4342-b5eb-e8e44b91fd71"
      },
      "source": [
        "data_test.dtypes"
      ],
      "execution_count": null,
      "outputs": [
        {
          "output_type": "execute_result",
          "data": {
            "text/plain": [
              "Age                object\n",
              "Workclass          object\n",
              "fnlwgt            float64\n",
              "Education          object\n",
              "Education_Num     float64\n",
              "Martial_Status     object\n",
              "Occupation         object\n",
              "Relationship       object\n",
              "Race               object\n",
              "Sex                object\n",
              "Capital_Gain      float64\n",
              "Capital_Loss      float64\n",
              "Hours_per_week    float64\n",
              "Country            object\n",
              "Target             object\n",
              "dtype: object"
            ]
          },
          "metadata": {
            "tags": []
          },
          "execution_count": 36
        }
      ]
    },
    {
      "cell_type": "markdown",
      "metadata": {
        "id": "ETgTY_kAp8_-"
      },
      "source": [
        "Выяснилось, что в тесте возраст отнесен к типу object, необходимо это исправить."
      ]
    },
    {
      "cell_type": "code",
      "metadata": {
        "collapsed": true,
        "id": "A2_EXDVap8_-"
      },
      "source": [
        "data_test['Age'] = data_test['Age'].astype(int)"
      ],
      "execution_count": null,
      "outputs": []
    },
    {
      "cell_type": "markdown",
      "metadata": {
        "id": "Ljkqx2mKp8__"
      },
      "source": [
        "Также приведем показатели типа float в int для соответствия train и test выборок."
      ]
    },
    {
      "cell_type": "code",
      "metadata": {
        "collapsed": true,
        "id": "5rlQJOyMp8__"
      },
      "source": [
        "data_test['fnlwgt'] = data_test['fnlwgt'].astype(int)\n",
        "data_test['Education_Num'] = data_test['Education_Num'].astype(int)\n",
        "data_test['Capital_Gain'] = data_test['Capital_Gain'].astype(int)\n",
        "data_test['Capital_Loss'] = data_test['Capital_Loss'].astype(int)\n",
        "data_test['Hours_per_week'] = data_test['Hours_per_week'].astype(int)"
      ],
      "execution_count": null,
      "outputs": []
    },
    {
      "cell_type": "markdown",
      "metadata": {
        "id": "-dhFbpbSp8__"
      },
      "source": [
        "**Заполним пропуски в количественных полях медианными значениями, а в категориальных – наиболее часто встречающимся значением**"
      ]
    },
    {
      "cell_type": "code",
      "metadata": {
        "id": "LZ3VOv8xp8__",
        "colab": {
          "base_uri": "https://localhost:8080/"
        },
        "outputId": "97a80de2-92b9-46d4-d043-91e2b65c90d2"
      },
      "source": [
        "# выделим в выборках категориальные и числовые поля\n",
        "\n",
        "categorical_columns_train = [c for c in data_train.columns \n",
        "                             if data_train[c].dtype.name == 'object']\n",
        "numerical_columns_train = [c for c in data_train.columns \n",
        "                           if data_train[c].dtype.name != 'object']\n",
        "\n",
        "categorical_columns_test = [c for c in data_test.columns \n",
        "                            if data_test[c].dtype.name == 'object']\n",
        "numerical_columns_test = [c for c in data_test.columns \n",
        "                          if data_test[c].dtype.name != 'object']\n",
        "\n",
        "print('categorical_columns_test:', categorical_columns_test)\n",
        "print('categorical_columns_train:', categorical_columns_train)\n",
        "print('numerical_columns_test:', numerical_columns_test)\n",
        "print('numerical_columns_train:', numerical_columns_train)"
      ],
      "execution_count": null,
      "outputs": [
        {
          "output_type": "stream",
          "text": [
            "categorical_columns_test: ['Workclass', 'Education', 'Martial_Status', 'Occupation', 'Relationship', 'Race', 'Sex', 'Country', 'Target']\n",
            "categorical_columns_train: ['Workclass', 'Education', 'Martial_Status', 'Occupation', 'Relationship', 'Race', 'Sex', 'Country', 'Target']\n",
            "numerical_columns_test: ['Age', 'fnlwgt', 'Education_Num', 'Capital_Gain', 'Capital_Loss', 'Hours_per_week']\n",
            "numerical_columns_train: ['Age', 'fnlwgt', 'Education_Num', 'Capital_Gain', 'Capital_Loss', 'Hours_per_week']\n"
          ],
          "name": "stdout"
        }
      ]
    },
    {
      "cell_type": "code",
      "metadata": {
        "collapsed": true,
        "id": "foyoadOKp8__"
      },
      "source": [
        "# заполним пропуски\n",
        "\n",
        "for c in categorical_columns_train:\n",
        "    data_train[c] = data_train[c].fillna(data_train[c].mode())\n",
        "for c in categorical_columns_test:\n",
        "    data_test[c] = data_test[c].fillna(data_train[c].mode())\n",
        "    \n",
        "for c in numerical_columns_train:\n",
        "    data_train[c] = data_train[c].fillna(data_train[c].median())\n",
        "for c in numerical_columns_test:\n",
        "    data_test[c] = data_test[c].fillna(data_train[c].median())    "
      ],
      "execution_count": null,
      "outputs": []
    },
    {
      "cell_type": "markdown",
      "metadata": {
        "id": "HC_5LhLep9AA"
      },
      "source": [
        "**Кодируем категориальные признаки 'Workclass', 'Education', 'Martial_Status', 'Occupation', 'Relationship', 'Race', 'Sex', 'Country'. Это можно сделать с помощью метода `pandas get_dummies`.**"
      ]
    },
    {
      "cell_type": "code",
      "metadata": {
        "collapsed": true,
        "id": "9u6CR7zIp9AA"
      },
      "source": [
        "data_train = pd.concat([data_train, pd.get_dummies(data_train['Workclass'], \n",
        "                                                   prefix=\"Workclass\"),\n",
        "                      pd.get_dummies(data_train['Education'], prefix=\"Education\"),\n",
        "                      pd.get_dummies(data_train['Martial_Status'], prefix=\"Martial_Status\"),\n",
        "                      pd.get_dummies(data_train['Occupation'], prefix=\"Occupation\"),\n",
        "                      pd.get_dummies(data_train['Relationship'], prefix=\"Relationship\"),\n",
        "                      pd.get_dummies(data_train['Race'], prefix=\"Race\"),\n",
        "                      pd.get_dummies(data_train['Sex'], prefix=\"Sex\"),\n",
        "                      pd.get_dummies(data_train['Country'], prefix=\"Country\")],\n",
        "                     axis=1)\n",
        "\n",
        "data_test = pd.concat([data_test, pd.get_dummies(data_test['Workclass'], prefix=\"Workclass\"),\n",
        "                      pd.get_dummies(data_test['Education'], prefix=\"Education\"),\n",
        "                      pd.get_dummies(data_test['Martial_Status'], prefix=\"Martial_Status\"),\n",
        "                      pd.get_dummies(data_test['Occupation'], prefix=\"Occupation\"),\n",
        "                      pd.get_dummies(data_test['Relationship'], prefix=\"Relationship\"),\n",
        "                      pd.get_dummies(data_test['Race'], prefix=\"Race\"),\n",
        "                      pd.get_dummies(data_test['Sex'], prefix=\"Sex\"),\n",
        "                      pd.get_dummies(data_test['Country'], prefix=\"Country\")],\n",
        "                     axis=1)"
      ],
      "execution_count": null,
      "outputs": []
    },
    {
      "cell_type": "code",
      "metadata": {
        "collapsed": true,
        "id": "zTxHLxoZp9AA"
      },
      "source": [
        "data_train.drop(['Workclass', 'Education', 'Martial_Status',\n",
        "                 'Occupation', 'Relationship', 'Race', 'Sex', 'Country'],\n",
        "                axis=1, inplace=True)\n",
        "data_test.drop(['Workclass', 'Education', 'Martial_Status', 'Occupation', \n",
        "                'Relationship', 'Race', 'Sex', 'Country'],\n",
        "               axis=1, inplace=True)"
      ],
      "execution_count": null,
      "outputs": []
    },
    {
      "cell_type": "code",
      "metadata": {
        "id": "UXb_mHBKp9AB",
        "colab": {
          "base_uri": "https://localhost:8080/"
        },
        "outputId": "24f486a6-4bf3-4825-fd3e-a7d5fc79d32c"
      },
      "source": [
        "data_test.describe(include='all').T"
      ],
      "execution_count": null,
      "outputs": [
        {
          "output_type": "execute_result",
          "data": {
            "text/html": [
              "<div>\n",
              "<style scoped>\n",
              "    .dataframe tbody tr th:only-of-type {\n",
              "        vertical-align: middle;\n",
              "    }\n",
              "\n",
              "    .dataframe tbody tr th {\n",
              "        vertical-align: top;\n",
              "    }\n",
              "\n",
              "    .dataframe thead th {\n",
              "        text-align: right;\n",
              "    }\n",
              "</style>\n",
              "<table border=\"1\" class=\"dataframe\">\n",
              "  <thead>\n",
              "    <tr style=\"text-align: right;\">\n",
              "      <th></th>\n",
              "      <th>count</th>\n",
              "      <th>mean</th>\n",
              "      <th>std</th>\n",
              "      <th>min</th>\n",
              "      <th>25%</th>\n",
              "      <th>50%</th>\n",
              "      <th>75%</th>\n",
              "      <th>max</th>\n",
              "    </tr>\n",
              "  </thead>\n",
              "  <tbody>\n",
              "    <tr>\n",
              "      <th>Age</th>\n",
              "      <td>16281.0</td>\n",
              "      <td>38.767459</td>\n",
              "      <td>13.849187</td>\n",
              "      <td>17.0</td>\n",
              "      <td>28.0</td>\n",
              "      <td>37.0</td>\n",
              "      <td>48.0</td>\n",
              "      <td>90.0</td>\n",
              "    </tr>\n",
              "    <tr>\n",
              "      <th>fnlwgt</th>\n",
              "      <td>16281.0</td>\n",
              "      <td>189435.677784</td>\n",
              "      <td>105714.907671</td>\n",
              "      <td>13492.0</td>\n",
              "      <td>116736.0</td>\n",
              "      <td>177831.0</td>\n",
              "      <td>238384.0</td>\n",
              "      <td>1490400.0</td>\n",
              "    </tr>\n",
              "    <tr>\n",
              "      <th>Education_Num</th>\n",
              "      <td>16281.0</td>\n",
              "      <td>10.072907</td>\n",
              "      <td>2.567545</td>\n",
              "      <td>1.0</td>\n",
              "      <td>9.0</td>\n",
              "      <td>10.0</td>\n",
              "      <td>12.0</td>\n",
              "      <td>16.0</td>\n",
              "    </tr>\n",
              "    <tr>\n",
              "      <th>Capital_Gain</th>\n",
              "      <td>16281.0</td>\n",
              "      <td>1081.905104</td>\n",
              "      <td>7583.935968</td>\n",
              "      <td>0.0</td>\n",
              "      <td>0.0</td>\n",
              "      <td>0.0</td>\n",
              "      <td>0.0</td>\n",
              "      <td>99999.0</td>\n",
              "    </tr>\n",
              "    <tr>\n",
              "      <th>Capital_Loss</th>\n",
              "      <td>16281.0</td>\n",
              "      <td>87.899269</td>\n",
              "      <td>403.105286</td>\n",
              "      <td>0.0</td>\n",
              "      <td>0.0</td>\n",
              "      <td>0.0</td>\n",
              "      <td>0.0</td>\n",
              "      <td>3770.0</td>\n",
              "    </tr>\n",
              "    <tr>\n",
              "      <th>...</th>\n",
              "      <td>...</td>\n",
              "      <td>...</td>\n",
              "      <td>...</td>\n",
              "      <td>...</td>\n",
              "      <td>...</td>\n",
              "      <td>...</td>\n",
              "      <td>...</td>\n",
              "      <td>...</td>\n",
              "    </tr>\n",
              "    <tr>\n",
              "      <th>Country_ Thailand</th>\n",
              "      <td>16281.0</td>\n",
              "      <td>0.000737</td>\n",
              "      <td>0.027140</td>\n",
              "      <td>0.0</td>\n",
              "      <td>0.0</td>\n",
              "      <td>0.0</td>\n",
              "      <td>0.0</td>\n",
              "      <td>1.0</td>\n",
              "    </tr>\n",
              "    <tr>\n",
              "      <th>Country_ Trinadad&amp;Tobago</th>\n",
              "      <td>16281.0</td>\n",
              "      <td>0.000491</td>\n",
              "      <td>0.022162</td>\n",
              "      <td>0.0</td>\n",
              "      <td>0.0</td>\n",
              "      <td>0.0</td>\n",
              "      <td>0.0</td>\n",
              "      <td>1.0</td>\n",
              "    </tr>\n",
              "    <tr>\n",
              "      <th>Country_ United-States</th>\n",
              "      <td>16281.0</td>\n",
              "      <td>0.900559</td>\n",
              "      <td>0.299262</td>\n",
              "      <td>0.0</td>\n",
              "      <td>1.0</td>\n",
              "      <td>1.0</td>\n",
              "      <td>1.0</td>\n",
              "      <td>1.0</td>\n",
              "    </tr>\n",
              "    <tr>\n",
              "      <th>Country_ Vietnam</th>\n",
              "      <td>16281.0</td>\n",
              "      <td>0.001167</td>\n",
              "      <td>0.034143</td>\n",
              "      <td>0.0</td>\n",
              "      <td>0.0</td>\n",
              "      <td>0.0</td>\n",
              "      <td>0.0</td>\n",
              "      <td>1.0</td>\n",
              "    </tr>\n",
              "    <tr>\n",
              "      <th>Country_ Yugoslavia</th>\n",
              "      <td>16281.0</td>\n",
              "      <td>0.000430</td>\n",
              "      <td>0.020731</td>\n",
              "      <td>0.0</td>\n",
              "      <td>0.0</td>\n",
              "      <td>0.0</td>\n",
              "      <td>0.0</td>\n",
              "      <td>1.0</td>\n",
              "    </tr>\n",
              "  </tbody>\n",
              "</table>\n",
              "<p>105 rows × 8 columns</p>\n",
              "</div>"
            ],
            "text/plain": [
              "                            count           mean  ...       75%        max\n",
              "Age                       16281.0      38.767459  ...      48.0       90.0\n",
              "fnlwgt                    16281.0  189435.677784  ...  238384.0  1490400.0\n",
              "Education_Num             16281.0      10.072907  ...      12.0       16.0\n",
              "Capital_Gain              16281.0    1081.905104  ...       0.0    99999.0\n",
              "Capital_Loss              16281.0      87.899269  ...       0.0     3770.0\n",
              "...                           ...            ...  ...       ...        ...\n",
              "Country_ Thailand         16281.0       0.000737  ...       0.0        1.0\n",
              "Country_ Trinadad&Tobago  16281.0       0.000491  ...       0.0        1.0\n",
              "Country_ United-States    16281.0       0.900559  ...       1.0        1.0\n",
              "Country_ Vietnam          16281.0       0.001167  ...       0.0        1.0\n",
              "Country_ Yugoslavia       16281.0       0.000430  ...       0.0        1.0\n",
              "\n",
              "[105 rows x 8 columns]"
            ]
          },
          "metadata": {
            "tags": []
          },
          "execution_count": 43
        }
      ]
    },
    {
      "cell_type": "code",
      "metadata": {
        "id": "XXl27S5Op9AB",
        "colab": {
          "base_uri": "https://localhost:8080/"
        },
        "outputId": "33d9256d-829f-4338-f607-acc8f4a9f30c"
      },
      "source": [
        "set(data_train.columns) - set(data_test.columns)"
      ],
      "execution_count": null,
      "outputs": [
        {
          "output_type": "execute_result",
          "data": {
            "text/plain": [
              "{'Country_ Holand-Netherlands'}"
            ]
          },
          "metadata": {
            "tags": []
          },
          "execution_count": 44
        }
      ]
    },
    {
      "cell_type": "code",
      "metadata": {
        "id": "2Y_VkbhGp9AB",
        "colab": {
          "base_uri": "https://localhost:8080/"
        },
        "outputId": "5324ad45-d845-40c9-8925-8e7ad86042f7"
      },
      "source": [
        "data_train.shape, data_test.shape"
      ],
      "execution_count": null,
      "outputs": [
        {
          "output_type": "execute_result",
          "data": {
            "text/plain": [
              "((32561, 106), (16281, 105))"
            ]
          },
          "metadata": {
            "tags": []
          },
          "execution_count": 45
        }
      ]
    },
    {
      "cell_type": "markdown",
      "metadata": {
        "id": "PKJaW94sp9AB"
      },
      "source": [
        "**В тестовой выборке не оказалось Голландии. Заведем необходимый признак из нулей.**"
      ]
    },
    {
      "cell_type": "code",
      "metadata": {
        "collapsed": true,
        "id": "ubNVxnE4p9AC"
      },
      "source": [
        "data_test['Country_ Holand-Netherlands'] = np.zeros([data_test.shape[0], 1])"
      ],
      "execution_count": null,
      "outputs": []
    },
    {
      "cell_type": "code",
      "metadata": {
        "id": "NADpYSNVp9AC",
        "colab": {
          "base_uri": "https://localhost:8080/"
        },
        "outputId": "d2d6555d-54fb-4e87-bde5-1a6d130839bf"
      },
      "source": [
        "set(data_train.columns) - set(data_test.columns)"
      ],
      "execution_count": null,
      "outputs": [
        {
          "output_type": "execute_result",
          "data": {
            "text/plain": [
              "set()"
            ]
          },
          "metadata": {
            "tags": []
          },
          "execution_count": 47
        }
      ]
    },
    {
      "cell_type": "code",
      "metadata": {
        "id": "NE6oVUfLp9AC",
        "colab": {
          "base_uri": "https://localhost:8080/",
          "height": 206
        },
        "outputId": "1f2d07d3-295d-4d65-a0ff-a1c97f221003"
      },
      "source": [
        "data_train.head(2)"
      ],
      "execution_count": null,
      "outputs": [
        {
          "output_type": "execute_result",
          "data": {
            "text/html": [
              "<div>\n",
              "<style scoped>\n",
              "    .dataframe tbody tr th:only-of-type {\n",
              "        vertical-align: middle;\n",
              "    }\n",
              "\n",
              "    .dataframe tbody tr th {\n",
              "        vertical-align: top;\n",
              "    }\n",
              "\n",
              "    .dataframe thead th {\n",
              "        text-align: right;\n",
              "    }\n",
              "</style>\n",
              "<table border=\"1\" class=\"dataframe\">\n",
              "  <thead>\n",
              "    <tr style=\"text-align: right;\">\n",
              "      <th></th>\n",
              "      <th>Age</th>\n",
              "      <th>fnlwgt</th>\n",
              "      <th>Education_Num</th>\n",
              "      <th>Capital_Gain</th>\n",
              "      <th>Capital_Loss</th>\n",
              "      <th>Hours_per_week</th>\n",
              "      <th>Target</th>\n",
              "      <th>Workclass_ Federal-gov</th>\n",
              "      <th>Workclass_ Local-gov</th>\n",
              "      <th>Workclass_ Never-worked</th>\n",
              "      <th>Workclass_ Private</th>\n",
              "      <th>Workclass_ Self-emp-inc</th>\n",
              "      <th>Workclass_ Self-emp-not-inc</th>\n",
              "      <th>Workclass_ State-gov</th>\n",
              "      <th>Workclass_ Without-pay</th>\n",
              "      <th>Education_ 10th</th>\n",
              "      <th>Education_ 11th</th>\n",
              "      <th>Education_ 12th</th>\n",
              "      <th>Education_ 1st-4th</th>\n",
              "      <th>Education_ 5th-6th</th>\n",
              "      <th>Education_ 7th-8th</th>\n",
              "      <th>Education_ 9th</th>\n",
              "      <th>Education_ Assoc-acdm</th>\n",
              "      <th>Education_ Assoc-voc</th>\n",
              "      <th>Education_ Bachelors</th>\n",
              "      <th>Education_ Doctorate</th>\n",
              "      <th>Education_ HS-grad</th>\n",
              "      <th>Education_ Masters</th>\n",
              "      <th>Education_ Preschool</th>\n",
              "      <th>Education_ Prof-school</th>\n",
              "      <th>Education_ Some-college</th>\n",
              "      <th>Martial_Status_ Divorced</th>\n",
              "      <th>Martial_Status_ Married-AF-spouse</th>\n",
              "      <th>Martial_Status_ Married-civ-spouse</th>\n",
              "      <th>Martial_Status_ Married-spouse-absent</th>\n",
              "      <th>Martial_Status_ Never-married</th>\n",
              "      <th>Martial_Status_ Separated</th>\n",
              "      <th>Martial_Status_ Widowed</th>\n",
              "      <th>Occupation_ Adm-clerical</th>\n",
              "      <th>Occupation_ Armed-Forces</th>\n",
              "      <th>...</th>\n",
              "      <th>Country_ Canada</th>\n",
              "      <th>Country_ China</th>\n",
              "      <th>Country_ Columbia</th>\n",
              "      <th>Country_ Cuba</th>\n",
              "      <th>Country_ Dominican-Republic</th>\n",
              "      <th>Country_ Ecuador</th>\n",
              "      <th>Country_ El-Salvador</th>\n",
              "      <th>Country_ England</th>\n",
              "      <th>Country_ France</th>\n",
              "      <th>Country_ Germany</th>\n",
              "      <th>Country_ Greece</th>\n",
              "      <th>Country_ Guatemala</th>\n",
              "      <th>Country_ Haiti</th>\n",
              "      <th>Country_ Holand-Netherlands</th>\n",
              "      <th>Country_ Honduras</th>\n",
              "      <th>Country_ Hong</th>\n",
              "      <th>Country_ Hungary</th>\n",
              "      <th>Country_ India</th>\n",
              "      <th>Country_ Iran</th>\n",
              "      <th>Country_ Ireland</th>\n",
              "      <th>Country_ Italy</th>\n",
              "      <th>Country_ Jamaica</th>\n",
              "      <th>Country_ Japan</th>\n",
              "      <th>Country_ Laos</th>\n",
              "      <th>Country_ Mexico</th>\n",
              "      <th>Country_ Nicaragua</th>\n",
              "      <th>Country_ Outlying-US(Guam-USVI-etc)</th>\n",
              "      <th>Country_ Peru</th>\n",
              "      <th>Country_ Philippines</th>\n",
              "      <th>Country_ Poland</th>\n",
              "      <th>Country_ Portugal</th>\n",
              "      <th>Country_ Puerto-Rico</th>\n",
              "      <th>Country_ Scotland</th>\n",
              "      <th>Country_ South</th>\n",
              "      <th>Country_ Taiwan</th>\n",
              "      <th>Country_ Thailand</th>\n",
              "      <th>Country_ Trinadad&amp;Tobago</th>\n",
              "      <th>Country_ United-States</th>\n",
              "      <th>Country_ Vietnam</th>\n",
              "      <th>Country_ Yugoslavia</th>\n",
              "    </tr>\n",
              "  </thead>\n",
              "  <tbody>\n",
              "    <tr>\n",
              "      <th>0</th>\n",
              "      <td>39</td>\n",
              "      <td>77516</td>\n",
              "      <td>13</td>\n",
              "      <td>2174</td>\n",
              "      <td>0</td>\n",
              "      <td>40</td>\n",
              "      <td>0</td>\n",
              "      <td>0</td>\n",
              "      <td>0</td>\n",
              "      <td>0</td>\n",
              "      <td>0</td>\n",
              "      <td>0</td>\n",
              "      <td>0</td>\n",
              "      <td>1</td>\n",
              "      <td>0</td>\n",
              "      <td>0</td>\n",
              "      <td>0</td>\n",
              "      <td>0</td>\n",
              "      <td>0</td>\n",
              "      <td>0</td>\n",
              "      <td>0</td>\n",
              "      <td>0</td>\n",
              "      <td>0</td>\n",
              "      <td>0</td>\n",
              "      <td>1</td>\n",
              "      <td>0</td>\n",
              "      <td>0</td>\n",
              "      <td>0</td>\n",
              "      <td>0</td>\n",
              "      <td>0</td>\n",
              "      <td>0</td>\n",
              "      <td>0</td>\n",
              "      <td>0</td>\n",
              "      <td>0</td>\n",
              "      <td>0</td>\n",
              "      <td>1</td>\n",
              "      <td>0</td>\n",
              "      <td>0</td>\n",
              "      <td>1</td>\n",
              "      <td>0</td>\n",
              "      <td>...</td>\n",
              "      <td>0</td>\n",
              "      <td>0</td>\n",
              "      <td>0</td>\n",
              "      <td>0</td>\n",
              "      <td>0</td>\n",
              "      <td>0</td>\n",
              "      <td>0</td>\n",
              "      <td>0</td>\n",
              "      <td>0</td>\n",
              "      <td>0</td>\n",
              "      <td>0</td>\n",
              "      <td>0</td>\n",
              "      <td>0</td>\n",
              "      <td>0</td>\n",
              "      <td>0</td>\n",
              "      <td>0</td>\n",
              "      <td>0</td>\n",
              "      <td>0</td>\n",
              "      <td>0</td>\n",
              "      <td>0</td>\n",
              "      <td>0</td>\n",
              "      <td>0</td>\n",
              "      <td>0</td>\n",
              "      <td>0</td>\n",
              "      <td>0</td>\n",
              "      <td>0</td>\n",
              "      <td>0</td>\n",
              "      <td>0</td>\n",
              "      <td>0</td>\n",
              "      <td>0</td>\n",
              "      <td>0</td>\n",
              "      <td>0</td>\n",
              "      <td>0</td>\n",
              "      <td>0</td>\n",
              "      <td>0</td>\n",
              "      <td>0</td>\n",
              "      <td>0</td>\n",
              "      <td>1</td>\n",
              "      <td>0</td>\n",
              "      <td>0</td>\n",
              "    </tr>\n",
              "    <tr>\n",
              "      <th>1</th>\n",
              "      <td>50</td>\n",
              "      <td>83311</td>\n",
              "      <td>13</td>\n",
              "      <td>0</td>\n",
              "      <td>0</td>\n",
              "      <td>13</td>\n",
              "      <td>0</td>\n",
              "      <td>0</td>\n",
              "      <td>0</td>\n",
              "      <td>0</td>\n",
              "      <td>0</td>\n",
              "      <td>0</td>\n",
              "      <td>1</td>\n",
              "      <td>0</td>\n",
              "      <td>0</td>\n",
              "      <td>0</td>\n",
              "      <td>0</td>\n",
              "      <td>0</td>\n",
              "      <td>0</td>\n",
              "      <td>0</td>\n",
              "      <td>0</td>\n",
              "      <td>0</td>\n",
              "      <td>0</td>\n",
              "      <td>0</td>\n",
              "      <td>1</td>\n",
              "      <td>0</td>\n",
              "      <td>0</td>\n",
              "      <td>0</td>\n",
              "      <td>0</td>\n",
              "      <td>0</td>\n",
              "      <td>0</td>\n",
              "      <td>0</td>\n",
              "      <td>0</td>\n",
              "      <td>1</td>\n",
              "      <td>0</td>\n",
              "      <td>0</td>\n",
              "      <td>0</td>\n",
              "      <td>0</td>\n",
              "      <td>0</td>\n",
              "      <td>0</td>\n",
              "      <td>...</td>\n",
              "      <td>0</td>\n",
              "      <td>0</td>\n",
              "      <td>0</td>\n",
              "      <td>0</td>\n",
              "      <td>0</td>\n",
              "      <td>0</td>\n",
              "      <td>0</td>\n",
              "      <td>0</td>\n",
              "      <td>0</td>\n",
              "      <td>0</td>\n",
              "      <td>0</td>\n",
              "      <td>0</td>\n",
              "      <td>0</td>\n",
              "      <td>0</td>\n",
              "      <td>0</td>\n",
              "      <td>0</td>\n",
              "      <td>0</td>\n",
              "      <td>0</td>\n",
              "      <td>0</td>\n",
              "      <td>0</td>\n",
              "      <td>0</td>\n",
              "      <td>0</td>\n",
              "      <td>0</td>\n",
              "      <td>0</td>\n",
              "      <td>0</td>\n",
              "      <td>0</td>\n",
              "      <td>0</td>\n",
              "      <td>0</td>\n",
              "      <td>0</td>\n",
              "      <td>0</td>\n",
              "      <td>0</td>\n",
              "      <td>0</td>\n",
              "      <td>0</td>\n",
              "      <td>0</td>\n",
              "      <td>0</td>\n",
              "      <td>0</td>\n",
              "      <td>0</td>\n",
              "      <td>1</td>\n",
              "      <td>0</td>\n",
              "      <td>0</td>\n",
              "    </tr>\n",
              "  </tbody>\n",
              "</table>\n",
              "<p>2 rows × 106 columns</p>\n",
              "</div>"
            ],
            "text/plain": [
              "   Age  fnlwgt  ...  Country_ Vietnam  Country_ Yugoslavia\n",
              "0   39   77516  ...                 0                    0\n",
              "1   50   83311  ...                 0                    0\n",
              "\n",
              "[2 rows x 106 columns]"
            ]
          },
          "metadata": {
            "tags": []
          },
          "execution_count": 48
        }
      ]
    },
    {
      "cell_type": "code",
      "metadata": {
        "id": "XMXE_MvCp9AC",
        "colab": {
          "base_uri": "https://localhost:8080/",
          "height": 206
        },
        "outputId": "0c7b3c42-d1a0-4a11-f640-d75bd9d7f174"
      },
      "source": [
        "data_test.head(2)"
      ],
      "execution_count": null,
      "outputs": [
        {
          "output_type": "execute_result",
          "data": {
            "text/html": [
              "<div>\n",
              "<style scoped>\n",
              "    .dataframe tbody tr th:only-of-type {\n",
              "        vertical-align: middle;\n",
              "    }\n",
              "\n",
              "    .dataframe tbody tr th {\n",
              "        vertical-align: top;\n",
              "    }\n",
              "\n",
              "    .dataframe thead th {\n",
              "        text-align: right;\n",
              "    }\n",
              "</style>\n",
              "<table border=\"1\" class=\"dataframe\">\n",
              "  <thead>\n",
              "    <tr style=\"text-align: right;\">\n",
              "      <th></th>\n",
              "      <th>Age</th>\n",
              "      <th>fnlwgt</th>\n",
              "      <th>Education_Num</th>\n",
              "      <th>Capital_Gain</th>\n",
              "      <th>Capital_Loss</th>\n",
              "      <th>Hours_per_week</th>\n",
              "      <th>Target</th>\n",
              "      <th>Workclass_ Federal-gov</th>\n",
              "      <th>Workclass_ Local-gov</th>\n",
              "      <th>Workclass_ Never-worked</th>\n",
              "      <th>Workclass_ Private</th>\n",
              "      <th>Workclass_ Self-emp-inc</th>\n",
              "      <th>Workclass_ Self-emp-not-inc</th>\n",
              "      <th>Workclass_ State-gov</th>\n",
              "      <th>Workclass_ Without-pay</th>\n",
              "      <th>Education_ 10th</th>\n",
              "      <th>Education_ 11th</th>\n",
              "      <th>Education_ 12th</th>\n",
              "      <th>Education_ 1st-4th</th>\n",
              "      <th>Education_ 5th-6th</th>\n",
              "      <th>Education_ 7th-8th</th>\n",
              "      <th>Education_ 9th</th>\n",
              "      <th>Education_ Assoc-acdm</th>\n",
              "      <th>Education_ Assoc-voc</th>\n",
              "      <th>Education_ Bachelors</th>\n",
              "      <th>Education_ Doctorate</th>\n",
              "      <th>Education_ HS-grad</th>\n",
              "      <th>Education_ Masters</th>\n",
              "      <th>Education_ Preschool</th>\n",
              "      <th>Education_ Prof-school</th>\n",
              "      <th>Education_ Some-college</th>\n",
              "      <th>Martial_Status_ Divorced</th>\n",
              "      <th>Martial_Status_ Married-AF-spouse</th>\n",
              "      <th>Martial_Status_ Married-civ-spouse</th>\n",
              "      <th>Martial_Status_ Married-spouse-absent</th>\n",
              "      <th>Martial_Status_ Never-married</th>\n",
              "      <th>Martial_Status_ Separated</th>\n",
              "      <th>Martial_Status_ Widowed</th>\n",
              "      <th>Occupation_ Adm-clerical</th>\n",
              "      <th>Occupation_ Armed-Forces</th>\n",
              "      <th>...</th>\n",
              "      <th>Country_ Canada</th>\n",
              "      <th>Country_ China</th>\n",
              "      <th>Country_ Columbia</th>\n",
              "      <th>Country_ Cuba</th>\n",
              "      <th>Country_ Dominican-Republic</th>\n",
              "      <th>Country_ Ecuador</th>\n",
              "      <th>Country_ El-Salvador</th>\n",
              "      <th>Country_ England</th>\n",
              "      <th>Country_ France</th>\n",
              "      <th>Country_ Germany</th>\n",
              "      <th>Country_ Greece</th>\n",
              "      <th>Country_ Guatemala</th>\n",
              "      <th>Country_ Haiti</th>\n",
              "      <th>Country_ Honduras</th>\n",
              "      <th>Country_ Hong</th>\n",
              "      <th>Country_ Hungary</th>\n",
              "      <th>Country_ India</th>\n",
              "      <th>Country_ Iran</th>\n",
              "      <th>Country_ Ireland</th>\n",
              "      <th>Country_ Italy</th>\n",
              "      <th>Country_ Jamaica</th>\n",
              "      <th>Country_ Japan</th>\n",
              "      <th>Country_ Laos</th>\n",
              "      <th>Country_ Mexico</th>\n",
              "      <th>Country_ Nicaragua</th>\n",
              "      <th>Country_ Outlying-US(Guam-USVI-etc)</th>\n",
              "      <th>Country_ Peru</th>\n",
              "      <th>Country_ Philippines</th>\n",
              "      <th>Country_ Poland</th>\n",
              "      <th>Country_ Portugal</th>\n",
              "      <th>Country_ Puerto-Rico</th>\n",
              "      <th>Country_ Scotland</th>\n",
              "      <th>Country_ South</th>\n",
              "      <th>Country_ Taiwan</th>\n",
              "      <th>Country_ Thailand</th>\n",
              "      <th>Country_ Trinadad&amp;Tobago</th>\n",
              "      <th>Country_ United-States</th>\n",
              "      <th>Country_ Vietnam</th>\n",
              "      <th>Country_ Yugoslavia</th>\n",
              "      <th>Country_ Holand-Netherlands</th>\n",
              "    </tr>\n",
              "  </thead>\n",
              "  <tbody>\n",
              "    <tr>\n",
              "      <th>1</th>\n",
              "      <td>25</td>\n",
              "      <td>226802</td>\n",
              "      <td>7</td>\n",
              "      <td>0</td>\n",
              "      <td>0</td>\n",
              "      <td>40</td>\n",
              "      <td>0</td>\n",
              "      <td>0</td>\n",
              "      <td>0</td>\n",
              "      <td>0</td>\n",
              "      <td>1</td>\n",
              "      <td>0</td>\n",
              "      <td>0</td>\n",
              "      <td>0</td>\n",
              "      <td>0</td>\n",
              "      <td>0</td>\n",
              "      <td>1</td>\n",
              "      <td>0</td>\n",
              "      <td>0</td>\n",
              "      <td>0</td>\n",
              "      <td>0</td>\n",
              "      <td>0</td>\n",
              "      <td>0</td>\n",
              "      <td>0</td>\n",
              "      <td>0</td>\n",
              "      <td>0</td>\n",
              "      <td>0</td>\n",
              "      <td>0</td>\n",
              "      <td>0</td>\n",
              "      <td>0</td>\n",
              "      <td>0</td>\n",
              "      <td>0</td>\n",
              "      <td>0</td>\n",
              "      <td>0</td>\n",
              "      <td>0</td>\n",
              "      <td>1</td>\n",
              "      <td>0</td>\n",
              "      <td>0</td>\n",
              "      <td>0</td>\n",
              "      <td>0</td>\n",
              "      <td>...</td>\n",
              "      <td>0</td>\n",
              "      <td>0</td>\n",
              "      <td>0</td>\n",
              "      <td>0</td>\n",
              "      <td>0</td>\n",
              "      <td>0</td>\n",
              "      <td>0</td>\n",
              "      <td>0</td>\n",
              "      <td>0</td>\n",
              "      <td>0</td>\n",
              "      <td>0</td>\n",
              "      <td>0</td>\n",
              "      <td>0</td>\n",
              "      <td>0</td>\n",
              "      <td>0</td>\n",
              "      <td>0</td>\n",
              "      <td>0</td>\n",
              "      <td>0</td>\n",
              "      <td>0</td>\n",
              "      <td>0</td>\n",
              "      <td>0</td>\n",
              "      <td>0</td>\n",
              "      <td>0</td>\n",
              "      <td>0</td>\n",
              "      <td>0</td>\n",
              "      <td>0</td>\n",
              "      <td>0</td>\n",
              "      <td>0</td>\n",
              "      <td>0</td>\n",
              "      <td>0</td>\n",
              "      <td>0</td>\n",
              "      <td>0</td>\n",
              "      <td>0</td>\n",
              "      <td>0</td>\n",
              "      <td>0</td>\n",
              "      <td>0</td>\n",
              "      <td>1</td>\n",
              "      <td>0</td>\n",
              "      <td>0</td>\n",
              "      <td>0.0</td>\n",
              "    </tr>\n",
              "    <tr>\n",
              "      <th>2</th>\n",
              "      <td>38</td>\n",
              "      <td>89814</td>\n",
              "      <td>9</td>\n",
              "      <td>0</td>\n",
              "      <td>0</td>\n",
              "      <td>50</td>\n",
              "      <td>0</td>\n",
              "      <td>0</td>\n",
              "      <td>0</td>\n",
              "      <td>0</td>\n",
              "      <td>1</td>\n",
              "      <td>0</td>\n",
              "      <td>0</td>\n",
              "      <td>0</td>\n",
              "      <td>0</td>\n",
              "      <td>0</td>\n",
              "      <td>0</td>\n",
              "      <td>0</td>\n",
              "      <td>0</td>\n",
              "      <td>0</td>\n",
              "      <td>0</td>\n",
              "      <td>0</td>\n",
              "      <td>0</td>\n",
              "      <td>0</td>\n",
              "      <td>0</td>\n",
              "      <td>0</td>\n",
              "      <td>1</td>\n",
              "      <td>0</td>\n",
              "      <td>0</td>\n",
              "      <td>0</td>\n",
              "      <td>0</td>\n",
              "      <td>0</td>\n",
              "      <td>0</td>\n",
              "      <td>1</td>\n",
              "      <td>0</td>\n",
              "      <td>0</td>\n",
              "      <td>0</td>\n",
              "      <td>0</td>\n",
              "      <td>0</td>\n",
              "      <td>0</td>\n",
              "      <td>...</td>\n",
              "      <td>0</td>\n",
              "      <td>0</td>\n",
              "      <td>0</td>\n",
              "      <td>0</td>\n",
              "      <td>0</td>\n",
              "      <td>0</td>\n",
              "      <td>0</td>\n",
              "      <td>0</td>\n",
              "      <td>0</td>\n",
              "      <td>0</td>\n",
              "      <td>0</td>\n",
              "      <td>0</td>\n",
              "      <td>0</td>\n",
              "      <td>0</td>\n",
              "      <td>0</td>\n",
              "      <td>0</td>\n",
              "      <td>0</td>\n",
              "      <td>0</td>\n",
              "      <td>0</td>\n",
              "      <td>0</td>\n",
              "      <td>0</td>\n",
              "      <td>0</td>\n",
              "      <td>0</td>\n",
              "      <td>0</td>\n",
              "      <td>0</td>\n",
              "      <td>0</td>\n",
              "      <td>0</td>\n",
              "      <td>0</td>\n",
              "      <td>0</td>\n",
              "      <td>0</td>\n",
              "      <td>0</td>\n",
              "      <td>0</td>\n",
              "      <td>0</td>\n",
              "      <td>0</td>\n",
              "      <td>0</td>\n",
              "      <td>0</td>\n",
              "      <td>1</td>\n",
              "      <td>0</td>\n",
              "      <td>0</td>\n",
              "      <td>0.0</td>\n",
              "    </tr>\n",
              "  </tbody>\n",
              "</table>\n",
              "<p>2 rows × 106 columns</p>\n",
              "</div>"
            ],
            "text/plain": [
              "   Age  fnlwgt  ...  Country_ Yugoslavia  Country_ Holand-Netherlands\n",
              "1   25  226802  ...                    0                          0.0\n",
              "2   38   89814  ...                    0                          0.0\n",
              "\n",
              "[2 rows x 106 columns]"
            ]
          },
          "metadata": {
            "tags": []
          },
          "execution_count": 49
        }
      ]
    },
    {
      "cell_type": "code",
      "metadata": {
        "collapsed": true,
        "id": "5Q5oOgBIp9AD"
      },
      "source": [
        "X_train=data_train.drop(['Target'], axis=1)\n",
        "y_train = data_train['Target']\n",
        "\n",
        "X_test=data_test.drop(['Target'], axis=1)\n",
        "y_test = data_test['Target']"
      ],
      "execution_count": null,
      "outputs": []
    },
    {
      "cell_type": "markdown",
      "metadata": {
        "id": "r3sILeqip9AD"
      },
      "source": [
        "## 3.1. Дерево решений без настройки параметров "
      ]
    },
    {
      "cell_type": "markdown",
      "metadata": {
        "id": "DmYb1qjNp9AD"
      },
      "source": [
        "**Обучите на имеющейся выборке дерево решений (`DecisionTreeClassifier`) максимальной глубины 3 и получите качество на тесте. Используйте параметр `random_state` = 17 для воспроизводимости результатов.**"
      ]
    },
    {
      "cell_type": "code",
      "metadata": {
        "collapsed": true,
        "id": "HdDj-1mAp9AD",
        "colab": {
          "base_uri": "https://localhost:8080/"
        },
        "outputId": "d4450d1c-091e-4fa9-89a5-972ac9ac165f"
      },
      "source": [
        "# tree = DecisionTreeClassifier  # Ваш код здесь\n",
        "tree = DecisionTreeClassifier(max_depth=3, random_state=17)\n",
        "# tree.fit # Ваш код здесь\n",
        "tree.fit(X_train, y_train)"
      ],
      "execution_count": null,
      "outputs": [
        {
          "output_type": "execute_result",
          "data": {
            "text/plain": [
              "DecisionTreeClassifier(ccp_alpha=0.0, class_weight=None, criterion='gini',\n",
              "                       max_depth=3, max_features=None, max_leaf_nodes=None,\n",
              "                       min_impurity_decrease=0.0, min_impurity_split=None,\n",
              "                       min_samples_leaf=1, min_samples_split=2,\n",
              "                       min_weight_fraction_leaf=0.0, presort='deprecated',\n",
              "                       random_state=17, splitter='best')"
            ]
          },
          "metadata": {
            "tags": []
          },
          "execution_count": 51
        }
      ]
    },
    {
      "cell_type": "markdown",
      "metadata": {
        "id": "_UnLmgfSp9AD"
      },
      "source": [
        "**Сделайте с помощью полученной модели прогноз для тестовой выборки.**"
      ]
    },
    {
      "cell_type": "code",
      "metadata": {
        "collapsed": true,
        "id": "Usdujphqp9AD"
      },
      "source": [
        "# tree_predictions = tree.predict # Ваш код здесь\n",
        "tree_predictions = tree.predict(X_test) "
      ],
      "execution_count": null,
      "outputs": []
    },
    {
      "cell_type": "code",
      "metadata": {
        "collapsed": true,
        "id": "ktpcvrlrp9AE",
        "colab": {
          "base_uri": "https://localhost:8080/"
        },
        "outputId": "61329e26-779e-406e-e816-1e16c27f1332"
      },
      "source": [
        "# accuracy_score # Ваш код здесь\n",
        "accuracy_score(y_test, tree_predictions)"
      ],
      "execution_count": null,
      "outputs": [
        {
          "output_type": "execute_result",
          "data": {
            "text/plain": [
              "0.8447884036607088"
            ]
          },
          "metadata": {
            "tags": []
          },
          "execution_count": 53
        }
      ]
    },
    {
      "cell_type": "markdown",
      "metadata": {
        "id": "swEEQzWnp9AE"
      },
      "source": [
        "<font color='red'>Вопрос 6.  </font> Какова доля правильных ответов дерева решений на тестовой выборке при максимальной глубине дерева = 3 и random_state = 17?"
      ]
    },
    {
      "cell_type": "markdown",
      "metadata": {
        "id": "V2Ilu27Ep9AE"
      },
      "source": [
        "## 3.2. Дерево решений с настройкой параметров "
      ]
    },
    {
      "cell_type": "markdown",
      "metadata": {
        "id": "01WBpvCIp9AE"
      },
      "source": [
        "**Обучите на имеющейся выборке дерево решений (`DecisionTreeClassifier`, опять `random_state` = 17 ). Максимальную глубину настройте на кросс-валидации с помощью `GridSearchCV`. Проведите 5-кратную кросс-валидацию**"
      ]
    },
    {
      "cell_type": "code",
      "metadata": {
        "collapsed": true,
        "id": "Bo39wHOdp9AE",
        "colab": {
          "base_uri": "https://localhost:8080/"
        },
        "outputId": "73acb661-9130-402c-ff98-601c050708cb"
      },
      "source": [
        "tree_params = {'max_depth': range(2,11)}\n",
        "\n",
        "# locally_best_tree = GridSearchCV # Ваш код здесь                      \n",
        "locally_best_tree = GridSearchCV(DecisionTreeClassifier(random_state=17), \n",
        "                                                        tree_params, cv=5)\n",
        "\n",
        "# locally_best_tree.fit # Ваш код здесь\n",
        "locally_best_tree.fit(X_train, y_train)"
      ],
      "execution_count": null,
      "outputs": [
        {
          "output_type": "execute_result",
          "data": {
            "text/plain": [
              "GridSearchCV(cv=5, error_score=nan,\n",
              "             estimator=DecisionTreeClassifier(ccp_alpha=0.0, class_weight=None,\n",
              "                                              criterion='gini', max_depth=None,\n",
              "                                              max_features=None,\n",
              "                                              max_leaf_nodes=None,\n",
              "                                              min_impurity_decrease=0.0,\n",
              "                                              min_impurity_split=None,\n",
              "                                              min_samples_leaf=1,\n",
              "                                              min_samples_split=2,\n",
              "                                              min_weight_fraction_leaf=0.0,\n",
              "                                              presort='deprecated',\n",
              "                                              random_state=17,\n",
              "                                              splitter='best'),\n",
              "             iid='deprecated', n_jobs=None,\n",
              "             param_grid={'max_depth': range(2, 11)}, pre_dispatch='2*n_jobs',\n",
              "             refit=True, return_train_score=False, scoring=None, verbose=0)"
            ]
          },
          "metadata": {
            "tags": []
          },
          "execution_count": 54
        }
      ]
    },
    {
      "cell_type": "code",
      "metadata": {
        "collapsed": true,
        "id": "wPqzWiUCp9AE",
        "colab": {
          "base_uri": "https://localhost:8080/"
        },
        "outputId": "cd9c25a7-8e85-4b63-c28f-ca582b70149d"
      },
      "source": [
        "print(\"Best params:\", locally_best_tree.best_params_)\n",
        "print(\"Best cross validaton score\", locally_best_tree.best_score_)"
      ],
      "execution_count": null,
      "outputs": [
        {
          "output_type": "stream",
          "text": [
            "Best params: {'max_depth': 9}\n",
            "Best cross validaton score 0.8562698879315647\n"
          ],
          "name": "stdout"
        }
      ]
    },
    {
      "cell_type": "markdown",
      "metadata": {
        "id": "dBMxYyj_p9AF"
      },
      "source": [
        "**Обучите на имеющейся выборке дерево решений максимальной глубины 9 (это лучшее значение `max_depth` в моем случае) и   оцените долю правильных ответов на тесте. Используйте параметр random_state = 17 для воспроизводимости результатов.**"
      ]
    },
    {
      "cell_type": "code",
      "metadata": {
        "collapsed": true,
        "id": "fGDU8Xqxp9AF",
        "colab": {
          "base_uri": "https://localhost:8080/"
        },
        "outputId": "5768ad52-fb5f-4fb5-c9d0-ddb5d06bc67f"
      },
      "source": [
        "tuned_tree = DecisionTreeClassifier(max_depth=9, random_state=17) # Ваш код здесь\n",
        "tuned_tree.fit(X_train, y_train) # Ваш код здесь\n",
        "tuned_tree_predictions = tuned_tree.predict(X_test) # Ваш код здесь\n",
        "accuracy_score(y_test, tuned_tree_predictions) # Ваш код здесь"
      ],
      "execution_count": null,
      "outputs": [
        {
          "output_type": "execute_result",
          "data": {
            "text/plain": [
              "0.8471838339168356"
            ]
          },
          "metadata": {
            "tags": []
          },
          "execution_count": 56
        }
      ]
    },
    {
      "cell_type": "code",
      "metadata": {
        "colab": {
          "base_uri": "https://localhost:8080/"
        },
        "id": "3ibegqG8s-zt",
        "outputId": "af7f1924-b66d-4a00-b611-9598365935dc"
      },
      "source": [
        "accuracy_score(y_test, locally_best_tree.predict(X_test))"
      ],
      "execution_count": null,
      "outputs": [
        {
          "output_type": "execute_result",
          "data": {
            "text/plain": [
              "0.8471838339168356"
            ]
          },
          "metadata": {
            "tags": []
          },
          "execution_count": 57
        }
      ]
    },
    {
      "cell_type": "markdown",
      "metadata": {
        "id": "7ueLou8Sp9AF"
      },
      "source": [
        "<font color='red'>Вопрос 7.  </font> Какова доля правильных ответов дерева решений на тестовой выборке при максимальной глубине дерева = 9 и random_state = 17?"
      ]
    },
    {
      "cell_type": "markdown",
      "metadata": {
        "id": "kzQdDbA6p9AF"
      },
      "source": [
        "## 3.3. Случайный лес без настройки параметров  (опционально)¶"
      ]
    },
    {
      "cell_type": "markdown",
      "metadata": {
        "id": "QcS7mRXVp9AF"
      },
      "source": [
        "**Немного забежим вперед и попробуем в нашей задаче случайный лес. Пока можно его себе представлять, как куча деревьев решений, обученных на немного разных подвыборках исходной обучающей выборки, причем эта куча деревьев обычно работает существенно лучше, чем отдельные деревья. **\n",
        "\n",
        "**Обучите на имеющейся выборке случайный лес (`RandomForestClassifier`), число деревьев сделайте равным ста, а `random_state` = 17.**"
      ]
    },
    {
      "cell_type": "code",
      "metadata": {
        "collapsed": true,
        "id": "Gljalc2Lp9AF",
        "colab": {
          "base_uri": "https://localhost:8080/"
        },
        "outputId": "a6eb74be-eda8-471a-885e-0a6a7dae81fe"
      },
      "source": [
        "rf = RandomForestClassifier(random_state=17) # Ваш код здесь\n",
        "rf.fit(X_train, y_train) # Ваш код здесь"
      ],
      "execution_count": null,
      "outputs": [
        {
          "output_type": "execute_result",
          "data": {
            "text/plain": [
              "RandomForestClassifier(bootstrap=True, ccp_alpha=0.0, class_weight=None,\n",
              "                       criterion='gini', max_depth=None, max_features='auto',\n",
              "                       max_leaf_nodes=None, max_samples=None,\n",
              "                       min_impurity_decrease=0.0, min_impurity_split=None,\n",
              "                       min_samples_leaf=1, min_samples_split=2,\n",
              "                       min_weight_fraction_leaf=0.0, n_estimators=100,\n",
              "                       n_jobs=None, oob_score=False, random_state=17, verbose=0,\n",
              "                       warm_start=False)"
            ]
          },
          "metadata": {
            "tags": []
          },
          "execution_count": 58
        }
      ]
    },
    {
      "cell_type": "markdown",
      "metadata": {
        "id": "gLrj6wgEp9AF"
      },
      "source": [
        "**Сделайте с помощью полученной модели прогноз для тестовой выборки.**"
      ]
    },
    {
      "cell_type": "code",
      "metadata": {
        "collapsed": true,
        "id": "Nc5EivFVp9AG"
      },
      "source": [
        "forest_predictions = rf.predict(X_test) # Ваш код здесь"
      ],
      "execution_count": null,
      "outputs": []
    },
    {
      "cell_type": "code",
      "metadata": {
        "collapsed": true,
        "id": "JktvBu6dp9AG",
        "colab": {
          "base_uri": "https://localhost:8080/"
        },
        "outputId": "6288e947-6211-476e-f715-81bce573dc97"
      },
      "source": [
        "accuracy_score(y_test, forest_predictions) # Ваш код здесь"
      ],
      "execution_count": null,
      "outputs": [
        {
          "output_type": "execute_result",
          "data": {
            "text/plain": [
              "0.8576254529820035"
            ]
          },
          "metadata": {
            "tags": []
          },
          "execution_count": 60
        }
      ]
    },
    {
      "cell_type": "markdown",
      "metadata": {
        "id": "gXTYnsIcp9AG"
      },
      "source": [
        "## 3.4. Случайный лес с настройкой параметров  (опционально)"
      ]
    },
    {
      "cell_type": "markdown",
      "metadata": {
        "id": "cVo4zUSRp9AG"
      },
      "source": [
        "**Обучите на имеющейся выборке случайный лес (`RandomForestClassifier`). Максимальную глубину и максимальное число признаков для каждого дерева настройте с помощью GridSearchCV.**"
      ]
    },
    {
      "cell_type": "code",
      "metadata": {
        "collapsed": true,
        "id": "VszwDxbtp9AG",
        "colab": {
          "base_uri": "https://localhost:8080/"
        },
        "outputId": "5d121dbb-fdb5-4ee6-f004-d8c999daf070"
      },
      "source": [
        "forest_params = {'max_depth': range(10, 21),\n",
        "                'max_features': range(5, 105, 10)}\n",
        "\n",
        "locally_best_forest = GridSearchCV(RandomForestClassifier(random_state=17, n_jobs=-1), forest_params) # Ваш код здесь\n",
        "\n",
        "locally_best_forest.fit(X_train, y_train) # Ваш код здесь"
      ],
      "execution_count": null,
      "outputs": [
        {
          "output_type": "execute_result",
          "data": {
            "text/plain": [
              "GridSearchCV(cv=None, error_score=nan,\n",
              "             estimator=RandomForestClassifier(bootstrap=True, ccp_alpha=0.0,\n",
              "                                              class_weight=None,\n",
              "                                              criterion='gini', max_depth=None,\n",
              "                                              max_features='auto',\n",
              "                                              max_leaf_nodes=None,\n",
              "                                              max_samples=None,\n",
              "                                              min_impurity_decrease=0.0,\n",
              "                                              min_impurity_split=None,\n",
              "                                              min_samples_leaf=1,\n",
              "                                              min_samples_split=2,\n",
              "                                              min_weight_fraction_leaf=0.0,\n",
              "                                              n_estimators=100, n_jobs=-1,\n",
              "                                              oob_score=False, random_state=17,\n",
              "                                              verbose=0, warm_start=False),\n",
              "             iid='deprecated', n_jobs=None,\n",
              "             param_grid={'max_depth': range(10, 21),\n",
              "                         'max_features': range(5, 105, 10)},\n",
              "             pre_dispatch='2*n_jobs', refit=True, return_train_score=False,\n",
              "             scoring=None, verbose=0)"
            ]
          },
          "metadata": {
            "tags": []
          },
          "execution_count": 61
        }
      ]
    },
    {
      "cell_type": "code",
      "metadata": {
        "collapsed": true,
        "id": "ULK19GV9p9AG",
        "colab": {
          "base_uri": "https://localhost:8080/"
        },
        "outputId": "605c54e2-d630-4baf-b4e7-981776105fcc"
      },
      "source": [
        "print(\"Best params:\", locally_best_forest.best_params_)\n",
        "print(\"Best cross validaton score\", locally_best_forest.best_score_)"
      ],
      "execution_count": null,
      "outputs": [
        {
          "output_type": "stream",
          "text": [
            "Best params: {'max_depth': 14, 'max_features': 55}\n",
            "Best cross validaton score 0.8653606649864136\n"
          ],
          "name": "stdout"
        }
      ]
    },
    {
      "cell_type": "markdown",
      "metadata": {
        "id": "b7-SdCqGp9AH"
      },
      "source": [
        "**Сделайте с помощью полученной модели прогноз для тестовой выборки.**"
      ]
    },
    {
      "cell_type": "code",
      "metadata": {
        "collapsed": true,
        "id": "LsoEBYc_p9AH",
        "colab": {
          "base_uri": "https://localhost:8080/"
        },
        "outputId": "4a5532fb-6ffe-4e76-c0f7-42d5865faed4"
      },
      "source": [
        "tuned_forest_predictions = locally_best_forest.predict(X_test) # Ваш код здесь\n",
        "accuracy_score(y_test, tuned_forest_predictions) # Ваш код здесь"
      ],
      "execution_count": null,
      "outputs": [
        {
          "output_type": "execute_result",
          "data": {
            "text/plain": [
              "0.8654873779251888"
            ]
          },
          "metadata": {
            "tags": []
          },
          "execution_count": 63
        }
      ]
    }
  ]
}