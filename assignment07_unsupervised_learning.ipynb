{
  "nbformat": 4,
  "nbformat_minor": 0,
  "metadata": {
    "anaconda-cloud": {},
    "kernelspec": {
      "display_name": "Python 3",
      "language": "python",
      "name": "python3"
    },
    "language_info": {
      "codemirror_mode": {
        "name": "ipython",
        "version": 3
      },
      "file_extension": ".py",
      "mimetype": "text/x-python",
      "name": "python",
      "nbconvert_exporter": "python",
      "pygments_lexer": "ipython3",
      "version": "3.7.6"
    },
    "colab": {
      "name": "assignment07_unsupervised_learning.ipynb",
      "provenance": [],
      "collapsed_sections": []
    }
  },
  "cells": [
    {
      "cell_type": "markdown",
      "metadata": {
        "id": "FVRehG_vn3gJ"
      },
      "source": [
        "## <center> [mlcourse.ai](https://mlcourse.ai) – открытый курс OpenDataScience по машинному обучению \n",
        "    \n",
        "Авторы материала: Ольга Дайховская (@aiho в Slack ODS), Юрий Кашницкий (@yorko в Slack ODS). Материал распространяется на условиях лицензии [Creative Commons CC BY-NC-SA 4.0](https://creativecommons.org/licenses/by-nc-sa/4.0/). Можно использовать в любых целях (редактировать, поправлять и брать за основу), кроме коммерческих, но с обязательным упоминанием автора материала."
      ]
    },
    {
      "cell_type": "markdown",
      "metadata": {
        "id": "6rwOmLKWn3gW"
      },
      "source": [
        "# <center>Домашнее задание № 7 (демо)\n",
        "## <center> Обучение без учителя: метод главных компонент и кластеризация"
      ]
    },
    {
      "cell_type": "markdown",
      "metadata": {
        "id": "dfp6WKk8n3gX"
      },
      "source": [
        "В этом задании мы разберемся с тем, как работают методы снижения размерности и кластеризации данных. Заодно еще раз попрактикуемся в задаче классификации.\n",
        "\n",
        "Мы будем работать с набором данных [Samsung Human Activity Recognition](https://archive.ics.uci.edu/ml/datasets/Human+Activity+Recognition+Using+Smartphones). Скачайте данные [отсюда](https://drive.google.com/file/d/14RukQ0ylM2GCdViUHBBjZ2imCaYcjlux/view?usp=sharing). Данные поступают с акселерометров и гироскопов мобильных телефонов Samsung Galaxy S3 (подробнее про признаки – по ссылке на UCI выше), также известен вид активности человека с телефоном в кармане – ходил ли он, стоял, лежал, сидел или шел вверх/вниз по лестнице. \n",
        "\n",
        "Вначале мы представим, что вид активности нам неизвестнен, и попробуем кластеризовать людей чисто на основе имеющихся признаков. Затем решим задачу определения вида физической активности именно как задачу классификации. \n",
        "\n",
        "Заполните код в клетках (где написано \"Ваш код здесь\") и ответьте на вопросы в [веб-форме](https://docs.google.com/forms/d/1qzcrfsNFy-e4TW59v2fqMj_OTom2SIOxtq4MWlI92p0)."
      ]
    },
    {
      "cell_type": "code",
      "metadata": {
        "collapsed": true,
        "id": "Pv0clFeon3gY"
      },
      "source": [
        "import numpy as np\n",
        "import pandas as pd\n",
        "import seaborn as sns\n",
        "from tqdm import tqdm_notebook\n",
        "\n",
        "%matplotlib inline\n",
        "from matplotlib import pyplot as plt\n",
        "\n",
        "plt.style.use(['seaborn-darkgrid'])\n",
        "plt.rcParams['figure.figsize'] = (12, 9)\n",
        "plt.rcParams['font.family'] = 'DejaVu Sans'\n",
        "\n",
        "from sklearn import metrics\n",
        "from sklearn.cluster import AgglomerativeClustering, KMeans, SpectralClustering\n",
        "from sklearn.decomposition import PCA\n",
        "from sklearn.model_selection import GridSearchCV\n",
        "from sklearn.preprocessing import StandardScaler\n",
        "from sklearn.svm import LinearSVC\n",
        "\n",
        "RANDOM_STATE = 17"
      ],
      "execution_count": null,
      "outputs": []
    },
    {
      "cell_type": "code",
      "metadata": {
        "collapsed": true,
        "id": "8p4wA9INn3ga"
      },
      "source": [
        "X_train = np.loadtxt(\"samsung_train.txt\")\n",
        "y_train = np.loadtxt(\"samsung_train_labels.txt\").astype(int)\n",
        "\n",
        "X_test = np.loadtxt(\"samsung_test.txt\")\n",
        "y_test = np.loadtxt(\"samsung_test_labels.txt\").astype(int)"
      ],
      "execution_count": null,
      "outputs": []
    },
    {
      "cell_type": "code",
      "metadata": {
        "collapsed": true,
        "id": "_4NK6D5hn3ga"
      },
      "source": [
        "# Проверим размерности\n",
        "assert(X_train.shape == (7352, 561) and y_train.shape == (7352,))\n",
        "assert(X_test.shape == (2947, 561) and y_test.shape == (2947,))"
      ],
      "execution_count": null,
      "outputs": []
    },
    {
      "cell_type": "markdown",
      "metadata": {
        "id": "JbcE0xgln3gb"
      },
      "source": [
        "Для кластеризации нам не нужен вектор ответов, поэтому будем работать с объединением обучающей и тестовой выборок. Объедините *X_train* с *X_test*, а *y_train* – с *y_test*. "
      ]
    },
    {
      "cell_type": "code",
      "metadata": {
        "collapsed": true,
        "id": "UZnuSi6Wn3gb"
      },
      "source": [
        "# Ваш код здесь\n",
        "X = np.vstack((X_train, X_test))\n",
        "y = np.concatenate((y_train, y_test))"
      ],
      "execution_count": null,
      "outputs": []
    },
    {
      "cell_type": "markdown",
      "metadata": {
        "id": "ANhhTHgvn3gc"
      },
      "source": [
        "Определим число уникальных значений меток целевого класса."
      ]
    },
    {
      "cell_type": "code",
      "metadata": {
        "colab": {
          "base_uri": "https://localhost:8080/"
        },
        "id": "D8Pi-USNn3gc",
        "outputId": "b9c227ed-f55e-4718-d100-8c6568839338"
      },
      "source": [
        "np.unique(y)"
      ],
      "execution_count": null,
      "outputs": [
        {
          "output_type": "execute_result",
          "data": {
            "text/plain": [
              "array([1, 2, 3, 4, 5, 6])"
            ]
          },
          "metadata": {
            "tags": []
          },
          "execution_count": 5
        }
      ]
    },
    {
      "cell_type": "code",
      "metadata": {
        "collapsed": true,
        "id": "v8cyNeYNn3ge"
      },
      "source": [
        "n_classes = np.unique(y).size"
      ],
      "execution_count": null,
      "outputs": []
    },
    {
      "cell_type": "markdown",
      "metadata": {
        "id": "xwi6Y0GWn3ge"
      },
      "source": [
        "[Эти метки соответствуют:](https://archive.ics.uci.edu/ml/machine-learning-databases/00240/UCI%20HAR%20Dataset.names)\n",
        "- 1 - ходьбе\n",
        "- 2 - подъему вверх по лестнице\n",
        "- 3 - спуску по лестнице\n",
        "- 4 - сидению\n",
        "- 5 - стоянию\n",
        "- 6 - лежанию\n",
        "\n",
        "*уж простите, если звучание этих существительных кажется корявым :)*"
      ]
    },
    {
      "cell_type": "markdown",
      "metadata": {
        "id": "bGv-Vousn3gf"
      },
      "source": [
        "Отмасштабируйте выборку с помощью `StandardScaler` с параметрами по умолчанию."
      ]
    },
    {
      "cell_type": "code",
      "metadata": {
        "colab": {
          "base_uri": "https://localhost:8080/"
        },
        "id": "7ue1CHcpwheQ",
        "outputId": "8d2a93db-2d1c-4298-e71f-11f8be8eb8eb"
      },
      "source": [
        "from scipy import stats\n",
        "stats.describe(X[0], ddof=1, bias=False)"
      ],
      "execution_count": null,
      "outputs": [
        {
          "output_type": "execute_result",
          "data": {
            "text/plain": [
              "DescribeResult(nobs=561, minmax=(-1.0, 1.0), mean=-0.616973401597861, variance=0.3464472198540582, skewness=1.3644584426607924, kurtosis=0.5495190261993694)"
            ]
          },
          "metadata": {
            "tags": []
          },
          "execution_count": 7
        }
      ]
    },
    {
      "cell_type": "code",
      "metadata": {
        "colab": {
          "base_uri": "https://localhost:8080/"
        },
        "id": "NJ_MoMjBn3gf",
        "outputId": "e4ff97a6-c21c-485f-c318-39235a327050"
      },
      "source": [
        "# Ваш код здесь\n",
        "scaler = StandardScaler()\n",
        "X_scaled = scaler.fit_transform(X)\n",
        "stats.describe(X_scaled[0], ddof=1, bias=False)"
      ],
      "execution_count": null,
      "outputs": [
        {
          "output_type": "execute_result",
          "data": {
            "text/plain": [
              "DescribeResult(nobs=561, minmax=(-5.962187901879918, 5.77447142890502), mean=-0.36752718020229036, variance=1.0206620445836676, skewness=1.4328437309843531, kurtosis=8.153798943838371)"
            ]
          },
          "metadata": {
            "tags": []
          },
          "execution_count": 8
        }
      ]
    },
    {
      "cell_type": "markdown",
      "metadata": {
        "id": "Fnb7-wQDn3gf"
      },
      "source": [
        "Понижаем размерность с помощью PCA, оставляя столько компонент, сколько нужно для того, чтобы объяснить как минимум 90% дисперсии исходных (отмасштабированных) данных. Используйте отмасштабированную выборку и зафиксируйте random_state (константа RANDOM_STATE)."
      ]
    },
    {
      "cell_type": "code",
      "metadata": {
        "collapsed": true,
        "id": "TzAw1VFFn3gg"
      },
      "source": [
        "# Ваш код здесь\n",
        "pca = PCA(0.9, random_state=RANDOM_STATE)\n",
        "X_pca = pca.fit_transform(X_scaled)"
      ],
      "execution_count": null,
      "outputs": []
    },
    {
      "cell_type": "markdown",
      "metadata": {
        "id": "tXuxAxIon3gg"
      },
      "source": [
        "**Вопрос 1:**<br>\n",
        "Какое минимальное число главных компонент нужно выделить, чтобы объяснить 90% дисперсии исходных (отмасштабированных) данных?"
      ]
    },
    {
      "cell_type": "code",
      "metadata": {
        "colab": {
          "base_uri": "https://localhost:8080/"
        },
        "id": "9Cs_hsytn3gh",
        "outputId": "6f557e46-2579-47a7-eb99-8a4073b800dd"
      },
      "source": [
        "# Ваш код здесь\n",
        "X_pca.shape"
      ],
      "execution_count": null,
      "outputs": [
        {
          "output_type": "execute_result",
          "data": {
            "text/plain": [
              "(10299, 65)"
            ]
          },
          "metadata": {
            "tags": []
          },
          "execution_count": 10
        }
      ]
    },
    {
      "cell_type": "markdown",
      "metadata": {
        "id": "h3uaYx2Jn3gh"
      },
      "source": [
        "**Варианты:**\n",
        "- 56 \n",
        "- **65**\n",
        "- 66\n",
        "- 193"
      ]
    },
    {
      "cell_type": "markdown",
      "metadata": {
        "id": "N-8s-Y7en3gi"
      },
      "source": [
        "**Вопрос 2:**<br>\n",
        "Сколько процентов дисперсии приходится на первую главную компоненту? Округлите до целых процентов. \n",
        "\n",
        "**Варианты:**\n",
        "- 45\n",
        "- **51**\n",
        "- 56\n",
        "- 61"
      ]
    },
    {
      "cell_type": "code",
      "metadata": {
        "colab": {
          "base_uri": "https://localhost:8080/"
        },
        "id": "IFm48c5kn3gi",
        "outputId": "b0df4471-d7b5-423a-e412-43f522276e8d"
      },
      "source": [
        "# Ваш код здесь\n",
        "round(pca.explained_variance_ratio_[0] * 100)"
      ],
      "execution_count": null,
      "outputs": [
        {
          "output_type": "execute_result",
          "data": {
            "text/plain": [
              "51"
            ]
          },
          "metadata": {
            "tags": []
          },
          "execution_count": 11
        }
      ]
    },
    {
      "cell_type": "markdown",
      "metadata": {
        "id": "8d-ceXD-n3gi"
      },
      "source": [
        "Визуализируйте данные в проекции на первые две главные компоненты."
      ]
    },
    {
      "cell_type": "code",
      "metadata": {
        "colab": {
          "base_uri": "https://localhost:8080/",
          "height": 371
        },
        "id": "Ze-lKqT1n3gj",
        "outputId": "9217c186-af78-4647-d2f0-e1371608e8c1"
      },
      "source": [
        "# Ваш код здесь\n",
        "fig, ax = plt.subplots(figsize=(8,6))\n",
        "scatter = ax.scatter(X_pca[:, 0], X_pca[:, 1], c=y, s=20, cmap='viridis')\n",
        "\n",
        "classes = {1: 'ходьба', 2: 'подъем вверх по лестнице', 3: 'спуск по лестнице', 4: 'сидение', 5: 'стояние', 6: 'лежание'}\n",
        "handles, labels = scatter.legend_elements()\n",
        "ax.legend(handles, classes.values());"
      ],
      "execution_count": null,
      "outputs": [
        {
          "output_type": "display_data",
          "data": {
            "image/png": "[encoded data removed]",
            "text/plain": [
              "<Figure size 576x432 with 1 Axes>"
            ]
          },
          "metadata": {
            "tags": [],
            "needs_background": "light"
          }
        }
      ]
    },
    {
      "cell_type": "markdown",
      "metadata": {
        "id": "eeSNXpTPn3gj"
      },
      "source": [
        "**Вопрос 3:**<br>\n",
        "Если все получилось правильно, Вы увидите сколько-то кластеров, почти идеально отделенных друг от друга. Какие виды активности входят в эти кластеры?<br>\n",
        "\n",
        "**Ответ:**\n",
        "- 1 кластер: все 6 активностей\n",
        "- **2 кластера: (ходьба, подъем вверх по лестнице, спуск по лестнице) и (сидение, стояние, лежание)**\n",
        "- 3 кластера: (ходьба), (подъем вверх по лестнице, спуск по лестнице) и (сидение, стояние, лежание)\n",
        "- 6 кластеров"
      ]
    },
    {
      "cell_type": "markdown",
      "metadata": {
        "id": "phRBNmPFn3gk"
      },
      "source": [
        "Сделайте кластеризацию данных методом `KMeans`, обучив модель на данных со сниженной за счет PCA размерностью. В данном случае мы подскажем, что нужно искать именно 6 кластеров, но в общем случае мы не будем знать, сколько кластеров надо искать.\n",
        "\n",
        "Параметры:\n",
        "\n",
        "- **n_clusters** = n_classes (число уникальных меток целевого класса)\n",
        "- **n_init** = 100\n",
        "- **random_state** = RANDOM_STATE (для воспроизводимости результата)\n",
        "\n",
        "Остальные параметры со значениями по умолчанию."
      ]
    },
    {
      "cell_type": "code",
      "metadata": {
        "collapsed": true,
        "id": "DsEp1g25n3gm"
      },
      "source": [
        "# Ваш код здесь\n",
        "cluster_labels = KMeans(n_clusters=n_classes, n_init=100, random_state=RANDOM_STATE, n_jobs=-1).fit_predict(X_pca)"
      ],
      "execution_count": null,
      "outputs": []
    },
    {
      "cell_type": "markdown",
      "metadata": {
        "id": "hNMKGwMen3gm"
      },
      "source": [
        "Визуализируйте данные в проекции на первые две главные компоненты. Раскрасьте точки в соответствии с полученными метками кластеров."
      ]
    },
    {
      "cell_type": "code",
      "metadata": {
        "collapsed": true,
        "colab": {
          "base_uri": "https://localhost:8080/",
          "height": 262
        },
        "id": "_lFLEn4en3gn",
        "outputId": "efe95411-3eca-41d6-9735-f17e3f5c966c"
      },
      "source": [
        "# Ваш код здесь\n",
        "plt.scatter(X_pca[:, 0], X_pca[:, 1], c=cluster_labels, s=20,  cmap='viridis');"
      ],
      "execution_count": null,
      "outputs": [
        {
          "output_type": "display_data",
          "data": {
            "image/png": "[encoded data removed]",
            "text/plain": [
              "<Figure size 432x288 with 1 Axes>"
            ]
          },
          "metadata": {
            "tags": [],
            "needs_background": "light"
          }
        }
      ]
    },
    {
      "cell_type": "markdown",
      "metadata": {
        "id": "QijU5PrTn3gn"
      },
      "source": [
        "Посмотрите на соответствие между метками кластеров и исходными метками классов и на то, какие виды активностей алгоритм `KMeans` путает."
      ]
    },
    {
      "cell_type": "code",
      "metadata": {
        "colab": {
          "base_uri": "https://localhost:8080/",
          "height": 254
        },
        "id": "LVdnA8Gfn3gn",
        "outputId": "cc0a72bc-bc1b-43df-ae5e-cda2356c9644"
      },
      "source": [
        "tab = pd.crosstab(y, cluster_labels, margins=True)\n",
        "tab.index = ['ходьба', 'подъем вверх по лестнице', \n",
        "             'спуск по лестнице', 'сидение', 'стояние', 'лежание', 'все']\n",
        "tab.columns = ['cluster' + str(i + 1) for i in range(6)] + ['все']\n",
        "tab"
      ],
      "execution_count": null,
      "outputs": [
        {
          "output_type": "execute_result",
          "data": {
            "text/html": [
              "<div>\n",
              "<style scoped>\n",
              "    .dataframe tbody tr th:only-of-type {\n",
              "        vertical-align: middle;\n",
              "    }\n",
              "\n",
              "    .dataframe tbody tr th {\n",
              "        vertical-align: top;\n",
              "    }\n",
              "\n",
              "    .dataframe thead th {\n",
              "        text-align: right;\n",
              "    }\n",
              "</style>\n",
              "<table border=\"1\" class=\"dataframe\">\n",
              "  <thead>\n",
              "    <tr style=\"text-align: right;\">\n",
              "      <th></th>\n",
              "      <th>cluster1</th>\n",
              "      <th>cluster2</th>\n",
              "      <th>cluster3</th>\n",
              "      <th>cluster4</th>\n",
              "      <th>cluster5</th>\n",
              "      <th>cluster6</th>\n",
              "      <th>все</th>\n",
              "    </tr>\n",
              "  </thead>\n",
              "  <tbody>\n",
              "    <tr>\n",
              "      <th>ходьба</th>\n",
              "      <td>903</td>\n",
              "      <td>0</td>\n",
              "      <td>741</td>\n",
              "      <td>0</td>\n",
              "      <td>78</td>\n",
              "      <td>0</td>\n",
              "      <td>1722</td>\n",
              "    </tr>\n",
              "    <tr>\n",
              "      <th>подъем вверх по лестнице</th>\n",
              "      <td>1241</td>\n",
              "      <td>0</td>\n",
              "      <td>296</td>\n",
              "      <td>2</td>\n",
              "      <td>5</td>\n",
              "      <td>0</td>\n",
              "      <td>1544</td>\n",
              "    </tr>\n",
              "    <tr>\n",
              "      <th>спуск по лестнице</th>\n",
              "      <td>320</td>\n",
              "      <td>0</td>\n",
              "      <td>890</td>\n",
              "      <td>0</td>\n",
              "      <td>196</td>\n",
              "      <td>0</td>\n",
              "      <td>1406</td>\n",
              "    </tr>\n",
              "    <tr>\n",
              "      <th>сидение</th>\n",
              "      <td>1</td>\n",
              "      <td>1235</td>\n",
              "      <td>0</td>\n",
              "      <td>450</td>\n",
              "      <td>0</td>\n",
              "      <td>91</td>\n",
              "      <td>1777</td>\n",
              "    </tr>\n",
              "    <tr>\n",
              "      <th>стояние</th>\n",
              "      <td>0</td>\n",
              "      <td>1344</td>\n",
              "      <td>0</td>\n",
              "      <td>562</td>\n",
              "      <td>0</td>\n",
              "      <td>0</td>\n",
              "      <td>1906</td>\n",
              "    </tr>\n",
              "    <tr>\n",
              "      <th>лежание</th>\n",
              "      <td>5</td>\n",
              "      <td>52</td>\n",
              "      <td>0</td>\n",
              "      <td>329</td>\n",
              "      <td>0</td>\n",
              "      <td>1558</td>\n",
              "      <td>1944</td>\n",
              "    </tr>\n",
              "    <tr>\n",
              "      <th>все</th>\n",
              "      <td>2470</td>\n",
              "      <td>2631</td>\n",
              "      <td>1927</td>\n",
              "      <td>1343</td>\n",
              "      <td>279</td>\n",
              "      <td>1649</td>\n",
              "      <td>10299</td>\n",
              "    </tr>\n",
              "  </tbody>\n",
              "</table>\n",
              "</div>"
            ],
            "text/plain": [
              "                          cluster1  cluster2  ...  cluster6    все\n",
              "ходьба                         903         0  ...         0   1722\n",
              "подъем вверх по лестнице      1241         0  ...         0   1544\n",
              "спуск по лестнице              320         0  ...         0   1406\n",
              "сидение                          1      1235  ...        91   1777\n",
              "стояние                          0      1344  ...         0   1906\n",
              "лежание                          5        52  ...      1558   1944\n",
              "все                           2470      2631  ...      1649  10299\n",
              "\n",
              "[7 rows x 7 columns]"
            ]
          },
          "metadata": {
            "tags": []
          },
          "execution_count": 15
        }
      ]
    },
    {
      "cell_type": "markdown",
      "metadata": {
        "id": "vWdgwrUbn3gn"
      },
      "source": [
        "Видим, что каждому классу (т.е. каждой активности) соответствуют несколько кластеров. Давайте посмотрим на максимальную долю объектов в классе, отнесенных к какому-то одному кластеру. Это будет простой метрикой, характеризующей, насколько легко класс отделяется от других при кластеризации. \n",
        "\n",
        "Пример: если для класса \"спуск по лестнице\", в котором 1406 объектов,  распределение кластеров такое:\n",
        " - кластер 1 – 900\n",
        " - кластер 3 – 500\n",
        " - кластер 6 – 6,\n",
        " \n",
        "то такая доля будет 900 / 1406 $\\approx$ 0.64.\n",
        " \n",
        "\n",
        "**Вопрос 4:**<br>\n",
        "Какой вид активности отделился от остальных лучше всего в терминах простой  метрики, описанной выше?<br>\n",
        "\n",
        "**Ответ:**\n",
        "- ходьба\n",
        "- стояние\n",
        "- спуск по лестнице\n",
        "- **перечисленные варианты не подходят**"
      ]
    },
    {
      "cell_type": "code",
      "metadata": {
        "colab": {
          "base_uri": "https://localhost:8080/"
        },
        "id": "NqGB60oQJMae",
        "outputId": "e3556215-cd43-4fed-b980-e0a43c0fdd2b"
      },
      "source": [
        "# Ваш код здесь\n",
        "pd.Series(tab.iloc[:-1, :-1].max(axis=1) / tab.iloc[:-1, -1], index=tab.index[:-1])"
      ],
      "execution_count": null,
      "outputs": [
        {
          "output_type": "execute_result",
          "data": {
            "text/plain": [
              "ходьба                      0.524390\n",
              "подъем вверх по лестнице    0.803756\n",
              "спуск по лестнице           0.633001\n",
              "сидение                     0.694992\n",
              "стояние                     0.705142\n",
              "лежание                     0.801440\n",
              "dtype: float64"
            ]
          },
          "metadata": {
            "tags": []
          },
          "execution_count": 16
        }
      ]
    },
    {
      "cell_type": "markdown",
      "metadata": {
        "id": "YAp-7VApn3go"
      },
      "source": [
        "Видно, что kMeans не очень хорошо отличает только активности друг от друга. Используйте метод локтя, чтобы выбрать оптимальное количество кластеров. Параметры алгоритма и данные используем те же, что раньше, меняем только `n_clusters`."
      ]
    },
    {
      "cell_type": "code",
      "metadata": {
        "colab": {
          "base_uri": "https://localhost:8080/",
          "height": 312
        },
        "id": "oUNqCdIhLh1i",
        "outputId": "44f7e011-de14-4075-cdba-8abe05bcf078"
      },
      "source": [
        "%%time\n",
        "# Ваш код здесь\n",
        "n_k = 6\n",
        "inertia = []\n",
        "for k in range(1, n_k+1):\n",
        "    kmeans = KMeans(n_clusters=k, random_state=RANDOM_STATE, n_jobs=-1).fit(X_pca)\n",
        "    inertia.append(np.sqrt(kmeans.inertia_))\n",
        "\n",
        "plt.plot(range(1, n_k+1), inertia, marker='s');\n",
        "plt.xlabel('$k$')\n",
        "plt.ylabel('$J(C_k)$');"
      ],
      "execution_count": null,
      "outputs": [
        {
          "output_type": "stream",
          "text": [
            "CPU times: user 238 ms, sys: 27.4 ms, total: 265 ms\n",
            "Wall time: 3.31 s\n"
          ],
          "name": "stdout"
        },
        {
          "output_type": "display_data",
          "data": {
            "image/png": "[encoded data removed]",
            "text/plain": [
              "<Figure size 432x288 with 1 Axes>"
            ]
          },
          "metadata": {
            "tags": [],
            "needs_background": "light"
          }
        }
      ]
    },
    {
      "cell_type": "code",
      "metadata": {
        "colab": {
          "base_uri": "https://localhost:8080/"
        },
        "id": "1U6I5wTXN3BL",
        "outputId": "5d588831-57a6-4cad-9f6a-57fbb49b46ae"
      },
      "source": [
        "np.argmin([abs(inertia[i]-inertia[i+1])/abs(inertia[i-1]-inertia[i]) for i in range(1, len(inertia)-1)])+2"
      ],
      "execution_count": null,
      "outputs": [
        {
          "output_type": "execute_result",
          "data": {
            "text/plain": [
              "2"
            ]
          },
          "metadata": {
            "tags": []
          },
          "execution_count": 18
        }
      ]
    },
    {
      "cell_type": "markdown",
      "metadata": {
        "id": "g-AlzZ2Bn3gq"
      },
      "source": [
        "**Вопрос 5:**<br>\n",
        "Какое количество кластеров оптимально выбрать, согласно методу локтя?<br>\n",
        "\n",
        "**Ответ:**\n",
        "- 1\n",
        "- **2**\n",
        "- 3\n",
        "- 4"
      ]
    },
    {
      "cell_type": "markdown",
      "metadata": {
        "id": "bobQdvKOn3gr"
      },
      "source": [
        "Попробуем еще один метод кластеризации, который описывался в статье – агломеративную кластеризацию."
      ]
    },
    {
      "cell_type": "code",
      "metadata": {
        "collapsed": true,
        "id": "5_h-zT0_n3gr"
      },
      "source": [
        "ag = AgglomerativeClustering(n_clusters=n_classes, \n",
        "                             linkage='ward').fit(X_pca)"
      ],
      "execution_count": null,
      "outputs": []
    },
    {
      "cell_type": "markdown",
      "metadata": {
        "id": "_3qTZLx8n3gr"
      },
      "source": [
        "Посчитайте Adjusted Rand Index (`sklearn.metrics`) для получившегося разбиения на кластеры и для `KMeans` с параметрами из задания к 4 вопросу."
      ]
    },
    {
      "cell_type": "code",
      "metadata": {
        "colab": {
          "base_uri": "https://localhost:8080/"
        },
        "id": "Y6YZNK8tn3gs",
        "outputId": "5690e3af-0e9b-4a22-dabc-cb6362acebdd"
      },
      "source": [
        "# Ваш код здесь\n",
        "metrics.adjusted_rand_score(y, ag.labels_), metrics.adjusted_rand_score(y, cluster_labels)"
      ],
      "execution_count": null,
      "outputs": [
        {
          "output_type": "execute_result",
          "data": {
            "text/plain": [
              "(0.49362763373004886, 0.4198070012602345)"
            ]
          },
          "metadata": {
            "tags": []
          },
          "execution_count": 20
        }
      ]
    },
    {
      "cell_type": "markdown",
      "metadata": {
        "id": "P846muAOn3gs"
      },
      "source": [
        "**Вопрос 6:**<br>\n",
        "Отметьте все верные утверждения.<br>\n",
        "\n",
        "**Варианты:**\n",
        "- **Согласно ARI, KMeans справился с кластеризацией хуже, чем Agglomerative Clustering**\n",
        "- **Для ARI не имеет значения какие именно метки присвоены кластерам, имеет значение только разбиение объектов на кластеры**\n",
        "- **В случае случайного разбиения на кластеры ARI будет близок к нулю**"
      ]
    },
    {
      "cell_type": "markdown",
      "metadata": {
        "id": "lwXQ9ci-n3gt"
      },
      "source": [
        "Можно заметить, что задача не очень хорошо решается именно как задача кластеризации, если выделять несколько кластеров (> 2). Давайте теперь решим задачу классификации, вспомнив, что данные у нас размечены.  \n",
        "\n",
        "Для классификации используйте метод опорных векторов – класс `sklearn.svm.LinearSVC`. Мы в курсе отдельно не рассматривали этот алгоритм, но он очень известен, почитать про него можно, например, в материалах Евгения Соколова –  [тут](https://github.com/esokolov/ml-course-msu/blob/master/ML16/lecture-notes/Sem11_linear.pdf). \n",
        "\n",
        "Настройте для `LinearSVC` гиперпараметр `C` с помощью `GridSearchCV`. \n",
        "\n",
        "- Обучите новый `StandardScaler` на обучающей выборке (со всеми исходными признаками), прмиените масштабирование к тестовой выборке\n",
        "- В `GridSearchCV` укажите  cv=3."
      ]
    },
    {
      "cell_type": "code",
      "metadata": {
        "collapsed": true,
        "id": "P3tNFMybn3gt"
      },
      "source": [
        "# Ваш код здесь\n",
        "X_train_scaled = StandardScaler().fit_transform(X_train)\n",
        "X_test_scaled = StandardScaler().fit_transform(X_test)"
      ],
      "execution_count": null,
      "outputs": []
    },
    {
      "cell_type": "code",
      "metadata": {
        "id": "y97HJRCdn3gu",
        "colab": {
          "base_uri": "https://localhost:8080/"
        },
        "outputId": "d87d4180-ede4-4d02-b98f-11c3b35f0c31"
      },
      "source": [
        "%%time\n",
        "# Ваш код здесь\n",
        "svc = LinearSVC(random_state=RANDOM_STATE)\n",
        "svc_params = {'C': [0.001, 0.01, 0.1, 1, 10]}\n",
        "best_svc = GridSearchCV(svc, svc_params, n_jobs=-1, cv=3).fit(X_train_scaled, y_train)"
      ],
      "execution_count": null,
      "outputs": [
        {
          "output_type": "stream",
          "text": [
            "CPU times: user 6.19 s, sys: 90.5 ms, total: 6.28 s\n",
            "Wall time: 47.5 s\n"
          ],
          "name": "stdout"
        },
        {
          "output_type": "stream",
          "text": [
            "/usr/local/lib/python3.7/dist-packages/sklearn/svm/_base.py:947: ConvergenceWarning: Liblinear failed to converge, increase the number of iterations.\n",
            "  \"the number of iterations.\", ConvergenceWarning)\n"
          ],
          "name": "stderr"
        }
      ]
    },
    {
      "cell_type": "code",
      "metadata": {
        "id": "keKEduj9n3gu",
        "colab": {
          "base_uri": "https://localhost:8080/"
        },
        "outputId": "17674385-9d01-4714-db30-4aed69c7fcf7"
      },
      "source": [
        "# Ваш код здесь\n",
        "best_svc.best_params_, best_svc.best_score_"
      ],
      "execution_count": null,
      "outputs": [
        {
          "output_type": "execute_result",
          "data": {
            "text/plain": [
              "({'C': 0.1}, 0.9382506099134881)"
            ]
          },
          "metadata": {
            "tags": []
          },
          "execution_count": 23
        }
      ]
    },
    {
      "cell_type": "markdown",
      "metadata": {
        "id": "aRKK76Xgn3gu"
      },
      "source": [
        "**Вопрос 7**<br>\n",
        "Какое значение гиперпараметра `C` было выбрано лучшим по итогам кросс-валидации?<br>\n",
        "\n",
        "**Ответ:**\n",
        "- 0.001\n",
        "- 0.01\n",
        "- **0.1**\n",
        "- 1\n",
        "- 10"
      ]
    },
    {
      "cell_type": "code",
      "metadata": {
        "collapsed": true,
        "id": "ahrNWSKxn3gv"
      },
      "source": [
        "y_predicted = best_svc.predict(X_test_scaled)"
      ],
      "execution_count": null,
      "outputs": []
    },
    {
      "cell_type": "code",
      "metadata": {
        "id": "LKe4VKOpn3gv",
        "colab": {
          "base_uri": "https://localhost:8080/",
          "height": 254
        },
        "outputId": "98e54f6f-dfb8-459a-b81d-6439240be52b"
      },
      "source": [
        "tab = pd.crosstab(y_test, y_predicted, margins=True)\n",
        "tab.index = ['ходьба', 'подъем вверх по лестнице', 'спуск по лестнице', \n",
        "             'сидение', 'стояние', 'лежание', 'все']\n",
        "tab.columns = tab.index\n",
        "tab"
      ],
      "execution_count": null,
      "outputs": [
        {
          "output_type": "execute_result",
          "data": {
            "text/html": [
              "<div>\n",
              "<style scoped>\n",
              "    .dataframe tbody tr th:only-of-type {\n",
              "        vertical-align: middle;\n",
              "    }\n",
              "\n",
              "    .dataframe tbody tr th {\n",
              "        vertical-align: top;\n",
              "    }\n",
              "\n",
              "    .dataframe thead th {\n",
              "        text-align: right;\n",
              "    }\n",
              "</style>\n",
              "<table border=\"1\" class=\"dataframe\">\n",
              "  <thead>\n",
              "    <tr style=\"text-align: right;\">\n",
              "      <th></th>\n",
              "      <th>ходьба</th>\n",
              "      <th>подъем вверх по лестнице</th>\n",
              "      <th>спуск по лестнице</th>\n",
              "      <th>сидение</th>\n",
              "      <th>стояние</th>\n",
              "      <th>лежание</th>\n",
              "      <th>все</th>\n",
              "    </tr>\n",
              "  </thead>\n",
              "  <tbody>\n",
              "    <tr>\n",
              "      <th>ходьба</th>\n",
              "      <td>479</td>\n",
              "      <td>11</td>\n",
              "      <td>4</td>\n",
              "      <td>2</td>\n",
              "      <td>0</td>\n",
              "      <td>0</td>\n",
              "      <td>496</td>\n",
              "    </tr>\n",
              "    <tr>\n",
              "      <th>подъем вверх по лестнице</th>\n",
              "      <td>4</td>\n",
              "      <td>465</td>\n",
              "      <td>1</td>\n",
              "      <td>1</td>\n",
              "      <td>0</td>\n",
              "      <td>0</td>\n",
              "      <td>471</td>\n",
              "    </tr>\n",
              "    <tr>\n",
              "      <th>спуск по лестнице</th>\n",
              "      <td>1</td>\n",
              "      <td>2</td>\n",
              "      <td>416</td>\n",
              "      <td>1</td>\n",
              "      <td>0</td>\n",
              "      <td>0</td>\n",
              "      <td>420</td>\n",
              "    </tr>\n",
              "    <tr>\n",
              "      <th>сидение</th>\n",
              "      <td>0</td>\n",
              "      <td>4</td>\n",
              "      <td>0</td>\n",
              "      <td>433</td>\n",
              "      <td>52</td>\n",
              "      <td>2</td>\n",
              "      <td>491</td>\n",
              "    </tr>\n",
              "    <tr>\n",
              "      <th>стояние</th>\n",
              "      <td>0</td>\n",
              "      <td>0</td>\n",
              "      <td>0</td>\n",
              "      <td>16</td>\n",
              "      <td>516</td>\n",
              "      <td>0</td>\n",
              "      <td>532</td>\n",
              "    </tr>\n",
              "    <tr>\n",
              "      <th>лежание</th>\n",
              "      <td>0</td>\n",
              "      <td>0</td>\n",
              "      <td>0</td>\n",
              "      <td>0</td>\n",
              "      <td>6</td>\n",
              "      <td>531</td>\n",
              "      <td>537</td>\n",
              "    </tr>\n",
              "    <tr>\n",
              "      <th>все</th>\n",
              "      <td>484</td>\n",
              "      <td>482</td>\n",
              "      <td>421</td>\n",
              "      <td>453</td>\n",
              "      <td>574</td>\n",
              "      <td>533</td>\n",
              "      <td>2947</td>\n",
              "    </tr>\n",
              "  </tbody>\n",
              "</table>\n",
              "</div>"
            ],
            "text/plain": [
              "                          ходьба  подъем вверх по лестнице  ...  лежание   все\n",
              "ходьба                       479                        11  ...        0   496\n",
              "подъем вверх по лестнице       4                       465  ...        0   471\n",
              "спуск по лестнице              1                         2  ...        0   420\n",
              "сидение                        0                         4  ...        2   491\n",
              "стояние                        0                         0  ...        0   532\n",
              "лежание                        0                         0  ...      531   537\n",
              "все                          484                       482  ...      533  2947\n",
              "\n",
              "[7 rows x 7 columns]"
            ]
          },
          "metadata": {
            "tags": []
          },
          "execution_count": 25
        }
      ]
    },
    {
      "cell_type": "markdown",
      "metadata": {
        "id": "xqvFFiwRn3gw"
      },
      "source": [
        "**Вопрос 8:**<br>\n",
        "Какой вид активности SVM определяет хуже всего в терминах точности? Полноты? <br>\n",
        "\n",
        "**Ответ:**\n",
        "- по точности – подъем вверх по лестнице, по полноте – лежание\n",
        "- по точности – лежание, по полноте – сидение\n",
        "- по точности – ходьба, по полноте – ходьба\n",
        "- **по точности – стояние, по полноте – сидение**"
      ]
    },
    {
      "cell_type": "code",
      "metadata": {
        "colab": {
          "base_uri": "https://localhost:8080/"
        },
        "id": "kXa8IL2VxD8c",
        "outputId": "b6ee53a9-0c45-431c-c432-dd6a67d0c813"
      },
      "source": [
        "# Ваш код здесь\n",
        "# точность\n",
        "pd.Series(tab.iloc[:-1, :-1].max(axis=1) / tab.iloc[-1, :-1], index=tab.index[:-1], name='Точность')"
      ],
      "execution_count": null,
      "outputs": [
        {
          "output_type": "execute_result",
          "data": {
            "text/plain": [
              "ходьба                      0.989669\n",
              "подъем вверх по лестнице    0.964730\n",
              "спуск по лестнице           0.988124\n",
              "сидение                     0.955850\n",
              "стояние                     0.898955\n",
              "лежание                     0.996248\n",
              "Name: Точность, dtype: float64"
            ]
          },
          "metadata": {
            "tags": []
          },
          "execution_count": 26
        }
      ]
    },
    {
      "cell_type": "code",
      "metadata": {
        "colab": {
          "base_uri": "https://localhost:8080/"
        },
        "id": "RDZQj3BAxbPr",
        "outputId": "54d61524-4b61-45eb-f045-769cf30f7ad8"
      },
      "source": [
        "# Ваш код здесь\n",
        "# полнота\n",
        "pd.Series(tab.iloc[:-1, :-1].max(axis=0) / tab.iloc[:-1, -1], index=tab.index[:-1], name='Полнота')"
      ],
      "execution_count": null,
      "outputs": [
        {
          "output_type": "execute_result",
          "data": {
            "text/plain": [
              "ходьба                      0.965726\n",
              "подъем вверх по лестнице    0.987261\n",
              "спуск по лестнице           0.990476\n",
              "сидение                     0.881874\n",
              "стояние                     0.969925\n",
              "лежание                     0.988827\n",
              "Name: Полнота, dtype: float64"
            ]
          },
          "metadata": {
            "tags": []
          },
          "execution_count": 27
        }
      ]
    },
    {
      "cell_type": "code",
      "metadata": {
        "colab": {
          "base_uri": "https://localhost:8080/"
        },
        "id": "BnknM2mN4YaA",
        "outputId": "852fed9a-011d-46a0-b7ca-ffe9c7cb4a58"
      },
      "source": [
        "from sklearn.metrics import classification_report\n",
        "print(classification_report(y_test, y_predicted))"
      ],
      "execution_count": null,
      "outputs": [
        {
          "output_type": "stream",
          "text": [
            "              precision    recall  f1-score   support\n",
            "\n",
            "           1       0.99      0.97      0.98       496\n",
            "           2       0.96      0.99      0.98       471\n",
            "           3       0.99      0.99      0.99       420\n",
            "           4       0.96      0.88      0.92       491\n",
            "           5       0.90      0.97      0.93       532\n",
            "           6       1.00      0.99      0.99       537\n",
            "\n",
            "    accuracy                           0.96      2947\n",
            "   macro avg       0.97      0.96      0.96      2947\n",
            "weighted avg       0.96      0.96      0.96      2947\n",
            "\n"
          ],
          "name": "stdout"
        }
      ]
    },
    {
      "cell_type": "markdown",
      "metadata": {
        "id": "qGZ4Zx9an3gw"
      },
      "source": [
        "Наконец, проделайте то же самое, что в 7 вопросе, только добавив PCA.\n",
        "\n",
        "- Используйте выборки `X_train_scaled` и `X_test_scaled`\n",
        "- Обучите тот же PCA, что раньше, на отмасшабированной обучающей выборке, примените преобразование к тестовой\n",
        "- Настройте гиперпараметр `C` на кросс-валидации по обучающей выборке с PCA-преобразованием. Вы заметите, насколько это проходит быстрее, чем раньше.\n",
        "\n",
        "**Вопрос 9:**<br>\n",
        "Какова разность между лучшим качеством (долей верных ответов) на кросс-валидации в случае всех 561 исходных признаков и во втором случае, когда применялся метод главных компонент? Округлите до целых процентов.<br>\n",
        "\n",
        "**Варианты:**\n",
        "- Качество одинаковое\n",
        "- 2%\n",
        "- **4%**\n",
        "- 10%\n",
        "- 20%\n"
      ]
    },
    {
      "cell_type": "code",
      "metadata": {
        "id": "kdkvicC38a86"
      },
      "source": [
        "# Ваш код здесь\n",
        "pca = PCA(0.9, random_state=RANDOM_STATE)\n",
        "X_train_scaled_pca = pca.fit_transform(X_train_scaled)\n",
        "X_test_scaled_pca = pca.transform(X_test_scaled)"
      ],
      "execution_count": null,
      "outputs": []
    },
    {
      "cell_type": "code",
      "metadata": {
        "colab": {
          "base_uri": "https://localhost:8080/"
        },
        "id": "CK_aKfTs7AW7",
        "outputId": "41f3f2e1-c809-4580-8922-2e492c9e3b51"
      },
      "source": [
        "%%time\n",
        "# Ваш код здесь\n",
        "svc = LinearSVC(random_state=RANDOM_STATE)\n",
        "best_svc_pca = GridSearchCV(svc, svc_params, n_jobs=-1, cv=3).fit(X_train_scaled_pca, y_train)"
      ],
      "execution_count": null,
      "outputs": [
        {
          "output_type": "stream",
          "text": [
            "CPU times: user 1.59 s, sys: 60.2 ms, total: 1.65 s\n",
            "Wall time: 10.9 s\n"
          ],
          "name": "stdout"
        },
        {
          "output_type": "stream",
          "text": [
            "/usr/local/lib/python3.7/dist-packages/sklearn/svm/_base.py:947: ConvergenceWarning: Liblinear failed to converge, increase the number of iterations.\n",
            "  \"the number of iterations.\", ConvergenceWarning)\n"
          ],
          "name": "stderr"
        }
      ]
    },
    {
      "cell_type": "code",
      "metadata": {
        "colab": {
          "base_uri": "https://localhost:8080/"
        },
        "id": "0e9fv2dV8esT",
        "outputId": "2e9403ab-28ae-4039-bead-67d828a69ab6"
      },
      "source": [
        "# Ваш код здесь\n",
        "print('Best params:', best_svc_pca.best_params_)\n",
        "y_predicted_pca = best_svc_pca.predict(X_test_scaled_pca)"
      ],
      "execution_count": null,
      "outputs": [
        {
          "output_type": "stream",
          "text": [
            "Best params: {'C': 0.1}\n"
          ],
          "name": "stdout"
        }
      ]
    },
    {
      "cell_type": "code",
      "metadata": {
        "colab": {
          "base_uri": "https://localhost:8080/"
        },
        "id": "E0CIDLsV8kl9",
        "outputId": "fee128e5-70b6-4c37-cd1b-be69daa21986"
      },
      "source": [
        "acc = metrics.accuracy_score(y_test, y_predicted)\n",
        "acc_pca = metrics.accuracy_score(y_test, y_predicted_pca)\n",
        "acc, acc_pca, '%.1f %%' % ((acc-acc_pca) * 100)"
      ],
      "execution_count": null,
      "outputs": [
        {
          "output_type": "execute_result",
          "data": {
            "text/plain": [
              "(0.9636918900576857, 0.9185612487275195, '4.5 %')"
            ]
          },
          "metadata": {
            "tags": []
          },
          "execution_count": 32
        }
      ]
    },
    {
      "cell_type": "code",
      "metadata": {
        "colab": {
          "base_uri": "https://localhost:8080/"
        },
        "id": "8cAB5kOR9cjd",
        "outputId": "103af8ce-6adf-4664-c555-cfda9af47955"
      },
      "source": [
        "# оффтоп, памятка элементарного синтаксиса\n",
        "'%06.2f' % (3.14159), '{:06.2f}'.format(3.14159), '%04d' % (42), '{:04d}'.format(42)"
      ],
      "execution_count": null,
      "outputs": [
        {
          "output_type": "execute_result",
          "data": {
            "text/plain": [
              "('003.14', '003.14', '0042', '0042')"
            ]
          },
          "metadata": {
            "tags": []
          },
          "execution_count": 33
        }
      ]
    },
    {
      "cell_type": "markdown",
      "metadata": {
        "id": "w66MV3B9n3gx"
      },
      "source": [
        "**Вопрос 10:**<br>\n",
        "Выберите все верные утверждения:\n",
        "\n",
        "**Варианты:**\n",
        "- Метод главных компонент в данном случае позволил уменьшить время обучения модели, при этом качество (доля верных ответов на кросс-валидации) очень пострадало, более чем на 10%\n",
        "- **PCA можно использовать для визуализации данных, однако для этой задачи есть и лучше подходящие методы, например, tSNE. Зато PCA имеет меньшую вычислительную сложность**\n",
        "- **PCA строит линейные комбинации исходных признаков, и в некоторых задачах они могут плохо интерпретироваться человеком**"
      ]
    }
  ]
}