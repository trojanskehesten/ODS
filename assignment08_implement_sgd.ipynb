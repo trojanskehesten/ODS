{
  "nbformat": 4,
  "nbformat_minor": 0,
  "metadata": {
    "kernelspec": {
      "display_name": "Python 3",
      "language": "python",
      "name": "python3"
    },
    "language_info": {
      "codemirror_mode": {
        "name": "ipython",
        "version": 3
      },
      "file_extension": ".py",
      "mimetype": "text/x-python",
      "name": "python",
      "nbconvert_exporter": "python",
      "pygments_lexer": "ipython3",
      "version": "3.7.6"
    },
    "colab": {
      "name": "assignment08_implement_sgd.ipynb",
      "provenance": [],
      "collapsed_sections": []
    }
  },
  "cells": [
    {
      "cell_type": "markdown",
      "metadata": {
        "id": "4uUwtL1nvLpE"
      },
      "source": [
        "## <center> [mlcourse.ai](https://mlcourse.ai) – открытый курс OpenDataScience по машинному обучению \n",
        "    \n",
        "Автор материала: Юрий Кашницкий (@yorko в Slack ODS). Материал распространяется на условиях лицензии [Creative Commons CC BY-NC-SA 4.0](https://creativecommons.org/licenses/by-nc-sa/4.0/). Можно использовать в любых целях (редактировать, поправлять и брать за основу), кроме коммерческих, но с обязательным упоминанием автора материала."
      ]
    },
    {
      "cell_type": "markdown",
      "metadata": {
        "id": "6pvbZAqmvLpO"
      },
      "source": [
        "# <center> Домашнее задание № 8 (демо)\n",
        "## <center> Реализация алгоритмов онлайн-обучения"
      ]
    },
    {
      "cell_type": "markdown",
      "metadata": {
        "id": "044jVDFxvLpP"
      },
      "source": [
        "Вам предлагается реализовать два алгоритма – регрессор и классификатор, обучаемые стохастическим градиентным спуском (Stochastic Gradient Descent, SGD). [Веб-форма](https://docs.google.com/forms/d/1xlbc0CaUaNpVs-fhxkHUe61AtsvS_aDqQ0CLFxs6UDA) для ответов."
      ]
    },
    {
      "cell_type": "markdown",
      "metadata": {
        "id": "vunVRlvevLpQ"
      },
      "source": [
        "## План домашнего задания\n",
        "    1. Линейная регрессия и SGD\n",
        "    2. Логистическая регрессия и SGD\n",
        "    3. Логистическая регрессия и SGDClassifier в задаче классификации отзывов к фильмам"
      ]
    },
    {
      "cell_type": "markdown",
      "metadata": {
        "id": "h99v-BhtvLpQ"
      },
      "source": [
        "В [статье](https://habrahabr.ru/company/ods/blog/326418/) было описано, как таким образом обучать регрессор, т.е. минимизировать квадратичную функцию потерь. Реализуем этот алгоритм."
      ]
    },
    {
      "cell_type": "markdown",
      "metadata": {
        "id": "BrUi9I2evLpR"
      },
      "source": [
        "##  1. Линейная регрессия и SGD"
      ]
    },
    {
      "cell_type": "code",
      "metadata": {
        "id": "CSv00E8fvLpS"
      },
      "source": [
        "import numpy as np\n",
        "import pandas as pd\n",
        "from sklearn.base import BaseEstimator\n",
        "from sklearn.metrics import log_loss, mean_squared_error, roc_auc_score\n",
        "from sklearn.model_selection import train_test_split\n",
        "from tqdm import tqdm\n",
        "\n",
        "%matplotlib inline\n",
        "import seaborn as sns\n",
        "from matplotlib import pyplot as plt\n",
        "from sklearn.preprocessing import StandardScaler"
      ],
      "execution_count": null,
      "outputs": []
    },
    {
      "cell_type": "markdown",
      "metadata": {
        "id": "dNGYETTovLpT"
      },
      "source": [
        "Реализуйте класс `SGDRegressor`. Спецификация:\n",
        "- класс наследуется от `sklearn.base.BaseEstimator`\n",
        "- конструктор принимает параметры `eta` – шаг градиентного спуска (по умолчанию $10^{-3}$) и `n_iter` – число проходов по выборке (по умолчанию 10)\n",
        "- также в конструкторе должны создаваться списки `mse_` и `weights_` для отслеживания значений среднеквадратичной ошибки и вектора весов по итерациям градиентного спуска\n",
        "- Класс имеет методы `fit` и `predict`\n",
        "- Метод `fit` принимает матрицу `X` и вектор `y` (объекты `numpy.array`), добавляет к матрице `X` слева столбец из единиц, инициализирует вектор весов `w` **нулями** и в цикле с числом итераций `n_iter` обновляет веса (см. [статью](https://habrahabr.ru/company/ods/blog/326418/)), а также записывает получившиеся на данной итерации значения среднеквадратичной ошибки (именно MSE, SE слишком большими будут) и вектор весов `w` в предназначенные для этого списки. \n",
        "- В конце метод `fit` создает переменную `w_`, в которой хранится тот вектор весов, при котором ошибка минимальна\n",
        "- Метод `fit` должен возвращать текущий экземпляр класса `SGDRegressor`, т.е. `self`\n",
        "- Метод `predict` принимает матрицу `X`, добавляет к ней слева столбец из единиц и возвращает вектор прогнозов модели, используя созданный методом `fit` вектор весов `w_`."
      ]
    },
    {
      "cell_type": "code",
      "metadata": {
        "colab": {
          "base_uri": "https://localhost:8080/"
        },
        "id": "cHKQOI5BCqIc",
        "outputId": "fcd3f953-d92e-46f0-e131-2cf948297ebe"
      },
      "source": [
        "# Simple example. Test SGD\n",
        "w = np.array([2., 3.])\n",
        "y = np.array([4.5, 7.7, 8.9])\n",
        "x = np.array([[1., 5.], [1., 11.], [1., 13.]])\n",
        "print('y:', y)\n",
        "print()\n",
        "print('iter: 0')\n",
        "print('pred:', np.round(np.dot(x, w), 1))\n",
        "print('w:', w)\n",
        "print('mse:', np.round(1/3*(y - np.dot(x, w))**2, 1), ', rmse:', np.round(np.sum(1/3*(y - np.dot(x, w))**2)**0.5,2))\n",
        "print()\n",
        "\n",
        "eta = 1e-2\n",
        "for k in range(5):\n",
        "  for i in range(3):\n",
        "    w[0] += eta * (y[i]-w[0]-w[1]*x[i, 1])\n",
        "    w[1] += eta * (y[i]-w[0]-w[1]*x[i, 1])*x[i, 1]\n",
        "  print('iter:', k+1)\n",
        "  print('pred:', np.round(np.dot(x, w), 1))\n",
        "  print('w:', np.round(w,3))\n",
        "  print('mse:', np.round(0.5*(y - np.dot(x, w))**2, 2), ', rmse:', np.round(np.sum(1/3*(y - np.dot(x, w))**2)**0.5,2))\n",
        "  print()"
      ],
      "execution_count": null,
      "outputs": [
        {
          "output_type": "stream",
          "text": [
            "y: [4.5 7.7 8.9]\n",
            "\n",
            "iter: 0\n",
            "pred: [17. 35. 41.]\n",
            "w: [2. 3.]\n",
            "mse: [ 52.1 248.4 343.5] , rmse: 25.38\n",
            "\n",
            "iter: 1\n",
            "pred: [ 5.8 10.7 12.4]\n",
            "w: [1.722 0.821]\n",
            "mse: [0.88 4.65 6.09] , rmse: 2.78\n",
            "\n",
            "iter: 2\n",
            "pred: [4.6 8.2 9.4]\n",
            "w: [1.693 0.59 ]\n",
            "mse: [0.01 0.12 0.11] , rmse: 0.39\n",
            "\n",
            "iter: 3\n",
            "pred: [4.5 7.9 9. ]\n",
            "w: [1.689 0.565]\n",
            "mse: [0.   0.02 0.01] , rmse: 0.15\n",
            "\n",
            "iter: 4\n",
            "pred: [4.5 7.9 9. ]\n",
            "w: [1.689 0.563]\n",
            "mse: [0.   0.02 0.01] , rmse: 0.12\n",
            "\n",
            "iter: 5\n",
            "pred: [4.5 7.9 9. ]\n",
            "w: [1.688 0.563]\n",
            "mse: [0.   0.02 0.01] , rmse: 0.12\n",
            "\n"
          ],
          "name": "stdout"
        }
      ]
    },
    {
      "cell_type": "code",
      "metadata": {
        "id": "wW0-ZcPyvLpU"
      },
      "source": [
        "class SGDRegressor(BaseEstimator):\n",
        "    \"\"\" ВАШ КОД ЗДЕСЬ \"\"\"\n",
        "    def __init__(self, eta=1e-3, n_iter=10):\n",
        "      self.__eta = eta\n",
        "      self.__n_iter = n_iter\n",
        "      self.mse_ = []\n",
        "      self.weights_ = []\n",
        "\n",
        "    def fit(self, X, y, verbose=True):\n",
        "      self.__l = X.shape[0]\n",
        "      X = np.hstack((np.ones((self.__l, 1)), X))\n",
        "      self.__w = np.zeros(X.shape[1])\n",
        "      self.__mse = mean_squared_error(y, np.dot(X, self.__w))\n",
        "      \n",
        "      for k in range(self.__n_iter):\n",
        "        if verbose:\n",
        "          print(k, ': MSE = %.3f' % self.__mse, ', w = ', np.round(self.__w, 3))\n",
        "        for i in range(self.__l):\n",
        "          self.__w[0] += self.__eta * (y[i]-self.__w[0]-self.__w[1]*X[i, 1])\n",
        "          self.__w[1] += self.__eta * (y[i]-self.__w[0]-self.__w[1]*X[i, 1])*X[i, 1]\n",
        "          self.__pred = np.dot(X, self.__w)\n",
        "          self.__mse = mean_squared_error(y, self.__pred)\n",
        "          self.mse_.append(np.copy(self.__mse))\n",
        "          self.weights_.append(np.copy(self.__w))\n",
        "\n",
        "      self.w_ = self.weights_[np.argmin(self.mse_)]\n",
        "      self.weights_ = np.array(self.weights_)\n",
        "      self.mse_ = np.array(self.mse_)\n",
        "      return self\n",
        "\n",
        "    def predict(self, X):\n",
        "      X = np.hstack((np.ones((X.shape[0],1)),X))\n",
        "      return np.dot(X, self.w_)"
      ],
      "execution_count": null,
      "outputs": []
    },
    {
      "cell_type": "markdown",
      "metadata": {
        "id": "6Ug1msBuvLpU"
      },
      "source": [
        "Проверим работу алгоритма на данных по росту и весу. Будем прогнозировать рост (в дюймах) по весу (в фунтах)."
      ]
    },
    {
      "cell_type": "code",
      "metadata": {
        "id": "oHlI5ZF6vLpU"
      },
      "source": [
        "data_demo = pd.read_csv(\"weights_heights.csv\")"
      ],
      "execution_count": null,
      "outputs": []
    },
    {
      "cell_type": "code",
      "metadata": {
        "id": "ydpymHxLvLpV",
        "colab": {
          "base_uri": "https://localhost:8080/",
          "height": 279
        },
        "outputId": "b951bee7-a8de-4a85-a64d-a8c07a4125c7"
      },
      "source": [
        "plt.scatter(data_demo[\"Weight\"], data_demo[\"Height\"])\n",
        "plt.xlabel(\"Вес (фунты)\")\n",
        "plt.ylabel(\"Рост (дюймы)\");"
      ],
      "execution_count": null,
      "outputs": [
        {
          "output_type": "display_data",
          "data": {
            "image/png": "[encoded data removed]",
            "text/plain": [
              "<Figure size 432x288 with 1 Axes>"
            ]
          },
          "metadata": {
            "tags": [],
            "needs_background": "light"
          }
        }
      ]
    },
    {
      "cell_type": "code",
      "metadata": {
        "id": "rLHIi7pgvLpW"
      },
      "source": [
        "X, y = data_demo[\"Weight\"].values, data_demo[\"Height\"].values"
      ],
      "execution_count": null,
      "outputs": []
    },
    {
      "cell_type": "markdown",
      "metadata": {
        "id": "RlFjSoYWvLpX"
      },
      "source": [
        "Выделим 70% под обучение, 30% – под проверку и масштабируем выборку."
      ]
    },
    {
      "cell_type": "code",
      "metadata": {
        "id": "kAif3iQHvLpX"
      },
      "source": [
        "X_train, X_valid, y_train, y_valid = train_test_split(\n",
        "    X, y, test_size=0.3, random_state=17)"
      ],
      "execution_count": null,
      "outputs": []
    },
    {
      "cell_type": "code",
      "metadata": {
        "id": "StAisjGEvLpY"
      },
      "source": [
        "scaler = StandardScaler()\n",
        "X_train_scaled = scaler.fit_transform(X_train.reshape([X_train.shape[0], 1]))\n",
        "X_valid_scaled = scaler.transform(X_valid.reshape([X_valid.shape[0], 1]))"
      ],
      "execution_count": null,
      "outputs": []
    },
    {
      "cell_type": "markdown",
      "metadata": {
        "id": "CtJmxhuWvLpY"
      },
      "source": [
        "Обучите созданный вами `SGDRegressor` на выборке `(X_train_scaled, y_train)`. Параметры оставьте по умолчанию."
      ]
    },
    {
      "cell_type": "code",
      "metadata": {
        "id": "8GZMIEVpvLpY",
        "colab": {
          "base_uri": "https://localhost:8080/"
        },
        "outputId": "df850d16-6461-4d8d-b891-bd56a8a1f027"
      },
      "source": [
        "\"\"\" ВАШ КОД ЗДЕСЬ \"\"\"\n",
        "sgdregressor = SGDRegressor(n_iter=2)\n",
        "sgdregressor.fit(X_train_scaled, y_train)"
      ],
      "execution_count": null,
      "outputs": [
        {
          "output_type": "stream",
          "text": [
            "0 : MSE = 4626.155 , w =  [0. 0.]\n",
            "1 : MSE = 2.719 , w =  [68.038  0.911]\n"
          ],
          "name": "stdout"
        },
        {
          "output_type": "stream",
          "text": [
            "/usr/local/lib/python3.7/dist-packages/sklearn/base.py:197: FutureWarning: From version 0.24, get_params will raise an AttributeError if a parameter cannot be retrieved as an instance attribute. Previously it would return None.\n",
            "  FutureWarning)\n"
          ],
          "name": "stderr"
        },
        {
          "output_type": "execute_result",
          "data": {
            "text/plain": [
              "SGDRegressor(eta=None, n_iter=None)"
            ]
          },
          "metadata": {
            "tags": []
          },
          "execution_count": 59
        }
      ]
    },
    {
      "cell_type": "markdown",
      "metadata": {
        "id": "qNgIqkIQvLpZ"
      },
      "source": [
        "Изобразите на графике процесс обучения – как среднеквадратичная ошибка зависит от номера итерации стохастического градиентного спуска."
      ]
    },
    {
      "cell_type": "code",
      "metadata": {
        "colab": {
          "base_uri": "https://localhost:8080/"
        },
        "id": "roqkkn16Iuot",
        "outputId": "487f8c36-8305-4110-b14f-6ee0725f20a6"
      },
      "source": [
        "sgdregressor.mse_"
      ],
      "execution_count": null,
      "outputs": [
        {
          "output_type": "execute_result",
          "data": {
            "text/plain": [
              "array([4.61685284e+03, 4.60833727e+03, 4.59876872e+03, ...,\n",
              "       2.71841133e+00, 2.71838648e+00, 2.71865180e+00])"
            ]
          },
          "metadata": {
            "tags": []
          },
          "execution_count": 44
        }
      ]
    },
    {
      "cell_type": "code",
      "metadata": {
        "id": "8faTYzsIvLpZ",
        "colab": {
          "base_uri": "https://localhost:8080/",
          "height": 265
        },
        "outputId": "54e475fd-c2ea-432b-8174-71d2721f7f1d"
      },
      "source": [
        "\"\"\" ВАШ КОД ЗДЕСЬ \"\"\"\n",
        "plt.plot(sgdregressor.mse_);"
      ],
      "execution_count": null,
      "outputs": [
        {
          "output_type": "display_data",
          "data": {
            "image/png": "[encoded data removed]",
            "text/plain": [
              "<Figure size 432x288 with 1 Axes>"
            ]
          },
          "metadata": {
            "tags": [],
            "needs_background": "light"
          }
        }
      ]
    },
    {
      "cell_type": "markdown",
      "metadata": {
        "id": "0QWEsPyzvLpa"
      },
      "source": [
        "Выведите наименьшее значение среднеквадратичной ошибки и лучший вектор весов модели."
      ]
    },
    {
      "cell_type": "code",
      "metadata": {
        "id": "KGkyIcf6vLpa",
        "colab": {
          "base_uri": "https://localhost:8080/"
        },
        "outputId": "12e0dd2c-12b0-4bbf-91fe-f3e3a3ab0f05"
      },
      "source": [
        "\"\"\" ВАШ КОД ЗДЕСЬ \"\"\"\n",
        "sgdregressor.mse_[np.argmin(sgdregressor.mse_)], sgdregressor.w_"
      ],
      "execution_count": null,
      "outputs": [
        {
          "output_type": "execute_result",
          "data": {
            "text/plain": [
              "(2.7151352148331966, array([67.98984926,  0.94449031]))"
            ]
          },
          "metadata": {
            "tags": []
          },
          "execution_count": 46
        }
      ]
    },
    {
      "cell_type": "markdown",
      "metadata": {
        "id": "_QQh2QFpvLpa"
      },
      "source": [
        "Постройте график того, как менялись значения весов модели ($w_0$ и $w_1$) по мере обучения."
      ]
    },
    {
      "cell_type": "code",
      "metadata": {
        "id": "xO7nha1CvLpb",
        "colab": {
          "base_uri": "https://localhost:8080/",
          "height": 305
        },
        "outputId": "0108ce49-4841-423d-ade6-b0fe92514666"
      },
      "source": [
        "\"\"\" ВАШ КОД ЗДЕСЬ \"\"\"\n",
        "plt.figure(figsize=(18, 6))\n",
        "plt.subplot(121)\n",
        "plt.plot(sgdregressor.weights_[:, 0], label='w0')\n",
        "plt.legend()\n",
        "plt.grid()\n",
        "plt.subplot(122)\n",
        "plt.plot(sgdregressor.weights_[:, 1], label='w1')\n",
        "plt.legend()\n",
        "plt.grid();"
      ],
      "execution_count": null,
      "outputs": [
        {
          "output_type": "display_data",
          "data": {
            "image/png": "[encoded data removed]",
            "text/plain": [
              "<Figure size 1296x432 with 2 Axes>"
            ]
          },
          "metadata": {
            "tags": [],
            "needs_background": "light"
          }
        }
      ]
    },
    {
      "cell_type": "code",
      "metadata": {
        "colab": {
          "base_uri": "https://localhost:8080/",
          "height": 281
        },
        "id": "UxM7u9l-h77u",
        "outputId": "a9600a74-27a0-491d-cc78-0fa600bfcdd6"
      },
      "source": [
        "\"\"\" ВАШ КОД ЗДЕСЬ \"\"\"\n",
        "plt.plot(sgdregressor.weights_[:, 0], sgdregressor.weights_[:, 1])\n",
        "plt.xlabel('$w_0$'); plt.ylabel('$w_1$'); plt.grid();"
      ],
      "execution_count": null,
      "outputs": [
        {
          "output_type": "display_data",
          "data": {
            "image/png": "[encoded data removed]",
            "text/plain": [
              "<Figure size 432x288 with 1 Axes>"
            ]
          },
          "metadata": {
            "tags": [],
            "needs_background": "light"
          }
        }
      ]
    },
    {
      "cell_type": "markdown",
      "metadata": {
        "id": "N-K3rSCJvLpb"
      },
      "source": [
        "Сделайте прогноз для отложенной выборки `(X_valid_scaled, y_valid)` и посмотрите на MSE."
      ]
    },
    {
      "cell_type": "code",
      "metadata": {
        "id": "3J6Iu5C4vLpb",
        "colab": {
          "base_uri": "https://localhost:8080/"
        },
        "outputId": "1dac9d41-57c5-4cb7-8051-06d0e7a4692b"
      },
      "source": [
        "\"\"\" ВАШ КОД ЗДЕСЬ \"\"\"\n",
        "mean_squared_error(y_valid, sgdregressor.predict(X_valid_scaled))"
      ],
      "execution_count": null,
      "outputs": [
        {
          "output_type": "execute_result",
          "data": {
            "text/plain": [
              "2.670867559718745"
            ]
          },
          "metadata": {
            "tags": []
          },
          "execution_count": 48
        }
      ]
    },
    {
      "cell_type": "markdown",
      "metadata": {
        "id": "S-yU_Tc1vLpc"
      },
      "source": [
        "Теперь следайте то же самое, но с `LinearRegression` из `sklearn.linear_model`. Посчитайте MSE для отложенной выборки."
      ]
    },
    {
      "cell_type": "code",
      "metadata": {
        "id": "FELUYEhYvLpc",
        "colab": {
          "base_uri": "https://localhost:8080/"
        },
        "outputId": "00935e17-dc96-4bdc-9c64-30ae96a70fd6"
      },
      "source": [
        "\"\"\" ВАШ КОД ЗДЕСЬ \"\"\"\n",
        "from sklearn.linear_model import LinearRegression\n",
        "mean_squared_error(y_valid, LinearRegression().fit(X_train_scaled, y_train).predict(X_valid_scaled))"
      ],
      "execution_count": null,
      "outputs": [
        {
          "output_type": "execute_result",
          "data": {
            "text/plain": [
              "2.670830767667634"
            ]
          },
          "metadata": {
            "tags": []
          },
          "execution_count": 49
        }
      ]
    },
    {
      "cell_type": "markdown",
      "metadata": {
        "collapsed": true,
        "id": "t6sM74j9vLpd"
      },
      "source": [
        "<font color='red'>Вопрос 1.</font> В каком знаке после разделителя отличаются MSE линейной регрессии и `SGDRegressor` для отложенной выборки?\n",
        " - 2\n",
        " - 3\n",
        " - 4\n",
        " - **+ 5**"
      ]
    },
    {
      "cell_type": "markdown",
      "metadata": {
        "id": "FjL2kNtNvLpd"
      },
      "source": [
        "## 2. Логистическая регрессия и SGD\n",
        "Теперь давайте разберемся, как при таком же стохастическом подходе обучать логистическую регрессию."
      ]
    },
    {
      "cell_type": "markdown",
      "metadata": {
        "id": "NwImsGaDvLpe"
      },
      "source": [
        "Задача классификации, $X$ – обучающая выборка размеров $\\ell \\times (d+1)$ (первый столбец – вектор из единиц), $y$ – вектор ответов, $y_i \\in \\{-1, 1\\}$.\n",
        "В [4 статье](https://habrahabr.ru/company/ods/blog/323890/) серии мы подробно разбирали, как логистическая регрессия с $L_2$-регуляризацией сводится к задаче минимизации:\n",
        "$$ C\\sum_{i=1}^\\ell \\log{(1 + e^{-y_iw^Tx_i})} + \\frac{1}{2}\\sum_{j=1}^d w_j^2 \\rightarrow min_w$$"
      ]
    },
    {
      "cell_type": "markdown",
      "metadata": {
        "id": "Ww4A6CvWvLpe"
      },
      "source": [
        "<font color='red'>Вопрос 2.</font> По какой формуле будут пересчитываться веса логистической регрессии при обучении стохастическим градиентным спуском?\n",
        " - $w_j^{(t+1)} = w_j^{(t)} + \\eta (Cy_i x_{ij} \\sigma(y_iw^Tx_i) +  \\delta_{j\\neq0} w_j)$\n",
        " - $w_j^{(t+1)} = w_j^{(t)} - \\eta (Cy_i x_{ij} \\sigma(-y_iw^Tx_i) +  \\delta_{j\\neq0}w_j)$\n",
        " - $w_j^{(t+1)} = w_j^{(t)} - \\eta (Cy_i x_{ij} \\sigma(-y_iw^Tx_i) -  \\delta_{j\\neq0}w_j )$\n",
        " - **+** $w_j^{(t+1)} = w_j^{(t)} + \\eta (Cy_i x_{ij} \\sigma(-y_iw^Tx_i) -  \\delta_{j\\neq0}w_j)$\n",
        " \n",
        "Здесь \n",
        "- $i \\in {0,\\ldots, \\ell-1}, j \\in {0,\\ldots, d}$\n",
        "- C – коэффициент регуляризации\n",
        "- $x_{ij} $ – элемент матрицы X в строке $i$ и столбце $j$ (нумерация с 0), \n",
        "- $x_i$ – $i$-ая строка матрицы $X$ (нумерация с 0), \n",
        "- $w_j^{(t)}$ – значение $j$-ого элемента вектора весов $w$ на шаге $t$ стохастического градиентного спуска\n",
        "- $\\eta$ – небольшая константа, шаг градиентного спуска\n",
        "- $\\delta_{j\\neq0}$ – символ Кронекера, то есть 1, когда $j\\neq0$ и $0$ – в противном случае"
      ]
    },
    {
      "cell_type": "markdown",
      "metadata": {
        "id": "2apkGamlvLpf"
      },
      "source": [
        "Реализуйте класс `SGDClassifier`. Спецификация:\n",
        "- класс наследуется от `sklearn.base.BaseEstimator`\n",
        "- конструктор принимает параметры `eta` – шаг градиентного спуска (по умолчанию $10^{-3}$), `n_iter` – число проходов по выборке (по умолчанию 10) и C – коэффициент регуляризации\n",
        "- также в конструкторе должны создаваться списки `loss_` и `weights_` для отслеживания значений логистических потерь и вектора весов по итерациям градиентного спуска\n",
        "- Класс имеет методы `fit`, `predict` и `predict_proba`\n",
        "- Метод `fit` принимает матрицу `X` и вектор `y` (объекты `numpy.array`, рассматриваем только случай бинарной классификации, и значения в векторе `y` могут быть -1 и 1), добавляет к матрице `X` слева столбец из единиц, инициализирует вектор весов `w` **нулями** и в цикле с числом итераций `n_iter` обновляет веса по выведенной вами формуле, а также записывает получившиеся на данной итерации значения log_loss и вектор весов `w` в предназначенные для этого списки. \n",
        "- В конце метод `fit` создает переменную `w_`, в которой хранится тот вектор весов, при котором ошибка минимальна\n",
        "- Метод `fit` должен возвращать текущий экземпляр класса `SGDClassifier`, т.е. `self`\n",
        "- Метод `predict_proba` принимает матрицу `X`, добавляет к ней слева столбец из единиц и возвращает матрицу прогнозов модели (такую же, какую возвращают методы `predict_proba` моделей `sklearn`), используя созданный методом `fit` вектор весов `w_`\n",
        "- Метод `predict` вызывает метод  `predict_proba` и возвращает вектор ответов: -1, если предсказанная вероятность класса 1 меньше 0.5 и 1 – в противном случае\n",
        "- И еще **важный момент**: во избежание вычислительных проблем из-за слишком больших или малых значений под экспонентной (overflow & underflow) используйте написанную функцию `sigma`"
      ]
    },
    {
      "cell_type": "code",
      "metadata": {
        "id": "1EcCsd7AvLpf"
      },
      "source": [
        "def sigma(z):\n",
        "    z = z.flatten()\n",
        "    z[z > 100] = 100\n",
        "    z[z < -100] = -100\n",
        "    return 1.0 / (1 + np.exp(-z))"
      ],
      "execution_count": null,
      "outputs": []
    },
    {
      "cell_type": "markdown",
      "metadata": {
        "id": "LqNxiCY7eUwn"
      },
      "source": [
        "$w_j^{(t+1)} = w_j^{(t)} + \\eta (Cy_i x_{ij} \\sigma(-y_iw^Tx_i) -  \\delta_{j\\neq0}w_j)$"
      ]
    },
    {
      "cell_type": "code",
      "metadata": {
        "id": "ZoC31LkkvLpg"
      },
      "source": [
        "# В ответах инициализируют веса единицами! Ответы не сходятся поэтому...\n",
        "class SGDClassifier(BaseEstimator):\n",
        "  \"\"\" ВАШ КОД ЗДЕСЬ \"\"\"\n",
        "  def __init__(self, C, eta=1e-3, n_iter=10):\n",
        "    self.__eta = eta\n",
        "    self.__n_iter = n_iter\n",
        "    self.__C = C\n",
        "    self.loss_ = []\n",
        "    self.weights_ = []\n",
        "\n",
        "  def fit(self, X, y, verbose=True):\n",
        "    self.__l = X.shape[0]\n",
        "    X = np.hstack((np.ones((self.__l, 1)), X))\n",
        "    self.__w = np.ones(X.shape[1]) # self.__w = np.zeros(X.shape[1])\n",
        "    self.__loss = log_loss(y, sigma(np.dot(X, self.__w)))\n",
        "    \n",
        "    for k in range(self.__n_iter):\n",
        "      if verbose:\n",
        "        print(k, ': loss = %.3f' % self.__loss, ', w = ', np.round(self.__w, 3))\n",
        "      for i in range(self.__l):\n",
        "        self.__w[0] += self.__eta * y[i] * sigma(-y[i]*np.dot(self.__w, X[i, :]))\n",
        "        #self.__w += self.__eta * (self.__C * y[i] * X[i]*sigma(-y[i]*self.__w.T*X[i]) - self.__w)\n",
        "        for j in range(1, X.shape[1]):\n",
        "          self.__w[j] += self.__eta * (self.__C * y[i] * X[i, j]*sigma(-y[i]*np.dot(self.__w,X[i, :])) - self.__w[j])\n",
        "        self.__pred = sigma(np.dot(X, self.__w))\n",
        "        self.__loss = log_loss(y, self.__pred)\n",
        "        self.loss_.append(np.copy(self.__loss))\n",
        "        self.weights_.append(np.copy(self.__w))\n",
        "    \n",
        "    k += 1\n",
        "    if verbose:\n",
        "      print(k, ': loss = %.3f' % self.__loss, ', w = ', np.round(self.__w, 3))\n",
        "    self.w_ = self.weights_[np.argmin(self.loss_)]\n",
        "    print('best iter:', np.argmin(self.loss_))\n",
        "    self.weights_ = np.array(self.weights_)\n",
        "    self.loss_ = np.array(self.loss_)\n",
        "    return self\n",
        "\n",
        "  def predict(self, X):\n",
        "    return np.where(self.predict_proba(X)[:, 1] < 0.5, -1, 1)\n",
        "\n",
        "  def predict_proba(self, X):\n",
        "    X = np.hstack((np.ones((X.shape[0],1)),X))\n",
        "    self.__proba = sigma(np.dot(X, self.w_))\n",
        "    return np.dstack((1-self.__proba, self.__proba))[0]"
      ],
      "execution_count": null,
      "outputs": []
    },
    {
      "cell_type": "markdown",
      "metadata": {
        "id": "a9kDlwykvLpg"
      },
      "source": [
        "Проверим `SGDClassifier` на данных UCI по раку молочной железы."
      ]
    },
    {
      "cell_type": "code",
      "metadata": {
        "id": "dJre_cvzvLph"
      },
      "source": [
        "from sklearn.datasets import load_breast_cancer"
      ],
      "execution_count": null,
      "outputs": []
    },
    {
      "cell_type": "code",
      "metadata": {
        "id": "bAu-NjFpvLph"
      },
      "source": [
        "cancer = load_breast_cancer()\n",
        "# поменяем метки в y с 0 на -1\n",
        "X, y = cancer.data, [-1 if i == 0 else 1 for i in cancer.target]"
      ],
      "execution_count": null,
      "outputs": []
    },
    {
      "cell_type": "markdown",
      "metadata": {
        "id": "DpzFIZoLvLph"
      },
      "source": [
        "Выделим 70% под обучение, 30% – под проверку и масштабируем выборку."
      ]
    },
    {
      "cell_type": "code",
      "metadata": {
        "id": "2Wi9p-bDvLpi"
      },
      "source": [
        "X_train, X_valid, y_train, y_valid = train_test_split(X, y, test_size=0.3, random_state=17)"
      ],
      "execution_count": null,
      "outputs": []
    },
    {
      "cell_type": "code",
      "metadata": {
        "id": "RYvs0OSSvLpi"
      },
      "source": [
        "scaler = StandardScaler()\n",
        "X_train_scaled = scaler.fit_transform(X_train)\n",
        "X_valid_scaled = scaler.transform(X_valid)"
      ],
      "execution_count": null,
      "outputs": []
    },
    {
      "cell_type": "markdown",
      "metadata": {
        "id": "pyz6TjZOvLpi"
      },
      "source": [
        "Обучите на масштибированной выборке `SGDClassifier` с параметрами `C`=1, `eta`=$10^{-3}$ и `n_iter`=3."
      ]
    },
    {
      "cell_type": "code",
      "metadata": {
        "id": "0lq_H4cjvLpi",
        "colab": {
          "base_uri": "https://localhost:8080/"
        },
        "outputId": "37d1f153-1fec-47b6-e35c-843f931b2f18"
      },
      "source": [
        "\"\"\" ВАШ КОД ЗДЕСЬ \"\"\"\n",
        "sgdclassifier = SGDClassifier(C=1, n_iter=3)\n",
        "sgdclassifier.fit(X_train_scaled, y_train)"
      ],
      "execution_count": null,
      "outputs": [
        {
          "output_type": "stream",
          "text": [
            "0 : loss = 0.693 , w =  [0. 0. 0. 0. 0. 0. 0. 0. 0. 0. 0. 0. 0. 0. 0. 0. 0. 0. 0. 0. 0. 0. 0. 0.\n",
            " 0. 0. 0. 0. 0. 0. 0.]\n",
            "1 : loss = 0.394 , w =  [ 0.045 -0.073 -0.047 -0.074 -0.07  -0.033 -0.057 -0.071 -0.081 -0.03\n",
            "  0.004 -0.05   0.004 -0.049 -0.046  0.012 -0.024 -0.018 -0.036  0.009\n",
            "  0.    -0.08  -0.054 -0.08  -0.073 -0.048 -0.063 -0.072 -0.084 -0.049\n",
            " -0.038]\n",
            "2 : loss = 0.336 , w =  [ 0.082 -0.097 -0.065 -0.098 -0.092 -0.041 -0.071 -0.09  -0.105 -0.037\n",
            "  0.011 -0.066  0.006 -0.064 -0.061  0.017 -0.025 -0.018 -0.042  0.013\n",
            "  0.008 -0.106 -0.075 -0.107 -0.098 -0.063 -0.081 -0.094 -0.11  -0.067\n",
            " -0.047]\n"
          ],
          "name": "stdout"
        },
        {
          "output_type": "stream",
          "text": [
            "/usr/local/lib/python3.7/dist-packages/sklearn/base.py:197: FutureWarning: From version 0.24, get_params will raise an AttributeError if a parameter cannot be retrieved as an instance attribute. Previously it would return None.\n",
            "  FutureWarning)\n"
          ],
          "name": "stderr"
        },
        {
          "output_type": "execute_result",
          "data": {
            "text/plain": [
              "SGDClassifier(C=None, eta=None, n_iter=None)"
            ]
          },
          "metadata": {
            "tags": []
          },
          "execution_count": 78
        }
      ]
    },
    {
      "cell_type": "markdown",
      "metadata": {
        "id": "CgiAxdmSvLpj"
      },
      "source": [
        "Постройте график изменения log_loss."
      ]
    },
    {
      "cell_type": "code",
      "metadata": {
        "id": "hlKOx-H0vLpj",
        "colab": {
          "base_uri": "https://localhost:8080/",
          "height": 279
        },
        "outputId": "ba274c48-0c3b-49c1-b369-ed1246a097b1"
      },
      "source": [
        "\"\"\" ВАШ КОД ЗДЕСЬ \"\"\"\n",
        "plt.plot(sgdclassifier.loss_)\n",
        "plt.xlabel('iter'); plt.ylabel('loss'); plt.grid();"
      ],
      "execution_count": null,
      "outputs": [
        {
          "output_type": "display_data",
          "data": {
            "image/png": "[encoded data removed]",
            "text/plain": [
              "<Figure size 432x288 with 1 Axes>"
            ]
          },
          "metadata": {
            "tags": [],
            "needs_background": "light"
          }
        }
      ]
    },
    {
      "cell_type": "markdown",
      "metadata": {
        "id": "CW-aSrqqvLpj"
      },
      "source": [
        "Теперь обучите `SGDClassifier` с параметром `C`=1000, число проходов по выборке увеличьте до 10."
      ]
    },
    {
      "cell_type": "code",
      "metadata": {
        "id": "TqBW43bLvLpj",
        "colab": {
          "base_uri": "https://localhost:8080/"
        },
        "outputId": "ccccdf9e-7593-4b23-b494-8805fde8dcf5"
      },
      "source": [
        "\"\"\" ВАШ КОД ЗДЕСЬ \"\"\"\n",
        "sgdclassifier1000 = SGDClassifier(C=1000).fit(X_train_scaled, y_train)"
      ],
      "execution_count": null,
      "outputs": [
        {
          "output_type": "stream",
          "text": [
            "0 : loss = 13.544 , w =  [1. 1. 1. 1. 1. 1. 1. 1. 1. 1. 1. 1. 1. 1. 1. 1. 1. 1. 1. 1. 1. 1. 1. 1.\n",
            " 1. 1. 1. 1. 1. 1. 1.]\n",
            "1 : loss = 0.057 , w =  [ 1.005 -1.757 -1.178 -0.96   0.034 -1.198  2.122 -1.951 -1.686  0.247\n",
            " -0.136 -1.439 -0.326 -0.702 -0.664  0.44   1.035 -0.226  0.377  0.213\n",
            "  0.569 -0.657 -0.363 -0.495 -0.542 -1.653 -0.658 -1.265 -0.739 -0.84\n",
            " -0.354]\n",
            "2 : loss = 0.053 , w =  [ 1.004 -1.347 -0.921 -0.577  0.023 -0.737  1.785 -1.819 -1.671  0.211\n",
            "  0.203 -1.577 -0.19  -0.64  -0.847  0.329  1.317 -0.343  0.275  0.162\n",
            "  0.651 -0.857 -0.506 -0.684 -0.787 -1.804 -0.616 -1.423 -0.855 -0.87\n",
            " -0.429]\n",
            "3 : loss = 0.052 , w =  [ 1.003 -1.204 -0.852 -0.378 -0.    -0.576  1.5   -1.676 -1.642  0.173\n",
            "  0.351 -1.652 -0.124 -0.558 -0.925  0.285  1.442 -0.402  0.22   0.123\n",
            "  0.677 -0.944 -0.552 -0.768 -0.912 -1.862 -0.558 -1.478 -0.882 -0.845\n",
            " -0.468]\n",
            "4 : loss = 0.052 , w =  [ 1.002 -1.149 -0.823 -0.265 -0.021 -0.515  1.307 -1.569 -1.614  0.153\n",
            "  0.437 -1.698 -0.093 -0.488 -0.962  0.269  1.502 -0.441  0.193  0.093\n",
            "  0.684 -0.987 -0.576 -0.812 -0.984 -1.889 -0.516 -1.507 -0.887 -0.82\n",
            " -0.496]\n",
            "5 : loss = 0.052 , w =  [ 1.    -1.129 -0.807 -0.198 -0.037 -0.493  1.185 -1.495 -1.594  0.144\n",
            "  0.494 -1.731 -0.079 -0.435 -0.981  0.263  1.532 -0.469  0.179  0.071\n",
            "  0.685 -1.009 -0.591 -0.836 -1.028 -1.903 -0.488 -1.527 -0.887 -0.803\n",
            " -0.515]\n",
            "6 : loss = 0.052 , w =  [ 0.999 -1.123 -0.799 -0.157 -0.049 -0.487  1.108 -1.443 -1.58   0.141\n",
            "  0.532 -1.755 -0.071 -0.397 -0.991  0.26   1.547 -0.488  0.173  0.054\n",
            "  0.685 -1.021 -0.601 -0.85  -1.054 -1.91  -0.47  -1.541 -0.886 -0.792\n",
            " -0.529]\n",
            "7 : loss = 0.052 , w =  [ 0.998 -1.123 -0.795 -0.131 -0.058 -0.487  1.061 -1.409 -1.572  0.141\n",
            "  0.559 -1.774 -0.067 -0.371 -0.996  0.259  1.556 -0.5    0.17   0.042\n",
            "  0.684 -1.026 -0.607 -0.858 -1.071 -1.914 -0.459 -1.552 -0.885 -0.786\n",
            " -0.539]\n",
            "8 : loss = 0.052 , w =  [ 0.997 -1.124 -0.793 -0.114 -0.065 -0.49   1.032 -1.385 -1.567  0.142\n",
            "  0.577 -1.788 -0.065 -0.352 -0.998  0.258  1.561 -0.509  0.168  0.034\n",
            "  0.683 -1.028 -0.61  -0.862 -1.081 -1.917 -0.452 -1.559 -0.884 -0.782\n",
            " -0.547]\n",
            "9 : loss = 0.052 , w =  [ 0.995 -1.127 -0.792 -0.104 -0.07  -0.492  1.014 -1.369 -1.564  0.143\n",
            "  0.589 -1.799 -0.064 -0.339 -1.     0.258  1.563 -0.514  0.168  0.028\n",
            "  0.682 -1.029 -0.613 -0.864 -1.087 -1.918 -0.448 -1.565 -0.884 -0.78\n",
            " -0.552]\n",
            "10 : loss = 0.052 , w =  [ 0.994 -1.129 -0.791 -0.097 -0.074 -0.494  1.003 -1.359 -1.563  0.144\n",
            "  0.597 -1.806 -0.064 -0.33  -1.001  0.258  1.565 -0.518  0.168  0.024\n",
            "  0.682 -1.029 -0.614 -0.865 -1.092 -1.918 -0.445 -1.569 -0.884 -0.778\n",
            " -0.556]\n",
            "best iter: 3663\n"
          ],
          "name": "stdout"
        }
      ]
    },
    {
      "cell_type": "code",
      "metadata": {
        "colab": {
          "base_uri": "https://localhost:8080/"
        },
        "id": "2Cmu1QUNuaBR",
        "outputId": "e61387a2-6e18-4704-b3ea-ce7684d2bffa"
      },
      "source": [
        "sgdclassifier1000.weights_[0]"
      ],
      "execution_count": null,
      "outputs": [
        {
          "output_type": "execute_result",
          "data": {
            "text/plain": [
              "array([0.99999244, 0.99684755, 0.98861822, 0.99760782, 0.99778935,\n",
              "       1.00031756, 1.00647461, 1.00509756, 1.00278461, 1.00567795,\n",
              "       1.0068508 , 0.97794865, 0.98535067, 0.98159358, 0.99019774,\n",
              "       0.99908337, 1.00416011, 1.00159088, 0.99050213, 1.00844606,\n",
              "       1.00346027, 1.00053607, 0.99930965, 1.0010391 , 1.00085199,\n",
              "       1.00887302, 1.00661674, 1.00604769, 1.00663971, 1.01160117,\n",
              "       1.00787357])"
            ]
          },
          "metadata": {
            "tags": []
          },
          "execution_count": 173
        }
      ]
    },
    {
      "cell_type": "code",
      "metadata": {
        "id": "lNd-XvD-vLpk",
        "colab": {
          "base_uri": "https://localhost:8080/",
          "height": 280
        },
        "outputId": "0600c7ab-d5a7-4919-d855-08cc30b9bdd3"
      },
      "source": [
        "\"\"\" ВАШ КОД ЗДЕСЬ \"\"\"\n",
        "plt.plot(sgdclassifier1000.loss_)\n",
        "plt.xlabel('iter'); plt.ylabel('loss'); plt.grid();"
      ],
      "execution_count": null,
      "outputs": [
        {
          "output_type": "display_data",
          "data": {
            "image/png": "[encoded data removed]",
            "text/plain": [
              "<Figure size 432x288 with 1 Axes>"
            ]
          },
          "metadata": {
            "tags": [],
            "needs_background": "light"
          }
        }
      ]
    },
    {
      "cell_type": "code",
      "metadata": {
        "colab": {
          "base_uri": "https://localhost:8080/"
        },
        "id": "jledjwzZvS8J",
        "outputId": "918faf0e-ec6e-494b-bfc3-27885c4b751d"
      },
      "source": [
        "# 1я итерация:\n",
        "log_loss(y_train, sigma(np.dot(np.hstack((np.ones([X_train_scaled.shape[0],1]), X_train_scaled)), sgdclassifier1000.weights_[0])))"
      ],
      "execution_count": null,
      "outputs": [
        {
          "output_type": "execute_result",
          "data": {
            "text/plain": [
              "13.548751655341023"
            ]
          },
          "metadata": {
            "tags": []
          },
          "execution_count": 197
        }
      ]
    },
    {
      "cell_type": "markdown",
      "metadata": {
        "id": "Gba2QUMavLpk"
      },
      "source": [
        "Посмотрите на веса модели, при которых ошибка на обучении была минимальна."
      ]
    },
    {
      "cell_type": "markdown",
      "metadata": {
        "id": "RKXvxfebvLpk"
      },
      "source": [
        "<font color='red'>Вопрос 3.</font> Какой признак сильнее остальных влияет на вероятность того, что опухоль доброкачественна, согласно обученной модели `SGDClassifier`? (будьте внимательны – проверьте длину вектора весов, полученного после обучения, сравните с числом признаков в исходной задаче)\n",
        " - worst compactness\n",
        " - worst smoothness\n",
        " - worst concavity\n",
        " - concave points error\n",
        " - concavity error\n",
        " - compactness error\n",
        " - worst fractal dimension"
      ]
    },
    {
      "cell_type": "code",
      "metadata": {
        "colab": {
          "base_uri": "https://localhost:8080/"
        },
        "id": "G27zrzWqmmUE",
        "outputId": "f5182709-d232-47fb-88ac-9abf8e63cd58"
      },
      "source": [
        "\"\"\" ВАШ КОД ЗДЕСЬ \"\"\"\n",
        "print(np.argmax(np.abs(sgdclassifier1000.w_)), \": %.3f\" % \n",
        "      (np.sign(sgdclassifier1000.w_[np.argmax(np.abs(sgdclassifier1000.w_))]) *\n",
        "                                            np.abs(sgdclassifier1000.w_).max()))"
      ],
      "execution_count": null,
      "outputs": [
        {
          "output_type": "stream",
          "text": [
            "2 : -2.318\n"
          ],
          "name": "stdout"
        }
      ]
    },
    {
      "cell_type": "code",
      "metadata": {
        "colab": {
          "base_uri": "https://localhost:8080/",
          "height": 35
        },
        "id": "0j_gE8y1nBFK",
        "outputId": "a6cb65f4-d232-4abe-ec8b-fd14874375ce"
      },
      "source": [
        "cancer.feature_names[2-1]"
      ],
      "execution_count": null,
      "outputs": [
        {
          "output_type": "execute_result",
          "data": {
            "application/vnd.google.colaboratory.intrinsic+json": {
              "type": "string"
            },
            "text/plain": [
              "'mean texture'"
            ]
          },
          "metadata": {
            "tags": []
          },
          "execution_count": 121
        }
      ]
    },
    {
      "cell_type": "code",
      "metadata": {
        "colab": {
          "base_uri": "https://localhost:8080/",
          "height": 1000
        },
        "id": "X8Elsyp_oEyV",
        "outputId": "9d8cb2f0-9e0f-40f6-90ae-2306b788bec3"
      },
      "source": [
        "pd.DataFrame({'coef':sgdclassifier1000.w_, 'feat':['w0']+list(cancer.feature_names)}).sort_values(by='coef')"
      ],
      "execution_count": null,
      "outputs": [
        {
          "output_type": "execute_result",
          "data": {
            "text/html": [
              "<div>\n",
              "<style scoped>\n",
              "    .dataframe tbody tr th:only-of-type {\n",
              "        vertical-align: middle;\n",
              "    }\n",
              "\n",
              "    .dataframe tbody tr th {\n",
              "        vertical-align: top;\n",
              "    }\n",
              "\n",
              "    .dataframe thead th {\n",
              "        text-align: right;\n",
              "    }\n",
              "</style>\n",
              "<table border=\"1\" class=\"dataframe\">\n",
              "  <thead>\n",
              "    <tr style=\"text-align: right;\">\n",
              "      <th></th>\n",
              "      <th>coef</th>\n",
              "      <th>feat</th>\n",
              "    </tr>\n",
              "  </thead>\n",
              "  <tbody>\n",
              "    <tr>\n",
              "      <th>2</th>\n",
              "      <td>-2.317992</td>\n",
              "      <td>mean texture</td>\n",
              "    </tr>\n",
              "    <tr>\n",
              "      <th>1</th>\n",
              "      <td>-2.191250</td>\n",
              "      <td>mean radius</td>\n",
              "    </tr>\n",
              "    <tr>\n",
              "      <th>11</th>\n",
              "      <td>-2.128320</td>\n",
              "      <td>radius error</td>\n",
              "    </tr>\n",
              "    <tr>\n",
              "      <th>25</th>\n",
              "      <td>-1.878383</td>\n",
              "      <td>worst smoothness</td>\n",
              "    </tr>\n",
              "    <tr>\n",
              "      <th>8</th>\n",
              "      <td>-1.664048</td>\n",
              "      <td>mean concave points</td>\n",
              "    </tr>\n",
              "    <tr>\n",
              "      <th>27</th>\n",
              "      <td>-1.578306</td>\n",
              "      <td>worst concavity</td>\n",
              "    </tr>\n",
              "    <tr>\n",
              "      <th>7</th>\n",
              "      <td>-1.529498</td>\n",
              "      <td>mean concavity</td>\n",
              "    </tr>\n",
              "    <tr>\n",
              "      <th>24</th>\n",
              "      <td>-1.129153</td>\n",
              "      <td>worst area</td>\n",
              "    </tr>\n",
              "    <tr>\n",
              "      <th>21</th>\n",
              "      <td>-1.098365</td>\n",
              "      <td>worst radius</td>\n",
              "    </tr>\n",
              "    <tr>\n",
              "      <th>14</th>\n",
              "      <td>-1.040535</td>\n",
              "      <td>area error</td>\n",
              "    </tr>\n",
              "    <tr>\n",
              "      <th>23</th>\n",
              "      <td>-0.944255</td>\n",
              "      <td>worst perimeter</td>\n",
              "    </tr>\n",
              "    <tr>\n",
              "      <th>28</th>\n",
              "      <td>-0.894722</td>\n",
              "      <td>worst concave points</td>\n",
              "    </tr>\n",
              "    <tr>\n",
              "      <th>29</th>\n",
              "      <td>-0.644485</td>\n",
              "      <td>worst symmetry</td>\n",
              "    </tr>\n",
              "    <tr>\n",
              "      <th>3</th>\n",
              "      <td>-0.600598</td>\n",
              "      <td>mean perimeter</td>\n",
              "    </tr>\n",
              "    <tr>\n",
              "      <th>30</th>\n",
              "      <td>-0.599209</td>\n",
              "      <td>worst fractal dimension</td>\n",
              "    </tr>\n",
              "    <tr>\n",
              "      <th>26</th>\n",
              "      <td>-0.550994</td>\n",
              "      <td>worst compactness</td>\n",
              "    </tr>\n",
              "    <tr>\n",
              "      <th>17</th>\n",
              "      <td>-0.482181</td>\n",
              "      <td>concavity error</td>\n",
              "    </tr>\n",
              "    <tr>\n",
              "      <th>5</th>\n",
              "      <td>-0.434213</td>\n",
              "      <td>mean smoothness</td>\n",
              "    </tr>\n",
              "    <tr>\n",
              "      <th>13</th>\n",
              "      <td>-0.420840</td>\n",
              "      <td>perimeter error</td>\n",
              "    </tr>\n",
              "    <tr>\n",
              "      <th>4</th>\n",
              "      <td>-0.358607</td>\n",
              "      <td>mean area</td>\n",
              "    </tr>\n",
              "    <tr>\n",
              "      <th>22</th>\n",
              "      <td>-0.295162</td>\n",
              "      <td>worst texture</td>\n",
              "    </tr>\n",
              "    <tr>\n",
              "      <th>12</th>\n",
              "      <td>-0.101919</td>\n",
              "      <td>texture error</td>\n",
              "    </tr>\n",
              "    <tr>\n",
              "      <th>9</th>\n",
              "      <td>0.047564</td>\n",
              "      <td>mean symmetry</td>\n",
              "    </tr>\n",
              "    <tr>\n",
              "      <th>18</th>\n",
              "      <td>0.270283</td>\n",
              "      <td>concave points error</td>\n",
              "    </tr>\n",
              "    <tr>\n",
              "      <th>19</th>\n",
              "      <td>0.329568</td>\n",
              "      <td>symmetry error</td>\n",
              "    </tr>\n",
              "    <tr>\n",
              "      <th>15</th>\n",
              "      <td>0.449349</td>\n",
              "      <td>smoothness error</td>\n",
              "    </tr>\n",
              "    <tr>\n",
              "      <th>20</th>\n",
              "      <td>0.742435</td>\n",
              "      <td>fractal dimension error</td>\n",
              "    </tr>\n",
              "    <tr>\n",
              "      <th>10</th>\n",
              "      <td>0.787670</td>\n",
              "      <td>mean fractal dimension</td>\n",
              "    </tr>\n",
              "    <tr>\n",
              "      <th>6</th>\n",
              "      <td>0.881242</td>\n",
              "      <td>mean compactness</td>\n",
              "    </tr>\n",
              "    <tr>\n",
              "      <th>0</th>\n",
              "      <td>0.993183</td>\n",
              "      <td>w0</td>\n",
              "    </tr>\n",
              "    <tr>\n",
              "      <th>16</th>\n",
              "      <td>1.343565</td>\n",
              "      <td>compactness error</td>\n",
              "    </tr>\n",
              "  </tbody>\n",
              "</table>\n",
              "</div>"
            ],
            "text/plain": [
              "        coef                     feat\n",
              "2  -2.317992             mean texture\n",
              "1  -2.191250              mean radius\n",
              "11 -2.128320             radius error\n",
              "25 -1.878383         worst smoothness\n",
              "8  -1.664048      mean concave points\n",
              "27 -1.578306          worst concavity\n",
              "7  -1.529498           mean concavity\n",
              "24 -1.129153               worst area\n",
              "21 -1.098365             worst radius\n",
              "14 -1.040535               area error\n",
              "23 -0.944255          worst perimeter\n",
              "28 -0.894722     worst concave points\n",
              "29 -0.644485           worst symmetry\n",
              "3  -0.600598           mean perimeter\n",
              "30 -0.599209  worst fractal dimension\n",
              "26 -0.550994        worst compactness\n",
              "17 -0.482181          concavity error\n",
              "5  -0.434213          mean smoothness\n",
              "13 -0.420840          perimeter error\n",
              "4  -0.358607                mean area\n",
              "22 -0.295162            worst texture\n",
              "12 -0.101919            texture error\n",
              "9   0.047564            mean symmetry\n",
              "18  0.270283     concave points error\n",
              "19  0.329568           symmetry error\n",
              "15  0.449349         smoothness error\n",
              "20  0.742435  fractal dimension error\n",
              "10  0.787670   mean fractal dimension\n",
              "6   0.881242         mean compactness\n",
              "0   0.993183                       w0\n",
              "16  1.343565        compactness error"
            ]
          },
          "metadata": {
            "tags": []
          },
          "execution_count": 156
        }
      ]
    },
    {
      "cell_type": "markdown",
      "metadata": {
        "id": "Kq7frG9QvLpl"
      },
      "source": [
        "Посчитайте log_loss и ROC AUC на отложенной выборке, проделайте все то же с `sklearn.linear_model.LogisticRegression` (параметры по умолчанию, только random_state=17) и сравните результаты."
      ]
    },
    {
      "cell_type": "code",
      "metadata": {
        "id": "qaEKJCJ8vLpl",
        "colab": {
          "base_uri": "https://localhost:8080/"
        },
        "outputId": "44c6dce3-4637-4e8a-8ff1-417b8cc6eb74"
      },
      "source": [
        "\"\"\" ВАШ КОД ЗДЕСЬ \"\"\"\n",
        "print('logloss:', log_loss(y_valid, sgdclassifier1000.predict_proba(X_valid_scaled)[:, 1]))\n",
        "print('roc_auc:', roc_auc_score(y_valid, sgdclassifier1000.predict_proba(X_valid_scaled)[:, 1]))"
      ],
      "execution_count": null,
      "outputs": [
        {
          "output_type": "stream",
          "text": [
            "logloss: 0.10456339792928346\n",
            "roc_auc: 0.992101341281669\n"
          ],
          "name": "stdout"
        }
      ]
    },
    {
      "cell_type": "code",
      "metadata": {
        "colab": {
          "base_uri": "https://localhost:8080/"
        },
        "id": "2F_KDo6uq2X1",
        "outputId": "2fb632ea-c42c-43cb-882a-54a3d90734d6"
      },
      "source": [
        "sgdclassifier1000.predict_proba(X_valid_scaled)[0].sum()"
      ],
      "execution_count": null,
      "outputs": [
        {
          "output_type": "execute_result",
          "data": {
            "text/plain": [
              "1.0"
            ]
          },
          "metadata": {
            "tags": []
          },
          "execution_count": 150
        }
      ]
    },
    {
      "cell_type": "markdown",
      "metadata": {
        "id": "clF7j2UivLpl"
      },
      "source": [
        "## 3. Логистическая регрессия и SGDClassifier в задаче классификации отзывов к фильмам"
      ]
    },
    {
      "cell_type": "markdown",
      "metadata": {
        "id": "NrmgbWgvvLpl"
      },
      "source": [
        "Теперь посмотрим на логистическую регрессию и ее же версию, но обучаемую стохастическим градиентным спуском, в задаче классификации отзывов IMDB. С этой задачей мы знакомы по 4 и 8 темам курса. Данные можно скачать [отсюда](https://drive.google.com/open?id=1xq4l5c0JrcxJdyBwJWvy0u9Ad_pvkJ1l).\n",
        "\n",
        "Импортируем файлы, и обучим на имеющихся данных `CountVectorizer`"
      ]
    },
    {
      "cell_type": "code",
      "metadata": {
        "id": "H8TfA-bzvLpl"
      },
      "source": [
        "from sklearn.datasets import load_files\n",
        "from sklearn.feature_extraction.text import CountVectorizer\n",
        "from sklearn.linear_model import SGDClassifier"
      ],
      "execution_count": 1,
      "outputs": []
    },
    {
      "cell_type": "code",
      "metadata": {
        "id": "o5DsJwmIvLpm"
      },
      "source": [
        "# поменяйте путь к файлу\n",
        "reviews_train = load_files(\"/imdb_reviews/train\")\n",
        "text_train, y_train = reviews_train.data, reviews_train.target"
      ],
      "execution_count": null,
      "outputs": []
    },
    {
      "cell_type": "code",
      "metadata": {
        "id": "VPkPBWwMvLpm"
      },
      "source": [
        "reviews_test = load_files(\"/imdb_reviews/test\")\n",
        "text_test, y_test = reviews_test.data, reviews_test.target"
      ],
      "execution_count": null,
      "outputs": []
    },
    {
      "cell_type": "markdown",
      "metadata": {
        "id": "8TzzsAcYvLpm"
      },
      "source": [
        "Обучим на имеющихся данных `CountVectorizer`, считая биграммы, то есть перейдем к разреженному представлению данных, где каждому уникальному слову и паре подряд идущих слов в обучающей выборке соответсвует признак. Всего таких признаков получается более 1.5 млн."
      ]
    },
    {
      "cell_type": "code",
      "metadata": {
        "id": "l_MructvvLpm",
        "outputId": "e9e44891-d1a1-4f14-a6ad-fa235c5af6b0"
      },
      "source": [
        "%%time\n",
        "cv = CountVectorizer(ngram_range=(1, 2))\n",
        "X_train = cv.fit_transform(text_train)\n",
        "X_test = cv.transform(text_test)"
      ],
      "execution_count": null,
      "outputs": [
        {
          "output_type": "stream",
          "text": [
            "CPU times: user 35.6 s, sys: 977 ms, total: 36.6 s\n",
            "Wall time: 36 s\n"
          ],
          "name": "stdout"
        }
      ]
    },
    {
      "cell_type": "code",
      "metadata": {
        "id": "BxG8QdkgvLpm",
        "outputId": "c8368d90-8e30-4791-84db-77d32c2b8ad5"
      },
      "source": [
        "X_train.shape, X_test.shape"
      ],
      "execution_count": null,
      "outputs": [
        {
          "output_type": "execute_result",
          "data": {
            "text/plain": [
              "((25000, 1513832), (25000, 1513832))"
            ]
          },
          "metadata": {
            "tags": []
          },
          "execution_count": 29
        }
      ]
    },
    {
      "cell_type": "markdown",
      "metadata": {
        "id": "pfIsnbKNvLpn"
      },
      "source": [
        "Обучите на выборке `(X_train, y_train)` логистическую регрессию с параметрами по умолчанию (только укажите `random_state`=17) и посчитайте ROC AUC на тестовой выборке. Замерьте время обучения модели. Данные можно не масштабировать, так как признаки – по сути, счетчики, и они уже все измеряются примерно в одном диапазоне."
      ]
    },
    {
      "cell_type": "code",
      "metadata": {
        "id": "gJPx3WxrfVHh"
      },
      "source": [
        "from sklearn.linear_model import LogisticRegression"
      ],
      "execution_count": 5,
      "outputs": []
    },
    {
      "cell_type": "code",
      "metadata": {
        "id": "-4XDVr6xvLpn",
        "colab": {
          "base_uri": "https://localhost:8080/"
        },
        "outputId": "ccf3d22d-351c-43a5-eff4-0a4234071511"
      },
      "source": [
        "%%time\n",
        "\"\"\" ВАШ КОД ЗДЕСЬ \"\"\"\n",
        "roc_auc_score(y_test, LogisticRegression(random_state=17).fit(X_train, y_train).predict(X_test))"
      ],
      "execution_count": 10,
      "outputs": [
        {
          "output_type": "stream",
          "text": [
            "CPU times: user 2min 41s, sys: 4.8 s, total: 3min 03s\n",
            "Wall time: 42 s\n",
            "LogisticRegression(C=1.0, class_weight=None, dual=False, fit_intercept=True,\n",
            "          intercept_scaling=1, l1_ratio=None, max_iter=100, multi_class='auto', \n",
            "          n_jobs=None, penalty='l2', random_state=17, solver='lbfgs', \n",
            "          tol=0.0001, verbose=0, warm_start=False)\n",
            "0.9582477248000001\n"
          ],
          "name": "stdout"
        }
      ]
    },
    {
      "cell_type": "markdown",
      "metadata": {
        "id": "5LplbdZUvLpn"
      },
      "source": [
        "Теперь перейдем к онлайн-алгоритму. Мы написали свой `SGDClassifier` и принцип его работы поняли, надо еще немного постараться, чтобы сделать его эффективным, например, сделать поддержку разреженных данных. Но мы теперь перейдем к `sklearn`-реализации SGD-алгоритма. Прочитайте документацию [SGDClassifier](http://scikit-learn.org/stable/modules/generated/sklearn.linear_model.SGDClassifier.html), сделайте выводы, чем `SGDClassifier` из `Sklearn` более продвинут, чем наша реализация SGD-классификатора. "
      ]
    },
    {
      "cell_type": "markdown",
      "metadata": {
        "id": "p3-h7EmAvLpn"
      },
      "source": [
        "<font color='red'>Вопрос 4.</font> Чем `sklearn`-реализация стохастического классификатора более продвинута, чем `SGDClassifier`, который мы реализовали? Отметьте все подходящие варианты.\n",
        " - Изменяемый шаг градиентного спуска\n",
        " - Реализован линейный SVM\n",
        " - Реализована ранняя остановка во избежание переобучения\n",
        " - Есть распараллеливание по процессорам\n",
        " - Можно обучать LASSO\n",
        " - Поддерживается онлайн-обучение деревьев решений\n",
        " - Поддерживается mini-batch подход (обновление весов по нескольким объектом сразу, а не по одному)\n"
      ]
    },
    {
      "cell_type": "markdown",
      "metadata": {
        "id": "T9hIkN-rvLpn"
      },
      "source": [
        "Проведите 100 итераций SGD-логрегрессии (опять `random_state`=17) на той же выборке. Опять замерьте время обучения модели и обратите внимание, насколько оно меньше, чем время обучения логистической регрессии."
      ]
    },
    {
      "cell_type": "code",
      "metadata": {
        "id": "9gZt21EZvLpo",
        "colab": {
          "base_uri": "https://localhost:8080/"
        },
        "outputId": "607567d8-5e31-4313-8f69-8e7c419f2a88"
      },
      "source": [
        "%%time\n",
        "\"\"\" ВАШ КОД ЗДЕСЬ \"\"\"\n",
        "roc_auc_score(y_test, SGDClassifier(random_state=17).fit(X_train, y_train).predict(X_test))"
      ],
      "execution_count": 14,
      "outputs": [
        {
          "output_type": "stream",
          "text": [
            "CPU times: user 7.92 s, sys: 68.3 ms, total: 7.55 s\n",
            "Wall time: 7.25 s\n",
            "SGDClassifier(alpha=0.0001, average=False, class_weight=None, \n",
            "       early_stopping=False, epsilon=0.1, eta0=0.0, fit_intercept=True, \n",
            "       l1_ratio=0.15, learning_rate='optimal', loss='log', max_iter=None, \n",
            "       n_iter=100, n_jobs=1, penalty='l2', power_t=0.5, random_state=17, \n",
            "       shuffle=True, tol=None, verbose=0, warm_start=False)\n",
            "0.9573458688\n"
          ],
          "name": "stdout"
        }
      ]
    },
    {
      "cell_type": "markdown",
      "metadata": {
        "id": "MqeLa8DFvLpo"
      },
      "source": [
        "<font color='red'>Вопрос 5.</font> В каком знаке после разделителя отличаются ROC AUC на тестовой выборке логистической регрессии и SGD-классификатора `Sklearn` с логистической функцией потерь?\n",
        " - 2\n",
        " - **+ 3**\n",
        " - 4\n",
        " - 5"
      ]
    },
    {
      "cell_type": "code",
      "metadata": {
        "id": "hrAbIbZtvOu5"
      },
      "source": [
        "def to_vw_format(document, label=None):\n",
        "    return str(label or '') + ' |text ' + ' '.join(re.findall('\\w{3,}', document.lower())) + '\\n'\n",
        "\n",
        "to_vw_format(text, 1 if target == 'rec.autos' else -1)"
      ],
      "execution_count": null,
      "outputs": []
    },
    {
      "cell_type": "code",
      "metadata": {
        "id": "5jYMwJ6KvPSP"
      },
      "source": [
        "def convert_to_vw(raw_text, target):\n",
        "  word_pattern = re.compile(r\"[a-zA-Z0-9_]+\")\n",
        "  words = []\n",
        "  for match in re.finditer(word_pattern, raw_text.lower()):\n",
        "    words.append(match.group(0))                        \n",
        "\n",
        "  if not words:\n",
        "    return None\n",
        "  return \"{} |d {}\".format(float(target), ' '.join(words))\n",
        "\n",
        "def write_vw(X_data, Y_data, filename):\n",
        "  with open(filename, 'w') as f:\n",
        "    for x, y in zip(X_data, Y_data):\n",
        "      vw_object = convert_to_vw(x, y)\n",
        "      if not vw_object:\n",
        "        continue\n",
        "      f.write(vw_object + '\\n')\n",
        "\n",
        "#https://www.coursera.org/lecture/machine-learning-on-big-data/praktichieskoie-zaniatiie-vowpal-wabbit-FZXUA"
      ],
      "execution_count": null,
      "outputs": []
    }
  ]
}